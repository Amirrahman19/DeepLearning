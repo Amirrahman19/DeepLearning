{
 "cells": [
  {
   "cell_type": "code",
   "execution_count": 2,
   "metadata": {},
   "outputs": [
    {
     "name": "stdout",
     "output_type": "stream",
     "text": [
      "[WinError 2] The system cannot find the file specified: 'Deep-Learning/CV/EfficientNetV2-with-Image-Classification-Benchmarks'\n",
      "c:\\Users\\amir_\\OneDrive - Singapore Polytechnic\\VSC\\PROGRAMMING\\PYTHON\\ML-Revision\\deeplearning\n"
     ]
    },
    {
     "name": "stderr",
     "output_type": "stream",
     "text": [
      "Cloning into 'Deep-Learning'...\n",
      "Updating files:  41% (570/1367)\n",
      "Updating files:  42% (575/1367)\n",
      "Updating files:  43% (588/1367)\n",
      "Updating files:  44% (602/1367)\n",
      "Updating files:  45% (616/1367)\n",
      "Updating files:  46% (629/1367)\n",
      "Updating files:  47% (643/1367)\n",
      "Updating files:  48% (657/1367)\n",
      "Updating files:  49% (670/1367)\n",
      "Updating files:  50% (684/1367)\n",
      "Updating files:  51% (698/1367)\n",
      "Updating files:  52% (711/1367)\n",
      "Updating files:  53% (725/1367)\n",
      "Updating files:  54% (739/1367)\n",
      "Updating files:  55% (752/1367)\n",
      "Updating files:  56% (766/1367)\n",
      "Updating files:  57% (780/1367)\n",
      "Updating files:  58% (793/1367)\n",
      "Updating files:  59% (807/1367)\n",
      "Updating files:  60% (821/1367)\n",
      "Updating files:  61% (834/1367)\n",
      "Updating files:  62% (848/1367)\n",
      "Updating files:  63% (862/1367)\n",
      "Updating files:  64% (875/1367)\n",
      "Updating files:  65% (889/1367)\n",
      "Updating files:  66% (903/1367)\n",
      "Updating files:  67% (916/1367)\n",
      "Updating files:  68% (930/1367)\n",
      "Updating files:  69% (944/1367)\n",
      "Updating files:  70% (957/1367)\n",
      "Updating files:  71% (971/1367)\n",
      "Updating files:  72% (985/1367)\n",
      "Updating files:  73% (998/1367)\n",
      "Updating files:  74% (1012/1367)\n",
      "Updating files:  75% (1026/1367)\n",
      "Updating files:  76% (1039/1367)\n",
      "Updating files:  77% (1053/1367)\n",
      "Updating files:  78% (1067/1367)\n",
      "Updating files:  79% (1080/1367)\n",
      "Updating files:  79% (1084/1367)\n",
      "Updating files:  80% (1094/1367)\n",
      "Updating files:  81% (1108/1367)\n",
      "Updating files:  82% (1121/1367)\n",
      "Updating files:  83% (1135/1367)\n",
      "Updating files:  84% (1149/1367)\n",
      "Updating files:  85% (1162/1367)\n",
      "Updating files:  86% (1176/1367)\n",
      "Updating files:  87% (1190/1367)\n",
      "Updating files:  88% (1203/1367)\n",
      "Updating files:  89% (1217/1367)\n",
      "Updating files:  90% (1231/1367)\n",
      "Updating files:  91% (1244/1367)\n",
      "Updating files:  92% (1258/1367)\n",
      "Updating files:  93% (1272/1367)\n",
      "Updating files:  93% (1275/1367)\n",
      "Updating files:  94% (1285/1367)\n",
      "Updating files:  95% (1299/1367)\n",
      "Updating files:  96% (1313/1367)\n",
      "Updating files:  97% (1326/1367)\n",
      "Updating files:  98% (1340/1367)\n",
      "Updating files:  99% (1354/1367)\n",
      "Updating files: 100% (1367/1367)\n",
      "Updating files: 100% (1367/1367), done.\n"
     ]
    }
   ],
   "source": [
    "# Clone Repo for Dataset\n",
    "# !git clone https://github.com/kiritowu/Deep-Learning.git\n",
    "# %cd Deep-Learning/CV/EfficientNetV2-with-Image-Classification-Benchmarks"
   ]
  },
  {
   "cell_type": "code",
   "execution_count": 3,
   "metadata": {},
   "outputs": [
    {
     "name": "stdout",
     "output_type": "stream",
     "text": [
      "Collecting timm\n",
      "  Downloading timm-0.6.7-py3-none-any.whl (509 kB)\n",
      "     -------------------------------------- 510.0/510.0 kB 4.6 MB/s eta 0:00:00\n",
      "Collecting torch\n",
      "  Downloading torch-1.12.1-cp39-cp39-win_amd64.whl (161.8 MB)\n",
      "     ------------------------------------- 161.8/161.8 MB 10.1 MB/s eta 0:00:00\n",
      "Collecting torchvision\n",
      "  Downloading torchvision-0.13.1-cp39-cp39-win_amd64.whl (1.1 MB)\n",
      "     ---------------------------------------- 1.1/1.1 MB 11.4 MB/s eta 0:00:00\n",
      "Requirement already satisfied: typing-extensions in c:\\users\\amir_\\anaconda3\\envs\\py39\\lib\\site-packages (from torch) (4.3.0)\n",
      "Requirement already satisfied: pillow!=8.3.*,>=5.3.0 in c:\\users\\amir_\\anaconda3\\envs\\py39\\lib\\site-packages (from torchvision) (9.2.0)\n",
      "Requirement already satisfied: requests in c:\\users\\amir_\\anaconda3\\envs\\py39\\lib\\site-packages (from torchvision) (2.28.1)\n",
      "Requirement already satisfied: numpy in c:\\users\\amir_\\anaconda3\\envs\\py39\\lib\\site-packages (from torchvision) (1.22.3)\n",
      "Requirement already satisfied: certifi>=2017.4.17 in c:\\users\\amir_\\anaconda3\\envs\\py39\\lib\\site-packages (from requests->torchvision) (2022.6.15)\n",
      "Requirement already satisfied: charset-normalizer<3,>=2 in c:\\users\\amir_\\anaconda3\\envs\\py39\\lib\\site-packages (from requests->torchvision) (2.1.0)\n",
      "Requirement already satisfied: idna<4,>=2.5 in c:\\users\\amir_\\anaconda3\\envs\\py39\\lib\\site-packages (from requests->torchvision) (3.3)\n",
      "Requirement already satisfied: urllib3<1.27,>=1.21.1 in c:\\users\\amir_\\anaconda3\\envs\\py39\\lib\\site-packages (from requests->torchvision) (1.26.10)\n",
      "Installing collected packages: torch, torchvision, timm\n",
      "Successfully installed timm-0.6.7 torch-1.12.1 torchvision-0.13.1\n",
      "Note: you may need to restart the kernel to use updated packages.\n"
     ]
    }
   ],
   "source": [
    "# %pip install --upgrade timm torch torchvision"
   ]
  },
  {
   "cell_type": "code",
   "execution_count": null,
   "metadata": {},
   "outputs": [],
   "source": []
  },
  {
   "cell_type": "code",
   "execution_count": null,
   "metadata": {},
   "outputs": [],
   "source": []
  },
  {
   "cell_type": "code",
   "execution_count": null,
   "metadata": {},
   "outputs": [],
   "source": []
  },
  {
   "cell_type": "code",
   "execution_count": null,
   "metadata": {},
   "outputs": [],
   "source": []
  },
  {
   "cell_type": "code",
   "execution_count": null,
   "metadata": {},
   "outputs": [],
   "source": []
  },
  {
   "cell_type": "code",
   "execution_count": null,
   "metadata": {},
   "outputs": [],
   "source": []
  },
  {
   "cell_type": "code",
   "execution_count": null,
   "metadata": {},
   "outputs": [],
   "source": []
  },
  {
   "cell_type": "code",
   "execution_count": null,
   "metadata": {},
   "outputs": [],
   "source": []
  },
  {
   "cell_type": "code",
   "execution_count": null,
   "metadata": {},
   "outputs": [],
   "source": []
  },
  {
   "cell_type": "code",
   "execution_count": null,
   "metadata": {},
   "outputs": [],
   "source": []
  },
  {
   "cell_type": "code",
   "execution_count": null,
   "metadata": {},
   "outputs": [],
   "source": []
  },
  {
   "cell_type": "code",
   "execution_count": null,
   "metadata": {},
   "outputs": [],
   "source": []
  },
  {
   "cell_type": "code",
   "execution_count": null,
   "metadata": {},
   "outputs": [],
   "source": []
  }
 ],
 "metadata": {
  "kernelspec": {
   "display_name": "Python 3.9.13 ('py39')",
   "language": "python",
   "name": "python3"
  },
  "language_info": {
   "codemirror_mode": {
    "name": "ipython",
    "version": 3
   },
   "file_extension": ".py",
   "mimetype": "text/x-python",
   "name": "python",
   "nbconvert_exporter": "python",
   "pygments_lexer": "ipython3",
   "version": "3.9.13"
  },
  "orig_nbformat": 4,
  "vscode": {
   "interpreter": {
    "hash": "dc1e19cf39522f115d1c3cc221f92428ccb0c6690c5338f4ee8f84b904729246"
   }
  }
 },
 "nbformat": 4,
 "nbformat_minor": 2
}
