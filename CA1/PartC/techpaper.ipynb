{
 "cells": [
  {
   "cell_type": "markdown",
   "metadata": {},
   "source": [
    "# ST1504 Part C Technical Paper\n",
    "\n",
    "## RNN, LSTM and GRU models applied to Sentiment Analysis for comparison on efficiency and test accuracy\n",
    "\n",
    "### Name: Haja Amir Rahman\n",
    "### Class: DAAA/FT?2B/06\n",
    "### Admin Number: P2100803\n",
    "\n",
    "### References: \n",
    "\n",
    "- [Fashion-Mnist Dataset](https://www.tensorflow.org/api_docs/python/tf/keras/datasets/fashion_mnist/load_data)\n",
    "- [Using GloVe and Pretrained Embedding layers](https://haochen23.github.io/2020/01/nlp-rnn-sentiment.html#.Y3sIcXZByUk)\n",
    "- [GloVe Model Loading](https://www.kaggle.com/datasets/fullmetal26/glovetwitter27b100dtxt)\n",
    "- [Understanding Embedding Layers in Keras and GloVe](https://medium.com/analytics-vidhya/understanding-embedding-layer-in-keras-bbe3ff1327ce )"
   ]
  },
  {
   "cell_type": "code",
   "execution_count": 9,
   "metadata": {},
   "outputs": [
    {
     "data": {
      "text/plain": [
       "[PhysicalDevice(name='/physical_device:GPU:0', device_type='GPU')]"
      ]
     },
     "execution_count": 9,
     "metadata": {},
     "output_type": "execute_result"
    }
   ],
   "source": [
    "import tensorflow as tf\n",
    "\n",
    "tf.config.list_physical_devices('GPU')"
   ]
  },
  {
   "cell_type": "code",
   "execution_count": 10,
   "metadata": {},
   "outputs": [],
   "source": [
    "import tensorflow.keras\n",
    "from tensorflow.keras.models import Sequential\n",
    "from tensorflow.keras.layers import InputLayer, Dense, SimpleRNN, Activation, Dropout, Conv1D\n",
    "from tensorflow.keras.layers import Embedding, Flatten, LSTM, GRU\n",
    "from tensorflow.keras.preprocessing.text import Tokenizer\n",
    "from tensorflow.keras.preprocessing.sequence import pad_sequences\n",
    "from tensorflow.keras.callbacks import EarlyStopping\n",
    "import pandas as pd\n",
    "import numpy as np\n",
    "import spacy\n",
    "import matplotlib.pyplot as plt\n",
    "from sklearn.metrics import classification_report\n",
    "from sklearn.metrics import confusion_matrix\n",
    "from sklearn.metrics import ConfusionMatrixDisplay\n",
    "# https://haochen23.github.io/2020/01/nlp-rnn-sentiment.html#.Y3sIcXZByUk"
   ]
  },
  {
   "cell_type": "code",
   "execution_count": 11,
   "metadata": {},
   "outputs": [
    {
     "data": {
      "text/html": [
       "<div>\n",
       "<style scoped>\n",
       "    .dataframe tbody tr th:only-of-type {\n",
       "        vertical-align: middle;\n",
       "    }\n",
       "\n",
       "    .dataframe tbody tr th {\n",
       "        vertical-align: top;\n",
       "    }\n",
       "\n",
       "    .dataframe thead th {\n",
       "        text-align: right;\n",
       "    }\n",
       "</style>\n",
       "<table border=\"1\" class=\"dataframe\">\n",
       "  <thead>\n",
       "    <tr style=\"text-align: right;\">\n",
       "      <th></th>\n",
       "      <th>clean_comment</th>\n",
       "      <th>category</th>\n",
       "    </tr>\n",
       "  </thead>\n",
       "  <tbody>\n",
       "    <tr>\n",
       "      <th>0</th>\n",
       "      <td>family mormon have never tried explain them t...</td>\n",
       "      <td>1</td>\n",
       "    </tr>\n",
       "    <tr>\n",
       "      <th>1</th>\n",
       "      <td>buddhism has very much lot compatible with chr...</td>\n",
       "      <td>1</td>\n",
       "    </tr>\n",
       "    <tr>\n",
       "      <th>2</th>\n",
       "      <td>seriously don say thing first all they won get...</td>\n",
       "      <td>-1</td>\n",
       "    </tr>\n",
       "    <tr>\n",
       "      <th>3</th>\n",
       "      <td>what you have learned yours and only yours wha...</td>\n",
       "      <td>0</td>\n",
       "    </tr>\n",
       "    <tr>\n",
       "      <th>4</th>\n",
       "      <td>for your own benefit you may want read living ...</td>\n",
       "      <td>1</td>\n",
       "    </tr>\n",
       "    <tr>\n",
       "      <th>...</th>\n",
       "      <td>...</td>\n",
       "      <td>...</td>\n",
       "    </tr>\n",
       "    <tr>\n",
       "      <th>37244</th>\n",
       "      <td>jesus</td>\n",
       "      <td>0</td>\n",
       "    </tr>\n",
       "    <tr>\n",
       "      <th>37245</th>\n",
       "      <td>kya bhai pure saal chutiya banaya modi aur jab...</td>\n",
       "      <td>1</td>\n",
       "    </tr>\n",
       "    <tr>\n",
       "      <th>37246</th>\n",
       "      <td>downvote karna tha par upvote hogaya</td>\n",
       "      <td>0</td>\n",
       "    </tr>\n",
       "    <tr>\n",
       "      <th>37247</th>\n",
       "      <td>haha nice</td>\n",
       "      <td>1</td>\n",
       "    </tr>\n",
       "    <tr>\n",
       "      <th>37248</th>\n",
       "      <td>facebook itself now working bjp’ cell</td>\n",
       "      <td>0</td>\n",
       "    </tr>\n",
       "  </tbody>\n",
       "</table>\n",
       "<p>37249 rows × 2 columns</p>\n",
       "</div>"
      ],
      "text/plain": [
       "                                           clean_comment  category\n",
       "0       family mormon have never tried explain them t...         1\n",
       "1      buddhism has very much lot compatible with chr...         1\n",
       "2      seriously don say thing first all they won get...        -1\n",
       "3      what you have learned yours and only yours wha...         0\n",
       "4      for your own benefit you may want read living ...         1\n",
       "...                                                  ...       ...\n",
       "37244                                              jesus         0\n",
       "37245  kya bhai pure saal chutiya banaya modi aur jab...         1\n",
       "37246              downvote karna tha par upvote hogaya          0\n",
       "37247                                         haha nice          1\n",
       "37248             facebook itself now working bjp’ cell          0\n",
       "\n",
       "[37249 rows x 2 columns]"
      ]
     },
     "execution_count": 11,
     "metadata": {},
     "output_type": "execute_result"
    }
   ],
   "source": [
    "import ssl\n",
    "ssl._create_default_https_context = ssl._create_unverified_context\n",
    "\n",
    "# data = pd.read_csv(\"https://raw.githubusercontent.com/haochen23/nlp-rnn-lstm-sentiment/master/training.1600000.processed.noemoticon.csv\", header=None, encoding='cp437')\n",
    "# print(\"The shape of the original dataset is {}\".format(data.shape))\n",
    "# data\n",
    "\n",
    "raw = pd.read_csv('data/Reddit_Data.csv')\n",
    "raw"
   ]
  },
  {
   "cell_type": "code",
   "execution_count": 12,
   "metadata": {},
   "outputs": [
    {
     "data": {
      "text/plain": [
       " 1    15830\n",
       " 0    13142\n",
       "-1     8277\n",
       "Name: category, dtype: int64"
      ]
     },
     "execution_count": 12,
     "metadata": {},
     "output_type": "execute_result"
    }
   ],
   "source": [
    "raw['category'].value_counts()"
   ]
  },
  {
   "cell_type": "code",
   "execution_count": 13,
   "metadata": {},
   "outputs": [
    {
     "data": {
      "text/html": [
       "<div>\n",
       "<style scoped>\n",
       "    .dataframe tbody tr th:only-of-type {\n",
       "        vertical-align: middle;\n",
       "    }\n",
       "\n",
       "    .dataframe tbody tr th {\n",
       "        vertical-align: top;\n",
       "    }\n",
       "\n",
       "    .dataframe thead th {\n",
       "        text-align: right;\n",
       "    }\n",
       "</style>\n",
       "<table border=\"1\" class=\"dataframe\">\n",
       "  <thead>\n",
       "    <tr style=\"text-align: right;\">\n",
       "      <th></th>\n",
       "      <th>clean_comment</th>\n",
       "      <th>category</th>\n",
       "    </tr>\n",
       "  </thead>\n",
       "  <tbody>\n",
       "    <tr>\n",
       "      <th>17760</th>\n",
       "      <td>next target baby steps bois</td>\n",
       "      <td>0</td>\n",
       "    </tr>\n",
       "    <tr>\n",
       "      <th>30969</th>\n",
       "      <td>just wondering that major newspaper india who ...</td>\n",
       "      <td>1</td>\n",
       "    </tr>\n",
       "    <tr>\n",
       "      <th>16700</th>\n",
       "      <td>there akshay mallika dua controversy just mean...</td>\n",
       "      <td>1</td>\n",
       "    </tr>\n",
       "    <tr>\n",
       "      <th>20286</th>\n",
       "      <td>you wanted his attention you should have trie...</td>\n",
       "      <td>-1</td>\n",
       "    </tr>\n",
       "    <tr>\n",
       "      <th>35144</th>\n",
       "      <td>negeturv 印度绝对是大的威胁。四十年前改革开放你觉得中国人口素质是什么样子的，搞制...</td>\n",
       "      <td>0</td>\n",
       "    </tr>\n",
       "    <tr>\n",
       "      <th>...</th>\n",
       "      <td>...</td>\n",
       "      <td>...</td>\n",
       "    </tr>\n",
       "    <tr>\n",
       "      <th>10041</th>\n",
       "      <td>team standard start jordan howard rishard mat...</td>\n",
       "      <td>0</td>\n",
       "    </tr>\n",
       "    <tr>\n",
       "      <th>24270</th>\n",
       "      <td>mast hain bhai bjp cell yogi amit shah mehaboo...</td>\n",
       "      <td>1</td>\n",
       "    </tr>\n",
       "    <tr>\n",
       "      <th>10677</th>\n",
       "      <td>yes who should vote for not modi raga kejri lol</td>\n",
       "      <td>1</td>\n",
       "    </tr>\n",
       "    <tr>\n",
       "      <th>1267</th>\n",
       "      <td>given the prevailing currents this region the ...</td>\n",
       "      <td>0</td>\n",
       "    </tr>\n",
       "    <tr>\n",
       "      <th>24934</th>\n",
       "      <td>all because modi kick him the balls man</td>\n",
       "      <td>0</td>\n",
       "    </tr>\n",
       "  </tbody>\n",
       "</table>\n",
       "<p>24831 rows × 2 columns</p>\n",
       "</div>"
      ],
      "text/plain": [
       "                                           clean_comment  category\n",
       "17760                       next target baby steps bois          0\n",
       "30969  just wondering that major newspaper india who ...         1\n",
       "16700  there akshay mallika dua controversy just mean...         1\n",
       "20286   you wanted his attention you should have trie...        -1\n",
       "35144   negeturv 印度绝对是大的威胁。四十年前改革开放你觉得中国人口素质是什么样子的，搞制...         0\n",
       "...                                                  ...       ...\n",
       "10041   team standard start jordan howard rishard mat...         0\n",
       "24270  mast hain bhai bjp cell yogi amit shah mehaboo...         1\n",
       "10677    yes who should vote for not modi raga kejri lol         1\n",
       "1267   given the prevailing currents this region the ...         0\n",
       "24934            all because modi kick him the balls man         0\n",
       "\n",
       "[24831 rows x 2 columns]"
      ]
     },
     "execution_count": 13,
     "metadata": {},
     "output_type": "execute_result"
    }
   ],
   "source": [
    "NUM = 8277\n",
    "\n",
    "positive = raw[raw['category']==1].sample(8277)\n",
    "neutral = raw[raw['category']==0].sample(8277)\n",
    "negative = raw[raw['category']==-1].sample(8277)\n",
    "\n",
    "data = pd.concat([positive, neutral, negative], axis=0).sample(frac=1)\n",
    "# positive.shape, neutral.shape, negative.shape\n",
    "\n",
    "data"
   ]
  },
  {
   "cell_type": "code",
   "execution_count": 14,
   "metadata": {},
   "outputs": [],
   "source": [
    "def load_glove_model(glove_file, encoding='iso-8859-1'):\n",
    "    print(\"[INFO]Loading GloVe Model...\")\n",
    "    model = {}\n",
    "    with open(glove_file, 'r', encoding=encoding) as f:\n",
    "        for line in f:\n",
    "            split_line = line.split()\n",
    "            word = split_line[0]\n",
    "            embeddings = [float(val) for val in split_line[1:]]\n",
    "            model[word] = embeddings\n",
    "    print(\"[INFO] Done...{} words loaded!\".format(len(model)))\n",
    "    return model\n",
    "# adopted from utils.py\n",
    "nlp = spacy.blank(\"en\")\n",
    "\n",
    "def remove_stopwords(sentence):\n",
    "    '''\n",
    "    function to remove stopwords\n",
    "        input: sentence - string of sentence\n",
    "    '''\n",
    "    new = []\n",
    "    # tokenize sentence\n",
    "    sentence = nlp(sentence)\n",
    "    for tk in sentence:\n",
    "        if (tk.is_stop == False) & (tk.pos_ !=\"PUNCT\"):\n",
    "            new.append(tk.string.strip())\n",
    "    # convert back to sentence string\n",
    "    c = \" \".join(str(x) for x in new)\n",
    "    return c\n",
    "\n",
    "\n",
    "def lemmatize(sentence):\n",
    "    '''\n",
    "    function to do lemmatization\n",
    "        input: sentence - string of sentence\n",
    "    '''\n",
    "    sentence = nlp(sentence)\n",
    "    s = \"\"\n",
    "    for w in sentence:\n",
    "        s +=\" \"+w.lemma_\n",
    "    return nlp(s)\n",
    "\n",
    "def sent_vectorizer(sent, model):\n",
    "    '''\n",
    "    sentence vectorizer using the pretrained glove model\n",
    "    '''\n",
    "    sent_vector = np.zeros(200)\n",
    "    num_w = 0\n",
    "    for w in sent.split():\n",
    "        try:\n",
    "            # add up all token vectors to a sent_vector\n",
    "            sent_vector = np.add(sent_vector, model[str(w)])\n",
    "            num_w += 1\n",
    "        except:\n",
    "            pass\n",
    "    return sent_vector"
   ]
  },
  {
   "cell_type": "code",
   "execution_count": 15,
   "metadata": {},
   "outputs": [
    {
     "data": {
      "text/plain": [
       "((24831,), (24831, 3))"
      ]
     },
     "execution_count": 15,
     "metadata": {},
     "output_type": "execute_result"
    }
   ],
   "source": [
    "data_X = data['clean_comment'].to_numpy().astype('str')\n",
    "data_y = data['category']\n",
    "data_y = pd.get_dummies(data_y).to_numpy()\n",
    "\n",
    "data_X.shape, data_y.shape"
   ]
  },
  {
   "cell_type": "markdown",
   "metadata": {},
   "source": [
    "### Loading GloVe Model"
   ]
  },
  {
   "cell_type": "code",
   "execution_count": 16,
   "metadata": {},
   "outputs": [
    {
     "name": "stdout",
     "output_type": "stream",
     "text": [
      "[INFO]Loading GloVe Model...\n",
      "[INFO] Done...1193514 words loaded!\n"
     ]
    }
   ],
   "source": [
    "# load the glove model\n",
    "glove_model = load_glove_model(\"glove.twitter.27B.200d.txt\", encoding='utf-8')\n",
    "# number of vocab to keep\n",
    "max_vocab = 18000\n",
    "# length of sequence that will generate\n",
    "max_len = 15\n",
    "\n",
    "tokenizer = Tokenizer(num_words=max_vocab)"
   ]
  },
  {
   "cell_type": "markdown",
   "metadata": {},
   "source": [
    "### Tokenizing "
   ]
  },
  {
   "cell_type": "code",
   "execution_count": 17,
   "metadata": {},
   "outputs": [
    {
     "name": "stdout",
     "output_type": "stream",
     "text": [
      "Found 43840 unique tokens.\n"
     ]
    },
    {
     "data": {
      "text/plain": [
       "(24831, 15)"
      ]
     },
     "execution_count": 17,
     "metadata": {},
     "output_type": "execute_result"
    }
   ],
   "source": [
    "tokenizer.fit_on_texts(data_X)\n",
    "sequences = tokenizer.texts_to_sequences(data_X)\n",
    "word_index = tokenizer.word_index\n",
    "print('Found %s unique tokens.' % len(word_index))\n",
    "data_keras = pad_sequences(sequences, maxlen=max_len, padding=\"post\")\n",
    "\n",
    "data_keras.shape"
   ]
  },
  {
   "cell_type": "markdown",
   "metadata": {},
   "source": [
    "## Train-test-split"
   ]
  },
  {
   "cell_type": "code",
   "execution_count": 18,
   "metadata": {},
   "outputs": [
    {
     "data": {
      "text/plain": [
       "((17381, 15), (7450, 15), (17381, 3), (7450, 3))"
      ]
     },
     "execution_count": 18,
     "metadata": {},
     "output_type": "execute_result"
    }
   ],
   "source": [
    "from sklearn.model_selection import train_test_split\n",
    "x_train, x_test, y_train, y_test = train_test_split(data_keras, data_y, test_size = 0.3, random_state=42)\n",
    "\n",
    "x_train.shape, x_test.shape, y_train.shape, y_test.shape"
   ]
  },
  {
   "cell_type": "code",
   "execution_count": 19,
   "metadata": {},
   "outputs": [
    {
     "name": "stdout",
     "output_type": "stream",
     "text": [
      "Number of words: 43841\n",
      "Null word embeddings: 12920\n"
     ]
    }
   ],
   "source": [
    "# calculate number of words\n",
    "nb_words = len(tokenizer.word_index) + 1\n",
    "print(f\"Number of words: {nb_words}\")\n",
    "\n",
    "# obtain the word embedding matrix\n",
    "embedding_matrix = np.zeros((nb_words, 200))\n",
    "\n",
    "for word, i in word_index.items():\n",
    "    embedding_vector = glove_model.get(word)\n",
    "    if embedding_vector is not None:\n",
    "        embedding_matrix[i] = embedding_vector\n",
    "print('Null word embeddings: %d' % np.sum(np.sum(embedding_matrix, axis=1) == 0))"
   ]
  },
  {
   "cell_type": "code",
   "execution_count": 20,
   "metadata": {},
   "outputs": [],
   "source": [
    "# adopted from sent_tran_eval.py\n",
    "def build_model(nb_words, rnn_model=\"SimpleRNN\", embedding_matrix=None):\n",
    "    '''\n",
    "    build_model function:\n",
    "    inputs: \n",
    "        rnn_model - which type of RNN layer to use, choose in (SimpleRNN, LSTM, GRU)\n",
    "        embedding_matrix - whether to use pretrained embeddings or not\n",
    "    '''\n",
    "    model = Sequential()\n",
    "    # add an embedding layer\n",
    "    if embedding_matrix is not None:\n",
    "        model.add(Embedding(nb_words, \n",
    "                        200, \n",
    "                        weights=[embedding_matrix], \n",
    "                        input_length= max_len,\n",
    "                        trainable = False))\n",
    "    else:\n",
    "        model.add(Embedding(nb_words, \n",
    "                        200, \n",
    "                        input_length= max_len,\n",
    "                        trainable = False))\n",
    "        \n",
    "    # add an RNN layer according to rnn_model\n",
    "    if rnn_model == \"SimpleRNN\":\n",
    "        model.add(SimpleRNN(256))\n",
    "    elif rnn_model == \"LSTM\":\n",
    "        model.add(LSTM(256))\n",
    "    else:\n",
    "        model.add(GRU(256))\n",
    "        \n",
    "    model.add(Dense(512,activation='relu'))\n",
    "    model.add(Dense(512, activation='relu'))\n",
    "    model.add(Dense(3, activation='softmax'))\n",
    "    \n",
    "    model.compile(loss='categorical_crossentropy', \n",
    "                optimizer='adam',\n",
    "                metrics=['accuracy'])\n",
    "    return model"
   ]
  },
  {
   "cell_type": "markdown",
   "metadata": {},
   "source": [
    "## RNN Model"
   ]
  },
  {
   "cell_type": "code",
   "execution_count": 21,
   "metadata": {},
   "outputs": [
    {
     "name": "stdout",
     "output_type": "stream",
     "text": [
      "Model: \"sequential\"\n",
      "_________________________________________________________________\n",
      " Layer (type)                Output Shape              Param #   \n",
      "=================================================================\n",
      " embedding (Embedding)       (None, 15, 200)           8768200   \n",
      "                                                                 \n",
      " simple_rnn (SimpleRNN)      (None, 256)               116992    \n",
      "                                                                 \n",
      " dense (Dense)               (None, 512)               131584    \n",
      "                                                                 \n",
      " dense_1 (Dense)             (None, 512)               262656    \n",
      "                                                                 \n",
      " dense_2 (Dense)             (None, 3)                 1539      \n",
      "                                                                 \n",
      "=================================================================\n",
      "Total params: 9,280,971\n",
      "Trainable params: 512,771\n",
      "Non-trainable params: 8,768,200\n",
      "_________________________________________________________________\n",
      "Epoch 1/10\n",
      "543/544 [============================>.] - ETA: 0s - loss: 0.9204 - accuracy: 0.5314\n",
      "Epoch 1: saving model to tmp/checkpoint\\model_rnn.hdf5\n",
      "\n",
      "Epoch 1: val_accuracy improved from -inf to 0.59745, saving model to tmp/checkpoint\\model_rnnAcc.hdf5\n",
      "\n",
      "Epoch 1: val_loss improved from inf to 0.88613, saving model to tmp/checkpoint\\model_rnnLoss.hdf5\n",
      "544/544 [==============================] - 25s 38ms/step - loss: 0.9203 - accuracy: 0.5314 - val_loss: 0.8861 - val_accuracy: 0.5974\n",
      "Epoch 2/10\n",
      "543/544 [============================>.] - ETA: 0s - loss: 0.8264 - accuracy: 0.6137\n",
      "Epoch 2: saving model to tmp/checkpoint\\model_rnn.hdf5\n",
      "\n",
      "Epoch 2: val_accuracy improved from 0.59745 to 0.62403, saving model to tmp/checkpoint\\model_rnnAcc.hdf5\n",
      "\n",
      "Epoch 2: val_loss improved from 0.88613 to 0.82013, saving model to tmp/checkpoint\\model_rnnLoss.hdf5\n",
      "544/544 [==============================] - 21s 39ms/step - loss: 0.8263 - accuracy: 0.6137 - val_loss: 0.8201 - val_accuracy: 0.6240\n",
      "Epoch 3/10\n",
      "543/544 [============================>.] - ETA: 0s - loss: 0.7743 - accuracy: 0.6502\n",
      "Epoch 3: saving model to tmp/checkpoint\\model_rnn.hdf5\n",
      "\n",
      "Epoch 3: val_accuracy improved from 0.62403 to 0.65732, saving model to tmp/checkpoint\\model_rnnAcc.hdf5\n",
      "\n",
      "Epoch 3: val_loss improved from 0.82013 to 0.76668, saving model to tmp/checkpoint\\model_rnnLoss.hdf5\n",
      "544/544 [==============================] - 21s 39ms/step - loss: 0.7743 - accuracy: 0.6502 - val_loss: 0.7667 - val_accuracy: 0.6573\n",
      "Epoch 4/10\n",
      "543/544 [============================>.] - ETA: 0s - loss: 0.7316 - accuracy: 0.6729\n",
      "Epoch 4: saving model to tmp/checkpoint\\model_rnn.hdf5\n",
      "\n",
      "Epoch 4: val_accuracy did not improve from 0.65732\n",
      "\n",
      "Epoch 4: val_loss did not improve from 0.76668\n",
      "544/544 [==============================] - 20s 37ms/step - loss: 0.7316 - accuracy: 0.6729 - val_loss: 0.7922 - val_accuracy: 0.6497\n",
      "Epoch 5/10\n",
      "543/544 [============================>.] - ETA: 0s - loss: 0.6769 - accuracy: 0.7065\n",
      "Epoch 5: saving model to tmp/checkpoint\\model_rnn.hdf5\n",
      "\n",
      "Epoch 5: val_accuracy did not improve from 0.65732\n",
      "\n",
      "Epoch 5: val_loss did not improve from 0.76668\n",
      "544/544 [==============================] - 20s 37ms/step - loss: 0.6771 - accuracy: 0.7064 - val_loss: 0.8095 - val_accuracy: 0.6460\n",
      "Epoch 6/10\n",
      "543/544 [============================>.] - ETA: 0s - loss: 0.6283 - accuracy: 0.7324\n",
      "Epoch 6: saving model to tmp/checkpoint\\model_rnn.hdf5\n",
      "\n",
      "Epoch 6: val_accuracy improved from 0.65732 to 0.65839, saving model to tmp/checkpoint\\model_rnnAcc.hdf5\n",
      "\n",
      "Epoch 6: val_loss did not improve from 0.76668\n",
      "544/544 [==============================] - 21s 38ms/step - loss: 0.6283 - accuracy: 0.7324 - val_loss: 0.8018 - val_accuracy: 0.6584\n",
      "Epoch 7/10\n",
      "543/544 [============================>.] - ETA: 0s - loss: 0.5869 - accuracy: 0.7495\n",
      "Epoch 7: saving model to tmp/checkpoint\\model_rnn.hdf5\n",
      "\n",
      "Epoch 7: val_accuracy did not improve from 0.65839\n",
      "\n",
      "Epoch 7: val_loss did not improve from 0.76668\n",
      "544/544 [==============================] - 20s 37ms/step - loss: 0.5869 - accuracy: 0.7494 - val_loss: 0.8232 - val_accuracy: 0.6431\n",
      "Epoch 8/10\n",
      "543/544 [============================>.] - ETA: 0s - loss: 0.5466 - accuracy: 0.7696\n",
      "Epoch 8: saving model to tmp/checkpoint\\model_rnn.hdf5\n",
      "\n",
      "Epoch 8: val_accuracy did not improve from 0.65839\n",
      "\n",
      "Epoch 8: val_loss did not improve from 0.76668\n",
      "544/544 [==============================] - 20s 38ms/step - loss: 0.5467 - accuracy: 0.7696 - val_loss: 0.8283 - val_accuracy: 0.6538\n",
      "Epoch 9/10\n",
      "543/544 [============================>.] - ETA: 0s - loss: 0.5076 - accuracy: 0.7919\n",
      "Epoch 9: saving model to tmp/checkpoint\\model_rnn.hdf5\n",
      "\n",
      "Epoch 9: val_accuracy improved from 0.65839 to 0.66376, saving model to tmp/checkpoint\\model_rnnAcc.hdf5\n",
      "\n",
      "Epoch 9: val_loss did not improve from 0.76668\n",
      "544/544 [==============================] - 21s 38ms/step - loss: 0.5078 - accuracy: 0.7918 - val_loss: 0.8524 - val_accuracy: 0.6638\n",
      "Epoch 10/10\n",
      "543/544 [============================>.] - ETA: 0s - loss: 0.4611 - accuracy: 0.8088\n",
      "Epoch 10: saving model to tmp/checkpoint\\model_rnn.hdf5\n",
      "\n",
      "Epoch 10: val_accuracy improved from 0.66376 to 0.66859, saving model to tmp/checkpoint\\model_rnnAcc.hdf5\n",
      "\n",
      "Epoch 10: val_loss did not improve from 0.76668\n",
      "544/544 [==============================] - 21s 38ms/step - loss: 0.4612 - accuracy: 0.8088 - val_loss: 0.8593 - val_accuracy: 0.6686\n",
      "Model: \"sequential\"\n",
      "_________________________________________________________________\n",
      " Layer (type)                Output Shape              Param #   \n",
      "=================================================================\n",
      " embedding (Embedding)       (None, 15, 200)           8768200   \n",
      "                                                                 \n",
      " simple_rnn (SimpleRNN)      (None, 256)               116992    \n",
      "                                                                 \n",
      " dense (Dense)               (None, 512)               131584    \n",
      "                                                                 \n",
      " dense_1 (Dense)             (None, 512)               262656    \n",
      "                                                                 \n",
      " dense_2 (Dense)             (None, 3)                 1539      \n",
      "                                                                 \n",
      "=================================================================\n",
      "Total params: 9,280,971\n",
      "Trainable params: 512,771\n",
      "Non-trainable params: 8,768,200\n",
      "_________________________________________________________________\n",
      "233/233 [==============================] - 2s 7ms/step\n",
      "              precision    recall  f1-score   support\n",
      "\n",
      "           0       0.60      0.66      0.63      2459\n",
      "           1       0.76      0.74      0.75      2492\n",
      "           2       0.65      0.60      0.62      2499\n",
      "\n",
      "    accuracy                           0.67      7450\n",
      "   macro avg       0.67      0.67      0.67      7450\n",
      "weighted avg       0.67      0.67      0.67      7450\n",
      "\n"
     ]
    }
   ],
   "source": [
    "model_rnn = build_model(nb_words, \"SimpleRNN\", embedding_matrix)\n",
    "model_rnn.summary()\n",
    "checkpoint = tf.keras.callbacks.ModelCheckpoint('tmp/checkpoint/model_rnn.hdf5',verbose=True)\n",
    "getAcc = tf.keras.callbacks.ModelCheckpoint('tmp/checkpoint/model_rnnAcc.hdf5',verbose=True,save_best_only=True,monitor='val_accuracy')\n",
    "getLoss = tf.keras.callbacks.ModelCheckpoint('tmp/checkpoint/model_rnnLoss.hdf5',verbose=True,save_best_only=True,monitor='val_loss')\n",
    "model_rnn_history = model_rnn.fit(x_train, y_train, \n",
    "                                                epochs=10, \n",
    "                                                validation_data=(x_test, y_test), \n",
    "                                                callbacks=[checkpoint,getAcc,getLoss, \n",
    "                                                EarlyStopping(monitor='val_accuracy', mode='max',patience=5)])\n",
    "model_rnn.summary()\n",
    "predictions = model_rnn.predict(x_test)\n",
    "predictions = predictions.argmax(axis=1)\n",
    "print(classification_report(y_test.argmax(axis=1), predictions))"
   ]
  },
  {
   "cell_type": "code",
   "execution_count": 22,
   "metadata": {},
   "outputs": [
    {
     "name": "stdout",
     "output_type": "stream",
     "text": [
      "233/233 [==============================] - 2s 8ms/step - loss: 0.8593 - accuracy: 0.6686\n",
      "[0.8592510223388672, 0.6685906052589417]\n",
      "233/233 [==============================] - 2s 8ms/step - loss: 0.8593 - accuracy: 0.6686\n",
      "233/233 [==============================] - 2s 8ms/step - loss: 0.7667 - accuracy: 0.6573\n",
      "Best Acc Test Loss: 0.8592510223388672\n",
      "Best Acc Test Accuracy: 66.86 %\n",
      "Best Loss Test Loss: 0.7666849493980408\n",
      "Best Loss Test Accuracy: 65.73 %\n"
     ]
    }
   ],
   "source": [
    "# evaluating baseline coarse model\n",
    "print(model_rnn.evaluate(x_test, y_test))\n",
    "model_rnn.load_weights('tmp/checkpoint/model_rnnAcc.hdf5')\n",
    "scoreAcc = model_rnn.evaluate(x_test, y_test)\n",
    "model_rnn.load_weights('tmp/checkpoint/model_rnnLoss.hdf5')\n",
    "scoreLoss = model_rnn.evaluate(x_test, y_test)\n",
    "print('Best Acc Test Loss:', scoreAcc[0])\n",
    "print('Best Acc Test Accuracy:', round(scoreAcc[1],4)*100,'%')\n",
    "print('Best Loss Test Loss:', scoreLoss[0])\n",
    "print('Best Loss Test Accuracy:', round(scoreLoss[1],4)*100,'%')"
   ]
  },
  {
   "cell_type": "code",
   "execution_count": 23,
   "metadata": {},
   "outputs": [
    {
     "data": {
      "image/png": "[encoded data removed]",
      "text/plain": [
       "<Figure size 1000x300 with 1 Axes>"
      ]
     },
     "metadata": {},
     "output_type": "display_data"
    },
    {
     "data": {
      "image/png": "[encoded data removed]",
      "text/plain": [
       "<Figure size 1000x300 with 1 Axes>"
      ]
     },
     "metadata": {},
     "output_type": "display_data"
    }
   ],
   "source": [
    "max_val_acc_epoch = np.argmax(list(model_rnn_history.history['val_accuracy']))+1\n",
    "max_val_loss_epoch = np.argmin(list(model_rnn_history.history['val_loss']))+1\n",
    "epochs = range(1, len(model_rnn_history.history['accuracy']) + 1)\n",
    "plt.figure(figsize=(10,3))\n",
    "plt.minorticks_on()\n",
    "plt.axvline(x=max_val_acc_epoch, color='0.5', linestyle='--')\n",
    "plt.axvline(x=max_val_loss_epoch, color='0.5', linestyle=':')\n",
    "plt.plot(epochs,model_rnn_history.history['accuracy'], label='Train')\n",
    "plt.plot(epochs,model_rnn_history.history['val_accuracy'], label='Validation')\n",
    "plt.xlabel('Epochs')\n",
    "plt.ylabel('Accuracy')\n",
    "plt.legend()\n",
    "plt.show()\n",
    "\n",
    "plt.figure(figsize=(10,3))\n",
    "plt.minorticks_on()\n",
    "plt.axvline(x=max_val_acc_epoch, color='0.5', linestyle='--')\n",
    "plt.axvline(x=max_val_loss_epoch, color='0.5', linestyle=':')\n",
    "plt.plot(epochs,model_rnn_history.history['loss'], label='Train')\n",
    "plt.plot(epochs,model_rnn_history.history['val_loss'], label='Validation')\n",
    "plt.xlabel('Epochs')\n",
    "plt.ylabel('Loss')\n",
    "plt.legend()\n",
    "plt.show()"
   ]
  },
  {
   "cell_type": "code",
   "execution_count": 24,
   "metadata": {},
   "outputs": [],
   "source": [
    "# import visualkeras\n",
    "# from PIL import ImageFont\n",
    "# visualkeras.layered_view(model_rnn, legend=True)"
   ]
  },
  {
   "cell_type": "code",
   "execution_count": 25,
   "metadata": {},
   "outputs": [],
   "source": [
    "# model_rnn.save_weights(\"./models/rnn-model.h5\")"
   ]
  },
  {
   "cell_type": "markdown",
   "metadata": {},
   "source": [
    "## LSTM Model"
   ]
  },
  {
   "cell_type": "code",
   "execution_count": 26,
   "metadata": {},
   "outputs": [
    {
     "name": "stdout",
     "output_type": "stream",
     "text": [
      "Model: \"sequential_1\"\n",
      "_________________________________________________________________\n",
      " Layer (type)                Output Shape              Param #   \n",
      "=================================================================\n",
      " embedding_1 (Embedding)     (None, 15, 200)           8768200   \n",
      "                                                                 \n",
      " lstm (LSTM)                 (None, 256)               467968    \n",
      "                                                                 \n",
      " dense_3 (Dense)             (None, 512)               131584    \n",
      "                                                                 \n",
      " dense_4 (Dense)             (None, 512)               262656    \n",
      "                                                                 \n",
      " dense_5 (Dense)             (None, 3)                 1539      \n",
      "                                                                 \n",
      "=================================================================\n",
      "Total params: 9,631,947\n",
      "Trainable params: 863,747\n",
      "Non-trainable params: 8,768,200\n",
      "_________________________________________________________________\n",
      "Epoch 1/10\n",
      "541/544 [============================>.] - ETA: 0s - loss: 0.8027 - accuracy: 0.6262\n",
      "Epoch 1: saving model to tmp/checkpoint\\model_lstm.hdf5\n",
      "\n",
      "Epoch 1: val_accuracy improved from -inf to 0.69450, saving model to tmp/checkpoint\\model_lstmAcc.hdf5\n",
      "\n",
      "Epoch 1: val_loss improved from inf to 0.69545, saving model to tmp/checkpoint\\model_lstmLoss.hdf5\n",
      "544/544 [==============================] - 12s 11ms/step - loss: 0.8019 - accuracy: 0.6267 - val_loss: 0.6955 - val_accuracy: 0.6945\n",
      "Epoch 2/10\n",
      "540/544 [============================>.] - ETA: 0s - loss: 0.6471 - accuracy: 0.7126\n",
      "Epoch 2: saving model to tmp/checkpoint\\model_lstm.hdf5\n",
      "\n",
      "Epoch 2: val_accuracy improved from 0.69450 to 0.71490, saving model to tmp/checkpoint\\model_lstmAcc.hdf5\n",
      "\n",
      "Epoch 2: val_loss improved from 0.69545 to 0.66487, saving model to tmp/checkpoint\\model_lstmLoss.hdf5\n",
      "544/544 [==============================] - 6s 11ms/step - loss: 0.6469 - accuracy: 0.7129 - val_loss: 0.6649 - val_accuracy: 0.7149\n",
      "Epoch 3/10\n",
      "543/544 [============================>.] - ETA: 0s - loss: 0.5583 - accuracy: 0.7625\n",
      "Epoch 3: saving model to tmp/checkpoint\\model_lstm.hdf5\n",
      "\n",
      "Epoch 3: val_accuracy improved from 0.71490 to 0.74497, saving model to tmp/checkpoint\\model_lstmAcc.hdf5\n",
      "\n",
      "Epoch 3: val_loss improved from 0.66487 to 0.58503, saving model to tmp/checkpoint\\model_lstmLoss.hdf5\n",
      "544/544 [==============================] - 6s 11ms/step - loss: 0.5582 - accuracy: 0.7626 - val_loss: 0.5850 - val_accuracy: 0.7450\n",
      "Epoch 4/10\n",
      "540/544 [============================>.] - ETA: 0s - loss: 0.4831 - accuracy: 0.7939\n",
      "Epoch 4: saving model to tmp/checkpoint\\model_lstm.hdf5\n",
      "\n",
      "Epoch 4: val_accuracy improved from 0.74497 to 0.75423, saving model to tmp/checkpoint\\model_lstmAcc.hdf5\n",
      "\n",
      "Epoch 4: val_loss improved from 0.58503 to 0.58076, saving model to tmp/checkpoint\\model_lstmLoss.hdf5\n",
      "544/544 [==============================] - 6s 11ms/step - loss: 0.4831 - accuracy: 0.7937 - val_loss: 0.5808 - val_accuracy: 0.7542\n",
      "Epoch 5/10\n",
      "539/544 [============================>.] - ETA: 0s - loss: 0.4024 - accuracy: 0.8306\n",
      "Epoch 5: saving model to tmp/checkpoint\\model_lstm.hdf5\n",
      "\n",
      "Epoch 5: val_accuracy did not improve from 0.75423\n",
      "\n",
      "Epoch 5: val_loss did not improve from 0.58076\n",
      "544/544 [==============================] - 5s 10ms/step - loss: 0.4023 - accuracy: 0.8308 - val_loss: 0.6189 - val_accuracy: 0.7498\n",
      "Epoch 6/10\n",
      "540/544 [============================>.] - ETA: 0s - loss: 0.3159 - accuracy: 0.8703\n",
      "Epoch 6: saving model to tmp/checkpoint\\model_lstm.hdf5\n",
      "\n",
      "Epoch 6: val_accuracy improved from 0.75423 to 0.75987, saving model to tmp/checkpoint\\model_lstmAcc.hdf5\n",
      "\n",
      "Epoch 6: val_loss did not improve from 0.58076\n",
      "544/544 [==============================] - 6s 10ms/step - loss: 0.3167 - accuracy: 0.8699 - val_loss: 0.6842 - val_accuracy: 0.7599\n",
      "Epoch 7/10\n",
      "541/544 [============================>.] - ETA: 0s - loss: 0.2370 - accuracy: 0.9026\n",
      "Epoch 7: saving model to tmp/checkpoint\\model_lstm.hdf5\n",
      "\n",
      "Epoch 7: val_accuracy did not improve from 0.75987\n",
      "\n",
      "Epoch 7: val_loss did not improve from 0.58076\n",
      "544/544 [==============================] - 5s 10ms/step - loss: 0.2377 - accuracy: 0.9025 - val_loss: 0.7788 - val_accuracy: 0.7568\n",
      "Epoch 8/10\n",
      "540/544 [============================>.] - ETA: 0s - loss: 0.1708 - accuracy: 0.9347\n",
      "Epoch 8: saving model to tmp/checkpoint\\model_lstm.hdf5\n",
      "\n",
      "Epoch 8: val_accuracy did not improve from 0.75987\n",
      "\n",
      "Epoch 8: val_loss did not improve from 0.58076\n",
      "544/544 [==============================] - 5s 10ms/step - loss: 0.1706 - accuracy: 0.9348 - val_loss: 0.9273 - val_accuracy: 0.7593\n",
      "Epoch 9/10\n",
      "542/544 [============================>.] - ETA: 0s - loss: 0.1143 - accuracy: 0.9577\n",
      "Epoch 9: saving model to tmp/checkpoint\\model_lstm.hdf5\n",
      "\n",
      "Epoch 9: val_accuracy improved from 0.75987 to 0.76000, saving model to tmp/checkpoint\\model_lstmAcc.hdf5\n",
      "\n",
      "Epoch 9: val_loss did not improve from 0.58076\n",
      "544/544 [==============================] - 6s 11ms/step - loss: 0.1143 - accuracy: 0.9577 - val_loss: 1.1007 - val_accuracy: 0.7600\n",
      "Epoch 10/10\n",
      "544/544 [==============================] - ETA: 0s - loss: 0.0795 - accuracy: 0.9717\n",
      "Epoch 10: saving model to tmp/checkpoint\\model_lstm.hdf5\n",
      "\n",
      "Epoch 10: val_accuracy did not improve from 0.76000\n",
      "\n",
      "Epoch 10: val_loss did not improve from 0.58076\n",
      "544/544 [==============================] - 5s 10ms/step - loss: 0.0795 - accuracy: 0.9717 - val_loss: 1.1522 - val_accuracy: 0.7442\n",
      "233/233 [==============================] - 1s 3ms/step\n",
      "              precision    recall  f1-score   support\n",
      "\n",
      "           0       0.71      0.71      0.71      2459\n",
      "           1       0.84      0.81      0.83      2492\n",
      "           2       0.69      0.71      0.70      2499\n",
      "\n",
      "    accuracy                           0.74      7450\n",
      "   macro avg       0.75      0.74      0.74      7450\n",
      "weighted avg       0.75      0.74      0.74      7450\n",
      "\n"
     ]
    }
   ],
   "source": [
    "model_lstm = build_model(nb_words, \"LSTM\", embedding_matrix)\n",
    "model_lstm.summary()\n",
    "checkpoint = tf.keras.callbacks.ModelCheckpoint('tmp/checkpoint/model_lstm.hdf5',verbose=True)\n",
    "getAcc = tf.keras.callbacks.ModelCheckpoint('tmp/checkpoint/model_lstmAcc.hdf5',verbose=True,save_best_only=True,monitor='val_accuracy')\n",
    "getLoss = tf.keras.callbacks.ModelCheckpoint('tmp/checkpoint/model_lstmLoss.hdf5',verbose=True,save_best_only=True,monitor='val_loss')\n",
    "model_lstm_history = model_lstm.fit(x_train, y_train, \n",
    "                                                epochs=10, \n",
    "                                                validation_data=(x_test, y_test), \n",
    "                                                callbacks=[checkpoint,getAcc,getLoss, \n",
    "                                                EarlyStopping(monitor='val_accuracy', mode='max',patience=5)])\n",
    "\n",
    "predictions = model_lstm.predict(x_test)\n",
    "predictions = predictions.argmax(axis=1)\n",
    "print(classification_report(y_test.argmax(axis=1), predictions))\n"
   ]
  },
  {
   "cell_type": "code",
   "execution_count": 27,
   "metadata": {},
   "outputs": [
    {
     "name": "stdout",
     "output_type": "stream",
     "text": [
      "233/233 [==============================] - 1s 4ms/step - loss: 1.1522 - accuracy: 0.7442\n",
      "[1.1522008180618286, 0.744161069393158]\n",
      "233/233 [==============================] - 1s 4ms/step - loss: 1.1007 - accuracy: 0.7600\n",
      "233/233 [==============================] - 1s 4ms/step - loss: 0.5808 - accuracy: 0.7542\n",
      "Best Acc Test Loss: 1.100685477256775\n",
      "Best Acc Test Accuracy: 76.0 %\n",
      "Best Loss Test Loss: 0.5807611346244812\n",
      "Best Loss Test Accuracy: 75.42 %\n"
     ]
    }
   ],
   "source": [
    "# evaluating baseline coarse model\n",
    "print(model_lstm.evaluate(x_test, y_test))\n",
    "model_lstm.load_weights('tmp/checkpoint/model_lstmAcc.hdf5')\n",
    "scoreAcc = model_lstm.evaluate(x_test, y_test)\n",
    "model_lstm.load_weights('tmp/checkpoint/model_lstmLoss.hdf5')\n",
    "scoreLoss = model_lstm.evaluate(x_test, y_test)\n",
    "print('Best Acc Test Loss:', scoreAcc[0])\n",
    "print('Best Acc Test Accuracy:', round(scoreAcc[1],4)*100,'%')\n",
    "print('Best Loss Test Loss:', scoreLoss[0])\n",
    "print('Best Loss Test Accuracy:', round(scoreLoss[1],4)*100,'%')"
   ]
  },
  {
   "cell_type": "code",
   "execution_count": 28,
   "metadata": {},
   "outputs": [
    {
     "data": {
      "image/png": "[encoded data removed]",
      "text/plain": [
       "<Figure size 1000x300 with 1 Axes>"
      ]
     },
     "metadata": {},
     "output_type": "display_data"
    },
    {
     "data": {
      "image/png": "[encoded data removed]",
      "text/plain": [
       "<Figure size 1000x300 with 1 Axes>"
      ]
     },
     "metadata": {},
     "output_type": "display_data"
    }
   ],
   "source": [
    "max_val_acc_epoch = np.argmax(list(model_lstm_history.history['val_accuracy']))+1\n",
    "max_val_loss_epoch = np.argmin(list(model_lstm_history.history['val_loss']))+1\n",
    "epochs = range(1, len(model_lstm_history.history['accuracy']) + 1)\n",
    "plt.figure(figsize=(10,3))\n",
    "plt.minorticks_on()\n",
    "plt.axvline(x=max_val_acc_epoch, color='0.5', linestyle='--')\n",
    "plt.axvline(x=max_val_loss_epoch, color='0.5', linestyle=':')\n",
    "plt.plot(epochs,model_lstm_history.history['accuracy'], label='Train')\n",
    "plt.plot(epochs,model_lstm_history.history['val_accuracy'], label='Validation')\n",
    "plt.xlabel('Epochs')\n",
    "plt.ylabel('Accuracy')\n",
    "plt.legend()\n",
    "plt.show()\n",
    "\n",
    "plt.figure(figsize=(10,3))\n",
    "plt.minorticks_on()\n",
    "plt.axvline(x=max_val_acc_epoch, color='0.5', linestyle='--')\n",
    "plt.axvline(x=max_val_loss_epoch, color='0.5', linestyle=':')\n",
    "plt.plot(epochs,model_lstm_history.history['loss'], label='Train')\n",
    "plt.plot(epochs,model_lstm_history.history['val_loss'], label='Validation')\n",
    "plt.xlabel('Epochs')\n",
    "plt.ylabel('Loss')\n",
    "plt.legend()\n",
    "plt.show()"
   ]
  },
  {
   "cell_type": "code",
   "execution_count": 29,
   "metadata": {},
   "outputs": [],
   "source": [
    "# import visualkeras\n",
    "# from PIL import ImageFont\n",
    "# visualkeras.layered_view(model_lstm, legend=True)"
   ]
  },
  {
   "cell_type": "code",
   "execution_count": 30,
   "metadata": {},
   "outputs": [],
   "source": [
    "# model_lstm.save_weights(\"models/model-lstm.h5\")"
   ]
  },
  {
   "cell_type": "markdown",
   "metadata": {},
   "source": [
    "## GRU Model "
   ]
  },
  {
   "cell_type": "code",
   "execution_count": 31,
   "metadata": {},
   "outputs": [
    {
     "name": "stdout",
     "output_type": "stream",
     "text": [
      "Model: \"sequential_2\"\n",
      "_________________________________________________________________\n",
      " Layer (type)                Output Shape              Param #   \n",
      "=================================================================\n",
      " embedding_2 (Embedding)     (None, 15, 200)           8768200   \n",
      "                                                                 \n",
      " gru (GRU)                   (None, 256)               351744    \n",
      "                                                                 \n",
      " dense_6 (Dense)             (None, 512)               131584    \n",
      "                                                                 \n",
      " dense_7 (Dense)             (None, 512)               262656    \n",
      "                                                                 \n",
      " dense_8 (Dense)             (None, 3)                 1539      \n",
      "                                                                 \n",
      "=================================================================\n",
      "Total params: 9,515,723\n",
      "Trainable params: 747,523\n",
      "Non-trainable params: 8,768,200\n",
      "_________________________________________________________________\n",
      "Epoch 1/10\n",
      "544/544 [==============================] - ETA: 0s - loss: 0.8018 - accuracy: 0.6268\n",
      "Epoch 1: saving model to tmp/checkpoint\\model_gru.hdf5\n",
      "\n",
      "Epoch 1: val_accuracy improved from -inf to 0.71799, saving model to tmp/checkpoint\\model_gruAcc.hdf5\n",
      "\n",
      "Epoch 1: val_loss improved from inf to 0.64880, saving model to tmp/checkpoint\\model_gruLoss.hdf5\n",
      "544/544 [==============================] - 7s 11ms/step - loss: 0.8018 - accuracy: 0.6268 - val_loss: 0.6488 - val_accuracy: 0.7180\n",
      "Epoch 2/10\n",
      "537/544 [============================>.] - ETA: 0s - loss: 0.6190 - accuracy: 0.7332\n",
      "Epoch 2: saving model to tmp/checkpoint\\model_gru.hdf5\n",
      "\n",
      "Epoch 2: val_accuracy improved from 0.71799 to 0.74094, saving model to tmp/checkpoint\\model_gruAcc.hdf5\n",
      "\n",
      "Epoch 2: val_loss improved from 0.64880 to 0.59236, saving model to tmp/checkpoint\\model_gruLoss.hdf5\n",
      "544/544 [==============================] - 6s 10ms/step - loss: 0.6185 - accuracy: 0.7332 - val_loss: 0.5924 - val_accuracy: 0.7409\n",
      "Epoch 3/10\n",
      "537/544 [============================>.] - ETA: 0s - loss: 0.5374 - accuracy: 0.7678\n",
      "Epoch 3: saving model to tmp/checkpoint\\model_gru.hdf5\n",
      "\n",
      "Epoch 3: val_accuracy improved from 0.74094 to 0.74752, saving model to tmp/checkpoint\\model_gruAcc.hdf5\n",
      "\n",
      "Epoch 3: val_loss improved from 0.59236 to 0.58747, saving model to tmp/checkpoint\\model_gruLoss.hdf5\n",
      "544/544 [==============================] - 6s 10ms/step - loss: 0.5370 - accuracy: 0.7681 - val_loss: 0.5875 - val_accuracy: 0.7475\n",
      "Epoch 4/10\n",
      "539/544 [============================>.] - ETA: 0s - loss: 0.4588 - accuracy: 0.8037\n",
      "Epoch 4: saving model to tmp/checkpoint\\model_gru.hdf5\n",
      "\n",
      "Epoch 4: val_accuracy improved from 0.74752 to 0.75477, saving model to tmp/checkpoint\\model_gruAcc.hdf5\n",
      "\n",
      "Epoch 4: val_loss improved from 0.58747 to 0.57536, saving model to tmp/checkpoint\\model_gruLoss.hdf5\n",
      "544/544 [==============================] - 6s 11ms/step - loss: 0.4591 - accuracy: 0.8036 - val_loss: 0.5754 - val_accuracy: 0.7548\n",
      "Epoch 5/10\n",
      "539/544 [============================>.] - ETA: 0s - loss: 0.3801 - accuracy: 0.8362\n",
      "Epoch 5: saving model to tmp/checkpoint\\model_gru.hdf5\n",
      "\n",
      "Epoch 5: val_accuracy improved from 0.75477 to 0.76416, saving model to tmp/checkpoint\\model_gruAcc.hdf5\n",
      "\n",
      "Epoch 5: val_loss did not improve from 0.57536\n",
      "544/544 [==============================] - 6s 10ms/step - loss: 0.3799 - accuracy: 0.8364 - val_loss: 0.5867 - val_accuracy: 0.7642\n",
      "Epoch 6/10\n",
      "544/544 [==============================] - ETA: 0s - loss: 0.2927 - accuracy: 0.8756\n",
      "Epoch 6: saving model to tmp/checkpoint\\model_gru.hdf5\n",
      "\n",
      "Epoch 6: val_accuracy did not improve from 0.76416\n",
      "\n",
      "Epoch 6: val_loss did not improve from 0.57536\n",
      "544/544 [==============================] - 5s 9ms/step - loss: 0.2927 - accuracy: 0.8756 - val_loss: 0.6858 - val_accuracy: 0.7612\n",
      "Epoch 7/10\n",
      "538/544 [============================>.] - ETA: 0s - loss: 0.2014 - accuracy: 0.9184\n",
      "Epoch 7: saving model to tmp/checkpoint\\model_gru.hdf5\n",
      "\n",
      "Epoch 7: val_accuracy did not improve from 0.76416\n",
      "\n",
      "Epoch 7: val_loss did not improve from 0.57536\n",
      "544/544 [==============================] - 5s 10ms/step - loss: 0.2020 - accuracy: 0.9182 - val_loss: 0.8696 - val_accuracy: 0.7623\n",
      "Epoch 8/10\n",
      "540/544 [============================>.] - ETA: 0s - loss: 0.1358 - accuracy: 0.9469\n",
      "Epoch 8: saving model to tmp/checkpoint\\model_gru.hdf5\n",
      "\n",
      "Epoch 8: val_accuracy did not improve from 0.76416\n",
      "\n",
      "Epoch 8: val_loss did not improve from 0.57536\n",
      "544/544 [==============================] - 5s 9ms/step - loss: 0.1355 - accuracy: 0.9470 - val_loss: 0.9308 - val_accuracy: 0.7566\n",
      "Epoch 9/10\n",
      "537/544 [============================>.] - ETA: 0s - loss: 0.0783 - accuracy: 0.9724\n",
      "Epoch 9: saving model to tmp/checkpoint\\model_gru.hdf5\n",
      "\n",
      "Epoch 9: val_accuracy did not improve from 0.76416\n",
      "\n",
      "Epoch 9: val_loss did not improve from 0.57536\n",
      "544/544 [==============================] - 5s 9ms/step - loss: 0.0792 - accuracy: 0.9720 - val_loss: 1.1710 - val_accuracy: 0.7517\n",
      "Epoch 10/10\n",
      "543/544 [============================>.] - ETA: 0s - loss: 0.0626 - accuracy: 0.9781\n",
      "Epoch 10: saving model to tmp/checkpoint\\model_gru.hdf5\n",
      "\n",
      "Epoch 10: val_accuracy did not improve from 0.76416\n",
      "\n",
      "Epoch 10: val_loss did not improve from 0.57536\n",
      "544/544 [==============================] - 5s 9ms/step - loss: 0.0626 - accuracy: 0.9781 - val_loss: 1.3551 - val_accuracy: 0.7581\n",
      "233/233 [==============================] - 1s 3ms/step\n",
      "              precision    recall  f1-score   support\n",
      "\n",
      "           0       0.69      0.77      0.72      2459\n",
      "           1       0.86      0.83      0.84      2492\n",
      "           2       0.74      0.68      0.71      2499\n",
      "\n",
      "    accuracy                           0.76      7450\n",
      "   macro avg       0.76      0.76      0.76      7450\n",
      "weighted avg       0.76      0.76      0.76      7450\n",
      "\n"
     ]
    }
   ],
   "source": [
    "model_gru = build_model(nb_words, \"GRU\", embedding_matrix)\n",
    "model_gru.summary()\n",
    "checkpoint = tf.keras.callbacks.ModelCheckpoint('tmp/checkpoint/model_gru.hdf5',verbose=True)\n",
    "getAcc = tf.keras.callbacks.ModelCheckpoint('tmp/checkpoint/model_gruAcc.hdf5',verbose=True,save_best_only=True,monitor='val_accuracy')\n",
    "getLoss = tf.keras.callbacks.ModelCheckpoint('tmp/checkpoint/model_gruLoss.hdf5',verbose=True,save_best_only=True,monitor='val_loss')\n",
    "model_gru_history = model_gru.fit(x_train, y_train, \n",
    "                                                epochs=10, \n",
    "                                                validation_data=(x_test, y_test), \n",
    "                                                callbacks=[checkpoint,getAcc,getLoss, \n",
    "                                                EarlyStopping(monitor='val_accuracy', mode='max',patience=5)])\n",
    "\n",
    "predictions = model_gru.predict(x_test)\n",
    "predictions = predictions.argmax(axis=1)\n",
    "print(classification_report(y_test.argmax(axis=1), predictions))\n"
   ]
  },
  {
   "cell_type": "code",
   "execution_count": 32,
   "metadata": {},
   "outputs": [
    {
     "name": "stdout",
     "output_type": "stream",
     "text": [
      "233/233 [==============================] - 1s 4ms/step - loss: 1.3551 - accuracy: 0.7581\n",
      "[1.3551092147827148, 0.7581208348274231]\n",
      "233/233 [==============================] - 1s 4ms/step - loss: 0.5867 - accuracy: 0.7642\n",
      "233/233 [==============================] - 1s 4ms/step - loss: 0.5754 - accuracy: 0.7548\n",
      "Best Acc Test Loss: 0.5866889357566833\n",
      "Best Acc Test Accuracy: 76.42 %\n",
      "Best Loss Test Loss: 0.5753612518310547\n",
      "Best Loss Test Accuracy: 75.48 %\n"
     ]
    }
   ],
   "source": [
    "# evaluating baseline coarse model\n",
    "print(model_gru.evaluate(x_test, y_test))\n",
    "model_gru.load_weights('tmp/checkpoint/model_gruAcc.hdf5')\n",
    "scoreAcc = model_gru.evaluate(x_test, y_test)\n",
    "model_gru.load_weights('tmp/checkpoint/model_gruLoss.hdf5')\n",
    "scoreLoss = model_gru.evaluate(x_test, y_test)\n",
    "print('Best Acc Test Loss:', scoreAcc[0])\n",
    "print('Best Acc Test Accuracy:', round(scoreAcc[1],4)*100,'%')\n",
    "print('Best Loss Test Loss:', scoreLoss[0])\n",
    "print('Best Loss Test Accuracy:', round(scoreLoss[1],4)*100,'%')"
   ]
  },
  {
   "cell_type": "code",
   "execution_count": 33,
   "metadata": {},
   "outputs": [
    {
     "data": {
      "image/png": "[encoded data removed]",
      "text/plain": [
       "<Figure size 1000x300 with 1 Axes>"
      ]
     },
     "metadata": {},
     "output_type": "display_data"
    },
    {
     "data": {
      "image/png": "[encoded data removed]",
      "text/plain": [
       "<Figure size 1000x300 with 1 Axes>"
      ]
     },
     "metadata": {},
     "output_type": "display_data"
    }
   ],
   "source": [
    "max_val_acc_epoch = np.argmax(list(model_gru_history.history['val_accuracy']))+1\n",
    "max_val_loss_epoch = np.argmin(list(model_gru_history.history['val_loss']))+1\n",
    "epochs = range(1, len(model_gru_history.history['accuracy']) + 1)\n",
    "plt.figure(figsize=(10,3))\n",
    "plt.minorticks_on()\n",
    "plt.axvline(x=max_val_acc_epoch, color='0.5', linestyle='--')\n",
    "plt.axvline(x=max_val_loss_epoch, color='0.5', linestyle=':')\n",
    "plt.plot(epochs,model_gru_history.history['accuracy'], label='Train')\n",
    "plt.plot(epochs,model_gru_history.history['val_accuracy'], label='Validation')\n",
    "plt.xlabel('Epochs')\n",
    "plt.ylabel('Accuracy')\n",
    "plt.legend()\n",
    "plt.show()\n",
    "\n",
    "plt.figure(figsize=(10,3))\n",
    "plt.minorticks_on()\n",
    "plt.axvline(x=max_val_acc_epoch, color='0.5', linestyle='--')\n",
    "plt.axvline(x=max_val_loss_epoch, color='0.5', linestyle=':')\n",
    "plt.plot(epochs,model_gru_history.history['loss'], label='Train')\n",
    "plt.plot(epochs,model_gru_history.history['val_loss'], label='Validation')\n",
    "plt.xlabel('Epochs')\n",
    "plt.ylabel('Loss')\n",
    "plt.legend()\n",
    "plt.show()"
   ]
  },
  {
   "cell_type": "code",
   "execution_count": 34,
   "metadata": {},
   "outputs": [],
   "source": [
    "# import visualkeras\n",
    "# from PIL import ImageFont\n",
    "# visualkeras.layered_view(model_gru, legend=True)"
   ]
  },
  {
   "cell_type": "code",
   "execution_count": 35,
   "metadata": {},
   "outputs": [],
   "source": [
    "# model_gru.save_weights(\"models/model-gru.h5\")"
   ]
  },
  {
   "cell_type": "markdown",
   "metadata": {},
   "source": [
    "### Using a non-deep learning model (TFIDF vectorization) and other effective, traditional machine learning models"
   ]
  },
  {
   "cell_type": "code",
   "execution_count": 36,
   "metadata": {},
   "outputs": [
    {
     "data": {
      "text/html": [
       "<div>\n",
       "<style scoped>\n",
       "    .dataframe tbody tr th:only-of-type {\n",
       "        vertical-align: middle;\n",
       "    }\n",
       "\n",
       "    .dataframe tbody tr th {\n",
       "        vertical-align: top;\n",
       "    }\n",
       "\n",
       "    .dataframe thead th {\n",
       "        text-align: right;\n",
       "    }\n",
       "</style>\n",
       "<table border=\"1\" class=\"dataframe\">\n",
       "  <thead>\n",
       "    <tr style=\"text-align: right;\">\n",
       "      <th></th>\n",
       "      <th>clean_comment</th>\n",
       "      <th>category</th>\n",
       "    </tr>\n",
       "  </thead>\n",
       "  <tbody>\n",
       "    <tr>\n",
       "      <th>17760</th>\n",
       "      <td>next target baby steps bois</td>\n",
       "      <td>0</td>\n",
       "    </tr>\n",
       "    <tr>\n",
       "      <th>30969</th>\n",
       "      <td>just wondering that major newspaper india who ...</td>\n",
       "      <td>1</td>\n",
       "    </tr>\n",
       "    <tr>\n",
       "      <th>16700</th>\n",
       "      <td>there akshay mallika dua controversy just mean...</td>\n",
       "      <td>1</td>\n",
       "    </tr>\n",
       "    <tr>\n",
       "      <th>20286</th>\n",
       "      <td>you wanted his attention you should have trie...</td>\n",
       "      <td>-1</td>\n",
       "    </tr>\n",
       "    <tr>\n",
       "      <th>35144</th>\n",
       "      <td>negeturv 印度绝对是大的威胁。四十年前改革开放你觉得中国人口素质是什么样子的，搞制...</td>\n",
       "      <td>0</td>\n",
       "    </tr>\n",
       "    <tr>\n",
       "      <th>...</th>\n",
       "      <td>...</td>\n",
       "      <td>...</td>\n",
       "    </tr>\n",
       "    <tr>\n",
       "      <th>10041</th>\n",
       "      <td>team standard start jordan howard rishard mat...</td>\n",
       "      <td>0</td>\n",
       "    </tr>\n",
       "    <tr>\n",
       "      <th>24270</th>\n",
       "      <td>mast hain bhai bjp cell yogi amit shah mehaboo...</td>\n",
       "      <td>1</td>\n",
       "    </tr>\n",
       "    <tr>\n",
       "      <th>10677</th>\n",
       "      <td>yes who should vote for not modi raga kejri lol</td>\n",
       "      <td>1</td>\n",
       "    </tr>\n",
       "    <tr>\n",
       "      <th>1267</th>\n",
       "      <td>given the prevailing currents this region the ...</td>\n",
       "      <td>0</td>\n",
       "    </tr>\n",
       "    <tr>\n",
       "      <th>24934</th>\n",
       "      <td>all because modi kick him the balls man</td>\n",
       "      <td>0</td>\n",
       "    </tr>\n",
       "  </tbody>\n",
       "</table>\n",
       "<p>24831 rows × 2 columns</p>\n",
       "</div>"
      ],
      "text/plain": [
       "                                           clean_comment  category\n",
       "17760                       next target baby steps bois          0\n",
       "30969  just wondering that major newspaper india who ...         1\n",
       "16700  there akshay mallika dua controversy just mean...         1\n",
       "20286   you wanted his attention you should have trie...        -1\n",
       "35144   negeturv 印度绝对是大的威胁。四十年前改革开放你觉得中国人口素质是什么样子的，搞制...         0\n",
       "...                                                  ...       ...\n",
       "10041   team standard start jordan howard rishard mat...         0\n",
       "24270  mast hain bhai bjp cell yogi amit shah mehaboo...         1\n",
       "10677    yes who should vote for not modi raga kejri lol         1\n",
       "1267   given the prevailing currents this region the ...         0\n",
       "24934            all because modi kick him the balls man         0\n",
       "\n",
       "[24831 rows x 2 columns]"
      ]
     },
     "execution_count": 36,
     "metadata": {},
     "output_type": "execute_result"
    }
   ],
   "source": [
    "data"
   ]
  },
  {
   "cell_type": "code",
   "execution_count": 37,
   "metadata": {},
   "outputs": [],
   "source": [
    "from sklearn.model_selection import train_test_split\n",
    "\n",
    "x = data['clean_comment'].astype('str')\n",
    "y = data['category']\n",
    "\n",
    "x_train, x_test, y_train, y_test = train_test_split(x, y, test_size=0.2, random_state=42)"
   ]
  },
  {
   "cell_type": "code",
   "execution_count": 38,
   "metadata": {},
   "outputs": [
    {
     "data": {
      "text/plain": [
       "((19864, 10000), (4967, 10000))"
      ]
     },
     "execution_count": 38,
     "metadata": {},
     "output_type": "execute_result"
    }
   ],
   "source": [
    "from sklearn.feature_extraction.text import TfidfVectorizer\n",
    "\n",
    "vectorizer = TfidfVectorizer(max_features=10000, ngram_range=(1,2))\n",
    "x_train_vec = vectorizer.fit_transform(x_train)\n",
    "x_test_vec = vectorizer.transform(x_test)\n",
    "\n",
    "x_train_vec.shape, x_test_vec.shape "
   ]
  },
  {
   "cell_type": "markdown",
   "metadata": {},
   "source": [
    "## RandomForestClassifier"
   ]
  },
  {
   "cell_type": "code",
   "execution_count": 39,
   "metadata": {},
   "outputs": [
    {
     "name": "stdout",
     "output_type": "stream",
     "text": [
      "              precision    recall  f1-score   support\n",
      "\n",
      "          -1       0.72      0.69      0.71      1632\n",
      "           0       0.79      0.90      0.84      1682\n",
      "           1       0.79      0.71      0.75      1653\n",
      "\n",
      "    accuracy                           0.77      4967\n",
      "   macro avg       0.77      0.77      0.77      4967\n",
      "weighted avg       0.77      0.77      0.77      4967\n",
      "\n"
     ]
    }
   ],
   "source": [
    "from sklearn.ensemble import RandomForestClassifier\n",
    "\n",
    "model_rf = RandomForestClassifier()\n",
    "model_rf.fit(x_train_vec, y_train)\n",
    "model_rf.score(x_test_vec, y_test)\n",
    "\n",
    "predictions = model_rf.predict(x_test_vec)\n",
    "print(classification_report(y_test, predictions))"
   ]
  },
  {
   "cell_type": "code",
   "execution_count": 40,
   "metadata": {},
   "outputs": [
    {
     "data": {
      "text/plain": [
       "<sklearn.metrics._plot.confusion_matrix.ConfusionMatrixDisplay at 0x23896b03c70>"
      ]
     },
     "execution_count": 40,
     "metadata": {},
     "output_type": "execute_result"
    },
    {
     "data": {
      "image/png": "[encoded data removed]",
      "text/plain": [
       "<Figure size 640x480 with 2 Axes>"
      ]
     },
     "metadata": {},
     "output_type": "display_data"
    }
   ],
   "source": [
    "cm = confusion_matrix(y_test, predictions, labels=model_rf.classes_)\n",
    "disp = ConfusionMatrixDisplay(confusion_matrix=cm, display_labels=model_rf.classes_)\n",
    "disp.plot()\n"
   ]
  },
  {
   "cell_type": "markdown",
   "metadata": {},
   "source": [
    "## Logistic Regression"
   ]
  },
  {
   "cell_type": "code",
   "execution_count": 41,
   "metadata": {},
   "outputs": [
    {
     "name": "stdout",
     "output_type": "stream",
     "text": [
      "              precision    recall  f1-score   support\n",
      "\n",
      "          -1       0.83      0.81      0.82      1632\n",
      "           0       0.84      0.93      0.88      1682\n",
      "           1       0.87      0.78      0.82      1653\n",
      "\n",
      "    accuracy                           0.84      4967\n",
      "   macro avg       0.84      0.84      0.84      4967\n",
      "weighted avg       0.84      0.84      0.84      4967\n",
      "\n"
     ]
    },
    {
     "name": "stderr",
     "output_type": "stream",
     "text": [
      "c:\\Users\\P2100803\\.conda\\envs\\gpu\\lib\\site-packages\\sklearn\\linear_model\\_logistic.py:444: ConvergenceWarning: lbfgs failed to converge (status=1):\n",
      "STOP: TOTAL NO. of ITERATIONS REACHED LIMIT.\n",
      "\n",
      "Increase the number of iterations (max_iter) or scale the data as shown in:\n",
      "    https://scikit-learn.org/stable/modules/preprocessing.html\n",
      "Please also refer to the documentation for alternative solver options:\n",
      "    https://scikit-learn.org/stable/modules/linear_model.html#logistic-regression\n",
      "  n_iter_i = _check_optimize_result(\n"
     ]
    }
   ],
   "source": [
    "from sklearn.linear_model import LogisticRegression\n",
    "\n",
    "model_lr = LogisticRegression()\n",
    "model_lr.fit(x_train_vec, y_train)\n",
    "model_lr.score(x_test_vec, y_test)\n",
    "\n",
    "predictions = model_lr.predict(x_test_vec)\n",
    "print(classification_report(y_test, predictions))"
   ]
  },
  {
   "cell_type": "code",
   "execution_count": 42,
   "metadata": {},
   "outputs": [
    {
     "data": {
      "text/plain": [
       "<sklearn.metrics._plot.confusion_matrix.ConfusionMatrixDisplay at 0x2389678aac0>"
      ]
     },
     "execution_count": 42,
     "metadata": {},
     "output_type": "execute_result"
    },
    {
     "data": {
      "image/png": "[encoded data removed]",
      "text/plain": [
       "<Figure size 640x480 with 2 Axes>"
      ]
     },
     "metadata": {},
     "output_type": "display_data"
    }
   ],
   "source": [
    "cm = confusion_matrix(y_test, predictions, labels=model_lr.classes_)\n",
    "disp = ConfusionMatrixDisplay(confusion_matrix=cm, display_labels=model_lr.classes_)\n",
    "disp.plot()\n"
   ]
  }
 ],
 "metadata": {
  "kernelspec": {
   "display_name": "Python 3.8.0 ('gpu')",
   "language": "python",
   "name": "python3"
  },
  "language_info": {
   "codemirror_mode": {
    "name": "ipython",
    "version": 3
   },
   "file_extension": ".py",
   "mimetype": "text/x-python",
   "name": "python",
   "nbconvert_exporter": "python",
   "pygments_lexer": "ipython3",
   "version": "3.8.0"
  },
  "vscode": {
   "interpreter": {
    "hash": "bd4f7ede50eb7504ff6f94ef0359606f4c410f2a995fbf953c94beba73ff6ab6"
   }
  }
 },
 "nbformat": 4,
 "nbformat_minor": 4
}
