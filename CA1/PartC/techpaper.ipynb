{
 "cells": [
  {
   "cell_type": "markdown",
   "metadata": {},
   "source": [
    "# ST1504 Deep Learning CA1 Part C\n",
    "\n",
    "### RNN, LSTM and GRU models applied to Sentiment Analysis for comparison on efficiency and test accuracy\n",
    "\n",
    "### Name: Haja Amir Rahman\n",
    "### Class: DAAA/FT?2B/06\n",
    "### Admin Number: P2100803\n",
    "\n",
    "### References: \n",
    "\n",
    "- [Using GloVe and Pretrained Embedding layers](https://haochen23.github.io/2020/01/nlp-rnn-sentiment.html#.Y3sIcXZByUk)"
   ]
  },
  {
   "cell_type": "code",
   "execution_count": 1,
   "metadata": {},
   "outputs": [
    {
     "data": {
      "text/plain": [
       "[PhysicalDevice(name='/physical_device:GPU:0', device_type='GPU')]"
      ]
     },
     "execution_count": 1,
     "metadata": {},
     "output_type": "execute_result"
    }
   ],
   "source": [
    "import tensorflow as tf\n",
    "\n",
    "tf.config.list_physical_devices('GPU')"
   ]
  },
  {
   "cell_type": "code",
   "execution_count": 2,
   "metadata": {},
   "outputs": [],
   "source": [
    "import tensorflow.keras\n",
    "from tensorflow.keras.models import Sequential\n",
    "from tensorflow.keras.layers import InputLayer, Dense, SimpleRNN, Activation, Dropout, Conv1D\n",
    "from tensorflow.keras.layers import Embedding, Flatten, LSTM, GRU\n",
    "from tensorflow.keras.preprocessing.text import Tokenizer\n",
    "from tensorflow.keras.preprocessing.sequence import pad_sequences\n",
    "from tensorflow.keras.callbacks import EarlyStopping\n",
    "import pandas as pd\n",
    "import numpy as np\n",
    "import spacy\n",
    "import matplotlib.pyplot as plt\n",
    "from sklearn.metrics import classification_report\n",
    "from sklearn.metrics import confusion_matrix\n",
    "from sklearn.metrics import ConfusionMatrixDisplay\n",
    "# https://haochen23.github.io/2020/01/nlp-rnn-sentiment.html#.Y3sIcXZByUk"
   ]
  },
  {
   "cell_type": "code",
   "execution_count": 3,
   "metadata": {},
   "outputs": [
    {
     "data": {
      "text/html": [
       "<div>\n",
       "<style scoped>\n",
       "    .dataframe tbody tr th:only-of-type {\n",
       "        vertical-align: middle;\n",
       "    }\n",
       "\n",
       "    .dataframe tbody tr th {\n",
       "        vertical-align: top;\n",
       "    }\n",
       "\n",
       "    .dataframe thead th {\n",
       "        text-align: right;\n",
       "    }\n",
       "</style>\n",
       "<table border=\"1\" class=\"dataframe\">\n",
       "  <thead>\n",
       "    <tr style=\"text-align: right;\">\n",
       "      <th></th>\n",
       "      <th>clean_comment</th>\n",
       "      <th>category</th>\n",
       "    </tr>\n",
       "  </thead>\n",
       "  <tbody>\n",
       "    <tr>\n",
       "      <th>0</th>\n",
       "      <td>family mormon have never tried explain them t...</td>\n",
       "      <td>1</td>\n",
       "    </tr>\n",
       "    <tr>\n",
       "      <th>1</th>\n",
       "      <td>buddhism has very much lot compatible with chr...</td>\n",
       "      <td>1</td>\n",
       "    </tr>\n",
       "    <tr>\n",
       "      <th>2</th>\n",
       "      <td>seriously don say thing first all they won get...</td>\n",
       "      <td>-1</td>\n",
       "    </tr>\n",
       "    <tr>\n",
       "      <th>3</th>\n",
       "      <td>what you have learned yours and only yours wha...</td>\n",
       "      <td>0</td>\n",
       "    </tr>\n",
       "    <tr>\n",
       "      <th>4</th>\n",
       "      <td>for your own benefit you may want read living ...</td>\n",
       "      <td>1</td>\n",
       "    </tr>\n",
       "    <tr>\n",
       "      <th>...</th>\n",
       "      <td>...</td>\n",
       "      <td>...</td>\n",
       "    </tr>\n",
       "    <tr>\n",
       "      <th>37244</th>\n",
       "      <td>jesus</td>\n",
       "      <td>0</td>\n",
       "    </tr>\n",
       "    <tr>\n",
       "      <th>37245</th>\n",
       "      <td>kya bhai pure saal chutiya banaya modi aur jab...</td>\n",
       "      <td>1</td>\n",
       "    </tr>\n",
       "    <tr>\n",
       "      <th>37246</th>\n",
       "      <td>downvote karna tha par upvote hogaya</td>\n",
       "      <td>0</td>\n",
       "    </tr>\n",
       "    <tr>\n",
       "      <th>37247</th>\n",
       "      <td>haha nice</td>\n",
       "      <td>1</td>\n",
       "    </tr>\n",
       "    <tr>\n",
       "      <th>37248</th>\n",
       "      <td>facebook itself now working bjp’ cell</td>\n",
       "      <td>0</td>\n",
       "    </tr>\n",
       "  </tbody>\n",
       "</table>\n",
       "<p>37249 rows × 2 columns</p>\n",
       "</div>"
      ],
      "text/plain": [
       "                                           clean_comment  category\n",
       "0       family mormon have never tried explain them t...         1\n",
       "1      buddhism has very much lot compatible with chr...         1\n",
       "2      seriously don say thing first all they won get...        -1\n",
       "3      what you have learned yours and only yours wha...         0\n",
       "4      for your own benefit you may want read living ...         1\n",
       "...                                                  ...       ...\n",
       "37244                                              jesus         0\n",
       "37245  kya bhai pure saal chutiya banaya modi aur jab...         1\n",
       "37246              downvote karna tha par upvote hogaya          0\n",
       "37247                                         haha nice          1\n",
       "37248             facebook itself now working bjp’ cell          0\n",
       "\n",
       "[37249 rows x 2 columns]"
      ]
     },
     "execution_count": 3,
     "metadata": {},
     "output_type": "execute_result"
    }
   ],
   "source": [
    "import ssl\n",
    "ssl._create_default_https_context = ssl._create_unverified_context\n",
    "\n",
    "# data = pd.read_csv(\"https://raw.githubusercontent.com/haochen23/nlp-rnn-lstm-sentiment/master/training.1600000.processed.noemoticon.csv\", header=None, encoding='cp437')\n",
    "# print(\"The shape of the original dataset is {}\".format(data.shape))\n",
    "# data\n",
    "\n",
    "raw = pd.read_csv('data/Reddit_Data.csv')\n",
    "raw"
   ]
  },
  {
   "cell_type": "code",
   "execution_count": 4,
   "metadata": {},
   "outputs": [
    {
     "data": {
      "text/plain": [
       " 1    15830\n",
       " 0    13142\n",
       "-1     8277\n",
       "Name: category, dtype: int64"
      ]
     },
     "execution_count": 4,
     "metadata": {},
     "output_type": "execute_result"
    }
   ],
   "source": [
    "raw['category'].value_counts()"
   ]
  },
  {
   "cell_type": "code",
   "execution_count": 5,
   "metadata": {},
   "outputs": [
    {
     "data": {
      "text/html": [
       "<div>\n",
       "<style scoped>\n",
       "    .dataframe tbody tr th:only-of-type {\n",
       "        vertical-align: middle;\n",
       "    }\n",
       "\n",
       "    .dataframe tbody tr th {\n",
       "        vertical-align: top;\n",
       "    }\n",
       "\n",
       "    .dataframe thead th {\n",
       "        text-align: right;\n",
       "    }\n",
       "</style>\n",
       "<table border=\"1\" class=\"dataframe\">\n",
       "  <thead>\n",
       "    <tr style=\"text-align: right;\">\n",
       "      <th></th>\n",
       "      <th>clean_comment</th>\n",
       "      <th>category</th>\n",
       "    </tr>\n",
       "  </thead>\n",
       "  <tbody>\n",
       "    <tr>\n",
       "      <th>5779</th>\n",
       "      <td>couldn agree more with the author media not tr...</td>\n",
       "      <td>-1</td>\n",
       "    </tr>\n",
       "    <tr>\n",
       "      <th>23336</th>\n",
       "      <td>question here why constraintlayout much force...</td>\n",
       "      <td>-1</td>\n",
       "    </tr>\n",
       "    <tr>\n",
       "      <th>1341</th>\n",
       "      <td>the elephant the room that more than likely no...</td>\n",
       "      <td>-1</td>\n",
       "    </tr>\n",
       "    <tr>\n",
       "      <th>34174</th>\n",
       "      <td>didn answer important questions top netas</td>\n",
       "      <td>1</td>\n",
       "    </tr>\n",
       "    <tr>\n",
       "      <th>26542</th>\n",
       "      <td>just because you can read president doesn mean...</td>\n",
       "      <td>-1</td>\n",
       "    </tr>\n",
       "    <tr>\n",
       "      <th>...</th>\n",
       "      <td>...</td>\n",
       "      <td>...</td>\n",
       "    </tr>\n",
       "    <tr>\n",
       "      <th>22784</th>\n",
       "      <td>dėl būsto norint kažkiek sutaupyti patariu žiū...</td>\n",
       "      <td>0</td>\n",
       "    </tr>\n",
       "    <tr>\n",
       "      <th>26934</th>\n",
       "      <td>can the fans start milk abhishekam already the...</td>\n",
       "      <td>0</td>\n",
       "    </tr>\n",
       "    <tr>\n",
       "      <th>31300</th>\n",
       "      <td>not banned yet source cousin mine lives rajkot</td>\n",
       "      <td>0</td>\n",
       "    </tr>\n",
       "    <tr>\n",
       "      <th>34278</th>\n",
       "      <td>wonder was crying itna paisa khilaake bechara...</td>\n",
       "      <td>-1</td>\n",
       "    </tr>\n",
       "    <tr>\n",
       "      <th>10444</th>\n",
       "      <td>conflicted about how feel about this guy othe...</td>\n",
       "      <td>-1</td>\n",
       "    </tr>\n",
       "  </tbody>\n",
       "</table>\n",
       "<p>24831 rows × 2 columns</p>\n",
       "</div>"
      ],
      "text/plain": [
       "                                           clean_comment  category\n",
       "5779   couldn agree more with the author media not tr...        -1\n",
       "23336   question here why constraintlayout much force...        -1\n",
       "1341   the elephant the room that more than likely no...        -1\n",
       "34174          didn answer important questions top netas         1\n",
       "26542  just because you can read president doesn mean...        -1\n",
       "...                                                  ...       ...\n",
       "22784  dėl būsto norint kažkiek sutaupyti patariu žiū...         0\n",
       "26934  can the fans start milk abhishekam already the...         0\n",
       "31300    not banned yet source cousin mine lives rajkot          0\n",
       "34278   wonder was crying itna paisa khilaake bechara...        -1\n",
       "10444   conflicted about how feel about this guy othe...        -1\n",
       "\n",
       "[24831 rows x 2 columns]"
      ]
     },
     "execution_count": 5,
     "metadata": {},
     "output_type": "execute_result"
    }
   ],
   "source": [
    "NUM = 8277\n",
    "\n",
    "positive = raw[raw['category']==1].sample(8277)\n",
    "neutral = raw[raw['category']==0].sample(8277)\n",
    "negative = raw[raw['category']==-1].sample(8277)\n",
    "\n",
    "data = pd.concat([positive, neutral, negative], axis=0).sample(frac=1)\n",
    "# positive.shape, neutral.shape, negative.shape\n",
    "\n",
    "data"
   ]
  },
  {
   "cell_type": "code",
   "execution_count": 6,
   "metadata": {},
   "outputs": [],
   "source": [
    "def load_glove_model(glove_file, encoding='iso-8859-1'):\n",
    "    print(\"[INFO]Loading GloVe Model...\")\n",
    "    model = {}\n",
    "    with open(glove_file, 'r', encoding=encoding) as f:\n",
    "        for line in f:\n",
    "            split_line = line.split()\n",
    "            word = split_line[0]\n",
    "            embeddings = [float(val) for val in split_line[1:]]\n",
    "            model[word] = embeddings\n",
    "    print(\"[INFO] Done...{} words loaded!\".format(len(model)))\n",
    "    return model\n",
    "# adopted from utils.py\n",
    "nlp = spacy.blank(\"en\")\n",
    "\n",
    "def remove_stopwords(sentence):\n",
    "    '''\n",
    "    function to remove stopwords\n",
    "        input: sentence - string of sentence\n",
    "    '''\n",
    "    new = []\n",
    "    # tokenize sentence\n",
    "    sentence = nlp(sentence)\n",
    "    for tk in sentence:\n",
    "        if (tk.is_stop == False) & (tk.pos_ !=\"PUNCT\"):\n",
    "            new.append(tk.string.strip())\n",
    "    # convert back to sentence string\n",
    "    c = \" \".join(str(x) for x in new)\n",
    "    return c\n",
    "\n",
    "\n",
    "def lemmatize(sentence):\n",
    "    '''\n",
    "    function to do lemmatization\n",
    "        input: sentence - string of sentence\n",
    "    '''\n",
    "    sentence = nlp(sentence)\n",
    "    s = \"\"\n",
    "    for w in sentence:\n",
    "        s +=\" \"+w.lemma_\n",
    "    return nlp(s)\n",
    "\n",
    "def sent_vectorizer(sent, model):\n",
    "    '''\n",
    "    sentence vectorizer using the pretrained glove model\n",
    "    '''\n",
    "    sent_vector = np.zeros(200)\n",
    "    num_w = 0\n",
    "    for w in sent.split():\n",
    "        try:\n",
    "            # add up all token vectors to a sent_vector\n",
    "            sent_vector = np.add(sent_vector, model[str(w)])\n",
    "            num_w += 1\n",
    "        except:\n",
    "            pass\n",
    "    return sent_vector"
   ]
  },
  {
   "cell_type": "code",
   "execution_count": 7,
   "metadata": {},
   "outputs": [
    {
     "data": {
      "text/plain": [
       "((24831,), (24831, 3))"
      ]
     },
     "execution_count": 7,
     "metadata": {},
     "output_type": "execute_result"
    }
   ],
   "source": [
    "data_X = data['clean_comment'].to_numpy().astype('str')\n",
    "data_y = data['category']\n",
    "data_y = pd.get_dummies(data_y).to_numpy()\n",
    "\n",
    "data_X.shape, data_y.shape"
   ]
  },
  {
   "cell_type": "code",
   "execution_count": 8,
   "metadata": {},
   "outputs": [
    {
     "name": "stdout",
     "output_type": "stream",
     "text": [
      "[INFO]Loading GloVe Model...\n",
      "[INFO] Done...1193514 words loaded!\n"
     ]
    }
   ],
   "source": [
    "# load the glove model\n",
    "glove_model = load_glove_model(\"glove.twitter.27B.200d.txt\", encoding='utf-8')\n",
    "# number of vocab to keep\n",
    "max_vocab = 18000\n",
    "# length of sequence that will generate\n",
    "max_len = 15\n",
    "\n",
    "tokenizer = Tokenizer(num_words=max_vocab)"
   ]
  },
  {
   "cell_type": "code",
   "execution_count": 9,
   "metadata": {},
   "outputs": [
    {
     "name": "stdout",
     "output_type": "stream",
     "text": [
      "Found 44226 unique tokens.\n"
     ]
    },
    {
     "data": {
      "text/plain": [
       "(24831, 15)"
      ]
     },
     "execution_count": 9,
     "metadata": {},
     "output_type": "execute_result"
    }
   ],
   "source": [
    "tokenizer.fit_on_texts(data_X)\n",
    "sequences = tokenizer.texts_to_sequences(data_X)\n",
    "word_index = tokenizer.word_index\n",
    "print('Found %s unique tokens.' % len(word_index))\n",
    "data_keras = pad_sequences(sequences, maxlen=max_len, padding=\"post\")\n",
    "\n",
    "data_keras.shape"
   ]
  },
  {
   "cell_type": "code",
   "execution_count": 10,
   "metadata": {},
   "outputs": [
    {
     "data": {
      "text/plain": [
       "((17381, 15), (7450, 15), (17381, 3), (7450, 3))"
      ]
     },
     "execution_count": 10,
     "metadata": {},
     "output_type": "execute_result"
    }
   ],
   "source": [
    "from sklearn.model_selection import train_test_split\n",
    "x_train, x_test, y_train, y_test = train_test_split(data_keras, data_y, test_size = 0.3, random_state=42)\n",
    "\n",
    "x_train.shape, x_test.shape, y_train.shape, y_test.shape"
   ]
  },
  {
   "cell_type": "code",
   "execution_count": 11,
   "metadata": {},
   "outputs": [
    {
     "name": "stdout",
     "output_type": "stream",
     "text": [
      "Number of words: 44227\n",
      "Null word embeddings: 13266\n"
     ]
    }
   ],
   "source": [
    "# calculate number of words\n",
    "nb_words = len(tokenizer.word_index) + 1\n",
    "print(f\"Number of words: {nb_words}\")\n",
    "\n",
    "# obtain the word embedding matrix\n",
    "embedding_matrix = np.zeros((nb_words, 200))\n",
    "\n",
    "for word, i in word_index.items():\n",
    "    embedding_vector = glove_model.get(word)\n",
    "    if embedding_vector is not None:\n",
    "        embedding_matrix[i] = embedding_vector\n",
    "print('Null word embeddings: %d' % np.sum(np.sum(embedding_matrix, axis=1) == 0))"
   ]
  },
  {
   "cell_type": "code",
   "execution_count": 12,
   "metadata": {},
   "outputs": [],
   "source": [
    "# adopted from sent_tran_eval.py\n",
    "def build_model(nb_words, rnn_model=\"SimpleRNN\", embedding_matrix=None):\n",
    "    '''\n",
    "    build_model function:\n",
    "    inputs: \n",
    "        rnn_model - which type of RNN layer to use, choose in (SimpleRNN, LSTM, GRU)\n",
    "        embedding_matrix - whether to use pretrained embeddings or not\n",
    "    '''\n",
    "    model = Sequential()\n",
    "    # add an embedding layer\n",
    "    if embedding_matrix is not None:\n",
    "        model.add(Embedding(nb_words, \n",
    "                        200, \n",
    "                        weights=[embedding_matrix], \n",
    "                        input_length= max_len,\n",
    "                        trainable = False))\n",
    "    else:\n",
    "        model.add(Embedding(nb_words, \n",
    "                        200, \n",
    "                        input_length= max_len,\n",
    "                        trainable = False))\n",
    "        \n",
    "    # add an RNN layer according to rnn_model\n",
    "    if rnn_model == \"SimpleRNN\":\n",
    "        model.add(SimpleRNN(256))\n",
    "    elif rnn_model == \"LSTM\":\n",
    "        model.add(LSTM(256))\n",
    "    else:\n",
    "        model.add(GRU(256))\n",
    "        \n",
    "    model.add(Dense(512,activation='relu'))\n",
    "    model.add(Dense(512, activation='relu'))\n",
    "    model.add(Dense(3, activation='softmax'))\n",
    "    \n",
    "    model.compile(loss='categorical_crossentropy', \n",
    "                optimizer='adam',\n",
    "                metrics=['accuracy'])\n",
    "    return model"
   ]
  },
  {
   "cell_type": "code",
   "execution_count": 14,
   "metadata": {},
   "outputs": [
    {
     "name": "stdout",
     "output_type": "stream",
     "text": [
      "Epoch 1/10\n",
      "543/544 [============================>.] - ETA: 0s - loss: 0.8973 - accuracy: 0.5667\n",
      "Epoch 1: saving model to tmp/checkpoint\\model_rnn.hdf5\n",
      "\n",
      "Epoch 1: val_accuracy improved from -inf to 0.61799, saving model to tmp/checkpoint\\model_rnnAcc.hdf5\n",
      "\n",
      "Epoch 1: val_loss improved from inf to 0.85274, saving model to tmp/checkpoint\\model_rnnLoss.hdf5\n",
      "544/544 [==============================] - 28s 49ms/step - loss: 0.8974 - accuracy: 0.5667 - val_loss: 0.8527 - val_accuracy: 0.6180\n",
      "Epoch 2/10\n",
      "544/544 [==============================] - ETA: 0s - loss: 0.8197 - accuracy: 0.6275\n",
      "Epoch 2: saving model to tmp/checkpoint\\model_rnn.hdf5\n",
      "\n",
      "Epoch 2: val_accuracy improved from 0.61799 to 0.64295, saving model to tmp/checkpoint\\model_rnnAcc.hdf5\n",
      "\n",
      "Epoch 2: val_loss improved from 0.85274 to 0.80901, saving model to tmp/checkpoint\\model_rnnLoss.hdf5\n",
      "544/544 [==============================] - 26s 48ms/step - loss: 0.8197 - accuracy: 0.6275 - val_loss: 0.8090 - val_accuracy: 0.6430\n",
      "Epoch 3/10\n",
      "544/544 [==============================] - ETA: 0s - loss: 0.7604 - accuracy: 0.6649\n",
      "Epoch 3: saving model to tmp/checkpoint\\model_rnn.hdf5\n",
      "\n",
      "Epoch 3: val_accuracy did not improve from 0.64295\n",
      "\n",
      "Epoch 3: val_loss did not improve from 0.80901\n",
      "544/544 [==============================] - 26s 47ms/step - loss: 0.7604 - accuracy: 0.6649 - val_loss: 0.8109 - val_accuracy: 0.6310\n",
      "Epoch 4/10\n",
      "544/544 [==============================] - ETA: 0s - loss: 0.7121 - accuracy: 0.6916\n",
      "Epoch 4: saving model to tmp/checkpoint\\model_rnn.hdf5\n",
      "\n",
      "Epoch 4: val_accuracy did not improve from 0.64295\n",
      "\n",
      "Epoch 4: val_loss improved from 0.80901 to 0.80393, saving model to tmp/checkpoint\\model_rnnLoss.hdf5\n",
      "544/544 [==============================] - 26s 48ms/step - loss: 0.7121 - accuracy: 0.6916 - val_loss: 0.8039 - val_accuracy: 0.6408\n",
      "Epoch 5/10\n",
      "543/544 [============================>.] - ETA: 0s - loss: 0.6751 - accuracy: 0.7078\n",
      "Epoch 5: saving model to tmp/checkpoint\\model_rnn.hdf5\n",
      "\n",
      "Epoch 5: val_accuracy improved from 0.64295 to 0.66000, saving model to tmp/checkpoint\\model_rnnAcc.hdf5\n",
      "\n",
      "Epoch 5: val_loss improved from 0.80393 to 0.77749, saving model to tmp/checkpoint\\model_rnnLoss.hdf5\n",
      "544/544 [==============================] - 26s 48ms/step - loss: 0.6751 - accuracy: 0.7077 - val_loss: 0.7775 - val_accuracy: 0.6600\n",
      "Epoch 6/10\n",
      "544/544 [==============================] - ETA: 0s - loss: 0.6158 - accuracy: 0.7391\n",
      "Epoch 6: saving model to tmp/checkpoint\\model_rnn.hdf5\n",
      "\n",
      "Epoch 6: val_accuracy did not improve from 0.66000\n",
      "\n",
      "Epoch 6: val_loss did not improve from 0.77749\n",
      "544/544 [==============================] - 27s 49ms/step - loss: 0.6158 - accuracy: 0.7391 - val_loss: 0.7791 - val_accuracy: 0.6532\n",
      "Epoch 7/10\n",
      "544/544 [==============================] - ETA: 0s - loss: 0.5676 - accuracy: 0.7608\n",
      "Epoch 7: saving model to tmp/checkpoint\\model_rnn.hdf5\n",
      "\n",
      "Epoch 7: val_accuracy improved from 0.66000 to 0.66483, saving model to tmp/checkpoint\\model_rnnAcc.hdf5\n",
      "\n",
      "Epoch 7: val_loss did not improve from 0.77749\n",
      "544/544 [==============================] - 27s 50ms/step - loss: 0.5676 - accuracy: 0.7608 - val_loss: 0.8157 - val_accuracy: 0.6648\n",
      "Epoch 8/10\n",
      "544/544 [==============================] - ETA: 0s - loss: 0.5273 - accuracy: 0.7840\n",
      "Epoch 8: saving model to tmp/checkpoint\\model_rnn.hdf5\n",
      "\n",
      "Epoch 8: val_accuracy did not improve from 0.66483\n",
      "\n",
      "Epoch 8: val_loss did not improve from 0.77749\n",
      "544/544 [==============================] - 25s 45ms/step - loss: 0.5273 - accuracy: 0.7840 - val_loss: 0.8450 - val_accuracy: 0.6596\n",
      "Epoch 9/10\n",
      "544/544 [==============================] - ETA: 0s - loss: 0.4857 - accuracy: 0.8011\n",
      "Epoch 9: saving model to tmp/checkpoint\\model_rnn.hdf5\n",
      "\n",
      "Epoch 9: val_accuracy did not improve from 0.66483\n",
      "\n",
      "Epoch 9: val_loss did not improve from 0.77749\n",
      "544/544 [==============================] - 27s 49ms/step - loss: 0.4857 - accuracy: 0.8011 - val_loss: 0.8491 - val_accuracy: 0.6600\n",
      "Epoch 10/10\n",
      "543/544 [============================>.] - ETA: 0s - loss: 0.4380 - accuracy: 0.8214\n",
      "Epoch 10: saving model to tmp/checkpoint\\model_rnn.hdf5\n",
      "\n",
      "Epoch 10: val_accuracy did not improve from 0.66483\n",
      "\n",
      "Epoch 10: val_loss did not improve from 0.77749\n",
      "544/544 [==============================] - 25s 47ms/step - loss: 0.4380 - accuracy: 0.8214 - val_loss: 0.9257 - val_accuracy: 0.6532\n",
      "233/233 [==============================] - 2s 7ms/step\n",
      "              precision    recall  f1-score   support\n",
      "\n",
      "           0       0.60      0.64      0.62      2492\n",
      "           1       0.79      0.68      0.73      2482\n",
      "           2       0.60      0.64      0.62      2476\n",
      "\n",
      "    accuracy                           0.65      7450\n",
      "   macro avg       0.66      0.65      0.66      7450\n",
      "weighted avg       0.66      0.65      0.66      7450\n",
      "\n"
     ]
    }
   ],
   "source": [
    "model_rnn = build_model(nb_words, \"SimpleRNN\", embedding_matrix)\n",
    "checkpoint = tf.keras.callbacks.ModelCheckpoint('tmp/checkpoint/model_rnn.hdf5',verbose=True)\n",
    "getAcc = tf.keras.callbacks.ModelCheckpoint('tmp/checkpoint/model_rnnAcc.hdf5',verbose=True,save_best_only=True,monitor='val_accuracy')\n",
    "getLoss = tf.keras.callbacks.ModelCheckpoint('tmp/checkpoint/model_rnnLoss.hdf5',verbose=True,save_best_only=True,monitor='val_loss')\n",
    "model_rnn_history = model_rnn.fit(x_train, y_train, \n",
    "                                                epochs=10, \n",
    "                                                validation_data=(x_test, y_test), \n",
    "                                                callbacks=[checkpoint,getAcc,getLoss, \n",
    "                                                EarlyStopping(monitor='val_accuracy', mode='max',patience=5)])\n",
    "predictions = model_rnn.predict(x_test)\n",
    "predictions = predictions.argmax(axis=1)\n",
    "print(classification_report(y_test.argmax(axis=1), predictions))\n"
   ]
  },
  {
   "cell_type": "code",
   "execution_count": 16,
   "metadata": {},
   "outputs": [
    {
     "name": "stdout",
     "output_type": "stream",
     "text": [
      "233/233 [==============================] - 3s 12ms/step - loss: 0.9257 - accuracy: 0.6532\n",
      "[0.9257416725158691, 0.6531543731689453]\n",
      "233/233 [==============================] - 2s 10ms/step - loss: 0.8157 - accuracy: 0.6648\n",
      "233/233 [==============================] - 2s 10ms/step - loss: 0.7775 - accuracy: 0.6600\n",
      "Best Acc Test Loss: 0.8157018423080444\n",
      "Best Acc Test Accuracy: 66.47999999999999 %\n",
      "Best Loss Test Loss: 0.7774913907051086\n",
      "Best Loss Test Accuracy: 66.0 %\n"
     ]
    }
   ],
   "source": [
    "# evaluating baseline coarse model\n",
    "print(model_rnn.evaluate(x_test, y_test))\n",
    "model_rnn.load_weights('tmp/checkpoint/model_rnnAcc.hdf5')\n",
    "scoreAcc = model_rnn.evaluate(x_test, y_test)\n",
    "model_rnn.load_weights('tmp/checkpoint/model_rnnLoss.hdf5')\n",
    "scoreLoss = model_rnn.evaluate(x_test, y_test)\n",
    "print('Best Acc Test Loss:', scoreAcc[0])\n",
    "print('Best Acc Test Accuracy:', round(scoreAcc[1],4)*100,'%')\n",
    "print('Best Loss Test Loss:', scoreLoss[0])\n",
    "print('Best Loss Test Accuracy:', round(scoreLoss[1],4)*100,'%')"
   ]
  },
  {
   "cell_type": "code",
   "execution_count": 17,
   "metadata": {},
   "outputs": [
    {
     "data": {
      "image/png": "[encoded data removed]",
      "text/plain": [
       "<Figure size 1000x300 with 1 Axes>"
      ]
     },
     "metadata": {},
     "output_type": "display_data"
    },
    {
     "data": {
      "image/png": "[encoded data removed]",
      "text/plain": [
       "<Figure size 1000x300 with 1 Axes>"
      ]
     },
     "metadata": {},
     "output_type": "display_data"
    }
   ],
   "source": [
    "max_val_acc_epoch = np.argmax(list(model_rnn_history.history['val_accuracy']))+1\n",
    "max_val_loss_epoch = np.argmin(list(model_rnn_history.history['val_loss']))+1\n",
    "epochs = range(1, len(model_rnn_history.history['accuracy']) + 1)\n",
    "plt.figure(figsize=(10,3))\n",
    "plt.minorticks_on()\n",
    "plt.axvline(x=max_val_acc_epoch, color='0.5', linestyle='--')\n",
    "plt.axvline(x=max_val_loss_epoch, color='0.5', linestyle=':')\n",
    "plt.plot(epochs,model_rnn_history.history['accuracy'], label='Train')\n",
    "plt.plot(epochs,model_rnn_history.history['val_accuracy'], label='Validation')\n",
    "plt.xlabel('Epochs')\n",
    "plt.ylabel('Accuracy')\n",
    "plt.legend()\n",
    "plt.show()\n",
    "\n",
    "plt.figure(figsize=(10,3))\n",
    "plt.minorticks_on()\n",
    "plt.axvline(x=max_val_acc_epoch, color='0.5', linestyle='--')\n",
    "plt.axvline(x=max_val_loss_epoch, color='0.5', linestyle=':')\n",
    "plt.plot(epochs,model_rnn_history.history['loss'], label='Train')\n",
    "plt.plot(epochs,model_rnn_history.history['val_loss'], label='Validation')\n",
    "plt.xlabel('Epochs')\n",
    "plt.ylabel('Loss')\n",
    "plt.legend()\n",
    "plt.show()"
   ]
  },
  {
   "cell_type": "code",
   "execution_count": 19,
   "metadata": {},
   "outputs": [],
   "source": [
    "# import visualkeras\n",
    "# from PIL import ImageFont\n",
    "# visualkeras.layered_view(model_rnn, legend=True)"
   ]
  },
  {
   "cell_type": "code",
   "execution_count": null,
   "metadata": {},
   "outputs": [],
   "source": [
    "# model_rnn.save_weights(\"./models/rnn-model.h5\")"
   ]
  },
  {
   "cell_type": "code",
   "execution_count": 20,
   "metadata": {},
   "outputs": [
    {
     "name": "stdout",
     "output_type": "stream",
     "text": [
      "Epoch 1/10\n",
      "541/544 [============================>.] - ETA: 0s - loss: 0.8018 - accuracy: 0.6285\n",
      "Epoch 1: saving model to tmp/checkpoint\\model_lstm.hdf5\n",
      "\n",
      "Epoch 1: val_accuracy improved from -inf to 0.68537, saving model to tmp/checkpoint\\model_lstmAcc.hdf5\n",
      "\n",
      "Epoch 1: val_loss improved from inf to 0.70734, saving model to tmp/checkpoint\\model_lstmLoss.hdf5\n",
      "544/544 [==============================] - 16s 24ms/step - loss: 0.8018 - accuracy: 0.6282 - val_loss: 0.7073 - val_accuracy: 0.6854\n",
      "Epoch 2/10\n",
      "540/544 [============================>.] - ETA: 0s - loss: 0.6469 - accuracy: 0.7163\n",
      "Epoch 2: saving model to tmp/checkpoint\\model_lstm.hdf5\n",
      "\n",
      "Epoch 2: val_accuracy improved from 0.68537 to 0.71047, saving model to tmp/checkpoint\\model_lstmAcc.hdf5\n",
      "\n",
      "Epoch 2: val_loss improved from 0.70734 to 0.64752, saving model to tmp/checkpoint\\model_lstmLoss.hdf5\n",
      "544/544 [==============================] - 12s 22ms/step - loss: 0.6471 - accuracy: 0.7162 - val_loss: 0.6475 - val_accuracy: 0.7105\n",
      "Epoch 3/10\n",
      "543/544 [============================>.] - ETA: 0s - loss: 0.5546 - accuracy: 0.7621\n",
      "Epoch 3: saving model to tmp/checkpoint\\model_lstm.hdf5\n",
      "\n",
      "Epoch 3: val_accuracy improved from 0.71047 to 0.74483, saving model to tmp/checkpoint\\model_lstmAcc.hdf5\n",
      "\n",
      "Epoch 3: val_loss improved from 0.64752 to 0.58416, saving model to tmp/checkpoint\\model_lstmLoss.hdf5\n",
      "544/544 [==============================] - 7s 14ms/step - loss: 0.5547 - accuracy: 0.7621 - val_loss: 0.5842 - val_accuracy: 0.7448\n",
      "Epoch 4/10\n",
      "542/544 [============================>.] - ETA: 0s - loss: 0.4737 - accuracy: 0.8022\n",
      "Epoch 4: saving model to tmp/checkpoint\\model_lstm.hdf5\n",
      "\n",
      "Epoch 4: val_accuracy improved from 0.74483 to 0.75047, saving model to tmp/checkpoint\\model_lstmAcc.hdf5\n",
      "\n",
      "Epoch 4: val_loss did not improve from 0.58416\n",
      "544/544 [==============================] - 8s 15ms/step - loss: 0.4734 - accuracy: 0.8023 - val_loss: 0.5978 - val_accuracy: 0.7505\n",
      "Epoch 5/10\n",
      "543/544 [============================>.] - ETA: 0s - loss: 0.3866 - accuracy: 0.8368\n",
      "Epoch 5: saving model to tmp/checkpoint\\model_lstm.hdf5\n",
      "\n",
      "Epoch 5: val_accuracy improved from 0.75047 to 0.75691, saving model to tmp/checkpoint\\model_lstmAcc.hdf5\n",
      "\n",
      "Epoch 5: val_loss did not improve from 0.58416\n",
      "544/544 [==============================] - 7s 14ms/step - loss: 0.3866 - accuracy: 0.8368 - val_loss: 0.5944 - val_accuracy: 0.7569\n",
      "Epoch 6/10\n",
      "543/544 [============================>.] - ETA: 0s - loss: 0.2947 - accuracy: 0.8790\n",
      "Epoch 6: saving model to tmp/checkpoint\\model_lstm.hdf5\n",
      "\n",
      "Epoch 6: val_accuracy improved from 0.75691 to 0.75732, saving model to tmp/checkpoint\\model_lstmAcc.hdf5\n",
      "\n",
      "Epoch 6: val_loss did not improve from 0.58416\n",
      "544/544 [==============================] - 10s 19ms/step - loss: 0.2947 - accuracy: 0.8789 - val_loss: 0.6938 - val_accuracy: 0.7573\n",
      "Epoch 7/10\n",
      "543/544 [============================>.] - ETA: 0s - loss: 0.2177 - accuracy: 0.9144\n",
      "Epoch 7: saving model to tmp/checkpoint\\model_lstm.hdf5\n",
      "\n",
      "Epoch 7: val_accuracy did not improve from 0.75732\n",
      "\n",
      "Epoch 7: val_loss did not improve from 0.58416\n",
      "544/544 [==============================] - 9s 17ms/step - loss: 0.2176 - accuracy: 0.9144 - val_loss: 0.8092 - val_accuracy: 0.7503\n",
      "Epoch 8/10\n",
      "544/544 [==============================] - ETA: 0s - loss: 0.1439 - accuracy: 0.9461\n",
      "Epoch 8: saving model to tmp/checkpoint\\model_lstm.hdf5\n",
      "\n",
      "Epoch 8: val_accuracy did not improve from 0.75732\n",
      "\n",
      "Epoch 8: val_loss did not improve from 0.58416\n",
      "544/544 [==============================] - 10s 18ms/step - loss: 0.1439 - accuracy: 0.9461 - val_loss: 0.9739 - val_accuracy: 0.7510\n",
      "Epoch 9/10\n",
      "539/544 [============================>.] - ETA: 0s - loss: 0.0982 - accuracy: 0.9650\n",
      "Epoch 9: saving model to tmp/checkpoint\\model_lstm.hdf5\n",
      "\n",
      "Epoch 9: val_accuracy did not improve from 0.75732\n",
      "\n",
      "Epoch 9: val_loss did not improve from 0.58416\n",
      "544/544 [==============================] - 9s 17ms/step - loss: 0.0985 - accuracy: 0.9649 - val_loss: 1.1530 - val_accuracy: 0.7481\n",
      "Epoch 10/10\n",
      "541/544 [============================>.] - ETA: 0s - loss: 0.0719 - accuracy: 0.9753\n",
      "Epoch 10: saving model to tmp/checkpoint\\model_lstm.hdf5\n",
      "\n",
      "Epoch 10: val_accuracy did not improve from 0.75732\n",
      "\n",
      "Epoch 10: val_loss did not improve from 0.58416\n",
      "544/544 [==============================] - 10s 19ms/step - loss: 0.0720 - accuracy: 0.9753 - val_loss: 1.3009 - val_accuracy: 0.7569\n",
      "233/233 [==============================] - 2s 8ms/step\n",
      "              precision    recall  f1-score   support\n",
      "\n",
      "           0       0.70      0.72      0.71      2492\n",
      "           1       0.86      0.84      0.85      2482\n",
      "           2       0.72      0.71      0.71      2476\n",
      "\n",
      "    accuracy                           0.76      7450\n",
      "   macro avg       0.76      0.76      0.76      7450\n",
      "weighted avg       0.76      0.76      0.76      7450\n",
      "\n"
     ]
    }
   ],
   "source": [
    "model_lstm = build_model(nb_words, \"LSTM\", embedding_matrix)\n",
    "checkpoint = tf.keras.callbacks.ModelCheckpoint('tmp/checkpoint/model_lstm.hdf5',verbose=True)\n",
    "getAcc = tf.keras.callbacks.ModelCheckpoint('tmp/checkpoint/model_lstmAcc.hdf5',verbose=True,save_best_only=True,monitor='val_accuracy')\n",
    "getLoss = tf.keras.callbacks.ModelCheckpoint('tmp/checkpoint/model_lstmLoss.hdf5',verbose=True,save_best_only=True,monitor='val_loss')\n",
    "model_lstm_history = model_lstm.fit(x_train, y_train, \n",
    "                                                epochs=10, \n",
    "                                                validation_data=(x_test, y_test), \n",
    "                                                callbacks=[checkpoint,getAcc,getLoss, \n",
    "                                                EarlyStopping(monitor='val_accuracy', mode='max',patience=5)])\n",
    "\n",
    "predictions = model_lstm.predict(x_test)\n",
    "predictions = predictions.argmax(axis=1)\n",
    "print(classification_report(y_test.argmax(axis=1), predictions))\n"
   ]
  },
  {
   "cell_type": "code",
   "execution_count": 21,
   "metadata": {},
   "outputs": [
    {
     "name": "stdout",
     "output_type": "stream",
     "text": [
      "233/233 [==============================] - 4s 16ms/step - loss: 1.3009 - accuracy: 0.7569\n",
      "[1.3008716106414795, 0.7569127678871155]\n",
      "233/233 [==============================] - 3s 11ms/step - loss: 0.6938 - accuracy: 0.7573\n",
      "233/233 [==============================] - 2s 10ms/step - loss: 0.5842 - accuracy: 0.7448\n",
      "Best Acc Test Loss: 0.6937697529792786\n",
      "Best Acc Test Accuracy: 75.73 %\n",
      "Best Loss Test Loss: 0.5841642618179321\n",
      "Best Loss Test Accuracy: 74.48 %\n"
     ]
    }
   ],
   "source": [
    "# evaluating baseline coarse model\n",
    "print(model_lstm.evaluate(x_test, y_test))\n",
    "model_lstm.load_weights('tmp/checkpoint/model_lstmAcc.hdf5')\n",
    "scoreAcc = model_lstm.evaluate(x_test, y_test)\n",
    "model_lstm.load_weights('tmp/checkpoint/model_lstmLoss.hdf5')\n",
    "scoreLoss = model_lstm.evaluate(x_test, y_test)\n",
    "print('Best Acc Test Loss:', scoreAcc[0])\n",
    "print('Best Acc Test Accuracy:', round(scoreAcc[1],4)*100,'%')\n",
    "print('Best Loss Test Loss:', scoreLoss[0])\n",
    "print('Best Loss Test Accuracy:', round(scoreLoss[1],4)*100,'%')"
   ]
  },
  {
   "cell_type": "code",
   "execution_count": 22,
   "metadata": {},
   "outputs": [
    {
     "data": {
      "image/png": "[encoded data removed]",
      "text/plain": [
       "<Figure size 1000x300 with 1 Axes>"
      ]
     },
     "metadata": {},
     "output_type": "display_data"
    },
    {
     "data": {
      "image/png": "[encoded data removed]",
      "text/plain": [
       "<Figure size 1000x300 with 1 Axes>"
      ]
     },
     "metadata": {},
     "output_type": "display_data"
    }
   ],
   "source": [
    "max_val_acc_epoch = np.argmax(list(model_lstm_history.history['val_accuracy']))+1\n",
    "max_val_loss_epoch = np.argmin(list(model_lstm_history.history['val_loss']))+1\n",
    "epochs = range(1, len(model_lstm_history.history['accuracy']) + 1)\n",
    "plt.figure(figsize=(10,3))\n",
    "plt.minorticks_on()\n",
    "plt.axvline(x=max_val_acc_epoch, color='0.5', linestyle='--')\n",
    "plt.axvline(x=max_val_loss_epoch, color='0.5', linestyle=':')\n",
    "plt.plot(epochs,model_lstm_history.history['accuracy'], label='Train')\n",
    "plt.plot(epochs,model_lstm_history.history['val_accuracy'], label='Validation')\n",
    "plt.xlabel('Epochs')\n",
    "plt.ylabel('Accuracy')\n",
    "plt.legend()\n",
    "plt.show()\n",
    "\n",
    "plt.figure(figsize=(10,3))\n",
    "plt.minorticks_on()\n",
    "plt.axvline(x=max_val_acc_epoch, color='0.5', linestyle='--')\n",
    "plt.axvline(x=max_val_loss_epoch, color='0.5', linestyle=':')\n",
    "plt.plot(epochs,model_lstm_history.history['loss'], label='Train')\n",
    "plt.plot(epochs,model_lstm_history.history['val_loss'], label='Validation')\n",
    "plt.xlabel('Epochs')\n",
    "plt.ylabel('Loss')\n",
    "plt.legend()\n",
    "plt.show()"
   ]
  },
  {
   "cell_type": "code",
   "execution_count": 23,
   "metadata": {},
   "outputs": [],
   "source": [
    "# import visualkeras\n",
    "# from PIL import ImageFont\n",
    "# visualkeras.layered_view(model_lstm, legend=True)"
   ]
  },
  {
   "cell_type": "code",
   "execution_count": 24,
   "metadata": {},
   "outputs": [],
   "source": [
    "# model_lstm.save_weights(\"models/model-lstm.h5\")"
   ]
  },
  {
   "cell_type": "code",
   "execution_count": 25,
   "metadata": {},
   "outputs": [
    {
     "name": "stdout",
     "output_type": "stream",
     "text": [
      "Epoch 1/10\n",
      "542/544 [============================>.] - ETA: 0s - loss: 0.8030 - accuracy: 0.6222\n",
      "Epoch 1: saving model to tmp/checkpoint\\model_gru.hdf5\n",
      "\n",
      "Epoch 1: val_accuracy improved from -inf to 0.69221, saving model to tmp/checkpoint\\model_gruAcc.hdf5\n",
      "\n",
      "Epoch 1: val_loss improved from inf to 0.67669, saving model to tmp/checkpoint\\model_gruLoss.hdf5\n",
      "544/544 [==============================] - 11s 17ms/step - loss: 0.8025 - accuracy: 0.6225 - val_loss: 0.6767 - val_accuracy: 0.6922\n",
      "Epoch 2/10\n",
      "544/544 [==============================] - ETA: 0s - loss: 0.6042 - accuracy: 0.7397\n",
      "Epoch 2: saving model to tmp/checkpoint\\model_gru.hdf5\n",
      "\n",
      "Epoch 2: val_accuracy improved from 0.69221 to 0.73946, saving model to tmp/checkpoint\\model_gruAcc.hdf5\n",
      "\n",
      "Epoch 2: val_loss improved from 0.67669 to 0.63113, saving model to tmp/checkpoint\\model_gruLoss.hdf5\n",
      "544/544 [==============================] - 13s 24ms/step - loss: 0.6042 - accuracy: 0.7397 - val_loss: 0.6311 - val_accuracy: 0.7395\n",
      "Epoch 3/10\n",
      "544/544 [==============================] - ETA: 0s - loss: 0.5180 - accuracy: 0.7814\n",
      "Epoch 3: saving model to tmp/checkpoint\\model_gru.hdf5\n",
      "\n",
      "Epoch 3: val_accuracy improved from 0.73946 to 0.75248, saving model to tmp/checkpoint\\model_gruAcc.hdf5\n",
      "\n",
      "Epoch 3: val_loss improved from 0.63113 to 0.59477, saving model to tmp/checkpoint\\model_gruLoss.hdf5\n",
      "544/544 [==============================] - 13s 23ms/step - loss: 0.5180 - accuracy: 0.7814 - val_loss: 0.5948 - val_accuracy: 0.7525\n",
      "Epoch 4/10\n",
      "542/544 [============================>.] - ETA: 0s - loss: 0.4376 - accuracy: 0.8141\n",
      "Epoch 4: saving model to tmp/checkpoint\\model_gru.hdf5\n",
      "\n",
      "Epoch 4: val_accuracy improved from 0.75248 to 0.76779, saving model to tmp/checkpoint\\model_gruAcc.hdf5\n",
      "\n",
      "Epoch 4: val_loss improved from 0.59477 to 0.57403, saving model to tmp/checkpoint\\model_gruLoss.hdf5\n",
      "544/544 [==============================] - 12s 22ms/step - loss: 0.4374 - accuracy: 0.8140 - val_loss: 0.5740 - val_accuracy: 0.7678\n",
      "Epoch 5/10\n",
      "540/544 [============================>.] - ETA: 0s - loss: 0.3513 - accuracy: 0.8551\n",
      "Epoch 5: saving model to tmp/checkpoint\\model_gru.hdf5\n",
      "\n",
      "Epoch 5: val_accuracy did not improve from 0.76779\n",
      "\n",
      "Epoch 5: val_loss did not improve from 0.57403\n",
      "544/544 [==============================] - 12s 22ms/step - loss: 0.3523 - accuracy: 0.8545 - val_loss: 0.6517 - val_accuracy: 0.7596\n",
      "Epoch 6/10\n",
      "544/544 [==============================] - ETA: 0s - loss: 0.2616 - accuracy: 0.8928\n",
      "Epoch 6: saving model to tmp/checkpoint\\model_gru.hdf5\n",
      "\n",
      "Epoch 6: val_accuracy did not improve from 0.76779\n",
      "\n",
      "Epoch 6: val_loss did not improve from 0.57403\n",
      "544/544 [==============================] - 13s 24ms/step - loss: 0.2616 - accuracy: 0.8928 - val_loss: 0.7332 - val_accuracy: 0.7536\n",
      "Epoch 7/10\n",
      "544/544 [==============================] - ETA: 0s - loss: 0.1696 - accuracy: 0.9345\n",
      "Epoch 7: saving model to tmp/checkpoint\\model_gru.hdf5\n",
      "\n",
      "Epoch 7: val_accuracy did not improve from 0.76779\n",
      "\n",
      "Epoch 7: val_loss did not improve from 0.57403\n",
      "544/544 [==============================] - 13s 24ms/step - loss: 0.1696 - accuracy: 0.9345 - val_loss: 0.9591 - val_accuracy: 0.7501\n",
      "Epoch 8/10\n",
      "540/544 [============================>.] - ETA: 0s - loss: 0.1115 - accuracy: 0.9612\n",
      "Epoch 8: saving model to tmp/checkpoint\\model_gru.hdf5\n",
      "\n",
      "Epoch 8: val_accuracy did not improve from 0.76779\n",
      "\n",
      "Epoch 8: val_loss did not improve from 0.57403\n",
      "544/544 [==============================] - 12s 23ms/step - loss: 0.1120 - accuracy: 0.9611 - val_loss: 1.0532 - val_accuracy: 0.7566\n",
      "Epoch 9/10\n",
      "540/544 [============================>.] - ETA: 0s - loss: 0.0712 - accuracy: 0.9752\n",
      "Epoch 9: saving model to tmp/checkpoint\\model_gru.hdf5\n",
      "\n",
      "Epoch 9: val_accuracy did not improve from 0.76779\n",
      "\n",
      "Epoch 9: val_loss did not improve from 0.57403\n",
      "544/544 [==============================] - 13s 24ms/step - loss: 0.0710 - accuracy: 0.9752 - val_loss: 1.3427 - val_accuracy: 0.7591\n",
      "233/233 [==============================] - 3s 12ms/step\n",
      "              precision    recall  f1-score   support\n",
      "\n",
      "           0       0.70      0.75      0.72      2492\n",
      "           1       0.86      0.84      0.85      2482\n",
      "           2       0.72      0.69      0.71      2476\n",
      "\n",
      "    accuracy                           0.76      7450\n",
      "   macro avg       0.76      0.76      0.76      7450\n",
      "weighted avg       0.76      0.76      0.76      7450\n",
      "\n"
     ]
    }
   ],
   "source": [
    "model_gru = build_model(nb_words, \"GRU\", embedding_matrix)\n",
    "checkpoint = tf.keras.callbacks.ModelCheckpoint('tmp/checkpoint/model_gru.hdf5',verbose=True)\n",
    "getAcc = tf.keras.callbacks.ModelCheckpoint('tmp/checkpoint/model_gruAcc.hdf5',verbose=True,save_best_only=True,monitor='val_accuracy')\n",
    "getLoss = tf.keras.callbacks.ModelCheckpoint('tmp/checkpoint/model_gruLoss.hdf5',verbose=True,save_best_only=True,monitor='val_loss')\n",
    "model_gru_history = model_gru.fit(x_train, y_train, \n",
    "                                                epochs=10, \n",
    "                                                validation_data=(x_test, y_test), \n",
    "                                                callbacks=[checkpoint,getAcc,getLoss, \n",
    "                                                EarlyStopping(monitor='val_accuracy', mode='max',patience=5)])\n",
    "\n",
    "predictions = model_gru.predict(x_test)\n",
    "predictions = predictions.argmax(axis=1)\n",
    "print(classification_report(y_test.argmax(axis=1), predictions))\n"
   ]
  },
  {
   "cell_type": "code",
   "execution_count": 26,
   "metadata": {},
   "outputs": [
    {
     "name": "stdout",
     "output_type": "stream",
     "text": [
      "233/233 [==============================] - 3s 15ms/step - loss: 1.3427 - accuracy: 0.7591\n",
      "[1.3427094221115112, 0.7590603828430176]\n",
      "233/233 [==============================] - 4s 17ms/step - loss: 0.5740 - accuracy: 0.7678\n",
      "233/233 [==============================] - 4s 18ms/step - loss: 0.5740 - accuracy: 0.7678\n",
      "Best Acc Test Loss: 0.5740326046943665\n",
      "Best Acc Test Accuracy: 76.78 %\n",
      "Best Loss Test Loss: 0.5740326046943665\n",
      "Best Loss Test Accuracy: 76.78 %\n"
     ]
    }
   ],
   "source": [
    "# evaluating baseline coarse model\n",
    "print(model_gru.evaluate(x_test, y_test))\n",
    "model_gru.load_weights('tmp/checkpoint/model_gruAcc.hdf5')\n",
    "scoreAcc = model_gru.evaluate(x_test, y_test)\n",
    "model_gru.load_weights('tmp/checkpoint/model_gruLoss.hdf5')\n",
    "scoreLoss = model_gru.evaluate(x_test, y_test)\n",
    "print('Best Acc Test Loss:', scoreAcc[0])\n",
    "print('Best Acc Test Accuracy:', round(scoreAcc[1],4)*100,'%')\n",
    "print('Best Loss Test Loss:', scoreLoss[0])\n",
    "print('Best Loss Test Accuracy:', round(scoreLoss[1],4)*100,'%')"
   ]
  },
  {
   "cell_type": "code",
   "execution_count": 27,
   "metadata": {},
   "outputs": [
    {
     "data": {
      "image/png": "[encoded data removed]",
      "text/plain": [
       "<Figure size 1000x300 with 1 Axes>"
      ]
     },
     "metadata": {},
     "output_type": "display_data"
    },
    {
     "data": {
      "image/png": "[encoded data removed]",
      "text/plain": [
       "<Figure size 1000x300 with 1 Axes>"
      ]
     },
     "metadata": {},
     "output_type": "display_data"
    }
   ],
   "source": [
    "max_val_acc_epoch = np.argmax(list(model_gru_history.history['val_accuracy']))+1\n",
    "max_val_loss_epoch = np.argmin(list(model_gru_history.history['val_loss']))+1\n",
    "epochs = range(1, len(model_gru_history.history['accuracy']) + 1)\n",
    "plt.figure(figsize=(10,3))\n",
    "plt.minorticks_on()\n",
    "plt.axvline(x=max_val_acc_epoch, color='0.5', linestyle='--')\n",
    "plt.axvline(x=max_val_loss_epoch, color='0.5', linestyle=':')\n",
    "plt.plot(epochs,model_gru_history.history['accuracy'], label='Train')\n",
    "plt.plot(epochs,model_gru_history.history['val_accuracy'], label='Validation')\n",
    "plt.xlabel('Epochs')\n",
    "plt.ylabel('Accuracy')\n",
    "plt.legend()\n",
    "plt.show()\n",
    "\n",
    "plt.figure(figsize=(10,3))\n",
    "plt.minorticks_on()\n",
    "plt.axvline(x=max_val_acc_epoch, color='0.5', linestyle='--')\n",
    "plt.axvline(x=max_val_loss_epoch, color='0.5', linestyle=':')\n",
    "plt.plot(epochs,model_gru_history.history['loss'], label='Train')\n",
    "plt.plot(epochs,model_gru_history.history['val_loss'], label='Validation')\n",
    "plt.xlabel('Epochs')\n",
    "plt.ylabel('Loss')\n",
    "plt.legend()\n",
    "plt.show()"
   ]
  },
  {
   "cell_type": "code",
   "execution_count": 28,
   "metadata": {},
   "outputs": [],
   "source": [
    "# import visualkeras\n",
    "# from PIL import ImageFont\n",
    "# visualkeras.layered_view(model_gru, legend=True)"
   ]
  },
  {
   "cell_type": "code",
   "execution_count": 29,
   "metadata": {},
   "outputs": [],
   "source": [
    "# model_gru.save_weights(\"models/model-gru.h5\")"
   ]
  },
  {
   "cell_type": "markdown",
   "metadata": {},
   "source": [
    "### Using a non deeplearning model (TFIDF vectorization) and other traditional machine learning models"
   ]
  },
  {
   "cell_type": "code",
   "execution_count": 30,
   "metadata": {},
   "outputs": [
    {
     "data": {
      "text/html": [
       "<div>\n",
       "<style scoped>\n",
       "    .dataframe tbody tr th:only-of-type {\n",
       "        vertical-align: middle;\n",
       "    }\n",
       "\n",
       "    .dataframe tbody tr th {\n",
       "        vertical-align: top;\n",
       "    }\n",
       "\n",
       "    .dataframe thead th {\n",
       "        text-align: right;\n",
       "    }\n",
       "</style>\n",
       "<table border=\"1\" class=\"dataframe\">\n",
       "  <thead>\n",
       "    <tr style=\"text-align: right;\">\n",
       "      <th></th>\n",
       "      <th>clean_comment</th>\n",
       "      <th>category</th>\n",
       "    </tr>\n",
       "  </thead>\n",
       "  <tbody>\n",
       "    <tr>\n",
       "      <th>5779</th>\n",
       "      <td>couldn agree more with the author media not tr...</td>\n",
       "      <td>-1</td>\n",
       "    </tr>\n",
       "    <tr>\n",
       "      <th>23336</th>\n",
       "      <td>question here why constraintlayout much force...</td>\n",
       "      <td>-1</td>\n",
       "    </tr>\n",
       "    <tr>\n",
       "      <th>1341</th>\n",
       "      <td>the elephant the room that more than likely no...</td>\n",
       "      <td>-1</td>\n",
       "    </tr>\n",
       "    <tr>\n",
       "      <th>34174</th>\n",
       "      <td>didn answer important questions top netas</td>\n",
       "      <td>1</td>\n",
       "    </tr>\n",
       "    <tr>\n",
       "      <th>26542</th>\n",
       "      <td>just because you can read president doesn mean...</td>\n",
       "      <td>-1</td>\n",
       "    </tr>\n",
       "    <tr>\n",
       "      <th>...</th>\n",
       "      <td>...</td>\n",
       "      <td>...</td>\n",
       "    </tr>\n",
       "    <tr>\n",
       "      <th>22784</th>\n",
       "      <td>dėl būsto norint kažkiek sutaupyti patariu žiū...</td>\n",
       "      <td>0</td>\n",
       "    </tr>\n",
       "    <tr>\n",
       "      <th>26934</th>\n",
       "      <td>can the fans start milk abhishekam already the...</td>\n",
       "      <td>0</td>\n",
       "    </tr>\n",
       "    <tr>\n",
       "      <th>31300</th>\n",
       "      <td>not banned yet source cousin mine lives rajkot</td>\n",
       "      <td>0</td>\n",
       "    </tr>\n",
       "    <tr>\n",
       "      <th>34278</th>\n",
       "      <td>wonder was crying itna paisa khilaake bechara...</td>\n",
       "      <td>-1</td>\n",
       "    </tr>\n",
       "    <tr>\n",
       "      <th>10444</th>\n",
       "      <td>conflicted about how feel about this guy othe...</td>\n",
       "      <td>-1</td>\n",
       "    </tr>\n",
       "  </tbody>\n",
       "</table>\n",
       "<p>24831 rows × 2 columns</p>\n",
       "</div>"
      ],
      "text/plain": [
       "                                           clean_comment  category\n",
       "5779   couldn agree more with the author media not tr...        -1\n",
       "23336   question here why constraintlayout much force...        -1\n",
       "1341   the elephant the room that more than likely no...        -1\n",
       "34174          didn answer important questions top netas         1\n",
       "26542  just because you can read president doesn mean...        -1\n",
       "...                                                  ...       ...\n",
       "22784  dėl būsto norint kažkiek sutaupyti patariu žiū...         0\n",
       "26934  can the fans start milk abhishekam already the...         0\n",
       "31300    not banned yet source cousin mine lives rajkot          0\n",
       "34278   wonder was crying itna paisa khilaake bechara...        -1\n",
       "10444   conflicted about how feel about this guy othe...        -1\n",
       "\n",
       "[24831 rows x 2 columns]"
      ]
     },
     "execution_count": 30,
     "metadata": {},
     "output_type": "execute_result"
    }
   ],
   "source": [
    "data"
   ]
  },
  {
   "cell_type": "code",
   "execution_count": 31,
   "metadata": {},
   "outputs": [],
   "source": [
    "from sklearn.model_selection import train_test_split\n",
    "\n",
    "x = data['clean_comment'].astype('str')\n",
    "y = data['category']\n",
    "\n",
    "x_train, x_test, y_train, y_test = train_test_split(x, y, test_size=0.2, random_state=42)"
   ]
  },
  {
   "cell_type": "code",
   "execution_count": 32,
   "metadata": {},
   "outputs": [
    {
     "data": {
      "text/plain": [
       "((19864, 10000), (4967, 10000))"
      ]
     },
     "execution_count": 32,
     "metadata": {},
     "output_type": "execute_result"
    }
   ],
   "source": [
    "from sklearn.feature_extraction.text import TfidfVectorizer\n",
    "\n",
    "vectorizer = TfidfVectorizer(max_features=10000, ngram_range=(1,2))\n",
    "x_train_vec = vectorizer.fit_transform(x_train)\n",
    "x_test_vec = vectorizer.transform(x_test)\n",
    "\n",
    "x_train_vec.shape, x_test_vec.shape "
   ]
  },
  {
   "cell_type": "markdown",
   "metadata": {},
   "source": [
    "## RandomForestClassifier"
   ]
  },
  {
   "cell_type": "code",
   "execution_count": null,
   "metadata": {},
   "outputs": [
    {
     "name": "stdout",
     "output_type": "stream",
     "text": [
      "              precision    recall  f1-score   support\n",
      "\n",
      "          -1       0.75      0.68      0.72      1674\n",
      "           0       0.77      0.90      0.83      1605\n",
      "           1       0.79      0.73      0.76      1688\n",
      "\n",
      "    accuracy                           0.77      4967\n",
      "   macro avg       0.77      0.77      0.77      4967\n",
      "weighted avg       0.77      0.77      0.77      4967\n",
      "\n"
     ]
    }
   ],
   "source": [
    "from sklearn.ensemble import RandomForestClassifier\n",
    "\n",
    "model_rf = RandomForestClassifier()\n",
    "model_rf.fit(x_train_vec, y_train)\n",
    "model_rf.score(x_test_vec, y_test)\n",
    "\n",
    "predictions = model_rf.predict(x_test_vec)\n",
    "print(classification_report(y_test, predictions))"
   ]
  },
  {
   "cell_type": "code",
   "execution_count": null,
   "metadata": {},
   "outputs": [
    {
     "data": {
      "text/plain": [
       "<sklearn.metrics._plot.confusion_matrix.ConfusionMatrixDisplay at 0x1deddcbb0a0>"
      ]
     },
     "execution_count": 32,
     "metadata": {},
     "output_type": "execute_result"
    },
    {
     "data": {
      "image/png": "[encoded data removed]",
      "text/plain": [
       "<Figure size 640x480 with 2 Axes>"
      ]
     },
     "metadata": {},
     "output_type": "display_data"
    }
   ],
   "source": [
    "cm = confusion_matrix(y_test, predictions, labels=model_rf.classes_)\n",
    "disp = ConfusionMatrixDisplay(confusion_matrix=cm, display_labels=model_rf.classes_)\n",
    "disp.plot()\n"
   ]
  },
  {
   "cell_type": "markdown",
   "metadata": {},
   "source": [
    "## Logistic Regression"
   ]
  },
  {
   "cell_type": "code",
   "execution_count": null,
   "metadata": {},
   "outputs": [
    {
     "name": "stdout",
     "output_type": "stream",
     "text": [
      "              precision    recall  f1-score   support\n",
      "\n",
      "          -1       0.85      0.81      0.83      1674\n",
      "           0       0.82      0.93      0.87      1605\n",
      "           1       0.87      0.80      0.83      1688\n",
      "\n",
      "    accuracy                           0.84      4967\n",
      "   macro avg       0.85      0.85      0.84      4967\n",
      "weighted avg       0.85      0.84      0.84      4967\n",
      "\n"
     ]
    },
    {
     "name": "stderr",
     "output_type": "stream",
     "text": [
      "c:\\Users\\amir_\\anaconda3\\envs\\deeplearning_env\\lib\\site-packages\\sklearn\\linear_model\\_logistic.py:444: ConvergenceWarning: lbfgs failed to converge (status=1):\n",
      "STOP: TOTAL NO. of ITERATIONS REACHED LIMIT.\n",
      "\n",
      "Increase the number of iterations (max_iter) or scale the data as shown in:\n",
      "    https://scikit-learn.org/stable/modules/preprocessing.html\n",
      "Please also refer to the documentation for alternative solver options:\n",
      "    https://scikit-learn.org/stable/modules/linear_model.html#logistic-regression\n",
      "  n_iter_i = _check_optimize_result(\n"
     ]
    }
   ],
   "source": [
    "from sklearn.linear_model import LogisticRegression\n",
    "\n",
    "model_lr = LogisticRegression()\n",
    "model_lr.fit(x_train_vec, y_train)\n",
    "model_lr.score(x_test_vec, y_test)\n",
    "\n",
    "predictions = model_lr.predict(x_test_vec)\n",
    "print(classification_report(y_test, predictions))"
   ]
  },
  {
   "cell_type": "code",
   "execution_count": null,
   "metadata": {},
   "outputs": [
    {
     "data": {
      "text/plain": [
       "<sklearn.metrics._plot.confusion_matrix.ConfusionMatrixDisplay at 0x1e020e46c40>"
      ]
     },
     "execution_count": 34,
     "metadata": {},
     "output_type": "execute_result"
    },
    {
     "data": {
      "image/png": "[encoded data removed]",
      "text/plain": [
       "<Figure size 640x480 with 2 Axes>"
      ]
     },
     "metadata": {},
     "output_type": "display_data"
    }
   ],
   "source": [
    "cm = confusion_matrix(y_test, predictions, labels=model_lr.classes_)\n",
    "disp = ConfusionMatrixDisplay(confusion_matrix=cm, display_labels=model_lr.classes_)\n",
    "disp.plot()\n"
   ]
  }
 ],
 "metadata": {
  "kernelspec": {
   "display_name": "Python 3.8.13 ('deeplearning_env')",
   "language": "python",
   "name": "python3"
  },
  "language_info": {
   "codemirror_mode": {
    "name": "ipython",
    "version": 3
   },
   "file_extension": ".py",
   "mimetype": "text/x-python",
   "name": "python",
   "nbconvert_exporter": "python",
   "pygments_lexer": "ipython3",
   "version": "3.8.13"
  },
  "vscode": {
   "interpreter": {
    "hash": "a3296aa4acb48e5d384adbc3801de3157923481d7582b4e0e225b005e749e952"
   }
  }
 },
 "nbformat": 4,
 "nbformat_minor": 4
}
