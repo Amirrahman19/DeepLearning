{
 "cells": [
  {
   "cell_type": "markdown",
   "metadata": {},
   "source": [
    "# ST1504 Part C Technical Paper\n",
    "\n",
    "## RNN, LSTM and GRU models applied to Sentiment Analysis for comparison on efficiency and test accuracy\n",
    "\n",
    "### Name: Haja Amir Rahman\n",
    "### Class: DAAA/FT?2B/06\n",
    "### Admin Number: P2100803\n",
    "\n",
    "### References: \n",
    "\n",
    "- [Twitter Dataset](https://www.kaggle.com/datasets/cosmos98/twitter-and-reddit-sentimental-analysis-dataset?select=Twitter_Data.csv)\n",
    "- [Using GloVe and Pretrained Embedding layers](https://haochen23.github.io/2020/01/nlp-rnn-sentiment.html#.Y3sIcXZByUk)\n",
    "- [GloVe Model Loading](https://www.kaggle.com/datasets/fullmetal26/glovetwitter27b100dtxt)\n",
    "- [Understanding Embedding Layers in Keras and GloVe](https://medium.com/analytics-vidhya/understanding-embedding-layer-in-keras-bbe3ff1327ce )"
   ]
  },
  {
   "cell_type": "code",
   "execution_count": 1,
   "metadata": {},
   "outputs": [
    {
     "data": {
      "text/plain": [
       "[PhysicalDevice(name='/physical_device:GPU:0', device_type='GPU')]"
      ]
     },
     "execution_count": 1,
     "metadata": {},
     "output_type": "execute_result"
    }
   ],
   "source": [
    "import tensorflow as tf\n",
    "\n",
    "tf.config.list_physical_devices('GPU')"
   ]
  },
  {
   "cell_type": "code",
   "execution_count": 2,
   "metadata": {},
   "outputs": [],
   "source": [
    "import tensorflow.keras\n",
    "from tensorflow.keras.models import Sequential\n",
    "from tensorflow.keras.layers import InputLayer, Dense, SimpleRNN, Activation, Dropout, Conv1D\n",
    "from tensorflow.keras.layers import Embedding, Flatten, LSTM, GRU\n",
    "from tensorflow.keras.preprocessing.text import Tokenizer\n",
    "from tensorflow.keras.preprocessing.sequence import pad_sequences\n",
    "from tensorflow.keras.callbacks import EarlyStopping, ReduceLROnPlateau\n",
    "import pandas as pd\n",
    "import numpy as np\n",
    "import spacy\n",
    "import matplotlib.pyplot as plt\n",
    "from sklearn.metrics import classification_report\n",
    "from sklearn.metrics import confusion_matrix\n",
    "from sklearn.metrics import ConfusionMatrixDisplay"
   ]
  },
  {
   "cell_type": "markdown",
   "metadata": {},
   "source": [
    "## Loading main dataset"
   ]
  },
  {
   "cell_type": "code",
   "execution_count": 3,
   "metadata": {},
   "outputs": [
    {
     "data": {
      "text/html": [
       "<div>\n",
       "<style scoped>\n",
       "    .dataframe tbody tr th:only-of-type {\n",
       "        vertical-align: middle;\n",
       "    }\n",
       "\n",
       "    .dataframe tbody tr th {\n",
       "        vertical-align: top;\n",
       "    }\n",
       "\n",
       "    .dataframe thead th {\n",
       "        text-align: right;\n",
       "    }\n",
       "</style>\n",
       "<table border=\"1\" class=\"dataframe\">\n",
       "  <thead>\n",
       "    <tr style=\"text-align: right;\">\n",
       "      <th></th>\n",
       "      <th>clean_text</th>\n",
       "      <th>category</th>\n",
       "    </tr>\n",
       "  </thead>\n",
       "  <tbody>\n",
       "    <tr>\n",
       "      <th>0</th>\n",
       "      <td>when modi promised “minimum government maximum...</td>\n",
       "      <td>-1.0</td>\n",
       "    </tr>\n",
       "    <tr>\n",
       "      <th>1</th>\n",
       "      <td>talk all the nonsense and continue all the dra...</td>\n",
       "      <td>0.0</td>\n",
       "    </tr>\n",
       "    <tr>\n",
       "      <th>2</th>\n",
       "      <td>what did just say vote for modi  welcome bjp t...</td>\n",
       "      <td>1.0</td>\n",
       "    </tr>\n",
       "    <tr>\n",
       "      <th>3</th>\n",
       "      <td>asking his supporters prefix chowkidar their n...</td>\n",
       "      <td>1.0</td>\n",
       "    </tr>\n",
       "    <tr>\n",
       "      <th>4</th>\n",
       "      <td>answer who among these the most powerful world...</td>\n",
       "      <td>1.0</td>\n",
       "    </tr>\n",
       "    <tr>\n",
       "      <th>...</th>\n",
       "      <td>...</td>\n",
       "      <td>...</td>\n",
       "    </tr>\n",
       "    <tr>\n",
       "      <th>162975</th>\n",
       "      <td>why these 456 crores paid neerav modi not reco...</td>\n",
       "      <td>-1.0</td>\n",
       "    </tr>\n",
       "    <tr>\n",
       "      <th>162976</th>\n",
       "      <td>dear rss terrorist payal gawar what about modi...</td>\n",
       "      <td>-1.0</td>\n",
       "    </tr>\n",
       "    <tr>\n",
       "      <th>162977</th>\n",
       "      <td>did you cover her interaction forum where she ...</td>\n",
       "      <td>0.0</td>\n",
       "    </tr>\n",
       "    <tr>\n",
       "      <th>162978</th>\n",
       "      <td>there big project came into india modi dream p...</td>\n",
       "      <td>0.0</td>\n",
       "    </tr>\n",
       "    <tr>\n",
       "      <th>162979</th>\n",
       "      <td>have you ever listen about like gurukul where ...</td>\n",
       "      <td>1.0</td>\n",
       "    </tr>\n",
       "  </tbody>\n",
       "</table>\n",
       "<p>162980 rows × 2 columns</p>\n",
       "</div>"
      ],
      "text/plain": [
       "                                               clean_text  category\n",
       "0       when modi promised “minimum government maximum...      -1.0\n",
       "1       talk all the nonsense and continue all the dra...       0.0\n",
       "2       what did just say vote for modi  welcome bjp t...       1.0\n",
       "3       asking his supporters prefix chowkidar their n...       1.0\n",
       "4       answer who among these the most powerful world...       1.0\n",
       "...                                                   ...       ...\n",
       "162975  why these 456 crores paid neerav modi not reco...      -1.0\n",
       "162976  dear rss terrorist payal gawar what about modi...      -1.0\n",
       "162977  did you cover her interaction forum where she ...       0.0\n",
       "162978  there big project came into india modi dream p...       0.0\n",
       "162979  have you ever listen about like gurukul where ...       1.0\n",
       "\n",
       "[162980 rows x 2 columns]"
      ]
     },
     "execution_count": 3,
     "metadata": {},
     "output_type": "execute_result"
    }
   ],
   "source": [
    "import ssl\n",
    "ssl._create_default_https_context = ssl._create_unverified_context\n",
    "\n",
    "# data = pd.read_csv(\"https://raw.githubusercontent.com/haochen23/nlp-rnn-lstm-sentiment/master/training.1600000.processed.noemoticon.csv\", header=None, encoding='cp437')\n",
    "# print(\"The shape of the original dataset is {}\".format(data.shape))\n",
    "# data\n",
    "\n",
    "raw = pd.read_csv('data/Twitter_Data.csv')\n",
    "raw"
   ]
  },
  {
   "cell_type": "code",
   "execution_count": 4,
   "metadata": {},
   "outputs": [
    {
     "data": {
      "text/html": [
       "<div>\n",
       "<style scoped>\n",
       "    .dataframe tbody tr th:only-of-type {\n",
       "        vertical-align: middle;\n",
       "    }\n",
       "\n",
       "    .dataframe tbody tr th {\n",
       "        vertical-align: top;\n",
       "    }\n",
       "\n",
       "    .dataframe thead th {\n",
       "        text-align: right;\n",
       "    }\n",
       "</style>\n",
       "<table border=\"1\" class=\"dataframe\">\n",
       "  <thead>\n",
       "    <tr style=\"text-align: right;\">\n",
       "      <th></th>\n",
       "      <th>clean_comment</th>\n",
       "      <th>category</th>\n",
       "    </tr>\n",
       "  </thead>\n",
       "  <tbody>\n",
       "    <tr>\n",
       "      <th>0</th>\n",
       "      <td>when modi promised “minimum government maximum...</td>\n",
       "      <td>-1.0</td>\n",
       "    </tr>\n",
       "    <tr>\n",
       "      <th>1</th>\n",
       "      <td>talk all the nonsense and continue all the dra...</td>\n",
       "      <td>0.0</td>\n",
       "    </tr>\n",
       "    <tr>\n",
       "      <th>2</th>\n",
       "      <td>what did just say vote for modi  welcome bjp t...</td>\n",
       "      <td>1.0</td>\n",
       "    </tr>\n",
       "    <tr>\n",
       "      <th>3</th>\n",
       "      <td>asking his supporters prefix chowkidar their n...</td>\n",
       "      <td>1.0</td>\n",
       "    </tr>\n",
       "    <tr>\n",
       "      <th>4</th>\n",
       "      <td>answer who among these the most powerful world...</td>\n",
       "      <td>1.0</td>\n",
       "    </tr>\n",
       "    <tr>\n",
       "      <th>...</th>\n",
       "      <td>...</td>\n",
       "      <td>...</td>\n",
       "    </tr>\n",
       "    <tr>\n",
       "      <th>162975</th>\n",
       "      <td>why these 456 crores paid neerav modi not reco...</td>\n",
       "      <td>-1.0</td>\n",
       "    </tr>\n",
       "    <tr>\n",
       "      <th>162976</th>\n",
       "      <td>dear rss terrorist payal gawar what about modi...</td>\n",
       "      <td>-1.0</td>\n",
       "    </tr>\n",
       "    <tr>\n",
       "      <th>162977</th>\n",
       "      <td>did you cover her interaction forum where she ...</td>\n",
       "      <td>0.0</td>\n",
       "    </tr>\n",
       "    <tr>\n",
       "      <th>162978</th>\n",
       "      <td>there big project came into india modi dream p...</td>\n",
       "      <td>0.0</td>\n",
       "    </tr>\n",
       "    <tr>\n",
       "      <th>162979</th>\n",
       "      <td>have you ever listen about like gurukul where ...</td>\n",
       "      <td>1.0</td>\n",
       "    </tr>\n",
       "  </tbody>\n",
       "</table>\n",
       "<p>162980 rows × 2 columns</p>\n",
       "</div>"
      ],
      "text/plain": [
       "                                            clean_comment  category\n",
       "0       when modi promised “minimum government maximum...      -1.0\n",
       "1       talk all the nonsense and continue all the dra...       0.0\n",
       "2       what did just say vote for modi  welcome bjp t...       1.0\n",
       "3       asking his supporters prefix chowkidar their n...       1.0\n",
       "4       answer who among these the most powerful world...       1.0\n",
       "...                                                   ...       ...\n",
       "162975  why these 456 crores paid neerav modi not reco...      -1.0\n",
       "162976  dear rss terrorist payal gawar what about modi...      -1.0\n",
       "162977  did you cover her interaction forum where she ...       0.0\n",
       "162978  there big project came into india modi dream p...       0.0\n",
       "162979  have you ever listen about like gurukul where ...       1.0\n",
       "\n",
       "[162980 rows x 2 columns]"
      ]
     },
     "execution_count": 4,
     "metadata": {},
     "output_type": "execute_result"
    }
   ],
   "source": [
    "raw.rename(columns={'clean_text': 'clean_comment'}, inplace=True)\n",
    "raw"
   ]
  },
  {
   "cell_type": "code",
   "execution_count": 5,
   "metadata": {},
   "outputs": [
    {
     "data": {
      "text/plain": [
       " 1.0    72250\n",
       " 0.0    55213\n",
       "-1.0    35510\n",
       "Name: category, dtype: int64"
      ]
     },
     "execution_count": 5,
     "metadata": {},
     "output_type": "execute_result"
    }
   ],
   "source": [
    "raw['category'].value_counts()"
   ]
  },
  {
   "cell_type": "markdown",
   "metadata": {},
   "source": [
    "#### Sampling to make number of data counts equal for each category"
   ]
  },
  {
   "cell_type": "code",
   "execution_count": 6,
   "metadata": {},
   "outputs": [
    {
     "data": {
      "text/html": [
       "<div>\n",
       "<style scoped>\n",
       "    .dataframe tbody tr th:only-of-type {\n",
       "        vertical-align: middle;\n",
       "    }\n",
       "\n",
       "    .dataframe tbody tr th {\n",
       "        vertical-align: top;\n",
       "    }\n",
       "\n",
       "    .dataframe thead th {\n",
       "        text-align: right;\n",
       "    }\n",
       "</style>\n",
       "<table border=\"1\" class=\"dataframe\">\n",
       "  <thead>\n",
       "    <tr style=\"text-align: right;\">\n",
       "      <th></th>\n",
       "      <th>clean_comment</th>\n",
       "      <th>category</th>\n",
       "    </tr>\n",
       "  </thead>\n",
       "  <tbody>\n",
       "    <tr>\n",
       "      <th>23277</th>\n",
       "      <td>will ensure that family and mohalla will the v...</td>\n",
       "      <td>1.0</td>\n",
       "    </tr>\n",
       "    <tr>\n",
       "      <th>76802</th>\n",
       "      <td>for example what modi delivers fake strike fai...</td>\n",
       "      <td>-1.0</td>\n",
       "    </tr>\n",
       "    <tr>\n",
       "      <th>53969</th>\n",
       "      <td>indian national congress inc was power for yea...</td>\n",
       "      <td>1.0</td>\n",
       "    </tr>\n",
       "    <tr>\n",
       "      <th>17367</th>\n",
       "      <td>did modi make even his last budget</td>\n",
       "      <td>0.0</td>\n",
       "    </tr>\n",
       "    <tr>\n",
       "      <th>161730</th>\n",
       "      <td>coincidence that many big economist like raghu...</td>\n",
       "      <td>1.0</td>\n",
       "    </tr>\n",
       "    <tr>\n",
       "      <th>...</th>\n",
       "      <td>...</td>\n",
       "      <td>...</td>\n",
       "    </tr>\n",
       "    <tr>\n",
       "      <th>78087</th>\n",
       "      <td>for surgical strike credit goes soldiers not f...</td>\n",
       "      <td>1.0</td>\n",
       "    </tr>\n",
       "    <tr>\n",
       "      <th>13709</th>\n",
       "      <td>modi for life dynasty bandits</td>\n",
       "      <td>0.0</td>\n",
       "    </tr>\n",
       "    <tr>\n",
       "      <th>5176</th>\n",
       "      <td>accept modi has minimum cocaine dose</td>\n",
       "      <td>0.0</td>\n",
       "    </tr>\n",
       "    <tr>\n",
       "      <th>46805</th>\n",
       "      <td>sir you didnt congratulated modi</td>\n",
       "      <td>0.0</td>\n",
       "    </tr>\n",
       "    <tr>\n",
       "      <th>15091</th>\n",
       "      <td>and thats the reason why people are crying muc...</td>\n",
       "      <td>1.0</td>\n",
       "    </tr>\n",
       "  </tbody>\n",
       "</table>\n",
       "<p>106530 rows × 2 columns</p>\n",
       "</div>"
      ],
      "text/plain": [
       "                                            clean_comment  category\n",
       "23277   will ensure that family and mohalla will the v...       1.0\n",
       "76802   for example what modi delivers fake strike fai...      -1.0\n",
       "53969   indian national congress inc was power for yea...       1.0\n",
       "17367                  did modi make even his last budget       0.0\n",
       "161730  coincidence that many big economist like raghu...       1.0\n",
       "...                                                   ...       ...\n",
       "78087   for surgical strike credit goes soldiers not f...       1.0\n",
       "13709                       modi for life dynasty bandits       0.0\n",
       "5176                accept modi has minimum cocaine dose        0.0\n",
       "46805                   sir you didnt congratulated modi        0.0\n",
       "15091   and thats the reason why people are crying muc...       1.0\n",
       "\n",
       "[106530 rows x 2 columns]"
      ]
     },
     "execution_count": 6,
     "metadata": {},
     "output_type": "execute_result"
    }
   ],
   "source": [
    "# NUM = 8277\n",
    "\n",
    "# positive = raw[raw['category']==1].sample(8277)\n",
    "# neutral = raw[raw['category']==0].sample(8277)\n",
    "# negative = raw[raw['category']==-1].sample(8277)\n",
    "\n",
    "NUM = 35510\n",
    "\n",
    "positive = raw[raw['category']==1].sample(NUM)\n",
    "neutral = raw[raw['category']==0].sample(NUM)\n",
    "negative = raw[raw['category']==-1].sample(NUM)\n",
    "\n",
    "data = pd.concat([positive, neutral, negative], axis=0).sample(frac=1)\n",
    "# positive.shape, neutral.shape, negative.shape\n",
    "\n",
    "data"
   ]
  },
  {
   "cell_type": "code",
   "execution_count": 7,
   "metadata": {},
   "outputs": [],
   "source": [
    "def load_glove_model(glove_file, encoding='iso-8859-1'):\n",
    "    print(\"[INFO]Loading GloVe Model...\")\n",
    "    model = {}\n",
    "    with open(glove_file, 'r', encoding=encoding) as f:\n",
    "        for line in f:\n",
    "            split_line = line.split()\n",
    "            word = split_line[0]\n",
    "            embeddings = [float(val) for val in split_line[1:]]\n",
    "            model[word] = embeddings\n",
    "    print(\"[INFO] Done...{} words loaded!\".format(len(model)))\n",
    "    return model\n",
    "# adopted from utils.py\n",
    "nlp = spacy.blank(\"en\")\n",
    "\n",
    "def remove_stopwords(sentence):\n",
    "    '''\n",
    "    function to remove stopwords\n",
    "        input: sentence - string of sentence\n",
    "    '''\n",
    "    new = []\n",
    "    # tokenize sentence\n",
    "    sentence = nlp(sentence)\n",
    "    for tk in sentence:\n",
    "        if (tk.is_stop == False) & (tk.pos_ !=\"PUNCT\"):\n",
    "            new.append(tk.string.strip())\n",
    "    # convert back to sentence string\n",
    "    c = \" \".join(str(x) for x in new)\n",
    "    return c\n",
    "\n",
    "\n",
    "def lemmatize(sentence):\n",
    "    '''\n",
    "    function to do lemmatization\n",
    "        input: sentence - string of sentence\n",
    "    '''\n",
    "    sentence = nlp(sentence)\n",
    "    s = \"\"\n",
    "    for w in sentence:\n",
    "        s +=\" \"+w.lemma_\n",
    "    return nlp(s)\n",
    "\n",
    "def sent_vectorizer(sent, model):\n",
    "    '''\n",
    "    sentence vectorizer using the pretrained glove model\n",
    "    '''\n",
    "    sent_vector = np.zeros(200)\n",
    "    num_w = 0\n",
    "    for w in sent.split():\n",
    "        try:\n",
    "            # add up all token vectors to a sent_vector\n",
    "            sent_vector = np.add(sent_vector, model[str(w)])\n",
    "            num_w += 1\n",
    "        except:\n",
    "            pass\n",
    "    return sent_vector"
   ]
  },
  {
   "cell_type": "code",
   "execution_count": 8,
   "metadata": {},
   "outputs": [
    {
     "data": {
      "text/plain": [
       "((106530,), (106530, 3))"
      ]
     },
     "execution_count": 8,
     "metadata": {},
     "output_type": "execute_result"
    }
   ],
   "source": [
    "data_X = data['clean_comment'].to_numpy().astype('str')\n",
    "data_y = data['category']\n",
    "data_y = pd.get_dummies(data_y).to_numpy()\n",
    "\n",
    "data_X.shape, data_y.shape"
   ]
  },
  {
   "cell_type": "markdown",
   "metadata": {},
   "source": [
    "### Loading GloVe Model"
   ]
  },
  {
   "cell_type": "code",
   "execution_count": 9,
   "metadata": {},
   "outputs": [
    {
     "name": "stdout",
     "output_type": "stream",
     "text": [
      "[INFO]Loading GloVe Model...\n",
      "[INFO] Done...1193514 words loaded!\n"
     ]
    }
   ],
   "source": [
    "# load the glove model\n",
    "glove_model = load_glove_model(\"glove.twitter.27B.200d.txt\", encoding='utf-8')\n",
    "# number of vocab to keep\n",
    "max_vocab = 18000\n",
    "# length of sequence that will generate\n",
    "max_len = 15\n",
    "\n",
    "tokenizer = Tokenizer(num_words=max_vocab)"
   ]
  },
  {
   "cell_type": "markdown",
   "metadata": {},
   "source": [
    "### Tokenizing "
   ]
  },
  {
   "cell_type": "code",
   "execution_count": 10,
   "metadata": {},
   "outputs": [
    {
     "name": "stdout",
     "output_type": "stream",
     "text": [
      "Found 87936 unique tokens.\n"
     ]
    },
    {
     "data": {
      "text/plain": [
       "(106530, 15)"
      ]
     },
     "execution_count": 10,
     "metadata": {},
     "output_type": "execute_result"
    }
   ],
   "source": [
    "tokenizer.fit_on_texts(data_X)\n",
    "sequences = tokenizer.texts_to_sequences(data_X)\n",
    "word_index = tokenizer.word_index\n",
    "print('Found %s unique tokens.' % len(word_index))\n",
    "data_keras = pad_sequences(sequences, maxlen=max_len, padding=\"post\")\n",
    "\n",
    "data_keras.shape"
   ]
  },
  {
   "cell_type": "markdown",
   "metadata": {},
   "source": [
    "## Train-test-split"
   ]
  },
  {
   "cell_type": "code",
   "execution_count": 11,
   "metadata": {},
   "outputs": [
    {
     "data": {
      "text/plain": [
       "((74571, 15), (31959, 15), (74571, 3), (31959, 3))"
      ]
     },
     "execution_count": 11,
     "metadata": {},
     "output_type": "execute_result"
    }
   ],
   "source": [
    "from sklearn.model_selection import train_test_split\n",
    "x_train, x_test, y_train, y_test = train_test_split(data_keras, data_y, test_size = 0.3, random_state=42)\n",
    "\n",
    "x_train.shape, x_test.shape, y_train.shape, y_test.shape"
   ]
  },
  {
   "cell_type": "code",
   "execution_count": 12,
   "metadata": {},
   "outputs": [
    {
     "name": "stdout",
     "output_type": "stream",
     "text": [
      "Number of words: 87937\n",
      "Null word embeddings: 51891\n"
     ]
    }
   ],
   "source": [
    "# calculate number of words\n",
    "nb_words = len(tokenizer.word_index) + 1\n",
    "print(f\"Number of words: {nb_words}\")\n",
    "\n",
    "# obtain the word embedding matrix\n",
    "embedding_matrix = np.zeros((nb_words, 200))\n",
    "\n",
    "for word, i in word_index.items():\n",
    "    embedding_vector = glove_model.get(word)\n",
    "    if embedding_vector is not None:\n",
    "        embedding_matrix[i] = embedding_vector\n",
    "print('Null word embeddings: %d' % np.sum(np.sum(embedding_matrix, axis=1) == 0))"
   ]
  },
  {
   "cell_type": "code",
   "execution_count": 13,
   "metadata": {},
   "outputs": [],
   "source": [
    "# adopted from sent_tran_eval.py\n",
    "def build_model(nb_words, rnn_model=\"SimpleRNN\", embedding_matrix=None):\n",
    "    '''\n",
    "    build_model function:\n",
    "    inputs: \n",
    "        rnn_model - which type of RNN layer to use, choose in (SimpleRNN, LSTM, GRU)\n",
    "        embedding_matrix - whether to use pretrained embeddings or not\n",
    "    '''\n",
    "    model = Sequential()\n",
    "    # add an embedding layer\n",
    "    if embedding_matrix is not None:\n",
    "        model.add(Embedding(nb_words, \n",
    "                        200, \n",
    "                        weights=[embedding_matrix], \n",
    "                        input_length= max_len,\n",
    "                        trainable = False))\n",
    "    else:\n",
    "        model.add(Embedding(nb_words, \n",
    "                        200, \n",
    "                        input_length= max_len,\n",
    "                        trainable = False))\n",
    "        \n",
    "    # add an RNN layer according to rnn_model\n",
    "    if rnn_model == \"SimpleRNN\":\n",
    "        model.add(SimpleRNN(256))\n",
    "      \n",
    "    elif rnn_model == \"LSTM\":\n",
    "        model.add(LSTM(256))\n",
    "    else:\n",
    "        model.add(GRU(256))\n",
    "\n",
    "    model.add(Dense(512,activation='relu'))\n",
    "    model.add(Dense(512, activation='relu'))\n",
    "    model.add(Dense(3, activation='softmax'))\n",
    "    \n",
    "    model.compile(loss='categorical_crossentropy', \n",
    "                optimizer='rmsprop',\n",
    "                metrics=['accuracy'])\n",
    "    return model"
   ]
  },
  {
   "cell_type": "markdown",
   "metadata": {},
   "source": [
    "## RNN Model"
   ]
  },
  {
   "cell_type": "code",
   "execution_count": 15,
   "metadata": {},
   "outputs": [
    {
     "name": "stdout",
     "output_type": "stream",
     "text": [
      "Model: \"sequential\"\n",
      "_________________________________________________________________\n",
      " Layer (type)                Output Shape              Param #   \n",
      "=================================================================\n",
      " embedding (Embedding)       (None, 15, 200)           17587400  \n",
      "                                                                 \n",
      " simple_rnn (SimpleRNN)      (None, 256)               116992    \n",
      "                                                                 \n",
      " dense (Dense)               (None, 512)               131584    \n",
      "                                                                 \n",
      " dense_1 (Dense)             (None, 512)               262656    \n",
      "                                                                 \n",
      " dense_2 (Dense)             (None, 3)                 1539      \n",
      "                                                                 \n",
      "=================================================================\n",
      "Total params: 18,100,171\n",
      "Trainable params: 512,771\n",
      "Non-trainable params: 17,587,400\n",
      "_________________________________________________________________\n",
      "Epoch 1/30\n",
      "2331/2331 [==============================] - ETA: 0s - loss: 0.9402 - accuracy: 0.5533\n",
      "Epoch 1: saving model to tmp/checkpoint\\model_rnn.hdf5\n",
      "\n",
      "Epoch 1: val_accuracy improved from -inf to 0.61160, saving model to tmp/checkpoint\\model_rnnAcc.hdf5\n",
      "\n",
      "Epoch 1: val_loss improved from inf to 0.88534, saving model to tmp/checkpoint\\model_rnnLoss.hdf5\n",
      "2331/2331 [==============================] - 82s 33ms/step - loss: 0.9402 - accuracy: 0.5533 - val_loss: 0.8853 - val_accuracy: 0.6116 - lr: 0.0010\n",
      "Epoch 2/30\n",
      "2330/2331 [============================>.] - ETA: 0s - loss: 0.8376 - accuracy: 0.6249\n",
      "Epoch 2: saving model to tmp/checkpoint\\model_rnn.hdf5\n",
      "\n",
      "Epoch 2: val_accuracy improved from 0.61160 to 0.62546, saving model to tmp/checkpoint\\model_rnnAcc.hdf5\n",
      "\n",
      "Epoch 2: val_loss improved from 0.88534 to 0.83117, saving model to tmp/checkpoint\\model_rnnLoss.hdf5\n",
      "2331/2331 [==============================] - 79s 34ms/step - loss: 0.8376 - accuracy: 0.6248 - val_loss: 0.8312 - val_accuracy: 0.6255 - lr: 0.0010\n",
      "Epoch 3/30\n",
      "2331/2331 [==============================] - ETA: 0s - loss: 0.7858 - accuracy: 0.6543\n",
      "Epoch 3: saving model to tmp/checkpoint\\model_rnn.hdf5\n",
      "\n",
      "Epoch 3: val_accuracy improved from 0.62546 to 0.62818, saving model to tmp/checkpoint\\model_rnnAcc.hdf5\n",
      "\n",
      "Epoch 3: val_loss did not improve from 0.83117\n",
      "2331/2331 [==============================] - 88s 38ms/step - loss: 0.7858 - accuracy: 0.6543 - val_loss: 0.8499 - val_accuracy: 0.6282 - lr: 0.0010\n",
      "Epoch 4/30\n",
      "2330/2331 [============================>.] - ETA: 0s - loss: 0.7637 - accuracy: 0.6715\n",
      "Epoch 4: saving model to tmp/checkpoint\\model_rnn.hdf5\n",
      "\n",
      "Epoch 4: val_accuracy improved from 0.62818 to 0.67011, saving model to tmp/checkpoint\\model_rnnAcc.hdf5\n",
      "\n",
      "Epoch 4: val_loss improved from 0.83117 to 0.76616, saving model to tmp/checkpoint\\model_rnnLoss.hdf5\n",
      "2331/2331 [==============================] - 75s 32ms/step - loss: 0.7637 - accuracy: 0.6715 - val_loss: 0.7662 - val_accuracy: 0.6701 - lr: 0.0010\n",
      "Epoch 5/30\n",
      "2329/2331 [============================>.] - ETA: 0s - loss: 0.7424 - accuracy: 0.6849\n",
      "Epoch 5: saving model to tmp/checkpoint\\model_rnn.hdf5\n",
      "\n",
      "Epoch 5: val_accuracy improved from 0.67011 to 0.67396, saving model to tmp/checkpoint\\model_rnnAcc.hdf5\n",
      "\n",
      "Epoch 5: val_loss did not improve from 0.76616\n",
      "2331/2331 [==============================] - 77s 33ms/step - loss: 0.7425 - accuracy: 0.6849 - val_loss: 0.7766 - val_accuracy: 0.6740 - lr: 0.0010\n",
      "Epoch 6/30\n",
      "2331/2331 [==============================] - ETA: 0s - loss: 0.7331 - accuracy: 0.6926\n",
      "Epoch 6: saving model to tmp/checkpoint\\model_rnn.hdf5\n",
      "\n",
      "Epoch 6: val_accuracy did not improve from 0.67396\n",
      "\n",
      "Epoch 6: val_loss did not improve from 0.76616\n",
      "2331/2331 [==============================] - 80s 34ms/step - loss: 0.7331 - accuracy: 0.6926 - val_loss: 0.8067 - val_accuracy: 0.6674 - lr: 0.0010\n",
      "Epoch 7/30\n",
      "2331/2331 [==============================] - ETA: 0s - loss: 0.7256 - accuracy: 0.6975\n",
      "Epoch 7: saving model to tmp/checkpoint\\model_rnn.hdf5\n",
      "\n",
      "Epoch 7: val_accuracy improved from 0.67396 to 0.68841, saving model to tmp/checkpoint\\model_rnnAcc.hdf5\n",
      "\n",
      "Epoch 7: val_loss improved from 0.76616 to 0.75407, saving model to tmp/checkpoint\\model_rnnLoss.hdf5\n",
      "2331/2331 [==============================] - 82s 35ms/step - loss: 0.7256 - accuracy: 0.6975 - val_loss: 0.7541 - val_accuracy: 0.6884 - lr: 0.0010\n",
      "Epoch 8/30\n",
      "2331/2331 [==============================] - ETA: 0s - loss: 0.7183 - accuracy: 0.7012\n",
      "Epoch 8: saving model to tmp/checkpoint\\model_rnn.hdf5\n",
      "\n",
      "Epoch 8: val_accuracy improved from 0.68841 to 0.69151, saving model to tmp/checkpoint\\model_rnnAcc.hdf5\n",
      "\n",
      "Epoch 8: val_loss did not improve from 0.75407\n",
      "2331/2331 [==============================] - 81s 35ms/step - loss: 0.7183 - accuracy: 0.7012 - val_loss: 0.7886 - val_accuracy: 0.6915 - lr: 0.0010\n",
      "Epoch 9/30\n",
      "2330/2331 [============================>.] - ETA: 0s - loss: 0.7149 - accuracy: 0.7049\n",
      "Epoch 9: saving model to tmp/checkpoint\\model_rnn.hdf5\n",
      "\n",
      "Epoch 9: val_accuracy did not improve from 0.69151\n",
      "\n",
      "Epoch 9: val_loss did not improve from 0.75407\n",
      "2331/2331 [==============================] - 78s 34ms/step - loss: 0.7149 - accuracy: 0.7048 - val_loss: 0.8033 - val_accuracy: 0.6830 - lr: 0.0010\n",
      "Epoch 10/30\n",
      "2331/2331 [==============================] - ETA: 0s - loss: 0.7240 - accuracy: 0.7108\n",
      "Epoch 10: saving model to tmp/checkpoint\\model_rnn.hdf5\n",
      "\n",
      "Epoch 10: val_accuracy improved from 0.69151 to 0.71029, saving model to tmp/checkpoint\\model_rnnAcc.hdf5\n",
      "\n",
      "Epoch 10: val_loss improved from 0.75407 to 0.74376, saving model to tmp/checkpoint\\model_rnnLoss.hdf5\n",
      "2331/2331 [==============================] - 78s 33ms/step - loss: 0.7240 - accuracy: 0.7108 - val_loss: 0.7438 - val_accuracy: 0.7103 - lr: 0.0010\n",
      "Epoch 11/30\n",
      "2331/2331 [==============================] - ETA: 0s - loss: 0.6984 - accuracy: 0.7136\n",
      "Epoch 11: saving model to tmp/checkpoint\\model_rnn.hdf5\n",
      "\n",
      "Epoch 11: val_accuracy did not improve from 0.71029\n",
      "\n",
      "Epoch 11: val_loss improved from 0.74376 to 0.70240, saving model to tmp/checkpoint\\model_rnnLoss.hdf5\n",
      "2331/2331 [==============================] - 81s 35ms/step - loss: 0.6984 - accuracy: 0.7136 - val_loss: 0.7024 - val_accuracy: 0.7012 - lr: 0.0010\n",
      "Epoch 12/30\n",
      "2331/2331 [==============================] - ETA: 0s - loss: 0.6940 - accuracy: 0.7165\n",
      "Epoch 12: saving model to tmp/checkpoint\\model_rnn.hdf5\n",
      "\n",
      "Epoch 12: val_accuracy did not improve from 0.71029\n",
      "\n",
      "Epoch 12: val_loss did not improve from 0.70240\n",
      "2331/2331 [==============================] - 81s 35ms/step - loss: 0.6940 - accuracy: 0.7165 - val_loss: 0.7174 - val_accuracy: 0.7067 - lr: 0.0010\n",
      "Epoch 13/30\n",
      "2331/2331 [==============================] - ETA: 0s - loss: 0.6936 - accuracy: 0.7171\n",
      "Epoch 13: saving model to tmp/checkpoint\\model_rnn.hdf5\n",
      "\n",
      "Epoch 13: val_accuracy improved from 0.71029 to 0.71054, saving model to tmp/checkpoint\\model_rnnAcc.hdf5\n",
      "\n",
      "Epoch 13: val_loss did not improve from 0.70240\n",
      "2331/2331 [==============================] - 80s 34ms/step - loss: 0.6936 - accuracy: 0.7171 - val_loss: 0.7550 - val_accuracy: 0.7105 - lr: 0.0010\n",
      "Epoch 14/30\n",
      "2331/2331 [==============================] - ETA: 0s - loss: 0.6843 - accuracy: 0.7224\n",
      "Epoch 14: saving model to tmp/checkpoint\\model_rnn.hdf5\n",
      "\n",
      "Epoch 14: val_accuracy did not improve from 0.71054\n",
      "\n",
      "Epoch 14: val_loss did not improve from 0.70240\n",
      "2331/2331 [==============================] - 80s 34ms/step - loss: 0.6843 - accuracy: 0.7224 - val_loss: 0.7102 - val_accuracy: 0.7072 - lr: 0.0010\n",
      "Epoch 15/30\n",
      "2331/2331 [==============================] - ETA: 0s - loss: 0.7154 - accuracy: 0.7222\n",
      "Epoch 15: saving model to tmp/checkpoint\\model_rnn.hdf5\n",
      "\n",
      "Epoch 15: val_accuracy improved from 0.71054 to 0.72033, saving model to tmp/checkpoint\\model_rnnAcc.hdf5\n",
      "\n",
      "Epoch 15: val_loss did not improve from 0.70240\n",
      "2331/2331 [==============================] - 80s 34ms/step - loss: 0.7154 - accuracy: 0.7222 - val_loss: 0.7946 - val_accuracy: 0.7203 - lr: 0.0010\n",
      "Epoch 16/30\n",
      "2331/2331 [==============================] - ETA: 0s - loss: 0.6816 - accuracy: 0.7255\n",
      "Epoch 16: saving model to tmp/checkpoint\\model_rnn.hdf5\n",
      "\n",
      "Epoch 16: val_accuracy did not improve from 0.72033\n",
      "\n",
      "Epoch 16: val_loss improved from 0.70240 to 0.67675, saving model to tmp/checkpoint\\model_rnnLoss.hdf5\n",
      "2331/2331 [==============================] - 80s 34ms/step - loss: 0.6816 - accuracy: 0.7255 - val_loss: 0.6768 - val_accuracy: 0.7171 - lr: 0.0010\n",
      "Epoch 17/30\n",
      "2331/2331 [==============================] - ETA: 0s - loss: 0.6767 - accuracy: 0.7267\n",
      "Epoch 17: saving model to tmp/checkpoint\\model_rnn.hdf5\n",
      "\n",
      "Epoch 17: val_accuracy did not improve from 0.72033\n",
      "\n",
      "Epoch 17: val_loss did not improve from 0.67675\n",
      "2331/2331 [==============================] - 79s 34ms/step - loss: 0.6767 - accuracy: 0.7267 - val_loss: 0.7820 - val_accuracy: 0.7009 - lr: 0.0010\n",
      "Epoch 18/30\n",
      "2330/2331 [============================>.] - ETA: 0s - loss: 0.6784 - accuracy: 0.7260\n",
      "Epoch 18: saving model to tmp/checkpoint\\model_rnn.hdf5\n",
      "\n",
      "Epoch 18: val_accuracy did not improve from 0.72033\n",
      "\n",
      "Epoch 18: val_loss did not improve from 0.67675\n",
      "2331/2331 [==============================] - 80s 34ms/step - loss: 0.6784 - accuracy: 0.7260 - val_loss: 0.6950 - val_accuracy: 0.7024 - lr: 0.0010\n",
      "Epoch 19/30\n",
      "2331/2331 [==============================] - ETA: 0s - loss: 0.6888 - accuracy: 0.7299\n",
      "Epoch 19: saving model to tmp/checkpoint\\model_rnn.hdf5\n",
      "\n",
      "Epoch 19: val_accuracy did not improve from 0.72033\n",
      "\n",
      "Epoch 19: val_loss did not improve from 0.67675\n",
      "2331/2331 [==============================] - 79s 34ms/step - loss: 0.6888 - accuracy: 0.7299 - val_loss: 0.8165 - val_accuracy: 0.6997 - lr: 0.0010\n",
      "Epoch 20/30\n",
      "2331/2331 [==============================] - ETA: 0s - loss: 0.7047 - accuracy: 0.7269\n",
      "Epoch 20: saving model to tmp/checkpoint\\model_rnn.hdf5\n",
      "\n",
      "Epoch 20: val_accuracy did not improve from 0.72033\n",
      "\n",
      "Epoch 20: val_loss did not improve from 0.67675\n",
      "2331/2331 [==============================] - 78s 33ms/step - loss: 0.7047 - accuracy: 0.7269 - val_loss: 0.7604 - val_accuracy: 0.7046 - lr: 0.0010\n",
      "Epoch 21/30\n",
      "2331/2331 [==============================] - ETA: 0s - loss: 0.6833 - accuracy: 0.7277\n",
      "Epoch 21: saving model to tmp/checkpoint\\model_rnn.hdf5\n",
      "\n",
      "Epoch 21: val_accuracy did not improve from 0.72033\n",
      "\n",
      "Epoch 21: val_loss did not improve from 0.67675\n",
      "\n",
      "Epoch 21: ReduceLROnPlateau reducing learning rate to 0.0005000000237487257.\n",
      "2331/2331 [==============================] - 79s 34ms/step - loss: 0.6833 - accuracy: 0.7277 - val_loss: 0.7278 - val_accuracy: 0.7185 - lr: 0.0010\n",
      "Epoch 22/30\n",
      "2331/2331 [==============================] - ETA: 0s - loss: 0.6348 - accuracy: 0.7441\n",
      "Epoch 22: saving model to tmp/checkpoint\\model_rnn.hdf5\n",
      "\n",
      "Epoch 22: val_accuracy improved from 0.72033 to 0.72574, saving model to tmp/checkpoint\\model_rnnAcc.hdf5\n",
      "\n",
      "Epoch 22: val_loss improved from 0.67675 to 0.67251, saving model to tmp/checkpoint\\model_rnnLoss.hdf5\n",
      "2331/2331 [==============================] - 85s 36ms/step - loss: 0.6348 - accuracy: 0.7441 - val_loss: 0.6725 - val_accuracy: 0.7257 - lr: 5.0000e-04\n",
      "Epoch 23/30\n",
      "2331/2331 [==============================] - ETA: 0s - loss: 0.6259 - accuracy: 0.7472\n",
      "Epoch 23: saving model to tmp/checkpoint\\model_rnn.hdf5\n",
      "\n",
      "Epoch 23: val_accuracy improved from 0.72574 to 0.73957, saving model to tmp/checkpoint\\model_rnnAcc.hdf5\n",
      "\n",
      "Epoch 23: val_loss did not improve from 0.67251\n",
      "2331/2331 [==============================] - 83s 35ms/step - loss: 0.6259 - accuracy: 0.7472 - val_loss: 0.7315 - val_accuracy: 0.7396 - lr: 5.0000e-04\n",
      "Epoch 24/30\n",
      "2331/2331 [==============================] - ETA: 0s - loss: 0.6184 - accuracy: 0.7499\n",
      "Epoch 24: saving model to tmp/checkpoint\\model_rnn.hdf5\n",
      "\n",
      "Epoch 24: val_accuracy did not improve from 0.73957\n",
      "\n",
      "Epoch 24: val_loss did not improve from 0.67251\n",
      "2331/2331 [==============================] - 78s 34ms/step - loss: 0.6184 - accuracy: 0.7499 - val_loss: 0.7143 - val_accuracy: 0.7385 - lr: 5.0000e-04\n",
      "Epoch 25/30\n",
      "2331/2331 [==============================] - ETA: 0s - loss: 0.6134 - accuracy: 0.7545\n",
      "Epoch 25: saving model to tmp/checkpoint\\model_rnn.hdf5\n",
      "\n",
      "Epoch 25: val_accuracy did not improve from 0.73957\n",
      "\n",
      "Epoch 25: val_loss improved from 0.67251 to 0.66520, saving model to tmp/checkpoint\\model_rnnLoss.hdf5\n",
      "2331/2331 [==============================] - 78s 33ms/step - loss: 0.6134 - accuracy: 0.7545 - val_loss: 0.6652 - val_accuracy: 0.7329 - lr: 5.0000e-04\n",
      "Epoch 26/30\n",
      "2331/2331 [==============================] - ETA: 0s - loss: 0.6163 - accuracy: 0.7571\n",
      "Epoch 26: saving model to tmp/checkpoint\\model_rnn.hdf5\n",
      "\n",
      "Epoch 26: val_accuracy did not improve from 0.73957\n",
      "\n",
      "Epoch 26: val_loss did not improve from 0.66520\n",
      "2331/2331 [==============================] - 78s 33ms/step - loss: 0.6163 - accuracy: 0.7571 - val_loss: 0.6982 - val_accuracy: 0.7339 - lr: 5.0000e-04\n",
      "Epoch 27/30\n",
      "2330/2331 [============================>.] - ETA: 0s - loss: 0.6060 - accuracy: 0.7565\n",
      "Epoch 27: saving model to tmp/checkpoint\\model_rnn.hdf5\n",
      "\n",
      "Epoch 27: val_accuracy improved from 0.73957 to 0.74195, saving model to tmp/checkpoint\\model_rnnAcc.hdf5\n",
      "\n",
      "Epoch 27: val_loss did not improve from 0.66520\n",
      "2331/2331 [==============================] - 74s 32ms/step - loss: 0.6060 - accuracy: 0.7565 - val_loss: 0.7384 - val_accuracy: 0.7420 - lr: 5.0000e-04\n",
      "Epoch 28/30\n",
      "2330/2331 [============================>.] - ETA: 0s - loss: 0.6024 - accuracy: 0.7584\n",
      "Epoch 28: saving model to tmp/checkpoint\\model_rnn.hdf5\n",
      "\n",
      "Epoch 28: val_accuracy did not improve from 0.74195\n",
      "\n",
      "Epoch 28: val_loss did not improve from 0.66520\n",
      "2331/2331 [==============================] - 71s 31ms/step - loss: 0.6024 - accuracy: 0.7584 - val_loss: 0.7182 - val_accuracy: 0.7259 - lr: 5.0000e-04\n",
      "Epoch 29/30\n",
      "2331/2331 [==============================] - ETA: 0s - loss: 0.6060 - accuracy: 0.7601\n",
      "Epoch 29: saving model to tmp/checkpoint\\model_rnn.hdf5\n",
      "\n",
      "Epoch 29: val_accuracy did not improve from 0.74195\n",
      "\n",
      "Epoch 29: val_loss improved from 0.66520 to 0.66294, saving model to tmp/checkpoint\\model_rnnLoss.hdf5\n",
      "2331/2331 [==============================] - 72s 31ms/step - loss: 0.6060 - accuracy: 0.7601 - val_loss: 0.6629 - val_accuracy: 0.7363 - lr: 5.0000e-04\n",
      "Epoch 30/30\n",
      "2331/2331 [==============================] - ETA: 0s - loss: 0.6075 - accuracy: 0.7616\n",
      "Epoch 30: saving model to tmp/checkpoint\\model_rnn.hdf5\n",
      "\n",
      "Epoch 30: val_accuracy improved from 0.74195 to 0.74655, saving model to tmp/checkpoint\\model_rnnAcc.hdf5\n",
      "\n",
      "Epoch 30: val_loss did not improve from 0.66294\n",
      "2331/2331 [==============================] - 74s 32ms/step - loss: 0.6075 - accuracy: 0.7616 - val_loss: 0.6759 - val_accuracy: 0.7466 - lr: 5.0000e-04\n",
      "Model: \"sequential\"\n",
      "_________________________________________________________________\n",
      " Layer (type)                Output Shape              Param #   \n",
      "=================================================================\n",
      " embedding (Embedding)       (None, 15, 200)           17587400  \n",
      "                                                                 \n",
      " simple_rnn (SimpleRNN)      (None, 256)               116992    \n",
      "                                                                 \n",
      " dense (Dense)               (None, 512)               131584    \n",
      "                                                                 \n",
      " dense_1 (Dense)             (None, 512)               262656    \n",
      "                                                                 \n",
      " dense_2 (Dense)             (None, 3)                 1539      \n",
      "                                                                 \n",
      "=================================================================\n",
      "Total params: 18,100,171\n",
      "Trainable params: 512,771\n",
      "Non-trainable params: 17,587,400\n",
      "_________________________________________________________________\n",
      "999/999 [==============================] - 6s 6ms/step\n",
      "              precision    recall  f1-score   support\n",
      "\n",
      "           0       0.76      0.68      0.72     10672\n",
      "           1       0.70      0.89      0.78     10679\n",
      "           2       0.81      0.67      0.73     10608\n",
      "\n",
      "    accuracy                           0.75     31959\n",
      "   macro avg       0.76      0.75      0.74     31959\n",
      "weighted avg       0.76      0.75      0.74     31959\n",
      "\n"
     ]
    }
   ],
   "source": [
    "model_rnn = build_model(nb_words, \"SimpleRNN\", embedding_matrix)\n",
    "model_rnn.summary()\n",
    "checkpoint = tf.keras.callbacks.ModelCheckpoint('tmp/checkpoint/model_rnn.hdf5',verbose=True)\n",
    "getAcc = tf.keras.callbacks.ModelCheckpoint('tmp/checkpoint/model_rnnAcc.hdf5',verbose=True,save_best_only=True,monitor='val_accuracy')\n",
    "getLoss = tf.keras.callbacks.ModelCheckpoint('tmp/checkpoint/model_rnnLoss.hdf5',verbose=True,save_best_only=True,monitor='val_loss')\n",
    "\n",
    "early_stop = EarlyStopping(monitor='val_loss', mode='min', verbose=1, patience=10, restore_best_weights=True)\n",
    "\n",
    "#reducing learning rate on plateau\n",
    "rlrop = ReduceLROnPlateau(monitor='val_loss', mode='min', patience= 5, factor= 0.5, min_lr= 1e-6, verbose=1)\n",
    "\n",
    "model_rnn_history = model_rnn.fit(x_train, y_train, \n",
    "                                                epochs=30, \n",
    "                                                validation_data=(x_test, y_test), \n",
    "                                                callbacks=[checkpoint,getAcc,getLoss, \n",
    "                                               early_stop, rlrop])\n",
    "model_rnn.summary()\n",
    "predictions = model_rnn.predict(x_test)\n",
    "predictions = predictions.argmax(axis=1)\n",
    "print(classification_report(y_test.argmax(axis=1), predictions))"
   ]
  },
  {
   "cell_type": "code",
   "execution_count": 16,
   "metadata": {},
   "outputs": [
    {
     "name": "stdout",
     "output_type": "stream",
     "text": [
      "999/999 [==============================] - 7s 7ms/step - loss: 0.6759 - accuracy: 0.7466\n",
      "[0.6758729219436646, 0.7465502619743347]\n",
      "999/999 [==============================] - 7s 7ms/step - loss: 0.6759 - accuracy: 0.7466\n",
      "999/999 [==============================] - 7s 7ms/step - loss: 0.6629 - accuracy: 0.7363\n",
      "Best Acc Test Loss: 0.6758729219436646\n",
      "Best Acc Test Accuracy: 74.66000000000001 %\n",
      "Best Loss Test Loss: 0.6629405617713928\n",
      "Best Loss Test Accuracy: 73.63 %\n"
     ]
    }
   ],
   "source": [
    "# evaluating baseline coarse model\n",
    "print(model_rnn.evaluate(x_test, y_test))\n",
    "model_rnn.load_weights('tmp/checkpoint/model_rnnAcc.hdf5')\n",
    "scoreAcc = model_rnn.evaluate(x_test, y_test)\n",
    "model_rnn.load_weights('tmp/checkpoint/model_rnnLoss.hdf5')\n",
    "scoreLoss = model_rnn.evaluate(x_test, y_test)\n",
    "print('Best Acc Test Loss:', scoreAcc[0])\n",
    "print('Best Acc Test Accuracy:', round(scoreAcc[1],4)*100,'%')\n",
    "print('Best Loss Test Loss:', scoreLoss[0])\n",
    "print('Best Loss Test Accuracy:', round(scoreLoss[1],4)*100,'%')"
   ]
  },
  {
   "cell_type": "code",
   "execution_count": 17,
   "metadata": {},
   "outputs": [
    {
     "data": {
      "image/png": "[encoded data removed]",
      "text/plain": [
       "<Figure size 1000x300 with 1 Axes>"
      ]
     },
     "metadata": {},
     "output_type": "display_data"
    },
    {
     "data": {
      "image/png": "[encoded data removed]",
      "text/plain": [
       "<Figure size 1000x300 with 1 Axes>"
      ]
     },
     "metadata": {},
     "output_type": "display_data"
    }
   ],
   "source": [
    "max_val_acc_epoch = np.argmax(list(model_rnn_history.history['val_accuracy']))+1\n",
    "max_val_loss_epoch = np.argmin(list(model_rnn_history.history['val_loss']))+1\n",
    "epochs = range(1, len(model_rnn_history.history['accuracy']) + 1)\n",
    "plt.figure(figsize=(10,3))\n",
    "plt.minorticks_on()\n",
    "plt.axvline(x=max_val_acc_epoch, color='0.5', linestyle='--')\n",
    "plt.axvline(x=max_val_loss_epoch, color='0.5', linestyle=':')\n",
    "plt.plot(epochs,model_rnn_history.history['accuracy'], label='Train')\n",
    "plt.plot(epochs,model_rnn_history.history['val_accuracy'], label='Validation')\n",
    "plt.xlabel('Epochs')\n",
    "plt.ylabel('Accuracy')\n",
    "plt.legend()\n",
    "plt.show()\n",
    "\n",
    "plt.figure(figsize=(10,3))\n",
    "plt.minorticks_on()\n",
    "plt.axvline(x=max_val_acc_epoch, color='0.5', linestyle='--')\n",
    "plt.axvline(x=max_val_loss_epoch, color='0.5', linestyle=':')\n",
    "plt.plot(epochs,model_rnn_history.history['loss'], label='Train')\n",
    "plt.plot(epochs,model_rnn_history.history['val_loss'], label='Validation')\n",
    "plt.xlabel('Epochs')\n",
    "plt.ylabel('Loss')\n",
    "plt.legend()\n",
    "plt.show()"
   ]
  },
  {
   "cell_type": "code",
   "execution_count": 18,
   "metadata": {},
   "outputs": [],
   "source": [
    "# import visualkeras\n",
    "# from PIL import ImageFont\n",
    "# visualkeras.layered_view(model_rnn, legend=True)"
   ]
  },
  {
   "cell_type": "code",
   "execution_count": 19,
   "metadata": {},
   "outputs": [],
   "source": [
    "model_rnn.save_weights(\"./tmp/rnn-model.h5\")"
   ]
  },
  {
   "cell_type": "markdown",
   "metadata": {},
   "source": [
    "## LSTM Model"
   ]
  },
  {
   "cell_type": "code",
   "execution_count": 20,
   "metadata": {},
   "outputs": [
    {
     "name": "stdout",
     "output_type": "stream",
     "text": [
      "Model: \"sequential_1\"\n",
      "_________________________________________________________________\n",
      " Layer (type)                Output Shape              Param #   \n",
      "=================================================================\n",
      " embedding_1 (Embedding)     (None, 15, 200)           17587400  \n",
      "                                                                 \n",
      " lstm (LSTM)                 (None, 256)               467968    \n",
      "                                                                 \n",
      " dense_3 (Dense)             (None, 512)               131584    \n",
      "                                                                 \n",
      " dense_4 (Dense)             (None, 512)               262656    \n",
      "                                                                 \n",
      " dense_5 (Dense)             (None, 3)                 1539      \n",
      "                                                                 \n",
      "=================================================================\n",
      "Total params: 18,451,147\n",
      "Trainable params: 863,747\n",
      "Non-trainable params: 17,587,400\n",
      "_________________________________________________________________\n",
      "Epoch 1/30\n",
      "2328/2331 [============================>.] - ETA: 0s - loss: 0.7495 - accuracy: 0.6659\n",
      "Epoch 1: saving model to tmp/checkpoint\\model_lstm.hdf5\n",
      "\n",
      "Epoch 1: val_accuracy improved from -inf to 0.74098, saving model to tmp/checkpoint\\model_lstmAcc.hdf5\n",
      "\n",
      "Epoch 1: val_loss improved from inf to 0.62229, saving model to tmp/checkpoint\\model_lstmLoss.hdf5\n",
      "2331/2331 [==============================] - 43s 13ms/step - loss: 0.7494 - accuracy: 0.6660 - val_loss: 0.6223 - val_accuracy: 0.7410 - lr: 0.0010\n",
      "Epoch 2/30\n",
      "2326/2331 [============================>.] - ETA: 0s - loss: 0.5607 - accuracy: 0.7665\n",
      "Epoch 2: saving model to tmp/checkpoint\\model_lstm.hdf5\n",
      "\n",
      "Epoch 2: val_accuracy did not improve from 0.74098\n",
      "\n",
      "Epoch 2: val_loss improved from 0.62229 to 0.60601, saving model to tmp/checkpoint\\model_lstmLoss.hdf5\n",
      "2331/2331 [==============================] - 24s 10ms/step - loss: 0.5608 - accuracy: 0.7664 - val_loss: 0.6060 - val_accuracy: 0.7328 - lr: 0.0010\n",
      "Epoch 3/30\n",
      "2330/2331 [============================>.] - ETA: 0s - loss: 0.4848 - accuracy: 0.8055\n",
      "Epoch 3: saving model to tmp/checkpoint\\model_lstm.hdf5\n",
      "\n",
      "Epoch 3: val_accuracy improved from 0.74098 to 0.80115, saving model to tmp/checkpoint\\model_lstmAcc.hdf5\n",
      "\n",
      "Epoch 3: val_loss improved from 0.60601 to 0.52311, saving model to tmp/checkpoint\\model_lstmLoss.hdf5\n",
      "2331/2331 [==============================] - 26s 11ms/step - loss: 0.4848 - accuracy: 0.8055 - val_loss: 0.5231 - val_accuracy: 0.8012 - lr: 0.0010\n",
      "Epoch 4/30\n",
      "2327/2331 [============================>.] - ETA: 0s - loss: 0.4405 - accuracy: 0.8272\n",
      "Epoch 4: saving model to tmp/checkpoint\\model_lstm.hdf5\n",
      "\n",
      "Epoch 4: val_accuracy improved from 0.80115 to 0.80697, saving model to tmp/checkpoint\\model_lstmAcc.hdf5\n",
      "\n",
      "Epoch 4: val_loss did not improve from 0.52311\n",
      "2331/2331 [==============================] - 21s 9ms/step - loss: 0.4403 - accuracy: 0.8273 - val_loss: 0.6030 - val_accuracy: 0.8070 - lr: 0.0010\n",
      "Epoch 5/30\n",
      "2326/2331 [============================>.] - ETA: 0s - loss: 0.4052 - accuracy: 0.8426\n",
      "Epoch 5: saving model to tmp/checkpoint\\model_lstm.hdf5\n",
      "\n",
      "Epoch 5: val_accuracy did not improve from 0.80697\n",
      "\n",
      "Epoch 5: val_loss did not improve from 0.52311\n",
      "2331/2331 [==============================] - 21s 9ms/step - loss: 0.4050 - accuracy: 0.8426 - val_loss: 0.7182 - val_accuracy: 0.8042 - lr: 0.0010\n",
      "Epoch 6/30\n",
      "2330/2331 [============================>.] - ETA: 0s - loss: 0.3652 - accuracy: 0.8587\n",
      "Epoch 6: saving model to tmp/checkpoint\\model_lstm.hdf5\n",
      "\n",
      "Epoch 6: val_accuracy did not improve from 0.80697\n",
      "\n",
      "Epoch 6: val_loss did not improve from 0.52311\n",
      "2331/2331 [==============================] - 21s 9ms/step - loss: 0.3652 - accuracy: 0.8587 - val_loss: 0.7769 - val_accuracy: 0.7823 - lr: 0.0010\n",
      "Epoch 7/30\n",
      "2326/2331 [============================>.] - ETA: 0s - loss: 0.3333 - accuracy: 0.8751\n",
      "Epoch 7: saving model to tmp/checkpoint\\model_lstm.hdf5\n",
      "\n",
      "Epoch 7: val_accuracy did not improve from 0.80697\n",
      "\n",
      "Epoch 7: val_loss did not improve from 0.52311\n",
      "2331/2331 [==============================] - 21s 9ms/step - loss: 0.3332 - accuracy: 0.8752 - val_loss: 0.8795 - val_accuracy: 0.8029 - lr: 0.0010\n",
      "Epoch 8/30\n",
      "2328/2331 [============================>.] - ETA: 0s - loss: 0.2935 - accuracy: 0.8906\n",
      "Epoch 8: saving model to tmp/checkpoint\\model_lstm.hdf5\n",
      "\n",
      "Epoch 8: val_accuracy did not improve from 0.80697\n",
      "\n",
      "Epoch 8: val_loss did not improve from 0.52311\n",
      "\n",
      "Epoch 8: ReduceLROnPlateau reducing learning rate to 0.0005000000237487257.\n",
      "2331/2331 [==============================] - 22s 9ms/step - loss: 0.2935 - accuracy: 0.8906 - val_loss: 1.1357 - val_accuracy: 0.7992 - lr: 0.0010\n",
      "Epoch 9/30\n",
      "2324/2331 [============================>.] - ETA: 0s - loss: 0.2070 - accuracy: 0.9202\n",
      "Epoch 9: saving model to tmp/checkpoint\\model_lstm.hdf5\n",
      "\n",
      "Epoch 9: val_accuracy did not improve from 0.80697\n",
      "\n",
      "Epoch 9: val_loss did not improve from 0.52311\n",
      "2331/2331 [==============================] - 22s 9ms/step - loss: 0.2071 - accuracy: 0.9202 - val_loss: 1.5728 - val_accuracy: 0.7940 - lr: 5.0000e-04\n",
      "Epoch 10/30\n",
      "2324/2331 [============================>.] - ETA: 0s - loss: 0.1628 - accuracy: 0.9369\n",
      "Epoch 10: saving model to tmp/checkpoint\\model_lstm.hdf5\n",
      "\n",
      "Epoch 10: val_accuracy did not improve from 0.80697\n",
      "\n",
      "Epoch 10: val_loss did not improve from 0.52311\n",
      "2331/2331 [==============================] - 22s 9ms/step - loss: 0.1630 - accuracy: 0.9368 - val_loss: 2.4851 - val_accuracy: 0.7975 - lr: 5.0000e-04\n",
      "Epoch 11/30\n",
      "2327/2331 [============================>.] - ETA: 0s - loss: 0.1390 - accuracy: 0.9488\n",
      "Epoch 11: saving model to tmp/checkpoint\\model_lstm.hdf5\n",
      "\n",
      "Epoch 11: val_accuracy did not improve from 0.80697\n",
      "\n",
      "Epoch 11: val_loss did not improve from 0.52311\n",
      "2331/2331 [==============================] - 22s 9ms/step - loss: 0.1391 - accuracy: 0.9488 - val_loss: 2.6694 - val_accuracy: 0.7928 - lr: 5.0000e-04\n",
      "Epoch 12/30\n",
      "2325/2331 [============================>.] - ETA: 0s - loss: 0.1123 - accuracy: 0.9592\n",
      "Epoch 12: saving model to tmp/checkpoint\\model_lstm.hdf5\n",
      "\n",
      "Epoch 12: val_accuracy did not improve from 0.80697\n",
      "\n",
      "Epoch 12: val_loss did not improve from 0.52311\n",
      "2331/2331 [==============================] - 22s 10ms/step - loss: 0.1123 - accuracy: 0.9591 - val_loss: 2.7391 - val_accuracy: 0.7846 - lr: 5.0000e-04\n",
      "Epoch 13/30\n",
      "2326/2331 [============================>.] - ETA: 0s - loss: 0.0969 - accuracy: 0.9673\n",
      "Epoch 13: saving model to tmp/checkpoint\\model_lstm.hdf5\n",
      "\n",
      "Epoch 13: val_accuracy did not improve from 0.80697\n",
      "\n",
      "Epoch 13: val_loss did not improve from 0.52311\n",
      "Restoring model weights from the end of the best epoch: 3.\n",
      "\n",
      "Epoch 13: ReduceLROnPlateau reducing learning rate to 0.0002500000118743628.\n",
      "2331/2331 [==============================] - 22s 9ms/step - loss: 0.0971 - accuracy: 0.9673 - val_loss: 2.9578 - val_accuracy: 0.7792 - lr: 5.0000e-04\n",
      "Epoch 13: early stopping\n",
      "999/999 [==============================] - 3s 2ms/step\n",
      "              precision    recall  f1-score   support\n",
      "\n",
      "           0       0.77      0.79      0.78     10672\n",
      "           1       0.78      0.89      0.83     10679\n",
      "           2       0.88      0.72      0.79     10608\n",
      "\n",
      "    accuracy                           0.80     31959\n",
      "   macro avg       0.81      0.80      0.80     31959\n",
      "weighted avg       0.81      0.80      0.80     31959\n",
      "\n"
     ]
    }
   ],
   "source": [
    "model_lstm = build_model(nb_words, \"LSTM\", embedding_matrix)\n",
    "model_lstm.summary()\n",
    "checkpoint = tf.keras.callbacks.ModelCheckpoint('tmp/checkpoint/model_lstm.hdf5',verbose=True)\n",
    "getAcc = tf.keras.callbacks.ModelCheckpoint('tmp/checkpoint/model_lstmAcc.hdf5',verbose=True,save_best_only=True,monitor='val_accuracy')\n",
    "getLoss = tf.keras.callbacks.ModelCheckpoint('tmp/checkpoint/model_lstmLoss.hdf5',verbose=True,save_best_only=True,monitor='val_loss')\n",
    "\n",
    "early_stop = EarlyStopping(monitor='val_loss', mode='min', verbose=1, patience=10, restore_best_weights=True)\n",
    "\n",
    "#reducing learning rate on plateau\n",
    "rlrop = ReduceLROnPlateau(monitor='val_loss', mode='min', patience= 5, factor= 0.5, min_lr= 1e-6, verbose=1)\n",
    "\n",
    "model_lstm_history = model_lstm.fit(x_train, y_train, \n",
    "                                                epochs=30, \n",
    "                                                validation_data=(x_test, y_test), \n",
    "                                                callbacks=[checkpoint,getAcc,getLoss, \n",
    "                                                early_stop, rlrop])\n",
    "\n",
    "predictions = model_lstm.predict(x_test)\n",
    "predictions = predictions.argmax(axis=1)\n",
    "print(classification_report(y_test.argmax(axis=1), predictions))\n"
   ]
  },
  {
   "cell_type": "code",
   "execution_count": 21,
   "metadata": {},
   "outputs": [
    {
     "name": "stdout",
     "output_type": "stream",
     "text": [
      "999/999 [==============================] - 3s 3ms/step - loss: 0.5231 - accuracy: 0.8012\n",
      "[0.5231138467788696, 0.8011514544487]\n",
      "999/999 [==============================] - 3s 3ms/step - loss: 0.6030 - accuracy: 0.8070\n",
      "999/999 [==============================] - 3s 3ms/step - loss: 0.5231 - accuracy: 0.8012\n",
      "Best Acc Test Loss: 0.6030269265174866\n",
      "Best Acc Test Accuracy: 80.7 %\n",
      "Best Loss Test Loss: 0.5231138467788696\n",
      "Best Loss Test Accuracy: 80.12 %\n"
     ]
    }
   ],
   "source": [
    "# evaluating baseline coarse model\n",
    "print(model_lstm.evaluate(x_test, y_test))\n",
    "model_lstm.load_weights('tmp/checkpoint/model_lstmAcc.hdf5')\n",
    "scoreAcc = model_lstm.evaluate(x_test, y_test)\n",
    "model_lstm.load_weights('tmp/checkpoint/model_lstmLoss.hdf5')\n",
    "scoreLoss = model_lstm.evaluate(x_test, y_test)\n",
    "print('Best Acc Test Loss:', scoreAcc[0])\n",
    "print('Best Acc Test Accuracy:', round(scoreAcc[1],4)*100,'%')\n",
    "print('Best Loss Test Loss:', scoreLoss[0])\n",
    "print('Best Loss Test Accuracy:', round(scoreLoss[1],4)*100,'%')"
   ]
  },
  {
   "cell_type": "code",
   "execution_count": 22,
   "metadata": {},
   "outputs": [
    {
     "data": {
      "image/png": "[encoded data removed]",
      "text/plain": [
       "<Figure size 1000x300 with 1 Axes>"
      ]
     },
     "metadata": {},
     "output_type": "display_data"
    },
    {
     "data": {
      "image/png": "[encoded data removed]",
      "text/plain": [
       "<Figure size 1000x300 with 1 Axes>"
      ]
     },
     "metadata": {},
     "output_type": "display_data"
    }
   ],
   "source": [
    "max_val_acc_epoch = np.argmax(list(model_lstm_history.history['val_accuracy']))+1\n",
    "max_val_loss_epoch = np.argmin(list(model_lstm_history.history['val_loss']))+1\n",
    "epochs = range(1, len(model_lstm_history.history['accuracy']) + 1)\n",
    "plt.figure(figsize=(10,3))\n",
    "plt.minorticks_on()\n",
    "plt.axvline(x=max_val_acc_epoch, color='0.5', linestyle='--')\n",
    "plt.axvline(x=max_val_loss_epoch, color='0.5', linestyle=':')\n",
    "plt.plot(epochs,model_lstm_history.history['accuracy'], label='Train')\n",
    "plt.plot(epochs,model_lstm_history.history['val_accuracy'], label='Validation')\n",
    "plt.xlabel('Epochs')\n",
    "plt.ylabel('Accuracy')\n",
    "plt.legend()\n",
    "plt.show()\n",
    "\n",
    "plt.figure(figsize=(10,3))\n",
    "plt.minorticks_on()\n",
    "plt.axvline(x=max_val_acc_epoch, color='0.5', linestyle='--')\n",
    "plt.axvline(x=max_val_loss_epoch, color='0.5', linestyle=':')\n",
    "plt.plot(epochs,model_lstm_history.history['loss'], label='Train')\n",
    "plt.plot(epochs,model_lstm_history.history['val_loss'], label='Validation')\n",
    "plt.xlabel('Epochs')\n",
    "plt.ylabel('Loss')\n",
    "plt.legend()\n",
    "plt.show()"
   ]
  },
  {
   "cell_type": "code",
   "execution_count": 23,
   "metadata": {},
   "outputs": [],
   "source": [
    "# import visualkeras\n",
    "# from PIL import ImageFont\n",
    "# visualkeras.layered_view(model_lstm, legend=True)"
   ]
  },
  {
   "cell_type": "code",
   "execution_count": 24,
   "metadata": {},
   "outputs": [],
   "source": [
    "# model_lstm.save_weights(\"models/model-lstm.h5\")"
   ]
  },
  {
   "cell_type": "markdown",
   "metadata": {},
   "source": [
    "## GRU Model "
   ]
  },
  {
   "cell_type": "code",
   "execution_count": 25,
   "metadata": {},
   "outputs": [
    {
     "name": "stdout",
     "output_type": "stream",
     "text": [
      "Model: \"sequential_2\"\n",
      "_________________________________________________________________\n",
      " Layer (type)                Output Shape              Param #   \n",
      "=================================================================\n",
      " embedding_2 (Embedding)     (None, 15, 200)           17587400  \n",
      "                                                                 \n",
      " gru (GRU)                   (None, 256)               351744    \n",
      "                                                                 \n",
      " dense_6 (Dense)             (None, 512)               131584    \n",
      "                                                                 \n",
      " dense_7 (Dense)             (None, 512)               262656    \n",
      "                                                                 \n",
      " dense_8 (Dense)             (None, 3)                 1539      \n",
      "                                                                 \n",
      "=================================================================\n",
      "Total params: 18,334,923\n",
      "Trainable params: 747,523\n",
      "Non-trainable params: 17,587,400\n",
      "_________________________________________________________________\n",
      "Epoch 1/30\n",
      "2324/2331 [============================>.] - ETA: 0s - loss: 0.7321 - accuracy: 0.6739\n",
      "Epoch 1: saving model to tmp/checkpoint\\model_gru.hdf5\n",
      "\n",
      "Epoch 1: val_accuracy improved from -inf to 0.74517, saving model to tmp/checkpoint\\model_gruAcc.hdf5\n",
      "\n",
      "Epoch 1: val_loss improved from inf to 0.60369, saving model to tmp/checkpoint\\model_gruLoss.hdf5\n",
      "2331/2331 [==============================] - 28s 11ms/step - loss: 0.7319 - accuracy: 0.6740 - val_loss: 0.6037 - val_accuracy: 0.7452 - lr: 0.0010\n",
      "Epoch 2/30\n",
      "2325/2331 [============================>.] - ETA: 0s - loss: 0.5574 - accuracy: 0.7685\n",
      "Epoch 2: saving model to tmp/checkpoint\\model_gru.hdf5\n",
      "\n",
      "Epoch 2: val_accuracy improved from 0.74517 to 0.78188, saving model to tmp/checkpoint\\model_gruAcc.hdf5\n",
      "\n",
      "Epoch 2: val_loss improved from 0.60369 to 0.53426, saving model to tmp/checkpoint\\model_gruLoss.hdf5\n",
      "2331/2331 [==============================] - 25s 11ms/step - loss: 0.5573 - accuracy: 0.7685 - val_loss: 0.5343 - val_accuracy: 0.7819 - lr: 0.0010\n",
      "Epoch 3/30\n",
      "2323/2331 [============================>.] - ETA: 0s - loss: 0.4864 - accuracy: 0.8056\n",
      "Epoch 3: saving model to tmp/checkpoint\\model_gru.hdf5\n",
      "\n",
      "Epoch 3: val_accuracy improved from 0.78188 to 0.79705, saving model to tmp/checkpoint\\model_gruAcc.hdf5\n",
      "\n",
      "Epoch 3: val_loss did not improve from 0.53426\n",
      "2331/2331 [==============================] - 23s 10ms/step - loss: 0.4864 - accuracy: 0.8056 - val_loss: 0.5458 - val_accuracy: 0.7971 - lr: 0.0010\n",
      "Epoch 4/30\n",
      "2324/2331 [============================>.] - ETA: 0s - loss: 0.4407 - accuracy: 0.8253\n",
      "Epoch 4: saving model to tmp/checkpoint\\model_gru.hdf5\n",
      "\n",
      "Epoch 4: val_accuracy improved from 0.79705 to 0.80259, saving model to tmp/checkpoint\\model_gruAcc.hdf5\n",
      "\n",
      "Epoch 4: val_loss improved from 0.53426 to 0.52819, saving model to tmp/checkpoint\\model_gruLoss.hdf5\n",
      "2331/2331 [==============================] - 25s 11ms/step - loss: 0.4408 - accuracy: 0.8252 - val_loss: 0.5282 - val_accuracy: 0.8026 - lr: 0.0010\n",
      "Epoch 5/30\n",
      "2326/2331 [============================>.] - ETA: 0s - loss: 0.3982 - accuracy: 0.8413\n",
      "Epoch 5: saving model to tmp/checkpoint\\model_gru.hdf5\n",
      "\n",
      "Epoch 5: val_accuracy improved from 0.80259 to 0.80362, saving model to tmp/checkpoint\\model_gruAcc.hdf5\n",
      "\n",
      "Epoch 5: val_loss did not improve from 0.52819\n",
      "2331/2331 [==============================] - 23s 10ms/step - loss: 0.3982 - accuracy: 0.8413 - val_loss: 0.5752 - val_accuracy: 0.8036 - lr: 0.0010\n",
      "Epoch 6/30\n",
      "2331/2331 [==============================] - ETA: 0s - loss: 0.3552 - accuracy: 0.8578\n",
      "Epoch 6: saving model to tmp/checkpoint\\model_gru.hdf5\n",
      "\n",
      "Epoch 6: val_accuracy did not improve from 0.80362\n",
      "\n",
      "Epoch 6: val_loss did not improve from 0.52819\n",
      "2331/2331 [==============================] - 21s 9ms/step - loss: 0.3552 - accuracy: 0.8578 - val_loss: 0.8384 - val_accuracy: 0.7781 - lr: 0.0010\n",
      "Epoch 7/30\n",
      "2329/2331 [============================>.] - ETA: 0s - loss: 0.3129 - accuracy: 0.8745\n",
      "Epoch 7: saving model to tmp/checkpoint\\model_gru.hdf5\n",
      "\n",
      "Epoch 7: val_accuracy improved from 0.80362 to 0.80456, saving model to tmp/checkpoint\\model_gruAcc.hdf5\n",
      "\n",
      "Epoch 7: val_loss did not improve from 0.52819\n",
      "2331/2331 [==============================] - 23s 10ms/step - loss: 0.3131 - accuracy: 0.8745 - val_loss: 0.8388 - val_accuracy: 0.8046 - lr: 0.0010\n",
      "Epoch 8/30\n",
      "2326/2331 [============================>.] - ETA: 0s - loss: 0.2755 - accuracy: 0.8929\n",
      "Epoch 8: saving model to tmp/checkpoint\\model_gru.hdf5\n",
      "\n",
      "Epoch 8: val_accuracy did not improve from 0.80456\n",
      "\n",
      "Epoch 8: val_loss did not improve from 0.52819\n",
      "2331/2331 [==============================] - 21s 9ms/step - loss: 0.2755 - accuracy: 0.8929 - val_loss: 0.9752 - val_accuracy: 0.7792 - lr: 0.0010\n",
      "Epoch 9/30\n",
      "2331/2331 [==============================] - ETA: 0s - loss: 0.2311 - accuracy: 0.9089\n",
      "Epoch 9: saving model to tmp/checkpoint\\model_gru.hdf5\n",
      "\n",
      "Epoch 9: val_accuracy did not improve from 0.80456\n",
      "\n",
      "Epoch 9: val_loss did not improve from 0.52819\n",
      "\n",
      "Epoch 9: ReduceLROnPlateau reducing learning rate to 0.0005000000237487257.\n",
      "2331/2331 [==============================] - 21s 9ms/step - loss: 0.2311 - accuracy: 0.9089 - val_loss: 1.1981 - val_accuracy: 0.7911 - lr: 0.0010\n",
      "Epoch 10/30\n",
      "2325/2331 [============================>.] - ETA: 0s - loss: 0.1439 - accuracy: 0.9431\n",
      "Epoch 10: saving model to tmp/checkpoint\\model_gru.hdf5\n",
      "\n",
      "Epoch 10: val_accuracy did not improve from 0.80456\n",
      "\n",
      "Epoch 10: val_loss did not improve from 0.52819\n",
      "2331/2331 [==============================] - 21s 9ms/step - loss: 0.1438 - accuracy: 0.9432 - val_loss: 1.8640 - val_accuracy: 0.7935 - lr: 5.0000e-04\n",
      "Epoch 11/30\n",
      "2331/2331 [==============================] - ETA: 0s - loss: 0.1000 - accuracy: 0.9609\n",
      "Epoch 11: saving model to tmp/checkpoint\\model_gru.hdf5\n",
      "\n",
      "Epoch 11: val_accuracy did not improve from 0.80456\n",
      "\n",
      "Epoch 11: val_loss did not improve from 0.52819\n",
      "2331/2331 [==============================] - 21s 9ms/step - loss: 0.1000 - accuracy: 0.9609 - val_loss: 2.5301 - val_accuracy: 0.7797 - lr: 5.0000e-04\n",
      "Epoch 12/30\n",
      "2326/2331 [============================>.] - ETA: 0s - loss: 0.0789 - accuracy: 0.9705\n",
      "Epoch 12: saving model to tmp/checkpoint\\model_gru.hdf5\n",
      "\n",
      "Epoch 12: val_accuracy did not improve from 0.80456\n",
      "\n",
      "Epoch 12: val_loss did not improve from 0.52819\n",
      "2331/2331 [==============================] - 21s 9ms/step - loss: 0.0790 - accuracy: 0.9704 - val_loss: 3.1276 - val_accuracy: 0.7808 - lr: 5.0000e-04\n",
      "Epoch 13/30\n",
      "2328/2331 [============================>.] - ETA: 0s - loss: 0.0662 - accuracy: 0.9770\n",
      "Epoch 13: saving model to tmp/checkpoint\\model_gru.hdf5\n",
      "\n",
      "Epoch 13: val_accuracy did not improve from 0.80456\n",
      "\n",
      "Epoch 13: val_loss did not improve from 0.52819\n",
      "2331/2331 [==============================] - 20s 8ms/step - loss: 0.0662 - accuracy: 0.9770 - val_loss: 3.0003 - val_accuracy: 0.7912 - lr: 5.0000e-04\n",
      "Epoch 14/30\n",
      "2324/2331 [============================>.] - ETA: 0s - loss: 0.0586 - accuracy: 0.9810\n",
      "Epoch 14: saving model to tmp/checkpoint\\model_gru.hdf5\n",
      "\n",
      "Epoch 14: val_accuracy did not improve from 0.80456\n",
      "\n",
      "Epoch 14: val_loss did not improve from 0.52819\n",
      "Restoring model weights from the end of the best epoch: 4.\n",
      "\n",
      "Epoch 14: ReduceLROnPlateau reducing learning rate to 0.0002500000118743628.\n",
      "2331/2331 [==============================] - 21s 9ms/step - loss: 0.0586 - accuracy: 0.9810 - val_loss: 3.2760 - val_accuracy: 0.7752 - lr: 5.0000e-04\n",
      "Epoch 14: early stopping\n",
      "999/999 [==============================] - 2s 2ms/step\n",
      "              precision    recall  f1-score   support\n",
      "\n",
      "           0       0.78      0.79      0.78     10672\n",
      "           1       0.78      0.89      0.83     10679\n",
      "           2       0.86      0.73      0.79     10608\n",
      "\n",
      "    accuracy                           0.80     31959\n",
      "   macro avg       0.81      0.80      0.80     31959\n",
      "weighted avg       0.81      0.80      0.80     31959\n",
      "\n"
     ]
    }
   ],
   "source": [
    "model_gru = build_model(nb_words, \"GRU\", embedding_matrix)\n",
    "model_gru.summary()\n",
    "checkpoint = tf.keras.callbacks.ModelCheckpoint('tmp/checkpoint/model_gru.hdf5',verbose=True)\n",
    "getAcc = tf.keras.callbacks.ModelCheckpoint('tmp/checkpoint/model_gruAcc.hdf5',verbose=True,save_best_only=True,monitor='val_accuracy')\n",
    "getLoss = tf.keras.callbacks.ModelCheckpoint('tmp/checkpoint/model_gruLoss.hdf5',verbose=True,save_best_only=True,monitor='val_loss')\n",
    "\n",
    "early_stop = EarlyStopping(monitor='val_loss', mode='min', verbose=1, patience=10, restore_best_weights=True)\n",
    "\n",
    "#reducing learning rate on plateau\n",
    "rlrop = ReduceLROnPlateau(monitor='val_loss', mode='min', patience= 5, factor= 0.5, min_lr= 1e-6, verbose=1)\n",
    "\n",
    "model_gru_history = model_gru.fit(x_train, y_train, \n",
    "                                                epochs=30, \n",
    "                                                validation_data=(x_test, y_test), \n",
    "                                                callbacks=[checkpoint,getAcc,getLoss, \n",
    "                                                early_stop, rlrop])\n",
    "\n",
    "predictions = model_gru.predict(x_test)\n",
    "predictions = predictions.argmax(axis=1)\n",
    "print(classification_report(y_test.argmax(axis=1), predictions))\n"
   ]
  },
  {
   "cell_type": "code",
   "execution_count": 26,
   "metadata": {},
   "outputs": [
    {
     "name": "stdout",
     "output_type": "stream",
     "text": [
      "999/999 [==============================] - 3s 3ms/step - loss: 0.5282 - accuracy: 0.8026\n",
      "[0.5281931161880493, 0.8025908470153809]\n",
      "999/999 [==============================] - 3s 3ms/step - loss: 0.8388 - accuracy: 0.8046\n",
      "999/999 [==============================] - 3s 3ms/step - loss: 0.5282 - accuracy: 0.8026\n",
      "Best Acc Test Loss: 0.838775634765625\n",
      "Best Acc Test Accuracy: 80.46 %\n",
      "Best Loss Test Loss: 0.5281931161880493\n",
      "Best Loss Test Accuracy: 80.25999999999999 %\n"
     ]
    }
   ],
   "source": [
    "# evaluating baseline coarse model\n",
    "print(model_gru.evaluate(x_test, y_test))\n",
    "model_gru.load_weights('tmp/checkpoint/model_gruAcc.hdf5')\n",
    "scoreAcc = model_gru.evaluate(x_test, y_test)\n",
    "model_gru.load_weights('tmp/checkpoint/model_gruLoss.hdf5')\n",
    "scoreLoss = model_gru.evaluate(x_test, y_test)\n",
    "print('Best Acc Test Loss:', scoreAcc[0])\n",
    "print('Best Acc Test Accuracy:', round(scoreAcc[1],4)*100,'%')\n",
    "print('Best Loss Test Loss:', scoreLoss[0])\n",
    "print('Best Loss Test Accuracy:', round(scoreLoss[1],4)*100,'%')"
   ]
  },
  {
   "cell_type": "code",
   "execution_count": 27,
   "metadata": {},
   "outputs": [
    {
     "data": {
      "image/png": "[encoded data removed]",
      "text/plain": [
       "<Figure size 1000x300 with 1 Axes>"
      ]
     },
     "metadata": {},
     "output_type": "display_data"
    },
    {
     "data": {
      "image/png": "[encoded data removed]",
      "text/plain": [
       "<Figure size 1000x300 with 1 Axes>"
      ]
     },
     "metadata": {},
     "output_type": "display_data"
    }
   ],
   "source": [
    "max_val_acc_epoch = np.argmax(list(model_gru_history.history['val_accuracy']))+1\n",
    "max_val_loss_epoch = np.argmin(list(model_gru_history.history['val_loss']))+1\n",
    "epochs = range(1, len(model_gru_history.history['accuracy']) + 1)\n",
    "plt.figure(figsize=(10,3))\n",
    "plt.minorticks_on()\n",
    "plt.axvline(x=max_val_acc_epoch, color='0.5', linestyle='--')\n",
    "plt.axvline(x=max_val_loss_epoch, color='0.5', linestyle=':')\n",
    "plt.plot(epochs,model_gru_history.history['accuracy'], label='Train')\n",
    "plt.plot(epochs,model_gru_history.history['val_accuracy'], label='Validation')\n",
    "plt.xlabel('Epochs')\n",
    "plt.ylabel('Accuracy')\n",
    "plt.legend()\n",
    "plt.show()\n",
    "\n",
    "plt.figure(figsize=(10,3))\n",
    "plt.minorticks_on()\n",
    "plt.axvline(x=max_val_acc_epoch, color='0.5', linestyle='--')\n",
    "plt.axvline(x=max_val_loss_epoch, color='0.5', linestyle=':')\n",
    "plt.plot(epochs,model_gru_history.history['loss'], label='Train')\n",
    "plt.plot(epochs,model_gru_history.history['val_loss'], label='Validation')\n",
    "plt.xlabel('Epochs')\n",
    "plt.ylabel('Loss')\n",
    "plt.legend()\n",
    "plt.show()"
   ]
  },
  {
   "cell_type": "code",
   "execution_count": 28,
   "metadata": {},
   "outputs": [],
   "source": [
    "# import visualkeras\n",
    "# from PIL import ImageFont\n",
    "# visualkeras.layered_view(model_gru, legend=True)"
   ]
  },
  {
   "cell_type": "code",
   "execution_count": 29,
   "metadata": {},
   "outputs": [],
   "source": [
    "# model_gru.save_weights(\"models/model-gru.h5\")"
   ]
  },
  {
   "cell_type": "markdown",
   "metadata": {},
   "source": [
    "### Using a non-deep learning model (TFIDF vectorization) and other effective, traditional machine learning models"
   ]
  },
  {
   "cell_type": "code",
   "execution_count": 30,
   "metadata": {},
   "outputs": [
    {
     "data": {
      "text/html": [
       "<div>\n",
       "<style scoped>\n",
       "    .dataframe tbody tr th:only-of-type {\n",
       "        vertical-align: middle;\n",
       "    }\n",
       "\n",
       "    .dataframe tbody tr th {\n",
       "        vertical-align: top;\n",
       "    }\n",
       "\n",
       "    .dataframe thead th {\n",
       "        text-align: right;\n",
       "    }\n",
       "</style>\n",
       "<table border=\"1\" class=\"dataframe\">\n",
       "  <thead>\n",
       "    <tr style=\"text-align: right;\">\n",
       "      <th></th>\n",
       "      <th>clean_comment</th>\n",
       "      <th>category</th>\n",
       "    </tr>\n",
       "  </thead>\n",
       "  <tbody>\n",
       "    <tr>\n",
       "      <th>23277</th>\n",
       "      <td>will ensure that family and mohalla will the v...</td>\n",
       "      <td>1.0</td>\n",
       "    </tr>\n",
       "    <tr>\n",
       "      <th>76802</th>\n",
       "      <td>for example what modi delivers fake strike fai...</td>\n",
       "      <td>-1.0</td>\n",
       "    </tr>\n",
       "    <tr>\n",
       "      <th>53969</th>\n",
       "      <td>indian national congress inc was power for yea...</td>\n",
       "      <td>1.0</td>\n",
       "    </tr>\n",
       "    <tr>\n",
       "      <th>17367</th>\n",
       "      <td>did modi make even his last budget</td>\n",
       "      <td>0.0</td>\n",
       "    </tr>\n",
       "    <tr>\n",
       "      <th>161730</th>\n",
       "      <td>coincidence that many big economist like raghu...</td>\n",
       "      <td>1.0</td>\n",
       "    </tr>\n",
       "    <tr>\n",
       "      <th>...</th>\n",
       "      <td>...</td>\n",
       "      <td>...</td>\n",
       "    </tr>\n",
       "    <tr>\n",
       "      <th>78087</th>\n",
       "      <td>for surgical strike credit goes soldiers not f...</td>\n",
       "      <td>1.0</td>\n",
       "    </tr>\n",
       "    <tr>\n",
       "      <th>13709</th>\n",
       "      <td>modi for life dynasty bandits</td>\n",
       "      <td>0.0</td>\n",
       "    </tr>\n",
       "    <tr>\n",
       "      <th>5176</th>\n",
       "      <td>accept modi has minimum cocaine dose</td>\n",
       "      <td>0.0</td>\n",
       "    </tr>\n",
       "    <tr>\n",
       "      <th>46805</th>\n",
       "      <td>sir you didnt congratulated modi</td>\n",
       "      <td>0.0</td>\n",
       "    </tr>\n",
       "    <tr>\n",
       "      <th>15091</th>\n",
       "      <td>and thats the reason why people are crying muc...</td>\n",
       "      <td>1.0</td>\n",
       "    </tr>\n",
       "  </tbody>\n",
       "</table>\n",
       "<p>106530 rows × 2 columns</p>\n",
       "</div>"
      ],
      "text/plain": [
       "                                            clean_comment  category\n",
       "23277   will ensure that family and mohalla will the v...       1.0\n",
       "76802   for example what modi delivers fake strike fai...      -1.0\n",
       "53969   indian national congress inc was power for yea...       1.0\n",
       "17367                  did modi make even his last budget       0.0\n",
       "161730  coincidence that many big economist like raghu...       1.0\n",
       "...                                                   ...       ...\n",
       "78087   for surgical strike credit goes soldiers not f...       1.0\n",
       "13709                       modi for life dynasty bandits       0.0\n",
       "5176                accept modi has minimum cocaine dose        0.0\n",
       "46805                   sir you didnt congratulated modi        0.0\n",
       "15091   and thats the reason why people are crying muc...       1.0\n",
       "\n",
       "[106530 rows x 2 columns]"
      ]
     },
     "execution_count": 30,
     "metadata": {},
     "output_type": "execute_result"
    }
   ],
   "source": [
    "data"
   ]
  },
  {
   "cell_type": "code",
   "execution_count": 31,
   "metadata": {},
   "outputs": [],
   "source": [
    "from sklearn.model_selection import train_test_split\n",
    "\n",
    "x = data['clean_comment'].astype('str')\n",
    "y = data['category']\n",
    "\n",
    "x_train, x_test, y_train, y_test = train_test_split(x, y, test_size=0.2, random_state=42)"
   ]
  },
  {
   "cell_type": "code",
   "execution_count": 32,
   "metadata": {},
   "outputs": [
    {
     "data": {
      "text/plain": [
       "((85224, 10000), (21306, 10000))"
      ]
     },
     "execution_count": 32,
     "metadata": {},
     "output_type": "execute_result"
    }
   ],
   "source": [
    "from sklearn.feature_extraction.text import TfidfVectorizer\n",
    "\n",
    "vectorizer = TfidfVectorizer(max_features=10000, ngram_range=(1,2))\n",
    "x_train_vec = vectorizer.fit_transform(x_train)\n",
    "x_test_vec = vectorizer.transform(x_test)\n",
    "\n",
    "x_train_vec.shape, x_test_vec.shape "
   ]
  },
  {
   "cell_type": "markdown",
   "metadata": {},
   "source": [
    "## RandomForestClassifier"
   ]
  },
  {
   "cell_type": "code",
   "execution_count": 33,
   "metadata": {},
   "outputs": [
    {
     "name": "stdout",
     "output_type": "stream",
     "text": [
      "              precision    recall  f1-score   support\n",
      "\n",
      "        -1.0       0.80      0.78      0.79      7121\n",
      "         0.0       0.81      0.90      0.86      7082\n",
      "         1.0       0.86      0.78      0.82      7103\n",
      "\n",
      "    accuracy                           0.82     21306\n",
      "   macro avg       0.82      0.82      0.82     21306\n",
      "weighted avg       0.82      0.82      0.82     21306\n",
      "\n"
     ]
    }
   ],
   "source": [
    "from sklearn.ensemble import RandomForestClassifier\n",
    "\n",
    "model_rf = RandomForestClassifier()\n",
    "model_rf.fit(x_train_vec, y_train)\n",
    "model_rf.score(x_test_vec, y_test)\n",
    "\n",
    "predictions = model_rf.predict(x_test_vec)\n",
    "print(classification_report(y_test, predictions))"
   ]
  },
  {
   "cell_type": "code",
   "execution_count": 34,
   "metadata": {},
   "outputs": [
    {
     "data": {
      "text/plain": [
       "<sklearn.metrics._plot.confusion_matrix.ConfusionMatrixDisplay at 0x1beeb263c40>"
      ]
     },
     "execution_count": 34,
     "metadata": {},
     "output_type": "execute_result"
    },
    {
     "data": {
      "image/png": "[encoded data removed]",
      "text/plain": [
       "<Figure size 640x480 with 2 Axes>"
      ]
     },
     "metadata": {},
     "output_type": "display_data"
    }
   ],
   "source": [
    "cm = confusion_matrix(y_test, predictions, labels=model_rf.classes_)\n",
    "disp = ConfusionMatrixDisplay(confusion_matrix=cm, display_labels=model_rf.classes_)\n",
    "disp.plot()\n"
   ]
  },
  {
   "cell_type": "markdown",
   "metadata": {},
   "source": [
    "## Logistic Regression"
   ]
  },
  {
   "cell_type": "code",
   "execution_count": 35,
   "metadata": {},
   "outputs": [
    {
     "name": "stdout",
     "output_type": "stream",
     "text": [
      "              precision    recall  f1-score   support\n",
      "\n",
      "        -1.0       0.91      0.88      0.89      7121\n",
      "         0.0       0.89      0.97      0.93      7082\n",
      "         1.0       0.93      0.87      0.90      7103\n",
      "\n",
      "    accuracy                           0.91     21306\n",
      "   macro avg       0.91      0.91      0.90     21306\n",
      "weighted avg       0.91      0.91      0.90     21306\n",
      "\n"
     ]
    },
    {
     "name": "stderr",
     "output_type": "stream",
     "text": [
      "c:\\Users\\P2100803\\.conda\\envs\\gpu\\lib\\site-packages\\sklearn\\linear_model\\_logistic.py:444: ConvergenceWarning: lbfgs failed to converge (status=1):\n",
      "STOP: TOTAL NO. of ITERATIONS REACHED LIMIT.\n",
      "\n",
      "Increase the number of iterations (max_iter) or scale the data as shown in:\n",
      "    https://scikit-learn.org/stable/modules/preprocessing.html\n",
      "Please also refer to the documentation for alternative solver options:\n",
      "    https://scikit-learn.org/stable/modules/linear_model.html#logistic-regression\n",
      "  n_iter_i = _check_optimize_result(\n"
     ]
    }
   ],
   "source": [
    "from sklearn.linear_model import LogisticRegression\n",
    "\n",
    "model_lr = LogisticRegression()\n",
    "model_lr.fit(x_train_vec, y_train)\n",
    "model_lr.score(x_test_vec, y_test)\n",
    "\n",
    "predictions = model_lr.predict(x_test_vec)\n",
    "print(classification_report(y_test, predictions))"
   ]
  },
  {
   "cell_type": "code",
   "execution_count": 36,
   "metadata": {},
   "outputs": [
    {
     "data": {
      "text/plain": [
       "<sklearn.metrics._plot.confusion_matrix.ConfusionMatrixDisplay at 0x1bee302c850>"
      ]
     },
     "execution_count": 36,
     "metadata": {},
     "output_type": "execute_result"
    },
    {
     "data": {
      "image/png": "[encoded data removed]",
      "text/plain": [
       "<Figure size 640x480 with 2 Axes>"
      ]
     },
     "metadata": {},
     "output_type": "display_data"
    }
   ],
   "source": [
    "cm = confusion_matrix(y_test, predictions, labels=model_lr.classes_)\n",
    "disp = ConfusionMatrixDisplay(confusion_matrix=cm, display_labels=model_lr.classes_)\n",
    "disp.plot()\n"
   ]
  }
 ],
 "metadata": {
  "kernelspec": {
   "display_name": "Python 3.8.0 ('gpu')",
   "language": "python",
   "name": "python3"
  },
  "language_info": {
   "codemirror_mode": {
    "name": "ipython",
    "version": 3
   },
   "file_extension": ".py",
   "mimetype": "text/x-python",
   "name": "python",
   "nbconvert_exporter": "python",
   "pygments_lexer": "ipython3",
   "version": "3.8.0"
  },
  "vscode": {
   "interpreter": {
    "hash": "bd4f7ede50eb7504ff6f94ef0359606f4c410f2a995fbf953c94beba73ff6ab6"
   }
  }
 },
 "nbformat": 4,
 "nbformat_minor": 4
}
