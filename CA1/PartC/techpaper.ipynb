{
 "cells": [
  {
   "cell_type": "markdown",
   "metadata": {},
   "source": [
    "# ST1504 Deep Learning CA1 Part C\n",
    "\n",
    "### RNN, LSTM and GRU models applied to Sentiment Analysis for comparison on efficiency and test accuracy\n",
    "\n",
    "### Name: Haja Amir Rahman\n",
    "### Class: DAAA/FT?2B/06\n",
    "### Admin Number: P2100803\n",
    "\n",
    "### References: \n",
    "\n",
    "- [Using GloVe and Pretrained Embedding layers](https://haochen23.github.io/2020/01/nlp-rnn-sentiment.html#.Y3sIcXZByUk)"
   ]
  },
  {
   "cell_type": "code",
   "execution_count": 1,
   "metadata": {},
   "outputs": [
    {
     "data": {
      "text/plain": [
       "[PhysicalDevice(name='/physical_device:GPU:0', device_type='GPU')]"
      ]
     },
     "execution_count": 1,
     "metadata": {},
     "output_type": "execute_result"
    }
   ],
   "source": [
    "import tensorflow as tf\n",
    "\n",
    "tf.config.list_physical_devices('GPU')"
   ]
  },
  {
   "cell_type": "code",
   "execution_count": 2,
   "metadata": {},
   "outputs": [],
   "source": [
    "import tensorflow.keras\n",
    "from tensorflow.keras.models import Sequential\n",
    "from tensorflow.keras.layers import InputLayer, Dense, SimpleRNN, Activation, Dropout, Conv1D\n",
    "from tensorflow.keras.layers import Embedding, Flatten, LSTM, GRU\n",
    "from tensorflow.keras.preprocessing.text import Tokenizer\n",
    "from tensorflow.keras.preprocessing.sequence import pad_sequences\n",
    "from tensorflow.keras.callbacks import EarlyStopping\n",
    "import pandas as pd\n",
    "import numpy as np\n",
    "import spacy\n",
    "import matplotlib.pyplot as plt\n",
    "from sklearn.metrics import classification_report\n",
    "from sklearn.metrics import confusion_matrix\n",
    "from sklearn.metrics import ConfusionMatrixDisplay\n",
    "# https://haochen23.github.io/2020/01/nlp-rnn-sentiment.html#.Y3sIcXZByUk"
   ]
  },
  {
   "cell_type": "code",
   "execution_count": 3,
   "metadata": {},
   "outputs": [
    {
     "data": {
      "text/html": [
       "<div>\n",
       "<style scoped>\n",
       "    .dataframe tbody tr th:only-of-type {\n",
       "        vertical-align: middle;\n",
       "    }\n",
       "\n",
       "    .dataframe tbody tr th {\n",
       "        vertical-align: top;\n",
       "    }\n",
       "\n",
       "    .dataframe thead th {\n",
       "        text-align: right;\n",
       "    }\n",
       "</style>\n",
       "<table border=\"1\" class=\"dataframe\">\n",
       "  <thead>\n",
       "    <tr style=\"text-align: right;\">\n",
       "      <th></th>\n",
       "      <th>clean_comment</th>\n",
       "      <th>category</th>\n",
       "    </tr>\n",
       "  </thead>\n",
       "  <tbody>\n",
       "    <tr>\n",
       "      <th>0</th>\n",
       "      <td>family mormon have never tried explain them t...</td>\n",
       "      <td>1</td>\n",
       "    </tr>\n",
       "    <tr>\n",
       "      <th>1</th>\n",
       "      <td>buddhism has very much lot compatible with chr...</td>\n",
       "      <td>1</td>\n",
       "    </tr>\n",
       "    <tr>\n",
       "      <th>2</th>\n",
       "      <td>seriously don say thing first all they won get...</td>\n",
       "      <td>-1</td>\n",
       "    </tr>\n",
       "    <tr>\n",
       "      <th>3</th>\n",
       "      <td>what you have learned yours and only yours wha...</td>\n",
       "      <td>0</td>\n",
       "    </tr>\n",
       "    <tr>\n",
       "      <th>4</th>\n",
       "      <td>for your own benefit you may want read living ...</td>\n",
       "      <td>1</td>\n",
       "    </tr>\n",
       "    <tr>\n",
       "      <th>...</th>\n",
       "      <td>...</td>\n",
       "      <td>...</td>\n",
       "    </tr>\n",
       "    <tr>\n",
       "      <th>37244</th>\n",
       "      <td>jesus</td>\n",
       "      <td>0</td>\n",
       "    </tr>\n",
       "    <tr>\n",
       "      <th>37245</th>\n",
       "      <td>kya bhai pure saal chutiya banaya modi aur jab...</td>\n",
       "      <td>1</td>\n",
       "    </tr>\n",
       "    <tr>\n",
       "      <th>37246</th>\n",
       "      <td>downvote karna tha par upvote hogaya</td>\n",
       "      <td>0</td>\n",
       "    </tr>\n",
       "    <tr>\n",
       "      <th>37247</th>\n",
       "      <td>haha nice</td>\n",
       "      <td>1</td>\n",
       "    </tr>\n",
       "    <tr>\n",
       "      <th>37248</th>\n",
       "      <td>facebook itself now working bjp’ cell</td>\n",
       "      <td>0</td>\n",
       "    </tr>\n",
       "  </tbody>\n",
       "</table>\n",
       "<p>37249 rows × 2 columns</p>\n",
       "</div>"
      ],
      "text/plain": [
       "                                           clean_comment  category\n",
       "0       family mormon have never tried explain them t...         1\n",
       "1      buddhism has very much lot compatible with chr...         1\n",
       "2      seriously don say thing first all they won get...        -1\n",
       "3      what you have learned yours and only yours wha...         0\n",
       "4      for your own benefit you may want read living ...         1\n",
       "...                                                  ...       ...\n",
       "37244                                              jesus         0\n",
       "37245  kya bhai pure saal chutiya banaya modi aur jab...         1\n",
       "37246              downvote karna tha par upvote hogaya          0\n",
       "37247                                         haha nice          1\n",
       "37248             facebook itself now working bjp’ cell          0\n",
       "\n",
       "[37249 rows x 2 columns]"
      ]
     },
     "execution_count": 3,
     "metadata": {},
     "output_type": "execute_result"
    }
   ],
   "source": [
    "import ssl\n",
    "ssl._create_default_https_context = ssl._create_unverified_context\n",
    "\n",
    "# data = pd.read_csv(\"https://raw.githubusercontent.com/haochen23/nlp-rnn-lstm-sentiment/master/training.1600000.processed.noemoticon.csv\", header=None, encoding='cp437')\n",
    "# print(\"The shape of the original dataset is {}\".format(data.shape))\n",
    "# data\n",
    "\n",
    "raw = pd.read_csv('data/Reddit_Data.csv')\n",
    "raw"
   ]
  },
  {
   "cell_type": "code",
   "execution_count": 4,
   "metadata": {},
   "outputs": [
    {
     "data": {
      "text/plain": [
       " 1    15830\n",
       " 0    13142\n",
       "-1     8277\n",
       "Name: category, dtype: int64"
      ]
     },
     "execution_count": 4,
     "metadata": {},
     "output_type": "execute_result"
    }
   ],
   "source": [
    "raw['category'].value_counts()"
   ]
  },
  {
   "cell_type": "code",
   "execution_count": 5,
   "metadata": {},
   "outputs": [
    {
     "data": {
      "text/html": [
       "<div>\n",
       "<style scoped>\n",
       "    .dataframe tbody tr th:only-of-type {\n",
       "        vertical-align: middle;\n",
       "    }\n",
       "\n",
       "    .dataframe tbody tr th {\n",
       "        vertical-align: top;\n",
       "    }\n",
       "\n",
       "    .dataframe thead th {\n",
       "        text-align: right;\n",
       "    }\n",
       "</style>\n",
       "<table border=\"1\" class=\"dataframe\">\n",
       "  <thead>\n",
       "    <tr style=\"text-align: right;\">\n",
       "      <th></th>\n",
       "      <th>clean_comment</th>\n",
       "      <th>category</th>\n",
       "    </tr>\n",
       "  </thead>\n",
       "  <tbody>\n",
       "    <tr>\n",
       "      <th>25646</th>\n",
       "      <td>pappu pass hua hai top nahin kiya aur campus n...</td>\n",
       "      <td>1</td>\n",
       "    </tr>\n",
       "    <tr>\n",
       "      <th>28341</th>\n",
       "      <td>every individual different but when lot ppl b...</td>\n",
       "      <td>1</td>\n",
       "    </tr>\n",
       "    <tr>\n",
       "      <th>5209</th>\n",
       "      <td>about half the stuffs that get posted randia ...</td>\n",
       "      <td>-1</td>\n",
       "    </tr>\n",
       "    <tr>\n",
       "      <th>29863</th>\n",
       "      <td>god damn this man may allah bless him</td>\n",
       "      <td>0</td>\n",
       "    </tr>\n",
       "    <tr>\n",
       "      <th>12181</th>\n",
       "      <td>firmly grasp</td>\n",
       "      <td>-1</td>\n",
       "    </tr>\n",
       "    <tr>\n",
       "      <th>...</th>\n",
       "      <td>...</td>\n",
       "      <td>...</td>\n",
       "    </tr>\n",
       "    <tr>\n",
       "      <th>16111</th>\n",
       "      <td>bhar bhar chutiye bhare thread crore turnover ...</td>\n",
       "      <td>-1</td>\n",
       "    </tr>\n",
       "    <tr>\n",
       "      <th>33242</th>\n",
       "      <td>source for this data</td>\n",
       "      <td>0</td>\n",
       "    </tr>\n",
       "    <tr>\n",
       "      <th>25682</th>\n",
       "      <td>arnab today jpg</td>\n",
       "      <td>0</td>\n",
       "    </tr>\n",
       "    <tr>\n",
       "      <th>9368</th>\n",
       "      <td>the recent jonathan pie reacts donald trump br...</td>\n",
       "      <td>1</td>\n",
       "    </tr>\n",
       "    <tr>\n",
       "      <th>4648</th>\n",
       "      <td>the illusion choice</td>\n",
       "      <td>0</td>\n",
       "    </tr>\n",
       "  </tbody>\n",
       "</table>\n",
       "<p>24831 rows × 2 columns</p>\n",
       "</div>"
      ],
      "text/plain": [
       "                                           clean_comment  category\n",
       "25646  pappu pass hua hai top nahin kiya aur campus n...         1\n",
       "28341   every individual different but when lot ppl b...         1\n",
       "5209    about half the stuffs that get posted randia ...        -1\n",
       "29863              god damn this man may allah bless him         0\n",
       "12181                                      firmly grasp         -1\n",
       "...                                                  ...       ...\n",
       "16111  bhar bhar chutiye bhare thread crore turnover ...        -1\n",
       "33242                              source for this data          0\n",
       "25682                                   arnab today jpg          0\n",
       "9368   the recent jonathan pie reacts donald trump br...         1\n",
       "4648                                the illusion choice          0\n",
       "\n",
       "[24831 rows x 2 columns]"
      ]
     },
     "execution_count": 5,
     "metadata": {},
     "output_type": "execute_result"
    }
   ],
   "source": [
    "NUM = 8277\n",
    "\n",
    "positive = raw[raw['category']==1].sample(8277)\n",
    "neutral = raw[raw['category']==0].sample(8277)\n",
    "negative = raw[raw['category']==-1].sample(8277)\n",
    "\n",
    "data = pd.concat([positive, neutral, negative], axis=0).sample(frac=1)\n",
    "# positive.shape, neutral.shape, negative.shape\n",
    "\n",
    "data"
   ]
  },
  {
   "cell_type": "code",
   "execution_count": 6,
   "metadata": {},
   "outputs": [],
   "source": [
    "def load_glove_model(glove_file, encoding='iso-8859-1'):\n",
    "    print(\"[INFO]Loading GloVe Model...\")\n",
    "    model = {}\n",
    "    with open(glove_file, 'r', encoding=encoding) as f:\n",
    "        for line in f:\n",
    "            split_line = line.split()\n",
    "            word = split_line[0]\n",
    "            embeddings = [float(val) for val in split_line[1:]]\n",
    "            model[word] = embeddings\n",
    "    print(\"[INFO] Done...{} words loaded!\".format(len(model)))\n",
    "    return model\n",
    "# adopted from utils.py\n",
    "nlp = spacy.blank(\"en\")\n",
    "\n",
    "def remove_stopwords(sentence):\n",
    "    '''\n",
    "    function to remove stopwords\n",
    "        input: sentence - string of sentence\n",
    "    '''\n",
    "    new = []\n",
    "    # tokenize sentence\n",
    "    sentence = nlp(sentence)\n",
    "    for tk in sentence:\n",
    "        if (tk.is_stop == False) & (tk.pos_ !=\"PUNCT\"):\n",
    "            new.append(tk.string.strip())\n",
    "    # convert back to sentence string\n",
    "    c = \" \".join(str(x) for x in new)\n",
    "    return c\n",
    "\n",
    "\n",
    "def lemmatize(sentence):\n",
    "    '''\n",
    "    function to do lemmatization\n",
    "        input: sentence - string of sentence\n",
    "    '''\n",
    "    sentence = nlp(sentence)\n",
    "    s = \"\"\n",
    "    for w in sentence:\n",
    "        s +=\" \"+w.lemma_\n",
    "    return nlp(s)\n",
    "\n",
    "def sent_vectorizer(sent, model):\n",
    "    '''\n",
    "    sentence vectorizer using the pretrained glove model\n",
    "    '''\n",
    "    sent_vector = np.zeros(200)\n",
    "    num_w = 0\n",
    "    for w in sent.split():\n",
    "        try:\n",
    "            # add up all token vectors to a sent_vector\n",
    "            sent_vector = np.add(sent_vector, model[str(w)])\n",
    "            num_w += 1\n",
    "        except:\n",
    "            pass\n",
    "    return sent_vector"
   ]
  },
  {
   "cell_type": "code",
   "execution_count": 7,
   "metadata": {},
   "outputs": [
    {
     "data": {
      "text/plain": [
       "((24831,), (24831, 3))"
      ]
     },
     "execution_count": 7,
     "metadata": {},
     "output_type": "execute_result"
    }
   ],
   "source": [
    "data_X = data['clean_comment'].to_numpy().astype('str')\n",
    "data_y = data['category']\n",
    "data_y = pd.get_dummies(data_y).to_numpy()\n",
    "\n",
    "data_X.shape, data_y.shape"
   ]
  },
  {
   "cell_type": "markdown",
   "metadata": {},
   "source": [
    "### Loading GloVe Model"
   ]
  },
  {
   "cell_type": "code",
   "execution_count": 8,
   "metadata": {},
   "outputs": [
    {
     "name": "stdout",
     "output_type": "stream",
     "text": [
      "[INFO]Loading GloVe Model...\n",
      "[INFO] Done...1193514 words loaded!\n"
     ]
    }
   ],
   "source": [
    "# load the glove model\n",
    "glove_model = load_glove_model(\"glove.twitter.27B.200d.txt\", encoding='utf-8')\n",
    "# number of vocab to keep\n",
    "max_vocab = 18000\n",
    "# length of sequence that will generate\n",
    "max_len = 15\n",
    "\n",
    "tokenizer = Tokenizer(num_words=max_vocab)"
   ]
  },
  {
   "cell_type": "markdown",
   "metadata": {},
   "source": [
    "### Tokenizing "
   ]
  },
  {
   "cell_type": "code",
   "execution_count": 9,
   "metadata": {},
   "outputs": [
    {
     "name": "stdout",
     "output_type": "stream",
     "text": [
      "Found 44405 unique tokens.\n"
     ]
    },
    {
     "data": {
      "text/plain": [
       "(24831, 15)"
      ]
     },
     "execution_count": 9,
     "metadata": {},
     "output_type": "execute_result"
    }
   ],
   "source": [
    "tokenizer.fit_on_texts(data_X)\n",
    "sequences = tokenizer.texts_to_sequences(data_X)\n",
    "word_index = tokenizer.word_index\n",
    "print('Found %s unique tokens.' % len(word_index))\n",
    "data_keras = pad_sequences(sequences, maxlen=max_len, padding=\"post\")\n",
    "\n",
    "data_keras.shape"
   ]
  },
  {
   "cell_type": "markdown",
   "metadata": {},
   "source": [
    "## Train-test-split"
   ]
  },
  {
   "cell_type": "code",
   "execution_count": 37,
   "metadata": {},
   "outputs": [
    {
     "data": {
      "text/plain": [
       "((17381, 15), (7450, 15), (17381, 3), (7450, 3))"
      ]
     },
     "execution_count": 37,
     "metadata": {},
     "output_type": "execute_result"
    }
   ],
   "source": [
    "from sklearn.model_selection import train_test_split\n",
    "x_train, x_test, y_train, y_test = train_test_split(data_keras, data_y, test_size = 0.3, random_state=42)\n",
    "\n",
    "x_train.shape, x_test.shape, y_train.shape, y_test.shape"
   ]
  },
  {
   "cell_type": "code",
   "execution_count": 38,
   "metadata": {},
   "outputs": [
    {
     "name": "stdout",
     "output_type": "stream",
     "text": [
      "Number of words: 44406\n",
      "Null word embeddings: 13375\n"
     ]
    }
   ],
   "source": [
    "# calculate number of words\n",
    "nb_words = len(tokenizer.word_index) + 1\n",
    "print(f\"Number of words: {nb_words}\")\n",
    "\n",
    "# obtain the word embedding matrix\n",
    "embedding_matrix = np.zeros((nb_words, 200))\n",
    "\n",
    "for word, i in word_index.items():\n",
    "    embedding_vector = glove_model.get(word)\n",
    "    if embedding_vector is not None:\n",
    "        embedding_matrix[i] = embedding_vector\n",
    "print('Null word embeddings: %d' % np.sum(np.sum(embedding_matrix, axis=1) == 0))"
   ]
  },
  {
   "cell_type": "code",
   "execution_count": 39,
   "metadata": {},
   "outputs": [],
   "source": [
    "# adopted from sent_tran_eval.py\n",
    "def build_model(nb_words, rnn_model=\"SimpleRNN\", embedding_matrix=None):\n",
    "    '''\n",
    "    build_model function:\n",
    "    inputs: \n",
    "        rnn_model - which type of RNN layer to use, choose in (SimpleRNN, LSTM, GRU)\n",
    "        embedding_matrix - whether to use pretrained embeddings or not\n",
    "    '''\n",
    "    model = Sequential()\n",
    "    # add an embedding layer\n",
    "    if embedding_matrix is not None:\n",
    "        model.add(Embedding(nb_words, \n",
    "                        200, \n",
    "                        weights=[embedding_matrix], \n",
    "                        input_length= max_len,\n",
    "                        trainable = False))\n",
    "    else:\n",
    "        model.add(Embedding(nb_words, \n",
    "                        200, \n",
    "                        input_length= max_len,\n",
    "                        trainable = False))\n",
    "        \n",
    "    # add an RNN layer according to rnn_model\n",
    "    if rnn_model == \"SimpleRNN\":\n",
    "        model.add(SimpleRNN(256))\n",
    "    elif rnn_model == \"LSTM\":\n",
    "        model.add(LSTM(256))\n",
    "    else:\n",
    "        model.add(GRU(256))\n",
    "        \n",
    "    model.add(Dense(512,activation='relu'))\n",
    "    model.add(Dense(512, activation='relu'))\n",
    "    model.add(Dense(3, activation='softmax'))\n",
    "    \n",
    "    model.compile(loss='categorical_crossentropy', \n",
    "                optimizer='adam',\n",
    "                metrics=['accuracy'])\n",
    "    return model"
   ]
  },
  {
   "cell_type": "markdown",
   "metadata": {},
   "source": [
    "## RNN Model"
   ]
  },
  {
   "cell_type": "code",
   "execution_count": 40,
   "metadata": {},
   "outputs": [
    {
     "name": "stdout",
     "output_type": "stream",
     "text": [
      "Model: \"sequential_6\"\n",
      "_________________________________________________________________\n",
      " Layer (type)                Output Shape              Param #   \n",
      "=================================================================\n",
      " embedding_6 (Embedding)     (None, 15, 200)           8881200   \n",
      "                                                                 \n",
      " simple_rnn_2 (SimpleRNN)    (None, 256)               116992    \n",
      "                                                                 \n",
      " dense_18 (Dense)            (None, 512)               131584    \n",
      "                                                                 \n",
      " dense_19 (Dense)            (None, 512)               262656    \n",
      "                                                                 \n",
      " dense_20 (Dense)            (None, 3)                 1539      \n",
      "                                                                 \n",
      "=================================================================\n",
      "Total params: 9,393,971\n",
      "Trainable params: 512,771\n",
      "Non-trainable params: 8,881,200\n",
      "_________________________________________________________________\n",
      "Epoch 1/10\n",
      "543/544 [============================>.] - ETA: 0s - loss: 0.9087 - accuracy: 0.5509\n",
      "Epoch 1: saving model to tmp/checkpoint\\model_rnn.hdf5\n",
      "\n",
      "Epoch 1: val_accuracy improved from -inf to 0.56779, saving model to tmp/checkpoint\\model_rnnAcc.hdf5\n",
      "\n",
      "Epoch 1: val_loss improved from inf to 0.90870, saving model to tmp/checkpoint\\model_rnnLoss.hdf5\n",
      "544/544 [==============================] - 28s 49ms/step - loss: 0.9088 - accuracy: 0.5508 - val_loss: 0.9087 - val_accuracy: 0.5678\n",
      "Epoch 2/10\n",
      "543/544 [============================>.] - ETA: 0s - loss: 0.8172 - accuracy: 0.6274\n",
      "Epoch 2: saving model to tmp/checkpoint\\model_rnn.hdf5\n",
      "\n",
      "Epoch 2: val_accuracy improved from 0.56779 to 0.64497, saving model to tmp/checkpoint\\model_rnnAcc.hdf5\n",
      "\n",
      "Epoch 2: val_loss improved from 0.90870 to 0.79373, saving model to tmp/checkpoint\\model_rnnLoss.hdf5\n",
      "544/544 [==============================] - 26s 49ms/step - loss: 0.8172 - accuracy: 0.6274 - val_loss: 0.7937 - val_accuracy: 0.6450\n",
      "Epoch 3/10\n",
      "544/544 [==============================] - ETA: 0s - loss: 0.7677 - accuracy: 0.6545\n",
      "Epoch 3: saving model to tmp/checkpoint\\model_rnn.hdf5\n",
      "\n",
      "Epoch 3: val_accuracy improved from 0.64497 to 0.65141, saving model to tmp/checkpoint\\model_rnnAcc.hdf5\n",
      "\n",
      "Epoch 3: val_loss did not improve from 0.79373\n",
      "544/544 [==============================] - 26s 49ms/step - loss: 0.7677 - accuracy: 0.6545 - val_loss: 0.8076 - val_accuracy: 0.6514\n",
      "Epoch 4/10\n",
      "543/544 [============================>.] - ETA: 0s - loss: 0.7251 - accuracy: 0.6824\n",
      "Epoch 4: saving model to tmp/checkpoint\\model_rnn.hdf5\n",
      "\n",
      "Epoch 4: val_accuracy did not improve from 0.65141\n",
      "\n",
      "Epoch 4: val_loss did not improve from 0.79373\n",
      "544/544 [==============================] - 26s 48ms/step - loss: 0.7250 - accuracy: 0.6825 - val_loss: 0.8245 - val_accuracy: 0.6395\n",
      "Epoch 5/10\n",
      "544/544 [==============================] - ETA: 0s - loss: 0.6883 - accuracy: 0.7001\n",
      "Epoch 5: saving model to tmp/checkpoint\\model_rnn.hdf5\n",
      "\n",
      "Epoch 5: val_accuracy improved from 0.65141 to 0.65597, saving model to tmp/checkpoint\\model_rnnAcc.hdf5\n",
      "\n",
      "Epoch 5: val_loss did not improve from 0.79373\n",
      "544/544 [==============================] - 26s 48ms/step - loss: 0.6883 - accuracy: 0.7001 - val_loss: 0.7988 - val_accuracy: 0.6560\n",
      "Epoch 6/10\n",
      "543/544 [============================>.] - ETA: 0s - loss: 0.6421 - accuracy: 0.7279\n",
      "Epoch 6: saving model to tmp/checkpoint\\model_rnn.hdf5\n",
      "\n",
      "Epoch 6: val_accuracy improved from 0.65597 to 0.66644, saving model to tmp/checkpoint\\model_rnnAcc.hdf5\n",
      "\n",
      "Epoch 6: val_loss improved from 0.79373 to 0.79341, saving model to tmp/checkpoint\\model_rnnLoss.hdf5\n",
      "544/544 [==============================] - 26s 48ms/step - loss: 0.6420 - accuracy: 0.7280 - val_loss: 0.7934 - val_accuracy: 0.6664\n",
      "Epoch 7/10\n",
      "543/544 [============================>.] - ETA: 0s - loss: 0.5997 - accuracy: 0.7453\n",
      "Epoch 7: saving model to tmp/checkpoint\\model_rnn.hdf5\n",
      "\n",
      "Epoch 7: val_accuracy did not improve from 0.66644\n",
      "\n",
      "Epoch 7: val_loss did not improve from 0.79341\n",
      "544/544 [==============================] - 26s 48ms/step - loss: 0.6001 - accuracy: 0.7451 - val_loss: 0.8030 - val_accuracy: 0.6436\n",
      "Epoch 8/10\n",
      "544/544 [==============================] - ETA: 0s - loss: 0.5545 - accuracy: 0.7708\n",
      "Epoch 8: saving model to tmp/checkpoint\\model_rnn.hdf5\n",
      "\n",
      "Epoch 8: val_accuracy did not improve from 0.66644\n",
      "\n",
      "Epoch 8: val_loss did not improve from 0.79341\n",
      "544/544 [==============================] - 26s 47ms/step - loss: 0.5545 - accuracy: 0.7708 - val_loss: 0.8497 - val_accuracy: 0.6405\n",
      "Epoch 9/10\n",
      "544/544 [==============================] - ETA: 0s - loss: 0.5052 - accuracy: 0.7917\n",
      "Epoch 9: saving model to tmp/checkpoint\\model_rnn.hdf5\n",
      "\n",
      "Epoch 9: val_accuracy did not improve from 0.66644\n",
      "\n",
      "Epoch 9: val_loss did not improve from 0.79341\n",
      "544/544 [==============================] - 26s 47ms/step - loss: 0.5052 - accuracy: 0.7917 - val_loss: 0.7946 - val_accuracy: 0.6596\n",
      "Epoch 10/10\n",
      "544/544 [==============================] - ETA: 0s - loss: 0.4723 - accuracy: 0.8116\n",
      "Epoch 10: saving model to tmp/checkpoint\\model_rnn.hdf5\n",
      "\n",
      "Epoch 10: val_accuracy did not improve from 0.66644\n",
      "\n",
      "Epoch 10: val_loss did not improve from 0.79341\n",
      "544/544 [==============================] - 27s 50ms/step - loss: 0.4723 - accuracy: 0.8116 - val_loss: 0.8731 - val_accuracy: 0.6604\n",
      "Model: \"sequential_6\"\n",
      "_________________________________________________________________\n",
      " Layer (type)                Output Shape              Param #   \n",
      "=================================================================\n",
      " embedding_6 (Embedding)     (None, 15, 200)           8881200   \n",
      "                                                                 \n",
      " simple_rnn_2 (SimpleRNN)    (None, 256)               116992    \n",
      "                                                                 \n",
      " dense_18 (Dense)            (None, 512)               131584    \n",
      "                                                                 \n",
      " dense_19 (Dense)            (None, 512)               262656    \n",
      "                                                                 \n",
      " dense_20 (Dense)            (None, 3)                 1539      \n",
      "                                                                 \n",
      "=================================================================\n",
      "Total params: 9,393,971\n",
      "Trainable params: 512,771\n",
      "Non-trainable params: 8,881,200\n",
      "_________________________________________________________________\n",
      "233/233 [==============================] - 2s 7ms/step\n",
      "              precision    recall  f1-score   support\n",
      "\n",
      "           0       0.65      0.53      0.59      2528\n",
      "           1       0.70      0.81      0.75      2465\n",
      "           2       0.62      0.63      0.63      2457\n",
      "\n",
      "    accuracy                           0.66      7450\n",
      "   macro avg       0.66      0.66      0.66      7450\n",
      "weighted avg       0.66      0.66      0.66      7450\n",
      "\n"
     ]
    }
   ],
   "source": [
    "model_rnn = build_model(nb_words, \"SimpleRNN\", embedding_matrix)\n",
    "model_rnn.summary()\n",
    "checkpoint = tf.keras.callbacks.ModelCheckpoint('tmp/checkpoint/model_rnn.hdf5',verbose=True)\n",
    "getAcc = tf.keras.callbacks.ModelCheckpoint('tmp/checkpoint/model_rnnAcc.hdf5',verbose=True,save_best_only=True,monitor='val_accuracy')\n",
    "getLoss = tf.keras.callbacks.ModelCheckpoint('tmp/checkpoint/model_rnnLoss.hdf5',verbose=True,save_best_only=True,monitor='val_loss')\n",
    "model_rnn_history = model_rnn.fit(x_train, y_train, \n",
    "                                                epochs=10, \n",
    "                                                validation_data=(x_test, y_test), \n",
    "                                                callbacks=[checkpoint,getAcc,getLoss, \n",
    "                                                EarlyStopping(monitor='val_accuracy', mode='max',patience=5)])\n",
    "model_rnn.summary()\n",
    "predictions = model_rnn.predict(x_test)\n",
    "predictions = predictions.argmax(axis=1)\n",
    "print(classification_report(y_test.argmax(axis=1), predictions))"
   ]
  },
  {
   "cell_type": "code",
   "execution_count": 41,
   "metadata": {},
   "outputs": [
    {
     "name": "stdout",
     "output_type": "stream",
     "text": [
      "233/233 [==============================] - 2s 10ms/step - loss: 0.8731 - accuracy: 0.6604\n",
      "[0.8730692267417908, 0.6604026556015015]\n",
      "233/233 [==============================] - 3s 11ms/step - loss: 0.7934 - accuracy: 0.6664\n",
      "233/233 [==============================] - 3s 11ms/step - loss: 0.7934 - accuracy: 0.6664\n",
      "Best Acc Test Loss: 0.7934098243713379\n",
      "Best Acc Test Accuracy: 66.64 %\n",
      "Best Loss Test Loss: 0.7934098243713379\n",
      "Best Loss Test Accuracy: 66.64 %\n"
     ]
    }
   ],
   "source": [
    "# evaluating baseline coarse model\n",
    "print(model_rnn.evaluate(x_test, y_test))\n",
    "model_rnn.load_weights('tmp/checkpoint/model_rnnAcc.hdf5')\n",
    "scoreAcc = model_rnn.evaluate(x_test, y_test)\n",
    "model_rnn.load_weights('tmp/checkpoint/model_rnnLoss.hdf5')\n",
    "scoreLoss = model_rnn.evaluate(x_test, y_test)\n",
    "print('Best Acc Test Loss:', scoreAcc[0])\n",
    "print('Best Acc Test Accuracy:', round(scoreAcc[1],4)*100,'%')\n",
    "print('Best Loss Test Loss:', scoreLoss[0])\n",
    "print('Best Loss Test Accuracy:', round(scoreLoss[1],4)*100,'%')"
   ]
  },
  {
   "cell_type": "code",
   "execution_count": 42,
   "metadata": {},
   "outputs": [
    {
     "data": {
      "image/png": "[encoded data removed]",
      "text/plain": [
       "<Figure size 1000x300 with 1 Axes>"
      ]
     },
     "metadata": {},
     "output_type": "display_data"
    },
    {
     "data": {
      "image/png": "[encoded data removed]",
      "text/plain": [
       "<Figure size 1000x300 with 1 Axes>"
      ]
     },
     "metadata": {},
     "output_type": "display_data"
    }
   ],
   "source": [
    "max_val_acc_epoch = np.argmax(list(model_rnn_history.history['val_accuracy']))+1\n",
    "max_val_loss_epoch = np.argmin(list(model_rnn_history.history['val_loss']))+1\n",
    "epochs = range(1, len(model_rnn_history.history['accuracy']) + 1)\n",
    "plt.figure(figsize=(10,3))\n",
    "plt.minorticks_on()\n",
    "plt.axvline(x=max_val_acc_epoch, color='0.5', linestyle='--')\n",
    "plt.axvline(x=max_val_loss_epoch, color='0.5', linestyle=':')\n",
    "plt.plot(epochs,model_rnn_history.history['accuracy'], label='Train')\n",
    "plt.plot(epochs,model_rnn_history.history['val_accuracy'], label='Validation')\n",
    "plt.xlabel('Epochs')\n",
    "plt.ylabel('Accuracy')\n",
    "plt.legend()\n",
    "plt.show()\n",
    "\n",
    "plt.figure(figsize=(10,3))\n",
    "plt.minorticks_on()\n",
    "plt.axvline(x=max_val_acc_epoch, color='0.5', linestyle='--')\n",
    "plt.axvline(x=max_val_loss_epoch, color='0.5', linestyle=':')\n",
    "plt.plot(epochs,model_rnn_history.history['loss'], label='Train')\n",
    "plt.plot(epochs,model_rnn_history.history['val_loss'], label='Validation')\n",
    "plt.xlabel('Epochs')\n",
    "plt.ylabel('Loss')\n",
    "plt.legend()\n",
    "plt.show()"
   ]
  },
  {
   "cell_type": "code",
   "execution_count": 43,
   "metadata": {},
   "outputs": [],
   "source": [
    "# import visualkeras\n",
    "# from PIL import ImageFont\n",
    "# visualkeras.layered_view(model_rnn, legend=True)"
   ]
  },
  {
   "cell_type": "code",
   "execution_count": 44,
   "metadata": {},
   "outputs": [],
   "source": [
    "# model_rnn.save_weights(\"./models/rnn-model.h5\")"
   ]
  },
  {
   "cell_type": "markdown",
   "metadata": {},
   "source": [
    "## LSTM Model"
   ]
  },
  {
   "cell_type": "code",
   "execution_count": 45,
   "metadata": {},
   "outputs": [
    {
     "name": "stdout",
     "output_type": "stream",
     "text": [
      "Model: \"sequential_7\"\n",
      "_________________________________________________________________\n",
      " Layer (type)                Output Shape              Param #   \n",
      "=================================================================\n",
      " embedding_7 (Embedding)     (None, 15, 200)           8881200   \n",
      "                                                                 \n",
      " lstm_2 (LSTM)               (None, 256)               467968    \n",
      "                                                                 \n",
      " dense_21 (Dense)            (None, 512)               131584    \n",
      "                                                                 \n",
      " dense_22 (Dense)            (None, 512)               262656    \n",
      "                                                                 \n",
      " dense_23 (Dense)            (None, 3)                 1539      \n",
      "                                                                 \n",
      "=================================================================\n",
      "Total params: 9,744,947\n",
      "Trainable params: 863,747\n",
      "Non-trainable params: 8,881,200\n",
      "_________________________________________________________________\n",
      "Epoch 1/10\n",
      "542/544 [============================>.] - ETA: 0s - loss: 0.8040 - accuracy: 0.6304\n",
      "Epoch 1: saving model to tmp/checkpoint\\model_lstm.hdf5\n",
      "\n",
      "Epoch 1: val_accuracy improved from -inf to 0.68309, saving model to tmp/checkpoint\\model_lstmAcc.hdf5\n",
      "\n",
      "Epoch 1: val_loss improved from inf to 0.71966, saving model to tmp/checkpoint\\model_lstmLoss.hdf5\n",
      "544/544 [==============================] - 10s 14ms/step - loss: 0.8038 - accuracy: 0.6304 - val_loss: 0.7197 - val_accuracy: 0.6831\n",
      "Epoch 2/10\n",
      "539/544 [============================>.] - ETA: 0s - loss: 0.6516 - accuracy: 0.7148\n",
      "Epoch 2: saving model to tmp/checkpoint\\model_lstm.hdf5\n",
      "\n",
      "Epoch 2: val_accuracy improved from 0.68309 to 0.72215, saving model to tmp/checkpoint\\model_lstmAcc.hdf5\n",
      "\n",
      "Epoch 2: val_loss improved from 0.71966 to 0.63648, saving model to tmp/checkpoint\\model_lstmLoss.hdf5\n",
      "544/544 [==============================] - 7s 13ms/step - loss: 0.6505 - accuracy: 0.7157 - val_loss: 0.6365 - val_accuracy: 0.7221\n",
      "Epoch 3/10\n",
      "542/544 [============================>.] - ETA: 0s - loss: 0.5628 - accuracy: 0.7558\n",
      "Epoch 3: saving model to tmp/checkpoint\\model_lstm.hdf5\n",
      "\n",
      "Epoch 3: val_accuracy improved from 0.72215 to 0.73047, saving model to tmp/checkpoint\\model_lstmAcc.hdf5\n",
      "\n",
      "Epoch 3: val_loss improved from 0.63648 to 0.61783, saving model to tmp/checkpoint\\model_lstmLoss.hdf5\n",
      "544/544 [==============================] - 7s 12ms/step - loss: 0.5628 - accuracy: 0.7559 - val_loss: 0.6178 - val_accuracy: 0.7305\n",
      "Epoch 4/10\n",
      "544/544 [==============================] - ETA: 0s - loss: 0.4828 - accuracy: 0.7958\n",
      "Epoch 4: saving model to tmp/checkpoint\\model_lstm.hdf5\n",
      "\n",
      "Epoch 4: val_accuracy improved from 0.73047 to 0.74886, saving model to tmp/checkpoint\\model_lstmAcc.hdf5\n",
      "\n",
      "Epoch 4: val_loss improved from 0.61783 to 0.61030, saving model to tmp/checkpoint\\model_lstmLoss.hdf5\n",
      "544/544 [==============================] - 7s 13ms/step - loss: 0.4828 - accuracy: 0.7958 - val_loss: 0.6103 - val_accuracy: 0.7489\n",
      "Epoch 5/10\n",
      "543/544 [============================>.] - ETA: 0s - loss: 0.4017 - accuracy: 0.8313\n",
      "Epoch 5: saving model to tmp/checkpoint\\model_lstm.hdf5\n",
      "\n",
      "Epoch 5: val_accuracy improved from 0.74886 to 0.75356, saving model to tmp/checkpoint\\model_lstmAcc.hdf5\n",
      "\n",
      "Epoch 5: val_loss did not improve from 0.61030\n",
      "544/544 [==============================] - 7s 13ms/step - loss: 0.4019 - accuracy: 0.8312 - val_loss: 0.6321 - val_accuracy: 0.7536\n",
      "Epoch 6/10\n",
      "539/544 [============================>.] - ETA: 0s - loss: 0.3187 - accuracy: 0.8683\n",
      "Epoch 6: saving model to tmp/checkpoint\\model_lstm.hdf5\n",
      "\n",
      "Epoch 6: val_accuracy improved from 0.75356 to 0.75758, saving model to tmp/checkpoint\\model_lstmAcc.hdf5\n",
      "\n",
      "Epoch 6: val_loss did not improve from 0.61030\n",
      "544/544 [==============================] - 7s 12ms/step - loss: 0.3189 - accuracy: 0.8681 - val_loss: 0.6761 - val_accuracy: 0.7576\n",
      "Epoch 7/10\n",
      "541/544 [============================>.] - ETA: 0s - loss: 0.2260 - accuracy: 0.9121\n",
      "Epoch 7: saving model to tmp/checkpoint\\model_lstm.hdf5\n",
      "\n",
      "Epoch 7: val_accuracy improved from 0.75758 to 0.75879, saving model to tmp/checkpoint\\model_lstmAcc.hdf5\n",
      "\n",
      "Epoch 7: val_loss did not improve from 0.61030\n",
      "544/544 [==============================] - 7s 13ms/step - loss: 0.2261 - accuracy: 0.9121 - val_loss: 0.8241 - val_accuracy: 0.7588\n",
      "Epoch 8/10\n",
      "544/544 [==============================] - ETA: 0s - loss: 0.1529 - accuracy: 0.9428\n",
      "Epoch 8: saving model to tmp/checkpoint\\model_lstm.hdf5\n",
      "\n",
      "Epoch 8: val_accuracy did not improve from 0.75879\n",
      "\n",
      "Epoch 8: val_loss did not improve from 0.61030\n",
      "544/544 [==============================] - 7s 13ms/step - loss: 0.1529 - accuracy: 0.9428 - val_loss: 0.9180 - val_accuracy: 0.7434\n",
      "Epoch 9/10\n",
      "544/544 [==============================] - ETA: 0s - loss: 0.1067 - accuracy: 0.9610\n",
      "Epoch 9: saving model to tmp/checkpoint\\model_lstm.hdf5\n",
      "\n",
      "Epoch 9: val_accuracy did not improve from 0.75879\n",
      "\n",
      "Epoch 9: val_loss did not improve from 0.61030\n",
      "544/544 [==============================] - 7s 13ms/step - loss: 0.1067 - accuracy: 0.9610 - val_loss: 1.1859 - val_accuracy: 0.7536\n",
      "Epoch 10/10\n",
      "542/544 [============================>.] - ETA: 0s - loss: 0.0803 - accuracy: 0.9722\n",
      "Epoch 10: saving model to tmp/checkpoint\\model_lstm.hdf5\n",
      "\n",
      "Epoch 10: val_accuracy did not improve from 0.75879\n",
      "\n",
      "Epoch 10: val_loss did not improve from 0.61030\n",
      "544/544 [==============================] - 7s 12ms/step - loss: 0.0807 - accuracy: 0.9720 - val_loss: 1.2413 - val_accuracy: 0.7564\n",
      "233/233 [==============================] - 2s 4ms/step\n",
      "              precision    recall  f1-score   support\n",
      "\n",
      "           0       0.67      0.79      0.73      2528\n",
      "           1       0.84      0.84      0.84      2465\n",
      "           2       0.77      0.64      0.70      2457\n",
      "\n",
      "    accuracy                           0.76      7450\n",
      "   macro avg       0.76      0.76      0.76      7450\n",
      "weighted avg       0.76      0.76      0.76      7450\n",
      "\n"
     ]
    }
   ],
   "source": [
    "model_lstm = build_model(nb_words, \"LSTM\", embedding_matrix)\n",
    "model_lstm.summary()\n",
    "checkpoint = tf.keras.callbacks.ModelCheckpoint('tmp/checkpoint/model_lstm.hdf5',verbose=True)\n",
    "getAcc = tf.keras.callbacks.ModelCheckpoint('tmp/checkpoint/model_lstmAcc.hdf5',verbose=True,save_best_only=True,monitor='val_accuracy')\n",
    "getLoss = tf.keras.callbacks.ModelCheckpoint('tmp/checkpoint/model_lstmLoss.hdf5',verbose=True,save_best_only=True,monitor='val_loss')\n",
    "model_lstm_history = model_lstm.fit(x_train, y_train, \n",
    "                                                epochs=10, \n",
    "                                                validation_data=(x_test, y_test), \n",
    "                                                callbacks=[checkpoint,getAcc,getLoss, \n",
    "                                                EarlyStopping(monitor='val_accuracy', mode='max',patience=5)])\n",
    "\n",
    "predictions = model_lstm.predict(x_test)\n",
    "predictions = predictions.argmax(axis=1)\n",
    "print(classification_report(y_test.argmax(axis=1), predictions))\n"
   ]
  },
  {
   "cell_type": "code",
   "execution_count": 46,
   "metadata": {},
   "outputs": [
    {
     "name": "stdout",
     "output_type": "stream",
     "text": [
      "233/233 [==============================] - 2s 7ms/step - loss: 1.2413 - accuracy: 0.7564\n",
      "[1.2413318157196045, 0.7563758492469788]\n",
      "233/233 [==============================] - 2s 7ms/step - loss: 0.8241 - accuracy: 0.7588\n",
      "233/233 [==============================] - 2s 7ms/step - loss: 0.6103 - accuracy: 0.7489\n",
      "Best Acc Test Loss: 0.824110746383667\n",
      "Best Acc Test Accuracy: 75.88000000000001 %\n",
      "Best Loss Test Loss: 0.6102975010871887\n",
      "Best Loss Test Accuracy: 74.89 %\n"
     ]
    }
   ],
   "source": [
    "# evaluating baseline coarse model\n",
    "print(model_lstm.evaluate(x_test, y_test))\n",
    "model_lstm.load_weights('tmp/checkpoint/model_lstmAcc.hdf5')\n",
    "scoreAcc = model_lstm.evaluate(x_test, y_test)\n",
    "model_lstm.load_weights('tmp/checkpoint/model_lstmLoss.hdf5')\n",
    "scoreLoss = model_lstm.evaluate(x_test, y_test)\n",
    "print('Best Acc Test Loss:', scoreAcc[0])\n",
    "print('Best Acc Test Accuracy:', round(scoreAcc[1],4)*100,'%')\n",
    "print('Best Loss Test Loss:', scoreLoss[0])\n",
    "print('Best Loss Test Accuracy:', round(scoreLoss[1],4)*100,'%')"
   ]
  },
  {
   "cell_type": "code",
   "execution_count": 47,
   "metadata": {},
   "outputs": [
    {
     "data": {
      "image/png": "[encoded data removed]",
      "text/plain": [
       "<Figure size 1000x300 with 1 Axes>"
      ]
     },
     "metadata": {},
     "output_type": "display_data"
    },
    {
     "data": {
      "image/png": "[encoded data removed]",
      "text/plain": [
       "<Figure size 1000x300 with 1 Axes>"
      ]
     },
     "metadata": {},
     "output_type": "display_data"
    }
   ],
   "source": [
    "max_val_acc_epoch = np.argmax(list(model_lstm_history.history['val_accuracy']))+1\n",
    "max_val_loss_epoch = np.argmin(list(model_lstm_history.history['val_loss']))+1\n",
    "epochs = range(1, len(model_lstm_history.history['accuracy']) + 1)\n",
    "plt.figure(figsize=(10,3))\n",
    "plt.minorticks_on()\n",
    "plt.axvline(x=max_val_acc_epoch, color='0.5', linestyle='--')\n",
    "plt.axvline(x=max_val_loss_epoch, color='0.5', linestyle=':')\n",
    "plt.plot(epochs,model_lstm_history.history['accuracy'], label='Train')\n",
    "plt.plot(epochs,model_lstm_history.history['val_accuracy'], label='Validation')\n",
    "plt.xlabel('Epochs')\n",
    "plt.ylabel('Accuracy')\n",
    "plt.legend()\n",
    "plt.show()\n",
    "\n",
    "plt.figure(figsize=(10,3))\n",
    "plt.minorticks_on()\n",
    "plt.axvline(x=max_val_acc_epoch, color='0.5', linestyle='--')\n",
    "plt.axvline(x=max_val_loss_epoch, color='0.5', linestyle=':')\n",
    "plt.plot(epochs,model_lstm_history.history['loss'], label='Train')\n",
    "plt.plot(epochs,model_lstm_history.history['val_loss'], label='Validation')\n",
    "plt.xlabel('Epochs')\n",
    "plt.ylabel('Loss')\n",
    "plt.legend()\n",
    "plt.show()"
   ]
  },
  {
   "cell_type": "code",
   "execution_count": 48,
   "metadata": {},
   "outputs": [],
   "source": [
    "# import visualkeras\n",
    "# from PIL import ImageFont\n",
    "# visualkeras.layered_view(model_lstm, legend=True)"
   ]
  },
  {
   "cell_type": "code",
   "execution_count": 49,
   "metadata": {},
   "outputs": [],
   "source": [
    "# model_lstm.save_weights(\"models/model-lstm.h5\")"
   ]
  },
  {
   "cell_type": "markdown",
   "metadata": {},
   "source": [
    "## GRU Model "
   ]
  },
  {
   "cell_type": "code",
   "execution_count": 50,
   "metadata": {},
   "outputs": [
    {
     "name": "stdout",
     "output_type": "stream",
     "text": [
      "Model: \"sequential_8\"\n",
      "_________________________________________________________________\n",
      " Layer (type)                Output Shape              Param #   \n",
      "=================================================================\n",
      " embedding_8 (Embedding)     (None, 15, 200)           8881200   \n",
      "                                                                 \n",
      " gru_2 (GRU)                 (None, 256)               351744    \n",
      "                                                                 \n",
      " dense_24 (Dense)            (None, 512)               131584    \n",
      "                                                                 \n",
      " dense_25 (Dense)            (None, 512)               262656    \n",
      "                                                                 \n",
      " dense_26 (Dense)            (None, 3)                 1539      \n",
      "                                                                 \n",
      "=================================================================\n",
      "Total params: 9,628,723\n",
      "Trainable params: 747,523\n",
      "Non-trainable params: 8,881,200\n",
      "_________________________________________________________________\n",
      "Epoch 1/10\n",
      "542/544 [============================>.] - ETA: 0s - loss: 0.7846 - accuracy: 0.6389\n",
      "Epoch 1: saving model to tmp/checkpoint\\model_gru.hdf5\n",
      "\n",
      "Epoch 1: val_accuracy improved from -inf to 0.70819, saving model to tmp/checkpoint\\model_gruAcc.hdf5\n",
      "\n",
      "Epoch 1: val_loss improved from inf to 0.67262, saving model to tmp/checkpoint\\model_gruLoss.hdf5\n",
      "544/544 [==============================] - 9s 13ms/step - loss: 0.7839 - accuracy: 0.6393 - val_loss: 0.6726 - val_accuracy: 0.7082\n",
      "Epoch 2/10\n",
      "539/544 [============================>.] - ETA: 0s - loss: 0.6084 - accuracy: 0.7404\n",
      "Epoch 2: saving model to tmp/checkpoint\\model_gru.hdf5\n",
      "\n",
      "Epoch 2: val_accuracy improved from 0.70819 to 0.75034, saving model to tmp/checkpoint\\model_gruAcc.hdf5\n",
      "\n",
      "Epoch 2: val_loss improved from 0.67262 to 0.59170, saving model to tmp/checkpoint\\model_gruLoss.hdf5\n",
      "544/544 [==============================] - 6s 12ms/step - loss: 0.6084 - accuracy: 0.7402 - val_loss: 0.5917 - val_accuracy: 0.7503\n",
      "Epoch 3/10\n",
      "544/544 [==============================] - ETA: 0s - loss: 0.5198 - accuracy: 0.7741\n",
      "Epoch 3: saving model to tmp/checkpoint\\model_gru.hdf5\n",
      "\n",
      "Epoch 3: val_accuracy improved from 0.75034 to 0.75168, saving model to tmp/checkpoint\\model_gruAcc.hdf5\n",
      "\n",
      "Epoch 3: val_loss improved from 0.59170 to 0.57488, saving model to tmp/checkpoint\\model_gruLoss.hdf5\n",
      "544/544 [==============================] - 7s 12ms/step - loss: 0.5198 - accuracy: 0.7741 - val_loss: 0.5749 - val_accuracy: 0.7517\n",
      "Epoch 4/10\n",
      "542/544 [============================>.] - ETA: 0s - loss: 0.4400 - accuracy: 0.8138\n",
      "Epoch 4: saving model to tmp/checkpoint\\model_gru.hdf5\n",
      "\n",
      "Epoch 4: val_accuracy improved from 0.75168 to 0.75490, saving model to tmp/checkpoint\\model_gruAcc.hdf5\n",
      "\n",
      "Epoch 4: val_loss did not improve from 0.57488\n",
      "544/544 [==============================] - 6s 11ms/step - loss: 0.4403 - accuracy: 0.8138 - val_loss: 0.6070 - val_accuracy: 0.7549\n",
      "Epoch 5/10\n",
      "540/544 [============================>.] - ETA: 0s - loss: 0.3609 - accuracy: 0.8501\n",
      "Epoch 5: saving model to tmp/checkpoint\\model_gru.hdf5\n",
      "\n",
      "Epoch 5: val_accuracy improved from 0.75490 to 0.76537, saving model to tmp/checkpoint\\model_gruAcc.hdf5\n",
      "\n",
      "Epoch 5: val_loss did not improve from 0.57488\n",
      "544/544 [==============================] - 6s 12ms/step - loss: 0.3606 - accuracy: 0.8502 - val_loss: 0.6115 - val_accuracy: 0.7654\n",
      "Epoch 6/10\n",
      "540/544 [============================>.] - ETA: 0s - loss: 0.2654 - accuracy: 0.8894\n",
      "Epoch 6: saving model to tmp/checkpoint\\model_gru.hdf5\n",
      "\n",
      "Epoch 6: val_accuracy did not improve from 0.76537\n",
      "\n",
      "Epoch 6: val_loss did not improve from 0.57488\n",
      "544/544 [==============================] - 6s 11ms/step - loss: 0.2659 - accuracy: 0.8894 - val_loss: 0.7858 - val_accuracy: 0.7515\n",
      "Epoch 7/10\n",
      "544/544 [==============================] - ETA: 0s - loss: 0.1857 - accuracy: 0.9254\n",
      "Epoch 7: saving model to tmp/checkpoint\\model_gru.hdf5\n",
      "\n",
      "Epoch 7: val_accuracy did not improve from 0.76537\n",
      "\n",
      "Epoch 7: val_loss did not improve from 0.57488\n",
      "544/544 [==============================] - 6s 11ms/step - loss: 0.1857 - accuracy: 0.9254 - val_loss: 0.8729 - val_accuracy: 0.7564\n",
      "Epoch 8/10\n",
      "544/544 [==============================] - ETA: 0s - loss: 0.1199 - accuracy: 0.9547\n",
      "Epoch 8: saving model to tmp/checkpoint\\model_gru.hdf5\n",
      "\n",
      "Epoch 8: val_accuracy did not improve from 0.76537\n",
      "\n",
      "Epoch 8: val_loss did not improve from 0.57488\n",
      "544/544 [==============================] - 6s 11ms/step - loss: 0.1199 - accuracy: 0.9547 - val_loss: 1.1130 - val_accuracy: 0.7523\n",
      "Epoch 9/10\n",
      "542/544 [============================>.] - ETA: 0s - loss: 0.0797 - accuracy: 0.9720\n",
      "Epoch 9: saving model to tmp/checkpoint\\model_gru.hdf5\n",
      "\n",
      "Epoch 9: val_accuracy did not improve from 0.76537\n",
      "\n",
      "Epoch 9: val_loss did not improve from 0.57488\n",
      "544/544 [==============================] - 6s 11ms/step - loss: 0.0797 - accuracy: 0.9720 - val_loss: 1.2528 - val_accuracy: 0.7569\n",
      "Epoch 10/10\n",
      "544/544 [==============================] - ETA: 0s - loss: 0.0619 - accuracy: 0.9795\n",
      "Epoch 10: saving model to tmp/checkpoint\\model_gru.hdf5\n",
      "\n",
      "Epoch 10: val_accuracy did not improve from 0.76537\n",
      "\n",
      "Epoch 10: val_loss did not improve from 0.57488\n",
      "544/544 [==============================] - 6s 11ms/step - loss: 0.0619 - accuracy: 0.9795 - val_loss: 1.3777 - val_accuracy: 0.7549\n",
      "233/233 [==============================] - 1s 4ms/step\n",
      "              precision    recall  f1-score   support\n",
      "\n",
      "           0       0.71      0.73      0.72      2528\n",
      "           1       0.86      0.81      0.84      2465\n",
      "           2       0.71      0.72      0.71      2457\n",
      "\n",
      "    accuracy                           0.75      7450\n",
      "   macro avg       0.76      0.76      0.76      7450\n",
      "weighted avg       0.76      0.75      0.76      7450\n",
      "\n"
     ]
    }
   ],
   "source": [
    "model_gru = build_model(nb_words, \"GRU\", embedding_matrix)\n",
    "model_gru.summary()\n",
    "checkpoint = tf.keras.callbacks.ModelCheckpoint('tmp/checkpoint/model_gru.hdf5',verbose=True)\n",
    "getAcc = tf.keras.callbacks.ModelCheckpoint('tmp/checkpoint/model_gruAcc.hdf5',verbose=True,save_best_only=True,monitor='val_accuracy')\n",
    "getLoss = tf.keras.callbacks.ModelCheckpoint('tmp/checkpoint/model_gruLoss.hdf5',verbose=True,save_best_only=True,monitor='val_loss')\n",
    "model_gru_history = model_gru.fit(x_train, y_train, \n",
    "                                                epochs=10, \n",
    "                                                validation_data=(x_test, y_test), \n",
    "                                                callbacks=[checkpoint,getAcc,getLoss, \n",
    "                                                EarlyStopping(monitor='val_accuracy', mode='max',patience=5)])\n",
    "\n",
    "predictions = model_gru.predict(x_test)\n",
    "predictions = predictions.argmax(axis=1)\n",
    "print(classification_report(y_test.argmax(axis=1), predictions))\n"
   ]
  },
  {
   "cell_type": "code",
   "execution_count": 51,
   "metadata": {},
   "outputs": [
    {
     "name": "stdout",
     "output_type": "stream",
     "text": [
      "233/233 [==============================] - 1s 6ms/step - loss: 1.3777 - accuracy: 0.7549\n",
      "[1.3777146339416504, 0.7548993229866028]\n",
      "233/233 [==============================] - 2s 6ms/step - loss: 0.6115 - accuracy: 0.7654\n",
      "233/233 [==============================] - 1s 6ms/step - loss: 0.5749 - accuracy: 0.7517\n",
      "Best Acc Test Loss: 0.6114693284034729\n",
      "Best Acc Test Accuracy: 76.53999999999999 %\n",
      "Best Loss Test Loss: 0.5748786330223083\n",
      "Best Loss Test Accuracy: 75.17 %\n"
     ]
    }
   ],
   "source": [
    "# evaluating baseline coarse model\n",
    "print(model_gru.evaluate(x_test, y_test))\n",
    "model_gru.load_weights('tmp/checkpoint/model_gruAcc.hdf5')\n",
    "scoreAcc = model_gru.evaluate(x_test, y_test)\n",
    "model_gru.load_weights('tmp/checkpoint/model_gruLoss.hdf5')\n",
    "scoreLoss = model_gru.evaluate(x_test, y_test)\n",
    "print('Best Acc Test Loss:', scoreAcc[0])\n",
    "print('Best Acc Test Accuracy:', round(scoreAcc[1],4)*100,'%')\n",
    "print('Best Loss Test Loss:', scoreLoss[0])\n",
    "print('Best Loss Test Accuracy:', round(scoreLoss[1],4)*100,'%')"
   ]
  },
  {
   "cell_type": "code",
   "execution_count": 52,
   "metadata": {},
   "outputs": [
    {
     "data": {
      "image/png": "[encoded data removed]",
      "text/plain": [
       "<Figure size 1000x300 with 1 Axes>"
      ]
     },
     "metadata": {},
     "output_type": "display_data"
    },
    {
     "data": {
      "image/png": "[encoded data removed]",
      "text/plain": [
       "<Figure size 1000x300 with 1 Axes>"
      ]
     },
     "metadata": {},
     "output_type": "display_data"
    }
   ],
   "source": [
    "max_val_acc_epoch = np.argmax(list(model_gru_history.history['val_accuracy']))+1\n",
    "max_val_loss_epoch = np.argmin(list(model_gru_history.history['val_loss']))+1\n",
    "epochs = range(1, len(model_gru_history.history['accuracy']) + 1)\n",
    "plt.figure(figsize=(10,3))\n",
    "plt.minorticks_on()\n",
    "plt.axvline(x=max_val_acc_epoch, color='0.5', linestyle='--')\n",
    "plt.axvline(x=max_val_loss_epoch, color='0.5', linestyle=':')\n",
    "plt.plot(epochs,model_gru_history.history['accuracy'], label='Train')\n",
    "plt.plot(epochs,model_gru_history.history['val_accuracy'], label='Validation')\n",
    "plt.xlabel('Epochs')\n",
    "plt.ylabel('Accuracy')\n",
    "plt.legend()\n",
    "plt.show()\n",
    "\n",
    "plt.figure(figsize=(10,3))\n",
    "plt.minorticks_on()\n",
    "plt.axvline(x=max_val_acc_epoch, color='0.5', linestyle='--')\n",
    "plt.axvline(x=max_val_loss_epoch, color='0.5', linestyle=':')\n",
    "plt.plot(epochs,model_gru_history.history['loss'], label='Train')\n",
    "plt.plot(epochs,model_gru_history.history['val_loss'], label='Validation')\n",
    "plt.xlabel('Epochs')\n",
    "plt.ylabel('Loss')\n",
    "plt.legend()\n",
    "plt.show()"
   ]
  },
  {
   "cell_type": "code",
   "execution_count": 53,
   "metadata": {},
   "outputs": [],
   "source": [
    "# import visualkeras\n",
    "# from PIL import ImageFont\n",
    "# visualkeras.layered_view(model_gru, legend=True)"
   ]
  },
  {
   "cell_type": "code",
   "execution_count": 54,
   "metadata": {},
   "outputs": [],
   "source": [
    "# model_gru.save_weights(\"models/model-gru.h5\")"
   ]
  },
  {
   "cell_type": "markdown",
   "metadata": {},
   "source": [
    "### Using a non-deep learning model (TFIDF vectorization) and other effective, traditional machine learning models"
   ]
  },
  {
   "cell_type": "code",
   "execution_count": 55,
   "metadata": {},
   "outputs": [
    {
     "data": {
      "text/html": [
       "<div>\n",
       "<style scoped>\n",
       "    .dataframe tbody tr th:only-of-type {\n",
       "        vertical-align: middle;\n",
       "    }\n",
       "\n",
       "    .dataframe tbody tr th {\n",
       "        vertical-align: top;\n",
       "    }\n",
       "\n",
       "    .dataframe thead th {\n",
       "        text-align: right;\n",
       "    }\n",
       "</style>\n",
       "<table border=\"1\" class=\"dataframe\">\n",
       "  <thead>\n",
       "    <tr style=\"text-align: right;\">\n",
       "      <th></th>\n",
       "      <th>clean_comment</th>\n",
       "      <th>category</th>\n",
       "    </tr>\n",
       "  </thead>\n",
       "  <tbody>\n",
       "    <tr>\n",
       "      <th>25646</th>\n",
       "      <td>pappu pass hua hai top nahin kiya aur campus n...</td>\n",
       "      <td>1</td>\n",
       "    </tr>\n",
       "    <tr>\n",
       "      <th>28341</th>\n",
       "      <td>every individual different but when lot ppl b...</td>\n",
       "      <td>1</td>\n",
       "    </tr>\n",
       "    <tr>\n",
       "      <th>5209</th>\n",
       "      <td>about half the stuffs that get posted randia ...</td>\n",
       "      <td>-1</td>\n",
       "    </tr>\n",
       "    <tr>\n",
       "      <th>29863</th>\n",
       "      <td>god damn this man may allah bless him</td>\n",
       "      <td>0</td>\n",
       "    </tr>\n",
       "    <tr>\n",
       "      <th>12181</th>\n",
       "      <td>firmly grasp</td>\n",
       "      <td>-1</td>\n",
       "    </tr>\n",
       "    <tr>\n",
       "      <th>...</th>\n",
       "      <td>...</td>\n",
       "      <td>...</td>\n",
       "    </tr>\n",
       "    <tr>\n",
       "      <th>16111</th>\n",
       "      <td>bhar bhar chutiye bhare thread crore turnover ...</td>\n",
       "      <td>-1</td>\n",
       "    </tr>\n",
       "    <tr>\n",
       "      <th>33242</th>\n",
       "      <td>source for this data</td>\n",
       "      <td>0</td>\n",
       "    </tr>\n",
       "    <tr>\n",
       "      <th>25682</th>\n",
       "      <td>arnab today jpg</td>\n",
       "      <td>0</td>\n",
       "    </tr>\n",
       "    <tr>\n",
       "      <th>9368</th>\n",
       "      <td>the recent jonathan pie reacts donald trump br...</td>\n",
       "      <td>1</td>\n",
       "    </tr>\n",
       "    <tr>\n",
       "      <th>4648</th>\n",
       "      <td>the illusion choice</td>\n",
       "      <td>0</td>\n",
       "    </tr>\n",
       "  </tbody>\n",
       "</table>\n",
       "<p>24831 rows × 2 columns</p>\n",
       "</div>"
      ],
      "text/plain": [
       "                                           clean_comment  category\n",
       "25646  pappu pass hua hai top nahin kiya aur campus n...         1\n",
       "28341   every individual different but when lot ppl b...         1\n",
       "5209    about half the stuffs that get posted randia ...        -1\n",
       "29863              god damn this man may allah bless him         0\n",
       "12181                                      firmly grasp         -1\n",
       "...                                                  ...       ...\n",
       "16111  bhar bhar chutiye bhare thread crore turnover ...        -1\n",
       "33242                              source for this data          0\n",
       "25682                                   arnab today jpg          0\n",
       "9368   the recent jonathan pie reacts donald trump br...         1\n",
       "4648                                the illusion choice          0\n",
       "\n",
       "[24831 rows x 2 columns]"
      ]
     },
     "execution_count": 55,
     "metadata": {},
     "output_type": "execute_result"
    }
   ],
   "source": [
    "data"
   ]
  },
  {
   "cell_type": "code",
   "execution_count": 56,
   "metadata": {},
   "outputs": [],
   "source": [
    "from sklearn.model_selection import train_test_split\n",
    "\n",
    "x = data['clean_comment'].astype('str')\n",
    "y = data['category']\n",
    "\n",
    "x_train, x_test, y_train, y_test = train_test_split(x, y, test_size=0.2, random_state=42)"
   ]
  },
  {
   "cell_type": "code",
   "execution_count": 57,
   "metadata": {},
   "outputs": [
    {
     "data": {
      "text/plain": [
       "((19864, 10000), (4967, 10000))"
      ]
     },
     "execution_count": 57,
     "metadata": {},
     "output_type": "execute_result"
    }
   ],
   "source": [
    "from sklearn.feature_extraction.text import TfidfVectorizer\n",
    "\n",
    "vectorizer = TfidfVectorizer(max_features=10000, ngram_range=(1,2))\n",
    "x_train_vec = vectorizer.fit_transform(x_train)\n",
    "x_test_vec = vectorizer.transform(x_test)\n",
    "\n",
    "x_train_vec.shape, x_test_vec.shape "
   ]
  },
  {
   "cell_type": "markdown",
   "metadata": {},
   "source": [
    "## RandomForestClassifier"
   ]
  },
  {
   "cell_type": "code",
   "execution_count": 58,
   "metadata": {},
   "outputs": [
    {
     "name": "stdout",
     "output_type": "stream",
     "text": [
      "              precision    recall  f1-score   support\n",
      "\n",
      "          -1       0.75      0.71      0.73      1708\n",
      "           0       0.79      0.90      0.84      1633\n",
      "           1       0.78      0.71      0.75      1626\n",
      "\n",
      "    accuracy                           0.77      4967\n",
      "   macro avg       0.77      0.78      0.77      4967\n",
      "weighted avg       0.77      0.77      0.77      4967\n",
      "\n"
     ]
    }
   ],
   "source": [
    "from sklearn.ensemble import RandomForestClassifier\n",
    "\n",
    "model_rf = RandomForestClassifier()\n",
    "model_rf.fit(x_train_vec, y_train)\n",
    "model_rf.score(x_test_vec, y_test)\n",
    "\n",
    "predictions = model_rf.predict(x_test_vec)\n",
    "print(classification_report(y_test, predictions))"
   ]
  },
  {
   "cell_type": "code",
   "execution_count": 59,
   "metadata": {},
   "outputs": [
    {
     "data": {
      "text/plain": [
       "<sklearn.metrics._plot.confusion_matrix.ConfusionMatrixDisplay at 0x2cff9888a00>"
      ]
     },
     "execution_count": 59,
     "metadata": {},
     "output_type": "execute_result"
    },
    {
     "data": {
      "image/png": "[encoded data removed]",
      "text/plain": [
       "<Figure size 640x480 with 2 Axes>"
      ]
     },
     "metadata": {},
     "output_type": "display_data"
    }
   ],
   "source": [
    "cm = confusion_matrix(y_test, predictions, labels=model_rf.classes_)\n",
    "disp = ConfusionMatrixDisplay(confusion_matrix=cm, display_labels=model_rf.classes_)\n",
    "disp.plot()\n"
   ]
  },
  {
   "cell_type": "markdown",
   "metadata": {},
   "source": [
    "## Logistic Regression"
   ]
  },
  {
   "cell_type": "code",
   "execution_count": 60,
   "metadata": {},
   "outputs": [
    {
     "name": "stdout",
     "output_type": "stream",
     "text": [
      "              precision    recall  f1-score   support\n",
      "\n",
      "          -1       0.84      0.80      0.82      1708\n",
      "           0       0.83      0.92      0.87      1633\n",
      "           1       0.84      0.80      0.82      1626\n",
      "\n",
      "    accuracy                           0.84      4967\n",
      "   macro avg       0.84      0.84      0.84      4967\n",
      "weighted avg       0.84      0.84      0.84      4967\n",
      "\n"
     ]
    },
    {
     "name": "stderr",
     "output_type": "stream",
     "text": [
      "c:\\Users\\amir_\\anaconda3\\envs\\dl-env\\lib\\site-packages\\sklearn\\linear_model\\_logistic.py:444: ConvergenceWarning: lbfgs failed to converge (status=1):\n",
      "STOP: TOTAL NO. of ITERATIONS REACHED LIMIT.\n",
      "\n",
      "Increase the number of iterations (max_iter) or scale the data as shown in:\n",
      "    https://scikit-learn.org/stable/modules/preprocessing.html\n",
      "Please also refer to the documentation for alternative solver options:\n",
      "    https://scikit-learn.org/stable/modules/linear_model.html#logistic-regression\n",
      "  n_iter_i = _check_optimize_result(\n"
     ]
    }
   ],
   "source": [
    "from sklearn.linear_model import LogisticRegression\n",
    "\n",
    "model_lr = LogisticRegression()\n",
    "model_lr.fit(x_train_vec, y_train)\n",
    "model_lr.score(x_test_vec, y_test)\n",
    "\n",
    "predictions = model_lr.predict(x_test_vec)\n",
    "print(classification_report(y_test, predictions))"
   ]
  },
  {
   "cell_type": "code",
   "execution_count": 61,
   "metadata": {},
   "outputs": [
    {
     "data": {
      "text/plain": [
       "<sklearn.metrics._plot.confusion_matrix.ConfusionMatrixDisplay at 0x2cff9fe1610>"
      ]
     },
     "execution_count": 61,
     "metadata": {},
     "output_type": "execute_result"
    },
    {
     "data": {
      "image/png": "[encoded data removed]",
      "text/plain": [
       "<Figure size 640x480 with 2 Axes>"
      ]
     },
     "metadata": {},
     "output_type": "display_data"
    }
   ],
   "source": [
    "cm = confusion_matrix(y_test, predictions, labels=model_lr.classes_)\n",
    "disp = ConfusionMatrixDisplay(confusion_matrix=cm, display_labels=model_lr.classes_)\n",
    "disp.plot()\n"
   ]
  }
 ],
 "metadata": {
  "kernelspec": {
   "display_name": "Python 3.8.15 ('dl-env')",
   "language": "python",
   "name": "python3"
  },
  "language_info": {
   "codemirror_mode": {
    "name": "ipython",
    "version": 3
   },
   "file_extension": ".py",
   "mimetype": "text/x-python",
   "name": "python",
   "nbconvert_exporter": "python",
   "pygments_lexer": "ipython3",
   "version": "3.8.15"
  },
  "vscode": {
   "interpreter": {
    "hash": "0e2539db508840a9c88f682bdb0d2ae0b3b724251be57582e4803c6ae19cc363"
   }
  }
 },
 "nbformat": 4,
 "nbformat_minor": 4
}
