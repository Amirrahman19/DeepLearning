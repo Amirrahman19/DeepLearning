{
 "cells": [
  {
   "cell_type": "code",
   "execution_count": 2,
   "metadata": {},
   "outputs": [],
   "source": [
    "# import json\n",
    "# import urllib\n",
    "# from urllib.parse import urlparse\n",
    "# import httplib2 as http #External library\n",
    "# if __name__==\"__main__\":\n",
    "#  #Authentication parameters\n",
    "#  headers = { 'AccountKey' : ' 9ZKZkLuMSpm6rP9ssZZbMg==',\n",
    "#  'accept' : 'application/json'} #this is by default\n",
    "\n",
    "#  #API parameters\n",
    "#  uri = 'http://datamall2.mytransport.sg/' #Resource URL\n",
    "#  path = '/ltaodataservice/BusRoutes?'\n",
    "#  #Build query string & specify type of API call\n",
    "#  target = urlparse(uri + path)\n",
    "#  print(target.geturl())\n",
    "#  method = 'GET'\n",
    "#  body = ''\n",
    "\n",
    "#  #Get handle to http\n",
    "#  h = http.Http()\n",
    "#  #Obtain results\n",
    "#  response, content = h.request(\n",
    "#  target.geturl(),\n",
    "#  method,\n",
    "#  body,\n",
    "#  headers)\n",
    "#  #Parse JSON to print\n",
    "#  jsonObj = json.loads(content)\n",
    "#  print(json.dumps(jsonObj, sort_keys=True, indent=4))\n",
    "#  #Save result to file\n",
    "#  with open(\"bus_routes.json\",\"w\") as outfile:\n",
    "#  #Saving jsonObj[\"d\"]\n",
    "#     json.dump(jsonObj, outfile, sort_keys=True, indent=4, ensure_ascii=False)"
   ]
  }
 ],
 "metadata": {
  "kernelspec": {
   "display_name": "Python 3.8.13 ('deeplearning_gpu')",
   "language": "python",
   "name": "python3"
  },
  "language_info": {
   "codemirror_mode": {
    "name": "ipython",
    "version": 3
   },
   "file_extension": ".py",
   "mimetype": "text/x-python",
   "name": "python",
   "nbconvert_exporter": "python",
   "pygments_lexer": "ipython3",
   "version": "3.8.13"
  },
  "orig_nbformat": 4,
  "vscode": {
   "interpreter": {
    "hash": "f404bc9e6a4df371637d48b5c3c517ce5788b56f85956d67c110e7163c30b22c"
   }
  }
 },
 "nbformat": 4,
 "nbformat_minor": 2
}
