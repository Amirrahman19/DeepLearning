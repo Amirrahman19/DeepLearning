{
 "cells": [
  {
   "cell_type": "markdown",
   "metadata": {},
   "source": [
    "# ST1504 Part C Technical Paper\n",
    "\n",
    "## RNN, LSTM and GRU models applied to Sentiment Analysis for comparison on efficiency and test accuracy\n",
    "\n",
    "### Name: Haja Amir Rahman\n",
    "### Class: DAAA/FT?2B/06\n",
    "### Admin Number: P2100803\n",
    "\n",
    "### References: \n",
    "\n",
    "- [Fashion-Mnist Dataset](https://www.tensorflow.org/api_docs/python/tf/keras/datasets/fashion_mnist/load_data)\n",
    "- [Using GloVe and Pretrained Embedding layers](https://haochen23.github.io/2020/01/nlp-rnn-sentiment.html#.Y3sIcXZByUk)\n",
    "- [GloVe Model Loading](https://www.kaggle.com/datasets/fullmetal26/glovetwitter27b100dtxt)\n",
    "- [Understanding Embedding Layers in Keras and GloVe](https://medium.com/analytics-vidhya/understanding-embedding-layer-in-keras-bbe3ff1327ce )"
   ]
  },
  {
   "cell_type": "code",
   "execution_count": 77,
   "metadata": {},
   "outputs": [
    {
     "data": {
      "text/plain": [
       "[PhysicalDevice(name='/physical_device:GPU:0', device_type='GPU')]"
      ]
     },
     "execution_count": 77,
     "metadata": {},
     "output_type": "execute_result"
    }
   ],
   "source": [
    "import tensorflow as tf\n",
    "\n",
    "tf.config.list_physical_devices('GPU')"
   ]
  },
  {
   "cell_type": "code",
   "execution_count": 78,
   "metadata": {},
   "outputs": [],
   "source": [
    "import tensorflow.keras\n",
    "from tensorflow.keras.models import Sequential\n",
    "from tensorflow.keras.layers import InputLayer, Dense, SimpleRNN, Activation, Dropout, Conv1D\n",
    "from tensorflow.keras.layers import Embedding, Flatten, LSTM, GRU\n",
    "from tensorflow.keras.preprocessing.text import Tokenizer\n",
    "from tensorflow.keras.preprocessing.sequence import pad_sequences\n",
    "from tensorflow.keras.callbacks import EarlyStopping\n",
    "import pandas as pd\n",
    "import numpy as np\n",
    "import spacy\n",
    "import matplotlib.pyplot as plt\n",
    "from sklearn.metrics import classification_report\n",
    "from sklearn.metrics import confusion_matrix\n",
    "from sklearn.metrics import ConfusionMatrixDisplay\n",
    "# https://haochen23.github.io/2020/01/nlp-rnn-sentiment.html#.Y3sIcXZByUk"
   ]
  },
  {
   "cell_type": "code",
   "execution_count": 79,
   "metadata": {},
   "outputs": [
    {
     "data": {
      "text/html": [
       "<div>\n",
       "<style scoped>\n",
       "    .dataframe tbody tr th:only-of-type {\n",
       "        vertical-align: middle;\n",
       "    }\n",
       "\n",
       "    .dataframe tbody tr th {\n",
       "        vertical-align: top;\n",
       "    }\n",
       "\n",
       "    .dataframe thead th {\n",
       "        text-align: right;\n",
       "    }\n",
       "</style>\n",
       "<table border=\"1\" class=\"dataframe\">\n",
       "  <thead>\n",
       "    <tr style=\"text-align: right;\">\n",
       "      <th></th>\n",
       "      <th>clean_comment</th>\n",
       "      <th>category</th>\n",
       "    </tr>\n",
       "  </thead>\n",
       "  <tbody>\n",
       "    <tr>\n",
       "      <th>0</th>\n",
       "      <td>family mormon have never tried explain them t...</td>\n",
       "      <td>1</td>\n",
       "    </tr>\n",
       "    <tr>\n",
       "      <th>1</th>\n",
       "      <td>buddhism has very much lot compatible with chr...</td>\n",
       "      <td>1</td>\n",
       "    </tr>\n",
       "    <tr>\n",
       "      <th>2</th>\n",
       "      <td>seriously don say thing first all they won get...</td>\n",
       "      <td>-1</td>\n",
       "    </tr>\n",
       "    <tr>\n",
       "      <th>3</th>\n",
       "      <td>what you have learned yours and only yours wha...</td>\n",
       "      <td>0</td>\n",
       "    </tr>\n",
       "    <tr>\n",
       "      <th>4</th>\n",
       "      <td>for your own benefit you may want read living ...</td>\n",
       "      <td>1</td>\n",
       "    </tr>\n",
       "    <tr>\n",
       "      <th>...</th>\n",
       "      <td>...</td>\n",
       "      <td>...</td>\n",
       "    </tr>\n",
       "    <tr>\n",
       "      <th>37244</th>\n",
       "      <td>jesus</td>\n",
       "      <td>0</td>\n",
       "    </tr>\n",
       "    <tr>\n",
       "      <th>37245</th>\n",
       "      <td>kya bhai pure saal chutiya banaya modi aur jab...</td>\n",
       "      <td>1</td>\n",
       "    </tr>\n",
       "    <tr>\n",
       "      <th>37246</th>\n",
       "      <td>downvote karna tha par upvote hogaya</td>\n",
       "      <td>0</td>\n",
       "    </tr>\n",
       "    <tr>\n",
       "      <th>37247</th>\n",
       "      <td>haha nice</td>\n",
       "      <td>1</td>\n",
       "    </tr>\n",
       "    <tr>\n",
       "      <th>37248</th>\n",
       "      <td>facebook itself now working bjp’ cell</td>\n",
       "      <td>0</td>\n",
       "    </tr>\n",
       "  </tbody>\n",
       "</table>\n",
       "<p>37249 rows × 2 columns</p>\n",
       "</div>"
      ],
      "text/plain": [
       "                                           clean_comment  category\n",
       "0       family mormon have never tried explain them t...         1\n",
       "1      buddhism has very much lot compatible with chr...         1\n",
       "2      seriously don say thing first all they won get...        -1\n",
       "3      what you have learned yours and only yours wha...         0\n",
       "4      for your own benefit you may want read living ...         1\n",
       "...                                                  ...       ...\n",
       "37244                                              jesus         0\n",
       "37245  kya bhai pure saal chutiya banaya modi aur jab...         1\n",
       "37246              downvote karna tha par upvote hogaya          0\n",
       "37247                                         haha nice          1\n",
       "37248             facebook itself now working bjp’ cell          0\n",
       "\n",
       "[37249 rows x 2 columns]"
      ]
     },
     "execution_count": 79,
     "metadata": {},
     "output_type": "execute_result"
    }
   ],
   "source": [
    "import ssl\n",
    "ssl._create_default_https_context = ssl._create_unverified_context\n",
    "\n",
    "# data = pd.read_csv(\"https://raw.githubusercontent.com/haochen23/nlp-rnn-lstm-sentiment/master/training.1600000.processed.noemoticon.csv\", header=None, encoding='cp437')\n",
    "# print(\"The shape of the original dataset is {}\".format(data.shape))\n",
    "# data\n",
    "\n",
    "raw = pd.read_csv('data/Reddit_Data.csv')\n",
    "raw"
   ]
  },
  {
   "cell_type": "code",
   "execution_count": 80,
   "metadata": {},
   "outputs": [
    {
     "data": {
      "text/plain": [
       " 1    15830\n",
       " 0    13142\n",
       "-1     8277\n",
       "Name: category, dtype: int64"
      ]
     },
     "execution_count": 80,
     "metadata": {},
     "output_type": "execute_result"
    }
   ],
   "source": [
    "raw['category'].value_counts()"
   ]
  },
  {
   "cell_type": "code",
   "execution_count": 81,
   "metadata": {},
   "outputs": [
    {
     "data": {
      "text/html": [
       "<div>\n",
       "<style scoped>\n",
       "    .dataframe tbody tr th:only-of-type {\n",
       "        vertical-align: middle;\n",
       "    }\n",
       "\n",
       "    .dataframe tbody tr th {\n",
       "        vertical-align: top;\n",
       "    }\n",
       "\n",
       "    .dataframe thead th {\n",
       "        text-align: right;\n",
       "    }\n",
       "</style>\n",
       "<table border=\"1\" class=\"dataframe\">\n",
       "  <thead>\n",
       "    <tr style=\"text-align: right;\">\n",
       "      <th></th>\n",
       "      <th>clean_comment</th>\n",
       "      <th>category</th>\n",
       "    </tr>\n",
       "  </thead>\n",
       "  <tbody>\n",
       "    <tr>\n",
       "      <th>28310</th>\n",
       "      <td>have intention escalation but are fully prepa...</td>\n",
       "      <td>-1</td>\n",
       "    </tr>\n",
       "    <tr>\n",
       "      <th>13355</th>\n",
       "      <td>god this southie northie bullshit again southi...</td>\n",
       "      <td>1</td>\n",
       "    </tr>\n",
       "    <tr>\n",
       "      <th>1991</th>\n",
       "      <td>alonso going fucking ham</td>\n",
       "      <td>-1</td>\n",
       "    </tr>\n",
       "    <tr>\n",
       "      <th>31008</th>\n",
       "      <td>you just gonna ignore the fact that pakistani ...</td>\n",
       "      <td>-1</td>\n",
       "    </tr>\n",
       "    <tr>\n",
       "      <th>20685</th>\n",
       "      <td>did bjp issue directive rape and murder people...</td>\n",
       "      <td>-1</td>\n",
       "    </tr>\n",
       "    <tr>\n",
       "      <th>...</th>\n",
       "      <td>...</td>\n",
       "      <td>...</td>\n",
       "    </tr>\n",
       "    <tr>\n",
       "      <th>35043</th>\n",
       "      <td>odd days modi destroying environment giving la...</td>\n",
       "      <td>-1</td>\n",
       "    </tr>\n",
       "    <tr>\n",
       "      <th>30875</th>\n",
       "      <td>this resembling cultish characteristics</td>\n",
       "      <td>0</td>\n",
       "    </tr>\n",
       "    <tr>\n",
       "      <th>27207</th>\n",
       "      <td>hello would you kind and send digital copy you...</td>\n",
       "      <td>1</td>\n",
       "    </tr>\n",
       "    <tr>\n",
       "      <th>21922</th>\n",
       "      <td>goes tell you how pathetic grossly incompetent...</td>\n",
       "      <td>-1</td>\n",
       "    </tr>\n",
       "    <tr>\n",
       "      <th>34324</th>\n",
       "      <td>asset value inversely proportional degree held</td>\n",
       "      <td>0</td>\n",
       "    </tr>\n",
       "  </tbody>\n",
       "</table>\n",
       "<p>24831 rows × 2 columns</p>\n",
       "</div>"
      ],
      "text/plain": [
       "                                           clean_comment  category\n",
       "28310   have intention escalation but are fully prepa...        -1\n",
       "13355  god this southie northie bullshit again southi...         1\n",
       "1991                            alonso going fucking ham        -1\n",
       "31008  you just gonna ignore the fact that pakistani ...        -1\n",
       "20685  did bjp issue directive rape and murder people...        -1\n",
       "...                                                  ...       ...\n",
       "35043  odd days modi destroying environment giving la...        -1\n",
       "30875           this resembling cultish characteristics          0\n",
       "27207  hello would you kind and send digital copy you...         1\n",
       "21922  goes tell you how pathetic grossly incompetent...        -1\n",
       "34324    asset value inversely proportional degree held          0\n",
       "\n",
       "[24831 rows x 2 columns]"
      ]
     },
     "execution_count": 81,
     "metadata": {},
     "output_type": "execute_result"
    }
   ],
   "source": [
    "NUM = 8277\n",
    "\n",
    "positive = raw[raw['category']==1].sample(8277)\n",
    "neutral = raw[raw['category']==0].sample(8277)\n",
    "negative = raw[raw['category']==-1].sample(8277)\n",
    "\n",
    "data = pd.concat([positive, neutral, negative], axis=0).sample(frac=1)\n",
    "# positive.shape, neutral.shape, negative.shape\n",
    "\n",
    "data"
   ]
  },
  {
   "cell_type": "code",
   "execution_count": 82,
   "metadata": {},
   "outputs": [],
   "source": [
    "def load_glove_model(glove_file, encoding='iso-8859-1'):\n",
    "    print(\"[INFO]Loading GloVe Model...\")\n",
    "    model = {}\n",
    "    with open(glove_file, 'r', encoding=encoding) as f:\n",
    "        for line in f:\n",
    "            split_line = line.split()\n",
    "            word = split_line[0]\n",
    "            embeddings = [float(val) for val in split_line[1:]]\n",
    "            model[word] = embeddings\n",
    "    print(\"[INFO] Done...{} words loaded!\".format(len(model)))\n",
    "    return model\n",
    "# adopted from utils.py\n",
    "nlp = spacy.blank(\"en\")\n",
    "\n",
    "def remove_stopwords(sentence):\n",
    "    '''\n",
    "    function to remove stopwords\n",
    "        input: sentence - string of sentence\n",
    "    '''\n",
    "    new = []\n",
    "    # tokenize sentence\n",
    "    sentence = nlp(sentence)\n",
    "    for tk in sentence:\n",
    "        if (tk.is_stop == False) & (tk.pos_ !=\"PUNCT\"):\n",
    "            new.append(tk.string.strip())\n",
    "    # convert back to sentence string\n",
    "    c = \" \".join(str(x) for x in new)\n",
    "    return c\n",
    "\n",
    "\n",
    "def lemmatize(sentence):\n",
    "    '''\n",
    "    function to do lemmatization\n",
    "        input: sentence - string of sentence\n",
    "    '''\n",
    "    sentence = nlp(sentence)\n",
    "    s = \"\"\n",
    "    for w in sentence:\n",
    "        s +=\" \"+w.lemma_\n",
    "    return nlp(s)\n",
    "\n",
    "def sent_vectorizer(sent, model):\n",
    "    '''\n",
    "    sentence vectorizer using the pretrained glove model\n",
    "    '''\n",
    "    sent_vector = np.zeros(200)\n",
    "    num_w = 0\n",
    "    for w in sent.split():\n",
    "        try:\n",
    "            # add up all token vectors to a sent_vector\n",
    "            sent_vector = np.add(sent_vector, model[str(w)])\n",
    "            num_w += 1\n",
    "        except:\n",
    "            pass\n",
    "    return sent_vector"
   ]
  },
  {
   "cell_type": "code",
   "execution_count": 83,
   "metadata": {},
   "outputs": [
    {
     "data": {
      "text/plain": [
       "((24831,), (24831, 3))"
      ]
     },
     "execution_count": 83,
     "metadata": {},
     "output_type": "execute_result"
    }
   ],
   "source": [
    "data_X = data['clean_comment'].to_numpy().astype('str')\n",
    "data_y = data['category']\n",
    "data_y = pd.get_dummies(data_y).to_numpy()\n",
    "\n",
    "data_X.shape, data_y.shape"
   ]
  },
  {
   "cell_type": "markdown",
   "metadata": {},
   "source": [
    "### Loading GloVe Model"
   ]
  },
  {
   "cell_type": "code",
   "execution_count": 84,
   "metadata": {},
   "outputs": [
    {
     "name": "stdout",
     "output_type": "stream",
     "text": [
      "[INFO]Loading GloVe Model...\n",
      "[INFO] Done...1193514 words loaded!\n"
     ]
    }
   ],
   "source": [
    "# load the glove model\n",
    "glove_model = load_glove_model(\"glove.twitter.27B.200d.txt\", encoding='utf-8')\n",
    "# number of vocab to keep\n",
    "max_vocab = 18000\n",
    "# length of sequence that will generate\n",
    "max_len = 15\n",
    "\n",
    "tokenizer = Tokenizer(num_words=max_vocab)"
   ]
  },
  {
   "cell_type": "markdown",
   "metadata": {},
   "source": [
    "### Tokenizing "
   ]
  },
  {
   "cell_type": "code",
   "execution_count": 85,
   "metadata": {},
   "outputs": [
    {
     "name": "stdout",
     "output_type": "stream",
     "text": [
      "Found 43994 unique tokens.\n"
     ]
    },
    {
     "data": {
      "text/plain": [
       "(24831, 15)"
      ]
     },
     "execution_count": 85,
     "metadata": {},
     "output_type": "execute_result"
    }
   ],
   "source": [
    "tokenizer.fit_on_texts(data_X)\n",
    "sequences = tokenizer.texts_to_sequences(data_X)\n",
    "word_index = tokenizer.word_index\n",
    "print('Found %s unique tokens.' % len(word_index))\n",
    "data_keras = pad_sequences(sequences, maxlen=max_len, padding=\"post\")\n",
    "\n",
    "data_keras.shape"
   ]
  },
  {
   "cell_type": "markdown",
   "metadata": {},
   "source": [
    "## Train-test-split"
   ]
  },
  {
   "cell_type": "code",
   "execution_count": 86,
   "metadata": {},
   "outputs": [
    {
     "data": {
      "text/plain": [
       "((17381, 15), (7450, 15), (17381, 3), (7450, 3))"
      ]
     },
     "execution_count": 86,
     "metadata": {},
     "output_type": "execute_result"
    }
   ],
   "source": [
    "from sklearn.model_selection import train_test_split\n",
    "x_train, x_test, y_train, y_test = train_test_split(data_keras, data_y, test_size = 0.3, random_state=42)\n",
    "\n",
    "x_train.shape, x_test.shape, y_train.shape, y_test.shape"
   ]
  },
  {
   "cell_type": "code",
   "execution_count": 87,
   "metadata": {},
   "outputs": [
    {
     "name": "stdout",
     "output_type": "stream",
     "text": [
      "Number of words: 43995\n",
      "Null word embeddings: 13071\n"
     ]
    }
   ],
   "source": [
    "# calculate number of words\n",
    "nb_words = len(tokenizer.word_index) + 1\n",
    "print(f\"Number of words: {nb_words}\")\n",
    "\n",
    "# obtain the word embedding matrix\n",
    "embedding_matrix = np.zeros((nb_words, 200))\n",
    "\n",
    "for word, i in word_index.items():\n",
    "    embedding_vector = glove_model.get(word)\n",
    "    if embedding_vector is not None:\n",
    "        embedding_matrix[i] = embedding_vector\n",
    "print('Null word embeddings: %d' % np.sum(np.sum(embedding_matrix, axis=1) == 0))"
   ]
  },
  {
   "cell_type": "code",
   "execution_count": 90,
   "metadata": {},
   "outputs": [],
   "source": [
    "# adopted from sent_tran_eval.py\n",
    "def build_model(nb_words, rnn_model=\"SimpleRNN\", embedding_matrix=None):\n",
    "    '''\n",
    "    build_model function:\n",
    "    inputs: \n",
    "        rnn_model - which type of RNN layer to use, choose in (SimpleRNN, LSTM, GRU)\n",
    "        embedding_matrix - whether to use pretrained embeddings or not\n",
    "    '''\n",
    "    model = Sequential()\n",
    "    # add an embedding layer\n",
    "    if embedding_matrix is not None:\n",
    "        model.add(Embedding(nb_words, \n",
    "                        200, \n",
    "                        weights=[embedding_matrix], \n",
    "                        input_length= max_len,\n",
    "                        trainable = False))\n",
    "    else:\n",
    "        model.add(Embedding(nb_words, \n",
    "                        200, \n",
    "                        input_length= max_len,\n",
    "                        trainable = False))\n",
    "        \n",
    "    # add an RNN layer according to rnn_model\n",
    "    if rnn_model == \"SimpleRNN\":\n",
    "        model.add(SimpleRNN(256))\n",
    "      \n",
    "    elif rnn_model == \"LSTM\":\n",
    "        model.add(LSTM(256))\n",
    "    else:\n",
    "        model.add(GRU(256))\n",
    "\n",
    "    model.add(Dense(512,activation='relu'))\n",
    "    model.add(Dense(512, activation='relu'))\n",
    "    model.add(Dense(3, activation='softmax'))\n",
    "    \n",
    "    model.compile(loss='categorical_crossentropy', \n",
    "                optimizer='rmsprop',\n",
    "                metrics=['accuracy'])\n",
    "    return model"
   ]
  },
  {
   "cell_type": "markdown",
   "metadata": {},
   "source": [
    "## RNN Model"
   ]
  },
  {
   "cell_type": "code",
   "execution_count": 91,
   "metadata": {},
   "outputs": [
    {
     "name": "stdout",
     "output_type": "stream",
     "text": [
      "Model: \"sequential_17\"\n",
      "_________________________________________________________________\n",
      " Layer (type)                Output Shape              Param #   \n",
      "=================================================================\n",
      " embedding_17 (Embedding)    (None, 15, 200)           8799000   \n",
      "                                                                 \n",
      " simple_rnn_9 (SimpleRNN)    (None, 256)               116992    \n",
      "                                                                 \n",
      " dense_49 (Dense)            (None, 512)               131584    \n",
      "                                                                 \n",
      " dense_50 (Dense)            (None, 512)               262656    \n",
      "                                                                 \n",
      " dense_51 (Dense)            (None, 3)                 1539      \n",
      "                                                                 \n",
      "=================================================================\n",
      "Total params: 9,311,771\n",
      "Trainable params: 512,771\n",
      "Non-trainable params: 8,799,000\n",
      "_________________________________________________________________\n",
      "Epoch 1/30\n",
      "544/544 [==============================] - ETA: 0s - loss: 0.9422 - accuracy: 0.5309\n",
      "Epoch 1: saving model to tmp/checkpoint\\model_rnn.hdf5\n",
      "\n",
      "Epoch 1: val_accuracy improved from -inf to 0.48617, saving model to tmp/checkpoint\\model_rnnAcc.hdf5\n",
      "\n",
      "Epoch 1: val_loss improved from inf to 1.22422, saving model to tmp/checkpoint\\model_rnnLoss.hdf5\n",
      "544/544 [==============================] - 25s 37ms/step - loss: 0.9422 - accuracy: 0.5309 - val_loss: 1.2242 - val_accuracy: 0.4862\n",
      "Epoch 2/30\n",
      "544/544 [==============================] - ETA: 0s - loss: 0.8277 - accuracy: 0.6278\n",
      "Epoch 2: saving model to tmp/checkpoint\\model_rnn.hdf5\n",
      "\n",
      "Epoch 2: val_accuracy improved from 0.48617 to 0.52819, saving model to tmp/checkpoint\\model_rnnAcc.hdf5\n",
      "\n",
      "Epoch 2: val_loss improved from 1.22422 to 1.05708, saving model to tmp/checkpoint\\model_rnnLoss.hdf5\n",
      "544/544 [==============================] - 20s 36ms/step - loss: 0.8277 - accuracy: 0.6278 - val_loss: 1.0571 - val_accuracy: 0.5282\n",
      "Epoch 3/30\n",
      "543/544 [============================>.] - ETA: 0s - loss: 0.7679 - accuracy: 0.6621\n",
      "Epoch 3: saving model to tmp/checkpoint\\model_rnn.hdf5\n",
      "\n",
      "Epoch 3: val_accuracy improved from 0.52819 to 0.61423, saving model to tmp/checkpoint\\model_rnnAcc.hdf5\n",
      "\n",
      "Epoch 3: val_loss improved from 1.05708 to 0.85730, saving model to tmp/checkpoint\\model_rnnLoss.hdf5\n",
      "544/544 [==============================] - 19s 35ms/step - loss: 0.7680 - accuracy: 0.6620 - val_loss: 0.8573 - val_accuracy: 0.6142\n",
      "Epoch 4/30\n",
      "543/544 [============================>.] - ETA: 0s - loss: 0.7082 - accuracy: 0.6868\n",
      "Epoch 4: saving model to tmp/checkpoint\\model_rnn.hdf5\n",
      "\n",
      "Epoch 4: val_accuracy did not improve from 0.61423\n",
      "\n",
      "Epoch 4: val_loss did not improve from 0.85730\n",
      "544/544 [==============================] - 19s 34ms/step - loss: 0.7081 - accuracy: 0.6869 - val_loss: 0.8731 - val_accuracy: 0.6102\n",
      "Epoch 5/30\n",
      "544/544 [==============================] - ETA: 0s - loss: 0.6639 - accuracy: 0.7172\n",
      "Epoch 5: saving model to tmp/checkpoint\\model_rnn.hdf5\n",
      "\n",
      "Epoch 5: val_accuracy improved from 0.61423 to 0.63597, saving model to tmp/checkpoint\\model_rnnAcc.hdf5\n",
      "\n",
      "Epoch 5: val_loss did not improve from 0.85730\n",
      "544/544 [==============================] - 19s 35ms/step - loss: 0.6639 - accuracy: 0.7172 - val_loss: 0.9220 - val_accuracy: 0.6360\n",
      "Epoch 6/30\n",
      "543/544 [============================>.] - ETA: 0s - loss: 0.6153 - accuracy: 0.7417\n",
      "Epoch 6: saving model to tmp/checkpoint\\model_rnn.hdf5\n",
      "\n",
      "Epoch 6: val_accuracy improved from 0.63597 to 0.64564, saving model to tmp/checkpoint\\model_rnnAcc.hdf5\n",
      "\n",
      "Epoch 6: val_loss did not improve from 0.85730\n",
      "544/544 [==============================] - 19s 36ms/step - loss: 0.6153 - accuracy: 0.7417 - val_loss: 1.0274 - val_accuracy: 0.6456\n",
      "Epoch 7/30\n",
      "543/544 [============================>.] - ETA: 0s - loss: 0.5625 - accuracy: 0.7680\n",
      "Epoch 7: saving model to tmp/checkpoint\\model_rnn.hdf5\n",
      "\n",
      "Epoch 7: val_accuracy did not improve from 0.64564\n",
      "\n",
      "Epoch 7: val_loss did not improve from 0.85730\n",
      "544/544 [==============================] - 19s 35ms/step - loss: 0.5628 - accuracy: 0.7680 - val_loss: 0.8684 - val_accuracy: 0.6303\n",
      "Epoch 8/30\n",
      "543/544 [============================>.] - ETA: 0s - loss: 0.5175 - accuracy: 0.7890\n",
      "Epoch 8: saving model to tmp/checkpoint\\model_rnn.hdf5\n",
      "\n",
      "Epoch 8: val_accuracy improved from 0.64564 to 0.65463, saving model to tmp/checkpoint\\model_rnnAcc.hdf5\n",
      "\n",
      "Epoch 8: val_loss did not improve from 0.85730\n",
      "544/544 [==============================] - 20s 36ms/step - loss: 0.5175 - accuracy: 0.7890 - val_loss: 1.1178 - val_accuracy: 0.6546\n",
      "Epoch 9/30\n",
      "544/544 [==============================] - ETA: 0s - loss: 0.4811 - accuracy: 0.8077\n",
      "Epoch 9: saving model to tmp/checkpoint\\model_rnn.hdf5\n",
      "\n",
      "Epoch 9: val_accuracy improved from 0.65463 to 0.65503, saving model to tmp/checkpoint\\model_rnnAcc.hdf5\n",
      "\n",
      "Epoch 9: val_loss did not improve from 0.85730\n",
      "544/544 [==============================] - 19s 36ms/step - loss: 0.4811 - accuracy: 0.8077 - val_loss: 1.1107 - val_accuracy: 0.6550\n",
      "Epoch 10/30\n",
      "544/544 [==============================] - ETA: 0s - loss: 0.4377 - accuracy: 0.8261\n",
      "Epoch 10: saving model to tmp/checkpoint\\model_rnn.hdf5\n",
      "\n",
      "Epoch 10: val_accuracy did not improve from 0.65503\n",
      "\n",
      "Epoch 10: val_loss did not improve from 0.85730\n",
      "544/544 [==============================] - 19s 35ms/step - loss: 0.4377 - accuracy: 0.8261 - val_loss: 1.1719 - val_accuracy: 0.6260\n",
      "Epoch 11/30\n",
      "543/544 [============================>.] - ETA: 0s - loss: 0.4071 - accuracy: 0.8424\n",
      "Epoch 11: saving model to tmp/checkpoint\\model_rnn.hdf5\n",
      "\n",
      "Epoch 11: val_accuracy did not improve from 0.65503\n",
      "\n",
      "Epoch 11: val_loss did not improve from 0.85730\n",
      "544/544 [==============================] - 19s 34ms/step - loss: 0.4073 - accuracy: 0.8424 - val_loss: 1.2721 - val_accuracy: 0.6303\n",
      "Epoch 12/30\n",
      "543/544 [============================>.] - ETA: 0s - loss: 0.3822 - accuracy: 0.8561\n",
      "Epoch 12: saving model to tmp/checkpoint\\model_rnn.hdf5\n",
      "\n",
      "Epoch 12: val_accuracy did not improve from 0.65503\n",
      "\n",
      "Epoch 12: val_loss did not improve from 0.85730\n",
      "544/544 [==============================] - 19s 35ms/step - loss: 0.3822 - accuracy: 0.8561 - val_loss: 1.4827 - val_accuracy: 0.6497\n",
      "Epoch 13/30\n",
      "543/544 [============================>.] - ETA: 0s - loss: 0.3609 - accuracy: 0.8644\n",
      "Epoch 13: saving model to tmp/checkpoint\\model_rnn.hdf5\n",
      "\n",
      "Epoch 13: val_accuracy did not improve from 0.65503\n",
      "\n",
      "Epoch 13: val_loss did not improve from 0.85730\n",
      "544/544 [==============================] - 19s 35ms/step - loss: 0.3609 - accuracy: 0.8644 - val_loss: 1.3337 - val_accuracy: 0.6115\n",
      "Epoch 14/30\n",
      "543/544 [============================>.] - ETA: 0s - loss: 0.3286 - accuracy: 0.8780\n",
      "Epoch 14: saving model to tmp/checkpoint\\model_rnn.hdf5\n",
      "\n",
      "Epoch 14: val_accuracy did not improve from 0.65503\n",
      "\n",
      "Epoch 14: val_loss did not improve from 0.85730\n",
      "544/544 [==============================] - 19s 34ms/step - loss: 0.3286 - accuracy: 0.8780 - val_loss: 1.7323 - val_accuracy: 0.6534\n",
      "Model: \"sequential_17\"\n",
      "_________________________________________________________________\n",
      " Layer (type)                Output Shape              Param #   \n",
      "=================================================================\n",
      " embedding_17 (Embedding)    (None, 15, 200)           8799000   \n",
      "                                                                 \n",
      " simple_rnn_9 (SimpleRNN)    (None, 256)               116992    \n",
      "                                                                 \n",
      " dense_49 (Dense)            (None, 512)               131584    \n",
      "                                                                 \n",
      " dense_50 (Dense)            (None, 512)               262656    \n",
      "                                                                 \n",
      " dense_51 (Dense)            (None, 3)                 1539      \n",
      "                                                                 \n",
      "=================================================================\n",
      "Total params: 9,311,771\n",
      "Trainable params: 512,771\n",
      "Non-trainable params: 8,799,000\n",
      "_________________________________________________________________\n",
      "233/233 [==============================] - 2s 6ms/step\n",
      "              precision    recall  f1-score   support\n",
      "\n",
      "           0       0.61      0.57      0.59      2515\n",
      "           1       0.77      0.72      0.75      2448\n",
      "           2       0.59      0.66      0.62      2487\n",
      "\n",
      "    accuracy                           0.65      7450\n",
      "   macro avg       0.66      0.65      0.66      7450\n",
      "weighted avg       0.66      0.65      0.65      7450\n",
      "\n"
     ]
    }
   ],
   "source": [
    "model_rnn = build_model(nb_words, \"SimpleRNN\", embedding_matrix)\n",
    "model_rnn.summary()\n",
    "checkpoint = tf.keras.callbacks.ModelCheckpoint('tmp/checkpoint/model_rnn.hdf5',verbose=True)\n",
    "getAcc = tf.keras.callbacks.ModelCheckpoint('tmp/checkpoint/model_rnnAcc.hdf5',verbose=True,save_best_only=True,monitor='val_accuracy')\n",
    "getLoss = tf.keras.callbacks.ModelCheckpoint('tmp/checkpoint/model_rnnLoss.hdf5',verbose=True,save_best_only=True,monitor='val_loss')\n",
    "model_rnn_history = model_rnn.fit(x_train, y_train, \n",
    "                                                epochs=30, \n",
    "                                                validation_data=(x_test, y_test), \n",
    "                                                callbacks=[checkpoint,getAcc,getLoss, \n",
    "                                                EarlyStopping(monitor='val_accuracy', mode='max',patience=5)])\n",
    "model_rnn.summary()\n",
    "predictions = model_rnn.predict(x_test)\n",
    "predictions = predictions.argmax(axis=1)\n",
    "print(classification_report(y_test.argmax(axis=1), predictions))"
   ]
  },
  {
   "cell_type": "code",
   "execution_count": 92,
   "metadata": {},
   "outputs": [
    {
     "name": "stdout",
     "output_type": "stream",
     "text": [
      "233/233 [==============================] - 2s 8ms/step - loss: 1.7323 - accuracy: 0.6534\n",
      "[1.7323493957519531, 0.6534228324890137]\n",
      "233/233 [==============================] - 2s 8ms/step - loss: 1.1107 - accuracy: 0.6550\n",
      "233/233 [==============================] - 2s 8ms/step - loss: 0.8573 - accuracy: 0.6142\n",
      "Best Acc Test Loss: 1.1107232570648193\n",
      "Best Acc Test Accuracy: 65.5 %\n",
      "Best Loss Test Loss: 0.8573042154312134\n",
      "Best Loss Test Accuracy: 61.419999999999995 %\n"
     ]
    }
   ],
   "source": [
    "# evaluating baseline coarse model\n",
    "print(model_rnn.evaluate(x_test, y_test))\n",
    "model_rnn.load_weights('tmp/checkpoint/model_rnnAcc.hdf5')\n",
    "scoreAcc = model_rnn.evaluate(x_test, y_test)\n",
    "model_rnn.load_weights('tmp/checkpoint/model_rnnLoss.hdf5')\n",
    "scoreLoss = model_rnn.evaluate(x_test, y_test)\n",
    "print('Best Acc Test Loss:', scoreAcc[0])\n",
    "print('Best Acc Test Accuracy:', round(scoreAcc[1],4)*100,'%')\n",
    "print('Best Loss Test Loss:', scoreLoss[0])\n",
    "print('Best Loss Test Accuracy:', round(scoreLoss[1],4)*100,'%')"
   ]
  },
  {
   "cell_type": "code",
   "execution_count": 93,
   "metadata": {},
   "outputs": [
    {
     "data": {
      "image/png": "[encoded data removed]",
      "text/plain": [
       "<Figure size 1000x300 with 1 Axes>"
      ]
     },
     "metadata": {},
     "output_type": "display_data"
    },
    {
     "data": {
      "image/png": "[encoded data removed]",
      "text/plain": [
       "<Figure size 1000x300 with 1 Axes>"
      ]
     },
     "metadata": {},
     "output_type": "display_data"
    }
   ],
   "source": [
    "max_val_acc_epoch = np.argmax(list(model_rnn_history.history['val_accuracy']))+1\n",
    "max_val_loss_epoch = np.argmin(list(model_rnn_history.history['val_loss']))+1\n",
    "epochs = range(1, len(model_rnn_history.history['accuracy']) + 1)\n",
    "plt.figure(figsize=(10,3))\n",
    "plt.minorticks_on()\n",
    "plt.axvline(x=max_val_acc_epoch, color='0.5', linestyle='--')\n",
    "plt.axvline(x=max_val_loss_epoch, color='0.5', linestyle=':')\n",
    "plt.plot(epochs,model_rnn_history.history['accuracy'], label='Train')\n",
    "plt.plot(epochs,model_rnn_history.history['val_accuracy'], label='Validation')\n",
    "plt.xlabel('Epochs')\n",
    "plt.ylabel('Accuracy')\n",
    "plt.legend()\n",
    "plt.show()\n",
    "\n",
    "plt.figure(figsize=(10,3))\n",
    "plt.minorticks_on()\n",
    "plt.axvline(x=max_val_acc_epoch, color='0.5', linestyle='--')\n",
    "plt.axvline(x=max_val_loss_epoch, color='0.5', linestyle=':')\n",
    "plt.plot(epochs,model_rnn_history.history['loss'], label='Train')\n",
    "plt.plot(epochs,model_rnn_history.history['val_loss'], label='Validation')\n",
    "plt.xlabel('Epochs')\n",
    "plt.ylabel('Loss')\n",
    "plt.legend()\n",
    "plt.show()"
   ]
  },
  {
   "cell_type": "code",
   "execution_count": 94,
   "metadata": {},
   "outputs": [],
   "source": [
    "# import visualkeras\n",
    "# from PIL import ImageFont\n",
    "# visualkeras.layered_view(model_rnn, legend=True)"
   ]
  },
  {
   "cell_type": "code",
   "execution_count": 95,
   "metadata": {},
   "outputs": [],
   "source": [
    "# model_rnn.save_weights(\"./models/rnn-model.h5\")"
   ]
  },
  {
   "cell_type": "markdown",
   "metadata": {},
   "source": [
    "## LSTM Model"
   ]
  },
  {
   "cell_type": "code",
   "execution_count": 96,
   "metadata": {},
   "outputs": [
    {
     "name": "stdout",
     "output_type": "stream",
     "text": [
      "Model: \"sequential_18\"\n",
      "_________________________________________________________________\n",
      " Layer (type)                Output Shape              Param #   \n",
      "=================================================================\n",
      " embedding_18 (Embedding)    (None, 15, 200)           8799000   \n",
      "                                                                 \n",
      " lstm_8 (LSTM)               (None, 256)               467968    \n",
      "                                                                 \n",
      " dense_52 (Dense)            (None, 512)               131584    \n",
      "                                                                 \n",
      " dense_53 (Dense)            (None, 512)               262656    \n",
      "                                                                 \n",
      " dense_54 (Dense)            (None, 3)                 1539      \n",
      "                                                                 \n",
      "=================================================================\n",
      "Total params: 9,662,747\n",
      "Trainable params: 863,747\n",
      "Non-trainable params: 8,799,000\n",
      "_________________________________________________________________\n",
      "Epoch 1/30\n",
      "538/544 [============================>.] - ETA: 0s - loss: 0.8183 - accuracy: 0.6230\n",
      "Epoch 1: saving model to tmp/checkpoint\\model_lstm.hdf5\n",
      "\n",
      "Epoch 1: val_accuracy improved from -inf to 0.62872, saving model to tmp/checkpoint\\model_lstmAcc.hdf5\n",
      "\n",
      "Epoch 1: val_loss improved from inf to 0.79155, saving model to tmp/checkpoint\\model_lstmLoss.hdf5\n",
      "544/544 [==============================] - 8s 11ms/step - loss: 0.8181 - accuracy: 0.6233 - val_loss: 0.7915 - val_accuracy: 0.6287\n",
      "Epoch 2/30\n",
      "542/544 [============================>.] - ETA: 0s - loss: 0.6708 - accuracy: 0.7064\n",
      "Epoch 2: saving model to tmp/checkpoint\\model_lstm.hdf5\n",
      "\n",
      "Epoch 2: val_accuracy improved from 0.62872 to 0.71329, saving model to tmp/checkpoint\\model_lstmAcc.hdf5\n",
      "\n",
      "Epoch 2: val_loss improved from 0.79155 to 0.64837, saving model to tmp/checkpoint\\model_lstmLoss.hdf5\n",
      "544/544 [==============================] - 6s 11ms/step - loss: 0.6713 - accuracy: 0.7061 - val_loss: 0.6484 - val_accuracy: 0.7133\n",
      "Epoch 3/30\n",
      "541/544 [============================>.] - ETA: 0s - loss: 0.5687 - accuracy: 0.7554\n",
      "Epoch 3: saving model to tmp/checkpoint\\model_lstm.hdf5\n",
      "\n",
      "Epoch 3: val_accuracy improved from 0.71329 to 0.71732, saving model to tmp/checkpoint\\model_lstmAcc.hdf5\n",
      "\n",
      "Epoch 3: val_loss did not improve from 0.64837\n",
      "544/544 [==============================] - 6s 11ms/step - loss: 0.5698 - accuracy: 0.7550 - val_loss: 0.6746 - val_accuracy: 0.7173\n",
      "Epoch 4/30\n",
      "544/544 [==============================] - ETA: 0s - loss: 0.4888 - accuracy: 0.7914\n",
      "Epoch 4: saving model to tmp/checkpoint\\model_lstm.hdf5\n",
      "\n",
      "Epoch 4: val_accuracy improved from 0.71732 to 0.74550, saving model to tmp/checkpoint\\model_lstmAcc.hdf5\n",
      "\n",
      "Epoch 4: val_loss did not improve from 0.64837\n",
      "544/544 [==============================] - 6s 11ms/step - loss: 0.4888 - accuracy: 0.7914 - val_loss: 0.6817 - val_accuracy: 0.7455\n",
      "Epoch 5/30\n",
      "543/544 [============================>.] - ETA: 0s - loss: 0.4097 - accuracy: 0.8283\n",
      "Epoch 5: saving model to tmp/checkpoint\\model_lstm.hdf5\n",
      "\n",
      "Epoch 5: val_accuracy did not improve from 0.74550\n",
      "\n",
      "Epoch 5: val_loss did not improve from 0.64837\n",
      "544/544 [==============================] - 5s 10ms/step - loss: 0.4096 - accuracy: 0.8284 - val_loss: 0.7303 - val_accuracy: 0.7405\n",
      "Epoch 6/30\n",
      "540/544 [============================>.] - ETA: 0s - loss: 0.3254 - accuracy: 0.8659\n",
      "Epoch 6: saving model to tmp/checkpoint\\model_lstm.hdf5\n",
      "\n",
      "Epoch 6: val_accuracy did not improve from 0.74550\n",
      "\n",
      "Epoch 6: val_loss did not improve from 0.64837\n",
      "544/544 [==============================] - 6s 10ms/step - loss: 0.3254 - accuracy: 0.8658 - val_loss: 0.8545 - val_accuracy: 0.7387\n",
      "Epoch 7/30\n",
      "544/544 [==============================] - ETA: 0s - loss: 0.2486 - accuracy: 0.8963\n",
      "Epoch 7: saving model to tmp/checkpoint\\model_lstm.hdf5\n",
      "\n",
      "Epoch 7: val_accuracy did not improve from 0.74550\n",
      "\n",
      "Epoch 7: val_loss did not improve from 0.64837\n",
      "544/544 [==============================] - 5s 10ms/step - loss: 0.2486 - accuracy: 0.8963 - val_loss: 1.0169 - val_accuracy: 0.7377\n",
      "Epoch 8/30\n",
      "538/544 [============================>.] - ETA: 0s - loss: 0.1855 - accuracy: 0.9296\n",
      "Epoch 8: saving model to tmp/checkpoint\\model_lstm.hdf5\n",
      "\n",
      "Epoch 8: val_accuracy did not improve from 0.74550\n",
      "\n",
      "Epoch 8: val_loss did not improve from 0.64837\n",
      "544/544 [==============================] - 6s 10ms/step - loss: 0.1854 - accuracy: 0.9297 - val_loss: 1.2057 - val_accuracy: 0.7404\n",
      "Epoch 9/30\n",
      "540/544 [============================>.] - ETA: 0s - loss: 0.1350 - accuracy: 0.9501\n",
      "Epoch 9: saving model to tmp/checkpoint\\model_lstm.hdf5\n",
      "\n",
      "Epoch 9: val_accuracy did not improve from 0.74550\n",
      "\n",
      "Epoch 9: val_loss did not improve from 0.64837\n",
      "544/544 [==============================] - 5s 10ms/step - loss: 0.1349 - accuracy: 0.9502 - val_loss: 1.5763 - val_accuracy: 0.7323\n",
      "233/233 [==============================] - 1s 2ms/step\n",
      "              precision    recall  f1-score   support\n",
      "\n",
      "           0       0.73      0.65      0.69      2515\n",
      "           1       0.88      0.74      0.80      2448\n",
      "           2       0.64      0.81      0.71      2487\n",
      "\n",
      "    accuracy                           0.73      7450\n",
      "   macro avg       0.75      0.73      0.73      7450\n",
      "weighted avg       0.75      0.73      0.73      7450\n",
      "\n"
     ]
    }
   ],
   "source": [
    "model_lstm = build_model(nb_words, \"LSTM\", embedding_matrix)\n",
    "model_lstm.summary()\n",
    "checkpoint = tf.keras.callbacks.ModelCheckpoint('tmp/checkpoint/model_lstm.hdf5',verbose=True)\n",
    "getAcc = tf.keras.callbacks.ModelCheckpoint('tmp/checkpoint/model_lstmAcc.hdf5',verbose=True,save_best_only=True,monitor='val_accuracy')\n",
    "getLoss = tf.keras.callbacks.ModelCheckpoint('tmp/checkpoint/model_lstmLoss.hdf5',verbose=True,save_best_only=True,monitor='val_loss')\n",
    "model_lstm_history = model_lstm.fit(x_train, y_train, \n",
    "                                                epochs=30, \n",
    "                                                validation_data=(x_test, y_test), \n",
    "                                                callbacks=[checkpoint,getAcc,getLoss, \n",
    "                                                EarlyStopping(monitor='val_accuracy', mode='max',patience=5)])\n",
    "\n",
    "predictions = model_lstm.predict(x_test)\n",
    "predictions = predictions.argmax(axis=1)\n",
    "print(classification_report(y_test.argmax(axis=1), predictions))\n"
   ]
  },
  {
   "cell_type": "code",
   "execution_count": 97,
   "metadata": {},
   "outputs": [
    {
     "name": "stdout",
     "output_type": "stream",
     "text": [
      "233/233 [==============================] - 1s 4ms/step - loss: 1.5763 - accuracy: 0.7323\n",
      "[1.5762856006622314, 0.7323489785194397]\n",
      "233/233 [==============================] - 1s 4ms/step - loss: 0.6817 - accuracy: 0.7455\n",
      "233/233 [==============================] - 1s 4ms/step - loss: 0.6484 - accuracy: 0.7133\n",
      "Best Acc Test Loss: 0.681652307510376\n",
      "Best Acc Test Accuracy: 74.55000000000001 %\n",
      "Best Loss Test Loss: 0.6483654975891113\n",
      "Best Loss Test Accuracy: 71.33 %\n"
     ]
    }
   ],
   "source": [
    "# evaluating baseline coarse model\n",
    "print(model_lstm.evaluate(x_test, y_test))\n",
    "model_lstm.load_weights('tmp/checkpoint/model_lstmAcc.hdf5')\n",
    "scoreAcc = model_lstm.evaluate(x_test, y_test)\n",
    "model_lstm.load_weights('tmp/checkpoint/model_lstmLoss.hdf5')\n",
    "scoreLoss = model_lstm.evaluate(x_test, y_test)\n",
    "print('Best Acc Test Loss:', scoreAcc[0])\n",
    "print('Best Acc Test Accuracy:', round(scoreAcc[1],4)*100,'%')\n",
    "print('Best Loss Test Loss:', scoreLoss[0])\n",
    "print('Best Loss Test Accuracy:', round(scoreLoss[1],4)*100,'%')"
   ]
  },
  {
   "cell_type": "code",
   "execution_count": 98,
   "metadata": {},
   "outputs": [
    {
     "data": {
      "image/png": "[encoded data removed]",
      "text/plain": [
       "<Figure size 1000x300 with 1 Axes>"
      ]
     },
     "metadata": {},
     "output_type": "display_data"
    },
    {
     "data": {
      "image/png": "[encoded data removed]",
      "text/plain": [
       "<Figure size 1000x300 with 1 Axes>"
      ]
     },
     "metadata": {},
     "output_type": "display_data"
    }
   ],
   "source": [
    "max_val_acc_epoch = np.argmax(list(model_lstm_history.history['val_accuracy']))+1\n",
    "max_val_loss_epoch = np.argmin(list(model_lstm_history.history['val_loss']))+1\n",
    "epochs = range(1, len(model_lstm_history.history['accuracy']) + 1)\n",
    "plt.figure(figsize=(10,3))\n",
    "plt.minorticks_on()\n",
    "plt.axvline(x=max_val_acc_epoch, color='0.5', linestyle='--')\n",
    "plt.axvline(x=max_val_loss_epoch, color='0.5', linestyle=':')\n",
    "plt.plot(epochs,model_lstm_history.history['accuracy'], label='Train')\n",
    "plt.plot(epochs,model_lstm_history.history['val_accuracy'], label='Validation')\n",
    "plt.xlabel('Epochs')\n",
    "plt.ylabel('Accuracy')\n",
    "plt.legend()\n",
    "plt.show()\n",
    "\n",
    "plt.figure(figsize=(10,3))\n",
    "plt.minorticks_on()\n",
    "plt.axvline(x=max_val_acc_epoch, color='0.5', linestyle='--')\n",
    "plt.axvline(x=max_val_loss_epoch, color='0.5', linestyle=':')\n",
    "plt.plot(epochs,model_lstm_history.history['loss'], label='Train')\n",
    "plt.plot(epochs,model_lstm_history.history['val_loss'], label='Validation')\n",
    "plt.xlabel('Epochs')\n",
    "plt.ylabel('Loss')\n",
    "plt.legend()\n",
    "plt.show()"
   ]
  },
  {
   "cell_type": "code",
   "execution_count": 99,
   "metadata": {},
   "outputs": [],
   "source": [
    "# import visualkeras\n",
    "# from PIL import ImageFont\n",
    "# visualkeras.layered_view(model_lstm, legend=True)"
   ]
  },
  {
   "cell_type": "code",
   "execution_count": 100,
   "metadata": {},
   "outputs": [],
   "source": [
    "# model_lstm.save_weights(\"models/model-lstm.h5\")"
   ]
  },
  {
   "cell_type": "markdown",
   "metadata": {},
   "source": [
    "## GRU Model "
   ]
  },
  {
   "cell_type": "code",
   "execution_count": 101,
   "metadata": {},
   "outputs": [
    {
     "name": "stdout",
     "output_type": "stream",
     "text": [
      "Model: \"sequential_19\"\n",
      "_________________________________________________________________\n",
      " Layer (type)                Output Shape              Param #   \n",
      "=================================================================\n",
      " embedding_19 (Embedding)    (None, 15, 200)           8799000   \n",
      "                                                                 \n",
      " gru_6 (GRU)                 (None, 256)               351744    \n",
      "                                                                 \n",
      " dense_55 (Dense)            (None, 512)               131584    \n",
      "                                                                 \n",
      " dense_56 (Dense)            (None, 512)               262656    \n",
      "                                                                 \n",
      " dense_57 (Dense)            (None, 3)                 1539      \n",
      "                                                                 \n",
      "=================================================================\n",
      "Total params: 9,546,523\n",
      "Trainable params: 747,523\n",
      "Non-trainable params: 8,799,000\n",
      "_________________________________________________________________\n",
      "Epoch 1/30\n",
      "539/544 [============================>.] - ETA: 0s - loss: 0.8159 - accuracy: 0.6173\n",
      "Epoch 1: saving model to tmp/checkpoint\\model_gru.hdf5\n",
      "\n",
      "Epoch 1: val_accuracy improved from -inf to 0.69436, saving model to tmp/checkpoint\\model_gruAcc.hdf5\n",
      "\n",
      "Epoch 1: val_loss improved from inf to 0.69385, saving model to tmp/checkpoint\\model_gruLoss.hdf5\n",
      "544/544 [==============================] - 7s 11ms/step - loss: 0.8147 - accuracy: 0.6179 - val_loss: 0.6939 - val_accuracy: 0.6944\n",
      "Epoch 2/30\n",
      "542/544 [============================>.] - ETA: 0s - loss: 0.6330 - accuracy: 0.7287\n",
      "Epoch 2: saving model to tmp/checkpoint\\model_gru.hdf5\n",
      "\n",
      "Epoch 2: val_accuracy improved from 0.69436 to 0.73342, saving model to tmp/checkpoint\\model_gruAcc.hdf5\n",
      "\n",
      "Epoch 2: val_loss improved from 0.69385 to 0.62095, saving model to tmp/checkpoint\\model_gruLoss.hdf5\n",
      "544/544 [==============================] - 6s 11ms/step - loss: 0.6329 - accuracy: 0.7287 - val_loss: 0.6210 - val_accuracy: 0.7334\n",
      "Epoch 3/30\n",
      "542/544 [============================>.] - ETA: 0s - loss: 0.5471 - accuracy: 0.7664\n",
      "Epoch 3: saving model to tmp/checkpoint\\model_gru.hdf5\n",
      "\n",
      "Epoch 3: val_accuracy did not improve from 0.73342\n",
      "\n",
      "Epoch 3: val_loss did not improve from 0.62095\n",
      "544/544 [==============================] - 5s 10ms/step - loss: 0.5471 - accuracy: 0.7662 - val_loss: 0.6739 - val_accuracy: 0.7220\n",
      "Epoch 4/30\n",
      "538/544 [============================>.] - ETA: 0s - loss: 0.4700 - accuracy: 0.8026\n",
      "Epoch 4: saving model to tmp/checkpoint\\model_gru.hdf5\n",
      "\n",
      "Epoch 4: val_accuracy improved from 0.73342 to 0.74752, saving model to tmp/checkpoint\\model_gruAcc.hdf5\n",
      "\n",
      "Epoch 4: val_loss did not improve from 0.62095\n",
      "544/544 [==============================] - 6s 10ms/step - loss: 0.4710 - accuracy: 0.8021 - val_loss: 0.6253 - val_accuracy: 0.7475\n",
      "Epoch 5/30\n",
      "538/544 [============================>.] - ETA: 0s - loss: 0.3930 - accuracy: 0.8326\n",
      "Epoch 5: saving model to tmp/checkpoint\\model_gru.hdf5\n",
      "\n",
      "Epoch 5: val_accuracy did not improve from 0.74752\n",
      "\n",
      "Epoch 5: val_loss did not improve from 0.62095\n",
      "544/544 [==============================] - 5s 10ms/step - loss: 0.3945 - accuracy: 0.8321 - val_loss: 0.7340 - val_accuracy: 0.7383\n",
      "Epoch 6/30\n",
      "538/544 [============================>.] - ETA: 0s - loss: 0.3109 - accuracy: 0.8702\n",
      "Epoch 6: saving model to tmp/checkpoint\\model_gru.hdf5\n",
      "\n",
      "Epoch 6: val_accuracy improved from 0.74752 to 0.75396, saving model to tmp/checkpoint\\model_gruAcc.hdf5\n",
      "\n",
      "Epoch 6: val_loss did not improve from 0.62095\n",
      "544/544 [==============================] - 5s 10ms/step - loss: 0.3107 - accuracy: 0.8701 - val_loss: 0.8322 - val_accuracy: 0.7540\n",
      "Epoch 7/30\n",
      "542/544 [============================>.] - ETA: 0s - loss: 0.2394 - accuracy: 0.9007\n",
      "Epoch 7: saving model to tmp/checkpoint\\model_gru.hdf5\n",
      "\n",
      "Epoch 7: val_accuracy did not improve from 0.75396\n",
      "\n",
      "Epoch 7: val_loss did not improve from 0.62095\n",
      "544/544 [==============================] - 5s 9ms/step - loss: 0.2393 - accuracy: 0.9007 - val_loss: 1.1816 - val_accuracy: 0.7467\n",
      "Epoch 8/30\n",
      "541/544 [============================>.] - ETA: 0s - loss: 0.1746 - accuracy: 0.9328\n",
      "Epoch 8: saving model to tmp/checkpoint\\model_gru.hdf5\n",
      "\n",
      "Epoch 8: val_accuracy did not improve from 0.75396\n",
      "\n",
      "Epoch 8: val_loss did not improve from 0.62095\n",
      "544/544 [==============================] - 5s 10ms/step - loss: 0.1753 - accuracy: 0.9326 - val_loss: 1.2960 - val_accuracy: 0.7071\n",
      "Epoch 9/30\n",
      "542/544 [============================>.] - ETA: 0s - loss: 0.1364 - accuracy: 0.9516\n",
      "Epoch 9: saving model to tmp/checkpoint\\model_gru.hdf5\n",
      "\n",
      "Epoch 9: val_accuracy did not improve from 0.75396\n",
      "\n",
      "Epoch 9: val_loss did not improve from 0.62095\n",
      "544/544 [==============================] - 5s 9ms/step - loss: 0.1363 - accuracy: 0.9517 - val_loss: 1.7428 - val_accuracy: 0.7321\n",
      "Epoch 10/30\n",
      "538/544 [============================>.] - ETA: 0s - loss: 0.1016 - accuracy: 0.9640\n",
      "Epoch 10: saving model to tmp/checkpoint\\model_gru.hdf5\n",
      "\n",
      "Epoch 10: val_accuracy improved from 0.75396 to 0.75691, saving model to tmp/checkpoint\\model_gruAcc.hdf5\n",
      "\n",
      "Epoch 10: val_loss did not improve from 0.62095\n",
      "544/544 [==============================] - 5s 10ms/step - loss: 0.1017 - accuracy: 0.9639 - val_loss: 1.7942 - val_accuracy: 0.7569\n",
      "Epoch 11/30\n",
      "540/544 [============================>.] - ETA: 0s - loss: 0.0852 - accuracy: 0.9709\n",
      "Epoch 11: saving model to tmp/checkpoint\\model_gru.hdf5\n",
      "\n",
      "Epoch 11: val_accuracy did not improve from 0.75691\n",
      "\n",
      "Epoch 11: val_loss did not improve from 0.62095\n",
      "544/544 [==============================] - 5s 9ms/step - loss: 0.0852 - accuracy: 0.9708 - val_loss: 2.0576 - val_accuracy: 0.7501\n",
      "Epoch 12/30\n",
      "543/544 [============================>.] - ETA: 0s - loss: 0.0671 - accuracy: 0.9785\n",
      "Epoch 12: saving model to tmp/checkpoint\\model_gru.hdf5\n",
      "\n",
      "Epoch 12: val_accuracy did not improve from 0.75691\n",
      "\n",
      "Epoch 12: val_loss did not improve from 0.62095\n",
      "544/544 [==============================] - 5s 10ms/step - loss: 0.0671 - accuracy: 0.9785 - val_loss: 2.2745 - val_accuracy: 0.7407\n",
      "Epoch 13/30\n",
      "543/544 [============================>.] - ETA: 0s - loss: 0.0608 - accuracy: 0.9818\n",
      "Epoch 13: saving model to tmp/checkpoint\\model_gru.hdf5\n",
      "\n",
      "Epoch 13: val_accuracy improved from 0.75691 to 0.75745, saving model to tmp/checkpoint\\model_gruAcc.hdf5\n",
      "\n",
      "Epoch 13: val_loss did not improve from 0.62095\n",
      "544/544 [==============================] - 5s 10ms/step - loss: 0.0607 - accuracy: 0.9818 - val_loss: 2.1408 - val_accuracy: 0.7574\n",
      "Epoch 14/30\n",
      "543/544 [============================>.] - ETA: 0s - loss: 0.0567 - accuracy: 0.9829\n",
      "Epoch 14: saving model to tmp/checkpoint\\model_gru.hdf5\n",
      "\n",
      "Epoch 14: val_accuracy did not improve from 0.75745\n",
      "\n",
      "Epoch 14: val_loss did not improve from 0.62095\n",
      "544/544 [==============================] - 5s 10ms/step - loss: 0.0567 - accuracy: 0.9829 - val_loss: 2.4075 - val_accuracy: 0.7536\n",
      "Epoch 15/30\n",
      "538/544 [============================>.] - ETA: 0s - loss: 0.0466 - accuracy: 0.9851\n",
      "Epoch 15: saving model to tmp/checkpoint\\model_gru.hdf5\n",
      "\n",
      "Epoch 15: val_accuracy did not improve from 0.75745\n",
      "\n",
      "Epoch 15: val_loss did not improve from 0.62095\n",
      "544/544 [==============================] - 5s 10ms/step - loss: 0.0471 - accuracy: 0.9849 - val_loss: 2.0930 - val_accuracy: 0.7448\n",
      "Epoch 16/30\n",
      "539/544 [============================>.] - ETA: 0s - loss: 0.0514 - accuracy: 0.9861\n",
      "Epoch 16: saving model to tmp/checkpoint\\model_gru.hdf5\n",
      "\n",
      "Epoch 16: val_accuracy did not improve from 0.75745\n",
      "\n",
      "Epoch 16: val_loss did not improve from 0.62095\n",
      "544/544 [==============================] - 5s 10ms/step - loss: 0.0512 - accuracy: 0.9861 - val_loss: 2.5893 - val_accuracy: 0.7546\n",
      "Epoch 17/30\n",
      "541/544 [============================>.] - ETA: 0s - loss: 0.0452 - accuracy: 0.9873\n",
      "Epoch 17: saving model to tmp/checkpoint\\model_gru.hdf5\n",
      "\n",
      "Epoch 17: val_accuracy did not improve from 0.75745\n",
      "\n",
      "Epoch 17: val_loss did not improve from 0.62095\n",
      "544/544 [==============================] - 5s 9ms/step - loss: 0.0452 - accuracy: 0.9873 - val_loss: 2.7227 - val_accuracy: 0.7501\n",
      "Epoch 18/30\n",
      "543/544 [============================>.] - ETA: 0s - loss: 0.0435 - accuracy: 0.9894\n",
      "Epoch 18: saving model to tmp/checkpoint\\model_gru.hdf5\n",
      "\n",
      "Epoch 18: val_accuracy did not improve from 0.75745\n",
      "\n",
      "Epoch 18: val_loss did not improve from 0.62095\n",
      "544/544 [==============================] - 5s 9ms/step - loss: 0.0435 - accuracy: 0.9894 - val_loss: 2.5063 - val_accuracy: 0.7499\n",
      "233/233 [==============================] - 1s 2ms/step\n",
      "              precision    recall  f1-score   support\n",
      "\n",
      "           0       0.75      0.66      0.70      2515\n",
      "           1       0.82      0.85      0.83      2448\n",
      "           2       0.69      0.74      0.71      2487\n",
      "\n",
      "    accuracy                           0.75      7450\n",
      "   macro avg       0.75      0.75      0.75      7450\n",
      "weighted avg       0.75      0.75      0.75      7450\n",
      "\n"
     ]
    }
   ],
   "source": [
    "model_gru = build_model(nb_words, \"GRU\", embedding_matrix)\n",
    "model_gru.summary()\n",
    "checkpoint = tf.keras.callbacks.ModelCheckpoint('tmp/checkpoint/model_gru.hdf5',verbose=True)\n",
    "getAcc = tf.keras.callbacks.ModelCheckpoint('tmp/checkpoint/model_gruAcc.hdf5',verbose=True,save_best_only=True,monitor='val_accuracy')\n",
    "getLoss = tf.keras.callbacks.ModelCheckpoint('tmp/checkpoint/model_gruLoss.hdf5',verbose=True,save_best_only=True,monitor='val_loss')\n",
    "model_gru_history = model_gru.fit(x_train, y_train, \n",
    "                                                epochs=30, \n",
    "                                                validation_data=(x_test, y_test), \n",
    "                                                callbacks=[checkpoint,getAcc,getLoss, \n",
    "                                                EarlyStopping(monitor='val_accuracy', mode='max',patience=5)])\n",
    "\n",
    "predictions = model_gru.predict(x_test)\n",
    "predictions = predictions.argmax(axis=1)\n",
    "print(classification_report(y_test.argmax(axis=1), predictions))\n"
   ]
  },
  {
   "cell_type": "code",
   "execution_count": 102,
   "metadata": {},
   "outputs": [
    {
     "name": "stdout",
     "output_type": "stream",
     "text": [
      "233/233 [==============================] - 1s 4ms/step - loss: 2.5063 - accuracy: 0.7499\n",
      "[2.5062625408172607, 0.7499328851699829]\n",
      "233/233 [==============================] - 1s 4ms/step - loss: 2.1408 - accuracy: 0.7574\n",
      "233/233 [==============================] - 1s 4ms/step - loss: 0.6210 - accuracy: 0.7334\n",
      "Best Acc Test Loss: 2.1408281326293945\n",
      "Best Acc Test Accuracy: 75.74 %\n",
      "Best Loss Test Loss: 0.6209526658058167\n",
      "Best Loss Test Accuracy: 73.34 %\n"
     ]
    }
   ],
   "source": [
    "# evaluating baseline coarse model\n",
    "print(model_gru.evaluate(x_test, y_test))\n",
    "model_gru.load_weights('tmp/checkpoint/model_gruAcc.hdf5')\n",
    "scoreAcc = model_gru.evaluate(x_test, y_test)\n",
    "model_gru.load_weights('tmp/checkpoint/model_gruLoss.hdf5')\n",
    "scoreLoss = model_gru.evaluate(x_test, y_test)\n",
    "print('Best Acc Test Loss:', scoreAcc[0])\n",
    "print('Best Acc Test Accuracy:', round(scoreAcc[1],4)*100,'%')\n",
    "print('Best Loss Test Loss:', scoreLoss[0])\n",
    "print('Best Loss Test Accuracy:', round(scoreLoss[1],4)*100,'%')"
   ]
  },
  {
   "cell_type": "code",
   "execution_count": 103,
   "metadata": {},
   "outputs": [
    {
     "data": {
      "image/png": "[encoded data removed]",
      "text/plain": [
       "<Figure size 1000x300 with 1 Axes>"
      ]
     },
     "metadata": {},
     "output_type": "display_data"
    },
    {
     "data": {
      "image/png": "[encoded data removed]",
      "text/plain": [
       "<Figure size 1000x300 with 1 Axes>"
      ]
     },
     "metadata": {},
     "output_type": "display_data"
    }
   ],
   "source": [
    "max_val_acc_epoch = np.argmax(list(model_gru_history.history['val_accuracy']))+1\n",
    "max_val_loss_epoch = np.argmin(list(model_gru_history.history['val_loss']))+1\n",
    "epochs = range(1, len(model_gru_history.history['accuracy']) + 1)\n",
    "plt.figure(figsize=(10,3))\n",
    "plt.minorticks_on()\n",
    "plt.axvline(x=max_val_acc_epoch, color='0.5', linestyle='--')\n",
    "plt.axvline(x=max_val_loss_epoch, color='0.5', linestyle=':')\n",
    "plt.plot(epochs,model_gru_history.history['accuracy'], label='Train')\n",
    "plt.plot(epochs,model_gru_history.history['val_accuracy'], label='Validation')\n",
    "plt.xlabel('Epochs')\n",
    "plt.ylabel('Accuracy')\n",
    "plt.legend()\n",
    "plt.show()\n",
    "\n",
    "plt.figure(figsize=(10,3))\n",
    "plt.minorticks_on()\n",
    "plt.axvline(x=max_val_acc_epoch, color='0.5', linestyle='--')\n",
    "plt.axvline(x=max_val_loss_epoch, color='0.5', linestyle=':')\n",
    "plt.plot(epochs,model_gru_history.history['loss'], label='Train')\n",
    "plt.plot(epochs,model_gru_history.history['val_loss'], label='Validation')\n",
    "plt.xlabel('Epochs')\n",
    "plt.ylabel('Loss')\n",
    "plt.legend()\n",
    "plt.show()"
   ]
  },
  {
   "cell_type": "code",
   "execution_count": 104,
   "metadata": {},
   "outputs": [],
   "source": [
    "# import visualkeras\n",
    "# from PIL import ImageFont\n",
    "# visualkeras.layered_view(model_gru, legend=True)"
   ]
  },
  {
   "cell_type": "code",
   "execution_count": 105,
   "metadata": {},
   "outputs": [],
   "source": [
    "# model_gru.save_weights(\"models/model-gru.h5\")"
   ]
  },
  {
   "cell_type": "markdown",
   "metadata": {},
   "source": [
    "### Using a non-deep learning model (TFIDF vectorization) and other effective, traditional machine learning models"
   ]
  },
  {
   "cell_type": "code",
   "execution_count": 106,
   "metadata": {},
   "outputs": [
    {
     "data": {
      "text/html": [
       "<div>\n",
       "<style scoped>\n",
       "    .dataframe tbody tr th:only-of-type {\n",
       "        vertical-align: middle;\n",
       "    }\n",
       "\n",
       "    .dataframe tbody tr th {\n",
       "        vertical-align: top;\n",
       "    }\n",
       "\n",
       "    .dataframe thead th {\n",
       "        text-align: right;\n",
       "    }\n",
       "</style>\n",
       "<table border=\"1\" class=\"dataframe\">\n",
       "  <thead>\n",
       "    <tr style=\"text-align: right;\">\n",
       "      <th></th>\n",
       "      <th>clean_comment</th>\n",
       "      <th>category</th>\n",
       "    </tr>\n",
       "  </thead>\n",
       "  <tbody>\n",
       "    <tr>\n",
       "      <th>28310</th>\n",
       "      <td>have intention escalation but are fully prepa...</td>\n",
       "      <td>-1</td>\n",
       "    </tr>\n",
       "    <tr>\n",
       "      <th>13355</th>\n",
       "      <td>god this southie northie bullshit again southi...</td>\n",
       "      <td>1</td>\n",
       "    </tr>\n",
       "    <tr>\n",
       "      <th>1991</th>\n",
       "      <td>alonso going fucking ham</td>\n",
       "      <td>-1</td>\n",
       "    </tr>\n",
       "    <tr>\n",
       "      <th>31008</th>\n",
       "      <td>you just gonna ignore the fact that pakistani ...</td>\n",
       "      <td>-1</td>\n",
       "    </tr>\n",
       "    <tr>\n",
       "      <th>20685</th>\n",
       "      <td>did bjp issue directive rape and murder people...</td>\n",
       "      <td>-1</td>\n",
       "    </tr>\n",
       "    <tr>\n",
       "      <th>...</th>\n",
       "      <td>...</td>\n",
       "      <td>...</td>\n",
       "    </tr>\n",
       "    <tr>\n",
       "      <th>35043</th>\n",
       "      <td>odd days modi destroying environment giving la...</td>\n",
       "      <td>-1</td>\n",
       "    </tr>\n",
       "    <tr>\n",
       "      <th>30875</th>\n",
       "      <td>this resembling cultish characteristics</td>\n",
       "      <td>0</td>\n",
       "    </tr>\n",
       "    <tr>\n",
       "      <th>27207</th>\n",
       "      <td>hello would you kind and send digital copy you...</td>\n",
       "      <td>1</td>\n",
       "    </tr>\n",
       "    <tr>\n",
       "      <th>21922</th>\n",
       "      <td>goes tell you how pathetic grossly incompetent...</td>\n",
       "      <td>-1</td>\n",
       "    </tr>\n",
       "    <tr>\n",
       "      <th>34324</th>\n",
       "      <td>asset value inversely proportional degree held</td>\n",
       "      <td>0</td>\n",
       "    </tr>\n",
       "  </tbody>\n",
       "</table>\n",
       "<p>24831 rows × 2 columns</p>\n",
       "</div>"
      ],
      "text/plain": [
       "                                           clean_comment  category\n",
       "28310   have intention escalation but are fully prepa...        -1\n",
       "13355  god this southie northie bullshit again southi...         1\n",
       "1991                            alonso going fucking ham        -1\n",
       "31008  you just gonna ignore the fact that pakistani ...        -1\n",
       "20685  did bjp issue directive rape and murder people...        -1\n",
       "...                                                  ...       ...\n",
       "35043  odd days modi destroying environment giving la...        -1\n",
       "30875           this resembling cultish characteristics          0\n",
       "27207  hello would you kind and send digital copy you...         1\n",
       "21922  goes tell you how pathetic grossly incompetent...        -1\n",
       "34324    asset value inversely proportional degree held          0\n",
       "\n",
       "[24831 rows x 2 columns]"
      ]
     },
     "execution_count": 106,
     "metadata": {},
     "output_type": "execute_result"
    }
   ],
   "source": [
    "data"
   ]
  },
  {
   "cell_type": "code",
   "execution_count": 107,
   "metadata": {},
   "outputs": [],
   "source": [
    "from sklearn.model_selection import train_test_split\n",
    "\n",
    "x = data['clean_comment'].astype('str')\n",
    "y = data['category']\n",
    "\n",
    "x_train, x_test, y_train, y_test = train_test_split(x, y, test_size=0.2, random_state=42)"
   ]
  },
  {
   "cell_type": "code",
   "execution_count": 108,
   "metadata": {},
   "outputs": [
    {
     "data": {
      "text/plain": [
       "((19864, 10000), (4967, 10000))"
      ]
     },
     "execution_count": 108,
     "metadata": {},
     "output_type": "execute_result"
    }
   ],
   "source": [
    "from sklearn.feature_extraction.text import TfidfVectorizer\n",
    "\n",
    "vectorizer = TfidfVectorizer(max_features=10000, ngram_range=(1,2))\n",
    "x_train_vec = vectorizer.fit_transform(x_train)\n",
    "x_test_vec = vectorizer.transform(x_test)\n",
    "\n",
    "x_train_vec.shape, x_test_vec.shape "
   ]
  },
  {
   "cell_type": "markdown",
   "metadata": {},
   "source": [
    "## RandomForestClassifier"
   ]
  },
  {
   "cell_type": "code",
   "execution_count": 109,
   "metadata": {},
   "outputs": [
    {
     "name": "stdout",
     "output_type": "stream",
     "text": [
      "              precision    recall  f1-score   support\n",
      "\n",
      "          -1       0.76      0.69      0.72      1668\n",
      "           0       0.78      0.91      0.84      1658\n",
      "           1       0.79      0.73      0.76      1641\n",
      "\n",
      "    accuracy                           0.78      4967\n",
      "   macro avg       0.77      0.78      0.77      4967\n",
      "weighted avg       0.77      0.78      0.77      4967\n",
      "\n"
     ]
    }
   ],
   "source": [
    "from sklearn.ensemble import RandomForestClassifier\n",
    "\n",
    "model_rf = RandomForestClassifier()\n",
    "model_rf.fit(x_train_vec, y_train)\n",
    "model_rf.score(x_test_vec, y_test)\n",
    "\n",
    "predictions = model_rf.predict(x_test_vec)\n",
    "print(classification_report(y_test, predictions))"
   ]
  },
  {
   "cell_type": "code",
   "execution_count": 110,
   "metadata": {},
   "outputs": [
    {
     "data": {
      "text/plain": [
       "<sklearn.metrics._plot.confusion_matrix.ConfusionMatrixDisplay at 0x27b326cbe50>"
      ]
     },
     "execution_count": 110,
     "metadata": {},
     "output_type": "execute_result"
    },
    {
     "data": {
      "image/png": "[encoded data removed]",
      "text/plain": [
       "<Figure size 640x480 with 2 Axes>"
      ]
     },
     "metadata": {},
     "output_type": "display_data"
    }
   ],
   "source": [
    "cm = confusion_matrix(y_test, predictions, labels=model_rf.classes_)\n",
    "disp = ConfusionMatrixDisplay(confusion_matrix=cm, display_labels=model_rf.classes_)\n",
    "disp.plot()\n"
   ]
  },
  {
   "cell_type": "markdown",
   "metadata": {},
   "source": [
    "## Logistic Regression"
   ]
  },
  {
   "cell_type": "code",
   "execution_count": 111,
   "metadata": {},
   "outputs": [
    {
     "name": "stdout",
     "output_type": "stream",
     "text": [
      "              precision    recall  f1-score   support\n",
      "\n",
      "          -1       0.86      0.79      0.83      1668\n",
      "           0       0.82      0.93      0.87      1658\n",
      "           1       0.86      0.81      0.83      1641\n",
      "\n",
      "    accuracy                           0.84      4967\n",
      "   macro avg       0.85      0.84      0.84      4967\n",
      "weighted avg       0.85      0.84      0.84      4967\n",
      "\n"
     ]
    },
    {
     "name": "stderr",
     "output_type": "stream",
     "text": [
      "c:\\Users\\P2100803\\.conda\\envs\\gpu\\lib\\site-packages\\sklearn\\linear_model\\_logistic.py:444: ConvergenceWarning: lbfgs failed to converge (status=1):\n",
      "STOP: TOTAL NO. of ITERATIONS REACHED LIMIT.\n",
      "\n",
      "Increase the number of iterations (max_iter) or scale the data as shown in:\n",
      "    https://scikit-learn.org/stable/modules/preprocessing.html\n",
      "Please also refer to the documentation for alternative solver options:\n",
      "    https://scikit-learn.org/stable/modules/linear_model.html#logistic-regression\n",
      "  n_iter_i = _check_optimize_result(\n"
     ]
    }
   ],
   "source": [
    "from sklearn.linear_model import LogisticRegression\n",
    "\n",
    "model_lr = LogisticRegression()\n",
    "model_lr.fit(x_train_vec, y_train)\n",
    "model_lr.score(x_test_vec, y_test)\n",
    "\n",
    "predictions = model_lr.predict(x_test_vec)\n",
    "print(classification_report(y_test, predictions))"
   ]
  },
  {
   "cell_type": "code",
   "execution_count": 112,
   "metadata": {},
   "outputs": [
    {
     "data": {
      "text/plain": [
       "<sklearn.metrics._plot.confusion_matrix.ConfusionMatrixDisplay at 0x282f6312b80>"
      ]
     },
     "execution_count": 112,
     "metadata": {},
     "output_type": "execute_result"
    },
    {
     "data": {
      "image/png": "[encoded data removed]",
      "text/plain": [
       "<Figure size 640x480 with 2 Axes>"
      ]
     },
     "metadata": {},
     "output_type": "display_data"
    }
   ],
   "source": [
    "cm = confusion_matrix(y_test, predictions, labels=model_lr.classes_)\n",
    "disp = ConfusionMatrixDisplay(confusion_matrix=cm, display_labels=model_lr.classes_)\n",
    "disp.plot()\n"
   ]
  }
 ],
 "metadata": {
  "kernelspec": {
   "display_name": "Python 3.8.0 ('gpu')",
   "language": "python",
   "name": "python3"
  },
  "language_info": {
   "codemirror_mode": {
    "name": "ipython",
    "version": 3
   },
   "file_extension": ".py",
   "mimetype": "text/x-python",
   "name": "python",
   "nbconvert_exporter": "python",
   "pygments_lexer": "ipython3",
   "version": "3.8.0"
  },
  "vscode": {
   "interpreter": {
    "hash": "bd4f7ede50eb7504ff6f94ef0359606f4c410f2a995fbf953c94beba73ff6ab6"
   }
  }
 },
 "nbformat": 4,
 "nbformat_minor": 4
}
