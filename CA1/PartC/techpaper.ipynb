{
 "cells": [
  {
   "cell_type": "markdown",
   "metadata": {},
   "source": [
    "# ST1504 Part C Technical Paper\n",
    "\n",
    "## RNN, LSTM and GRU models applied to Sentiment Analysis for comparison on efficiency and test accuracy\n",
    "\n",
    "### Name: Haja Amir Rahman\n",
    "### Class: DAAA/FT?2B/06\n",
    "### Admin Number: P2100803\n",
    "\n",
    "### References: \n",
    "\n",
    "- [Twitter Dataset](https://www.kaggle.com/datasets/cosmos98/twitter-and-reddit-sentimental-analysis-dataset?select=Twitter_Data.csv)\n",
    "- [Using GloVe and Pretrained Embedding layers](https://haochen23.github.io/2020/01/nlp-rnn-sentiment.html#.Y3sIcXZByUk)\n",
    "- [GloVe Model Loading](https://www.kaggle.com/datasets/fullmetal26/glovetwitter27b100dtxt)\n",
    "- [Understanding Embedding Layers in Keras and GloVe](https://medium.com/analytics-vidhya/understanding-embedding-layer-in-keras-bbe3ff1327ce )"
   ]
  },
  {
   "cell_type": "code",
   "execution_count": 1,
   "metadata": {},
   "outputs": [
    {
     "data": {
      "text/plain": [
       "[PhysicalDevice(name='/physical_device:GPU:0', device_type='GPU')]"
      ]
     },
     "execution_count": 1,
     "metadata": {},
     "output_type": "execute_result"
    }
   ],
   "source": [
    "import tensorflow as tf\n",
    "\n",
    "tf.config.list_physical_devices('GPU')"
   ]
  },
  {
   "cell_type": "code",
   "execution_count": 15,
   "metadata": {},
   "outputs": [],
   "source": [
    "import tensorflow.keras\n",
    "from tensorflow.keras.models import Sequential\n",
    "from tensorflow.keras.layers import InputLayer, Dense, SimpleRNN, Activation, Dropout, Conv1D\n",
    "from tensorflow.keras.layers import Embedding, Flatten, LSTM, GRU\n",
    "from tensorflow.keras.preprocessing.text import Tokenizer\n",
    "from tensorflow.keras.preprocessing.sequence import pad_sequences\n",
    "from tensorflow.keras.callbacks import EarlyStopping, ReduceLROnPlateau\n",
    "import pandas as pd\n",
    "import numpy as np\n",
    "import spacy\n",
    "import matplotlib.pyplot as plt\n",
    "from sklearn.metrics import classification_report\n",
    "from sklearn.metrics import confusion_matrix\n",
    "from sklearn.metrics import ConfusionMatrixDisplay"
   ]
  },
  {
   "cell_type": "markdown",
   "metadata": {},
   "source": [
    "## Loading main dataset"
   ]
  },
  {
   "cell_type": "code",
   "execution_count": 3,
   "metadata": {},
   "outputs": [
    {
     "data": {
      "text/html": [
       "<div>\n",
       "<style scoped>\n",
       "    .dataframe tbody tr th:only-of-type {\n",
       "        vertical-align: middle;\n",
       "    }\n",
       "\n",
       "    .dataframe tbody tr th {\n",
       "        vertical-align: top;\n",
       "    }\n",
       "\n",
       "    .dataframe thead th {\n",
       "        text-align: right;\n",
       "    }\n",
       "</style>\n",
       "<table border=\"1\" class=\"dataframe\">\n",
       "  <thead>\n",
       "    <tr style=\"text-align: right;\">\n",
       "      <th></th>\n",
       "      <th>clean_text</th>\n",
       "      <th>category</th>\n",
       "    </tr>\n",
       "  </thead>\n",
       "  <tbody>\n",
       "    <tr>\n",
       "      <th>0</th>\n",
       "      <td>when modi promised “minimum government maximum...</td>\n",
       "      <td>-1.0</td>\n",
       "    </tr>\n",
       "    <tr>\n",
       "      <th>1</th>\n",
       "      <td>talk all the nonsense and continue all the dra...</td>\n",
       "      <td>0.0</td>\n",
       "    </tr>\n",
       "    <tr>\n",
       "      <th>2</th>\n",
       "      <td>what did just say vote for modi  welcome bjp t...</td>\n",
       "      <td>1.0</td>\n",
       "    </tr>\n",
       "    <tr>\n",
       "      <th>3</th>\n",
       "      <td>asking his supporters prefix chowkidar their n...</td>\n",
       "      <td>1.0</td>\n",
       "    </tr>\n",
       "    <tr>\n",
       "      <th>4</th>\n",
       "      <td>answer who among these the most powerful world...</td>\n",
       "      <td>1.0</td>\n",
       "    </tr>\n",
       "    <tr>\n",
       "      <th>...</th>\n",
       "      <td>...</td>\n",
       "      <td>...</td>\n",
       "    </tr>\n",
       "    <tr>\n",
       "      <th>162975</th>\n",
       "      <td>why these 456 crores paid neerav modi not reco...</td>\n",
       "      <td>-1.0</td>\n",
       "    </tr>\n",
       "    <tr>\n",
       "      <th>162976</th>\n",
       "      <td>dear rss terrorist payal gawar what about modi...</td>\n",
       "      <td>-1.0</td>\n",
       "    </tr>\n",
       "    <tr>\n",
       "      <th>162977</th>\n",
       "      <td>did you cover her interaction forum where she ...</td>\n",
       "      <td>0.0</td>\n",
       "    </tr>\n",
       "    <tr>\n",
       "      <th>162978</th>\n",
       "      <td>there big project came into india modi dream p...</td>\n",
       "      <td>0.0</td>\n",
       "    </tr>\n",
       "    <tr>\n",
       "      <th>162979</th>\n",
       "      <td>have you ever listen about like gurukul where ...</td>\n",
       "      <td>1.0</td>\n",
       "    </tr>\n",
       "  </tbody>\n",
       "</table>\n",
       "<p>162980 rows × 2 columns</p>\n",
       "</div>"
      ],
      "text/plain": [
       "                                               clean_text  category\n",
       "0       when modi promised “minimum government maximum...      -1.0\n",
       "1       talk all the nonsense and continue all the dra...       0.0\n",
       "2       what did just say vote for modi  welcome bjp t...       1.0\n",
       "3       asking his supporters prefix chowkidar their n...       1.0\n",
       "4       answer who among these the most powerful world...       1.0\n",
       "...                                                   ...       ...\n",
       "162975  why these 456 crores paid neerav modi not reco...      -1.0\n",
       "162976  dear rss terrorist payal gawar what about modi...      -1.0\n",
       "162977  did you cover her interaction forum where she ...       0.0\n",
       "162978  there big project came into india modi dream p...       0.0\n",
       "162979  have you ever listen about like gurukul where ...       1.0\n",
       "\n",
       "[162980 rows x 2 columns]"
      ]
     },
     "execution_count": 3,
     "metadata": {},
     "output_type": "execute_result"
    }
   ],
   "source": [
    "import ssl\n",
    "ssl._create_default_https_context = ssl._create_unverified_context\n",
    "\n",
    "# data = pd.read_csv(\"https://raw.githubusercontent.com/haochen23/nlp-rnn-lstm-sentiment/master/training.1600000.processed.noemoticon.csv\", header=None, encoding='cp437')\n",
    "# print(\"The shape of the original dataset is {}\".format(data.shape))\n",
    "# data\n",
    "\n",
    "raw = pd.read_csv('data/Twitter_Data.csv')\n",
    "raw"
   ]
  },
  {
   "cell_type": "code",
   "execution_count": 4,
   "metadata": {},
   "outputs": [
    {
     "data": {
      "text/html": [
       "<div>\n",
       "<style scoped>\n",
       "    .dataframe tbody tr th:only-of-type {\n",
       "        vertical-align: middle;\n",
       "    }\n",
       "\n",
       "    .dataframe tbody tr th {\n",
       "        vertical-align: top;\n",
       "    }\n",
       "\n",
       "    .dataframe thead th {\n",
       "        text-align: right;\n",
       "    }\n",
       "</style>\n",
       "<table border=\"1\" class=\"dataframe\">\n",
       "  <thead>\n",
       "    <tr style=\"text-align: right;\">\n",
       "      <th></th>\n",
       "      <th>clean_comment</th>\n",
       "      <th>category</th>\n",
       "    </tr>\n",
       "  </thead>\n",
       "  <tbody>\n",
       "    <tr>\n",
       "      <th>0</th>\n",
       "      <td>when modi promised “minimum government maximum...</td>\n",
       "      <td>-1.0</td>\n",
       "    </tr>\n",
       "    <tr>\n",
       "      <th>1</th>\n",
       "      <td>talk all the nonsense and continue all the dra...</td>\n",
       "      <td>0.0</td>\n",
       "    </tr>\n",
       "    <tr>\n",
       "      <th>2</th>\n",
       "      <td>what did just say vote for modi  welcome bjp t...</td>\n",
       "      <td>1.0</td>\n",
       "    </tr>\n",
       "    <tr>\n",
       "      <th>3</th>\n",
       "      <td>asking his supporters prefix chowkidar their n...</td>\n",
       "      <td>1.0</td>\n",
       "    </tr>\n",
       "    <tr>\n",
       "      <th>4</th>\n",
       "      <td>answer who among these the most powerful world...</td>\n",
       "      <td>1.0</td>\n",
       "    </tr>\n",
       "    <tr>\n",
       "      <th>...</th>\n",
       "      <td>...</td>\n",
       "      <td>...</td>\n",
       "    </tr>\n",
       "    <tr>\n",
       "      <th>162975</th>\n",
       "      <td>why these 456 crores paid neerav modi not reco...</td>\n",
       "      <td>-1.0</td>\n",
       "    </tr>\n",
       "    <tr>\n",
       "      <th>162976</th>\n",
       "      <td>dear rss terrorist payal gawar what about modi...</td>\n",
       "      <td>-1.0</td>\n",
       "    </tr>\n",
       "    <tr>\n",
       "      <th>162977</th>\n",
       "      <td>did you cover her interaction forum where she ...</td>\n",
       "      <td>0.0</td>\n",
       "    </tr>\n",
       "    <tr>\n",
       "      <th>162978</th>\n",
       "      <td>there big project came into india modi dream p...</td>\n",
       "      <td>0.0</td>\n",
       "    </tr>\n",
       "    <tr>\n",
       "      <th>162979</th>\n",
       "      <td>have you ever listen about like gurukul where ...</td>\n",
       "      <td>1.0</td>\n",
       "    </tr>\n",
       "  </tbody>\n",
       "</table>\n",
       "<p>162980 rows × 2 columns</p>\n",
       "</div>"
      ],
      "text/plain": [
       "                                            clean_comment  category\n",
       "0       when modi promised “minimum government maximum...      -1.0\n",
       "1       talk all the nonsense and continue all the dra...       0.0\n",
       "2       what did just say vote for modi  welcome bjp t...       1.0\n",
       "3       asking his supporters prefix chowkidar their n...       1.0\n",
       "4       answer who among these the most powerful world...       1.0\n",
       "...                                                   ...       ...\n",
       "162975  why these 456 crores paid neerav modi not reco...      -1.0\n",
       "162976  dear rss terrorist payal gawar what about modi...      -1.0\n",
       "162977  did you cover her interaction forum where she ...       0.0\n",
       "162978  there big project came into india modi dream p...       0.0\n",
       "162979  have you ever listen about like gurukul where ...       1.0\n",
       "\n",
       "[162980 rows x 2 columns]"
      ]
     },
     "execution_count": 4,
     "metadata": {},
     "output_type": "execute_result"
    }
   ],
   "source": [
    "raw.rename(columns={'clean_text': 'clean_comment'}, inplace=True)\n",
    "raw"
   ]
  },
  {
   "cell_type": "code",
   "execution_count": 5,
   "metadata": {},
   "outputs": [
    {
     "data": {
      "text/plain": [
       " 1.0    72250\n",
       " 0.0    55213\n",
       "-1.0    35510\n",
       "Name: category, dtype: int64"
      ]
     },
     "execution_count": 5,
     "metadata": {},
     "output_type": "execute_result"
    }
   ],
   "source": [
    "raw['category'].value_counts()"
   ]
  },
  {
   "cell_type": "markdown",
   "metadata": {},
   "source": [
    "#### Sampling to make number of data counts equal for each category"
   ]
  },
  {
   "cell_type": "code",
   "execution_count": 6,
   "metadata": {},
   "outputs": [
    {
     "data": {
      "text/html": [
       "<div>\n",
       "<style scoped>\n",
       "    .dataframe tbody tr th:only-of-type {\n",
       "        vertical-align: middle;\n",
       "    }\n",
       "\n",
       "    .dataframe tbody tr th {\n",
       "        vertical-align: top;\n",
       "    }\n",
       "\n",
       "    .dataframe thead th {\n",
       "        text-align: right;\n",
       "    }\n",
       "</style>\n",
       "<table border=\"1\" class=\"dataframe\">\n",
       "  <thead>\n",
       "    <tr style=\"text-align: right;\">\n",
       "      <th></th>\n",
       "      <th>clean_comment</th>\n",
       "      <th>category</th>\n",
       "    </tr>\n",
       "  </thead>\n",
       "  <tbody>\n",
       "    <tr>\n",
       "      <th>19308</th>\n",
       "      <td>abe chomu you dont know anything then you are ...</td>\n",
       "      <td>0.0</td>\n",
       "    </tr>\n",
       "    <tr>\n",
       "      <th>9029</th>\n",
       "      <td>72k 15l ाुि ो ुि े rahul congress upa what str...</td>\n",
       "      <td>1.0</td>\n",
       "    </tr>\n",
       "    <tr>\n",
       "      <th>136505</th>\n",
       "      <td>asked simple question have seen rss cadets wit...</td>\n",
       "      <td>1.0</td>\n",
       "    </tr>\n",
       "    <tr>\n",
       "      <th>57752</th>\n",
       "      <td>this very true vajpayee and modi are putting f...</td>\n",
       "      <td>1.0</td>\n",
       "    </tr>\n",
       "    <tr>\n",
       "      <th>44145</th>\n",
       "      <td>the only way this makes sense modi builds temp...</td>\n",
       "      <td>0.0</td>\n",
       "    </tr>\n",
       "    <tr>\n",
       "      <th>...</th>\n",
       "      <td>...</td>\n",
       "      <td>...</td>\n",
       "    </tr>\n",
       "    <tr>\n",
       "      <th>26329</th>\n",
       "      <td>madam mera vote uss local representative who w...</td>\n",
       "      <td>1.0</td>\n",
       "    </tr>\n",
       "    <tr>\n",
       "      <th>102334</th>\n",
       "      <td>tufail bjp loses every state ’ good for you bu...</td>\n",
       "      <td>1.0</td>\n",
       "    </tr>\n",
       "    <tr>\n",
       "      <th>74659</th>\n",
       "      <td>because modi didn’ want the scientists call up...</td>\n",
       "      <td>0.0</td>\n",
       "    </tr>\n",
       "    <tr>\n",
       "      <th>161759</th>\n",
       "      <td>seems only modi relaxed during this election c...</td>\n",
       "      <td>-1.0</td>\n",
       "    </tr>\n",
       "    <tr>\n",
       "      <th>66552</th>\n",
       "      <td>sanjay hegde known modi hater nalini singh sis...</td>\n",
       "      <td>0.0</td>\n",
       "    </tr>\n",
       "  </tbody>\n",
       "</table>\n",
       "<p>106530 rows × 2 columns</p>\n",
       "</div>"
      ],
      "text/plain": [
       "                                            clean_comment  category\n",
       "19308   abe chomu you dont know anything then you are ...       0.0\n",
       "9029    72k 15l ाुि ो ुि े rahul congress upa what str...       1.0\n",
       "136505  asked simple question have seen rss cadets wit...       1.0\n",
       "57752   this very true vajpayee and modi are putting f...       1.0\n",
       "44145   the only way this makes sense modi builds temp...       0.0\n",
       "...                                                   ...       ...\n",
       "26329   madam mera vote uss local representative who w...       1.0\n",
       "102334  tufail bjp loses every state ’ good for you bu...       1.0\n",
       "74659   because modi didn’ want the scientists call up...       0.0\n",
       "161759  seems only modi relaxed during this election c...      -1.0\n",
       "66552   sanjay hegde known modi hater nalini singh sis...       0.0\n",
       "\n",
       "[106530 rows x 2 columns]"
      ]
     },
     "execution_count": 6,
     "metadata": {},
     "output_type": "execute_result"
    }
   ],
   "source": [
    "# NUM = 8277\n",
    "\n",
    "# positive = raw[raw['category']==1].sample(8277)\n",
    "# neutral = raw[raw['category']==0].sample(8277)\n",
    "# negative = raw[raw['category']==-1].sample(8277)\n",
    "\n",
    "NUM = 35510\n",
    "\n",
    "positive = raw[raw['category']==1].sample(NUM)\n",
    "neutral = raw[raw['category']==0].sample(NUM)\n",
    "negative = raw[raw['category']==-1].sample(NUM)\n",
    "\n",
    "data = pd.concat([positive, neutral, negative], axis=0).sample(frac=1)\n",
    "# positive.shape, neutral.shape, negative.shape\n",
    "\n",
    "data"
   ]
  },
  {
   "cell_type": "code",
   "execution_count": 7,
   "metadata": {},
   "outputs": [],
   "source": [
    "def load_glove_model(glove_file, encoding='iso-8859-1'):\n",
    "    print(\"[INFO]Loading GloVe Model...\")\n",
    "    model = {}\n",
    "    with open(glove_file, 'r', encoding=encoding) as f:\n",
    "        for line in f:\n",
    "            split_line = line.split()\n",
    "            word = split_line[0]\n",
    "            embeddings = [float(val) for val in split_line[1:]]\n",
    "            model[word] = embeddings\n",
    "    print(\"[INFO] Done...{} words loaded!\".format(len(model)))\n",
    "    return model\n",
    "# adopted from utils.py\n",
    "nlp = spacy.blank(\"en\")\n",
    "\n",
    "def remove_stopwords(sentence):\n",
    "    '''\n",
    "    function to remove stopwords\n",
    "        input: sentence - string of sentence\n",
    "    '''\n",
    "    new = []\n",
    "    # tokenize sentence\n",
    "    sentence = nlp(sentence)\n",
    "    for tk in sentence:\n",
    "        if (tk.is_stop == False) & (tk.pos_ !=\"PUNCT\"):\n",
    "            new.append(tk.string.strip())\n",
    "    # convert back to sentence string\n",
    "    c = \" \".join(str(x) for x in new)\n",
    "    return c\n",
    "\n",
    "\n",
    "def lemmatize(sentence):\n",
    "    '''\n",
    "    function to do lemmatization\n",
    "        input: sentence - string of sentence\n",
    "    '''\n",
    "    sentence = nlp(sentence)\n",
    "    s = \"\"\n",
    "    for w in sentence:\n",
    "        s +=\" \"+w.lemma_\n",
    "    return nlp(s)\n",
    "\n",
    "def sent_vectorizer(sent, model):\n",
    "    '''\n",
    "    sentence vectorizer using the pretrained glove model\n",
    "    '''\n",
    "    sent_vector = np.zeros(200)\n",
    "    num_w = 0\n",
    "    for w in sent.split():\n",
    "        try:\n",
    "            # add up all token vectors to a sent_vector\n",
    "            sent_vector = np.add(sent_vector, model[str(w)])\n",
    "            num_w += 1\n",
    "        except:\n",
    "            pass\n",
    "    return sent_vector"
   ]
  },
  {
   "cell_type": "code",
   "execution_count": 8,
   "metadata": {},
   "outputs": [
    {
     "data": {
      "text/plain": [
       "((106530,), (106530, 3))"
      ]
     },
     "execution_count": 8,
     "metadata": {},
     "output_type": "execute_result"
    }
   ],
   "source": [
    "data_X = data['clean_comment'].to_numpy().astype('str')\n",
    "data_y = data['category']\n",
    "data_y = pd.get_dummies(data_y).to_numpy()\n",
    "\n",
    "data_X.shape, data_y.shape"
   ]
  },
  {
   "cell_type": "markdown",
   "metadata": {},
   "source": [
    "### Loading GloVe Model"
   ]
  },
  {
   "cell_type": "code",
   "execution_count": 9,
   "metadata": {},
   "outputs": [
    {
     "name": "stdout",
     "output_type": "stream",
     "text": [
      "[INFO]Loading GloVe Model...\n",
      "[INFO] Done...1193514 words loaded!\n"
     ]
    }
   ],
   "source": [
    "# load the glove model\n",
    "glove_model = load_glove_model(\"glove.twitter.27B.200d.txt\", encoding='utf-8')\n",
    "# number of vocab to keep\n",
    "max_vocab = 18000\n",
    "# length of sequence that will generate\n",
    "max_len = 15\n",
    "\n",
    "tokenizer = Tokenizer(num_words=max_vocab)"
   ]
  },
  {
   "cell_type": "markdown",
   "metadata": {},
   "source": [
    "### Tokenizing "
   ]
  },
  {
   "cell_type": "code",
   "execution_count": 10,
   "metadata": {},
   "outputs": [
    {
     "name": "stdout",
     "output_type": "stream",
     "text": [
      "Found 87574 unique tokens.\n"
     ]
    },
    {
     "data": {
      "text/plain": [
       "(106530, 15)"
      ]
     },
     "execution_count": 10,
     "metadata": {},
     "output_type": "execute_result"
    }
   ],
   "source": [
    "tokenizer.fit_on_texts(data_X)\n",
    "sequences = tokenizer.texts_to_sequences(data_X)\n",
    "word_index = tokenizer.word_index\n",
    "print('Found %s unique tokens.' % len(word_index))\n",
    "data_keras = pad_sequences(sequences, maxlen=max_len, padding=\"post\")\n",
    "\n",
    "data_keras.shape"
   ]
  },
  {
   "cell_type": "markdown",
   "metadata": {},
   "source": [
    "## Train-test-split"
   ]
  },
  {
   "cell_type": "code",
   "execution_count": 11,
   "metadata": {},
   "outputs": [
    {
     "data": {
      "text/plain": [
       "((74571, 15), (31959, 15), (74571, 3), (31959, 3))"
      ]
     },
     "execution_count": 11,
     "metadata": {},
     "output_type": "execute_result"
    }
   ],
   "source": [
    "from sklearn.model_selection import train_test_split\n",
    "x_train, x_test, y_train, y_test = train_test_split(data_keras, data_y, test_size = 0.3, random_state=42)\n",
    "\n",
    "x_train.shape, x_test.shape, y_train.shape, y_test.shape"
   ]
  },
  {
   "cell_type": "code",
   "execution_count": 12,
   "metadata": {},
   "outputs": [
    {
     "name": "stdout",
     "output_type": "stream",
     "text": [
      "Number of words: 87575\n",
      "Null word embeddings: 51669\n"
     ]
    }
   ],
   "source": [
    "# calculate number of words\n",
    "nb_words = len(tokenizer.word_index) + 1\n",
    "print(f\"Number of words: {nb_words}\")\n",
    "\n",
    "# obtain the word embedding matrix\n",
    "embedding_matrix = np.zeros((nb_words, 200))\n",
    "\n",
    "for word, i in word_index.items():\n",
    "    embedding_vector = glove_model.get(word)\n",
    "    if embedding_vector is not None:\n",
    "        embedding_matrix[i] = embedding_vector\n",
    "print('Null word embeddings: %d' % np.sum(np.sum(embedding_matrix, axis=1) == 0))"
   ]
  },
  {
   "cell_type": "code",
   "execution_count": 13,
   "metadata": {},
   "outputs": [],
   "source": [
    "# adopted from sent_tran_eval.py\n",
    "def build_model(nb_words, rnn_model=\"SimpleRNN\", embedding_matrix=None):\n",
    "    '''\n",
    "    build_model function:\n",
    "    inputs: \n",
    "        rnn_model - which type of RNN layer to use, choose in (SimpleRNN, LSTM, GRU)\n",
    "        embedding_matrix - whether to use pretrained embeddings or not\n",
    "    '''\n",
    "    model = Sequential()\n",
    "    # add an embedding layer\n",
    "    if embedding_matrix is not None:\n",
    "        model.add(Embedding(nb_words, \n",
    "                        200, \n",
    "                        weights=[embedding_matrix], \n",
    "                        input_length= max_len,\n",
    "                        trainable = False))\n",
    "    else:\n",
    "        model.add(Embedding(nb_words, \n",
    "                        200, \n",
    "                        input_length= max_len,\n",
    "                        trainable = False))\n",
    "        \n",
    "    # add an RNN layer according to rnn_model\n",
    "    if rnn_model == \"SimpleRNN\":\n",
    "        model.add(SimpleRNN(256))\n",
    "      \n",
    "    elif rnn_model == \"LSTM\":\n",
    "        model.add(LSTM(256))\n",
    "    else:\n",
    "        model.add(GRU(256))\n",
    "\n",
    "    model.add(Dense(512,activation='relu'))\n",
    "    model.add(Dense(512, activation='relu'))\n",
    "    model.add(Dense(3, activation='softmax'))\n",
    "    \n",
    "    model.compile(loss='categorical_crossentropy', \n",
    "                optimizer='rmsprop',\n",
    "                metrics=['accuracy'])\n",
    "    return model"
   ]
  },
  {
   "cell_type": "markdown",
   "metadata": {},
   "source": [
    "## RNN Model"
   ]
  },
  {
   "cell_type": "code",
   "execution_count": 17,
   "metadata": {},
   "outputs": [
    {
     "name": "stdout",
     "output_type": "stream",
     "text": [
      "Model: \"sequential_2\"\n",
      "_________________________________________________________________\n",
      " Layer (type)                Output Shape              Param #   \n",
      "=================================================================\n",
      " embedding_2 (Embedding)     (None, 15, 200)           17515000  \n",
      "                                                                 \n",
      " simple_rnn_2 (SimpleRNN)    (None, 256)               116992    \n",
      "                                                                 \n",
      " dense_6 (Dense)             (None, 512)               131584    \n",
      "                                                                 \n",
      " dense_7 (Dense)             (None, 512)               262656    \n",
      "                                                                 \n",
      " dense_8 (Dense)             (None, 3)                 1539      \n",
      "                                                                 \n",
      "=================================================================\n",
      "Total params: 18,027,771\n",
      "Trainable params: 512,771\n",
      "Non-trainable params: 17,515,000\n",
      "_________________________________________________________________\n",
      "Epoch 1/30\n",
      "2331/2331 [==============================] - ETA: 0s - loss: 0.9436 - accuracy: 0.5519\n",
      "Epoch 1: saving model to tmp/checkpoint\\model_rnn.hdf5\n",
      "\n",
      "Epoch 1: val_accuracy improved from -inf to 0.62583, saving model to tmp/checkpoint\\model_rnnAcc.hdf5\n",
      "\n",
      "Epoch 1: val_loss improved from inf to 0.84456, saving model to tmp/checkpoint\\model_rnnLoss.hdf5\n",
      "2331/2331 [==============================] - 92s 39ms/step - loss: 0.9436 - accuracy: 0.5519 - val_loss: 0.8446 - val_accuracy: 0.6258 - lr: 0.0010\n",
      "Epoch 2/30\n",
      "2331/2331 [==============================] - ETA: 0s - loss: 0.8317 - accuracy: 0.6281\n",
      "Epoch 2: saving model to tmp/checkpoint\\model_rnn.hdf5\n",
      "\n",
      "Epoch 2: val_accuracy improved from 0.62583 to 0.64245, saving model to tmp/checkpoint\\model_rnnAcc.hdf5\n",
      "\n",
      "Epoch 2: val_loss improved from 0.84456 to 0.83516, saving model to tmp/checkpoint\\model_rnnLoss.hdf5\n",
      "2331/2331 [==============================] - 93s 40ms/step - loss: 0.8317 - accuracy: 0.6281 - val_loss: 0.8352 - val_accuracy: 0.6424 - lr: 0.0010\n",
      "Epoch 3/30\n",
      "2331/2331 [==============================] - ETA: 0s - loss: 0.7802 - accuracy: 0.6615\n",
      "Epoch 3: saving model to tmp/checkpoint\\model_rnn.hdf5\n",
      "\n",
      "Epoch 3: val_accuracy did not improve from 0.64245\n",
      "\n",
      "Epoch 3: val_loss did not improve from 0.83516\n",
      "2331/2331 [==============================] - 90s 38ms/step - loss: 0.7802 - accuracy: 0.6615 - val_loss: 0.8535 - val_accuracy: 0.6251 - lr: 0.0010\n",
      "Epoch 4/30\n",
      "2331/2331 [==============================] - ETA: 0s - loss: 0.7506 - accuracy: 0.6808\n",
      "Epoch 4: saving model to tmp/checkpoint\\model_rnn.hdf5\n",
      "\n",
      "Epoch 4: val_accuracy improved from 0.64245 to 0.65343, saving model to tmp/checkpoint\\model_rnnAcc.hdf5\n",
      "\n",
      "Epoch 4: val_loss did not improve from 0.83516\n",
      "2331/2331 [==============================] - 90s 39ms/step - loss: 0.7506 - accuracy: 0.6808 - val_loss: 0.9634 - val_accuracy: 0.6534 - lr: 0.0010\n",
      "Epoch 5/30\n",
      "2331/2331 [==============================] - ETA: 0s - loss: 0.7316 - accuracy: 0.6894\n",
      "Epoch 5: saving model to tmp/checkpoint\\model_rnn.hdf5\n",
      "\n",
      "Epoch 5: val_accuracy improved from 0.65343 to 0.66917, saving model to tmp/checkpoint\\model_rnnAcc.hdf5\n",
      "\n",
      "Epoch 5: val_loss improved from 0.83516 to 0.80937, saving model to tmp/checkpoint\\model_rnnLoss.hdf5\n",
      "2331/2331 [==============================] - 92s 39ms/step - loss: 0.7316 - accuracy: 0.6894 - val_loss: 0.8094 - val_accuracy: 0.6692 - lr: 0.0010\n",
      "Epoch 6/30\n",
      "2331/2331 [==============================] - ETA: 0s - loss: 0.7189 - accuracy: 0.6973\n",
      "Epoch 6: saving model to tmp/checkpoint\\model_rnn.hdf5\n",
      "\n",
      "Epoch 6: val_accuracy improved from 0.66917 to 0.67746, saving model to tmp/checkpoint\\model_rnnAcc.hdf5\n",
      "\n",
      "Epoch 6: val_loss did not improve from 0.80937\n",
      "2331/2331 [==============================] - 89s 38ms/step - loss: 0.7189 - accuracy: 0.6973 - val_loss: 0.9302 - val_accuracy: 0.6775 - lr: 0.0010\n",
      "Epoch 7/30\n",
      "2330/2331 [============================>.] - ETA: 0s - loss: 0.7145 - accuracy: 0.7016\n",
      "Epoch 7: saving model to tmp/checkpoint\\model_rnn.hdf5\n",
      "\n",
      "Epoch 7: val_accuracy did not improve from 0.67746\n",
      "\n",
      "Epoch 7: val_loss did not improve from 0.80937\n",
      "2331/2331 [==============================] - 90s 38ms/step - loss: 0.7145 - accuracy: 0.7016 - val_loss: 0.8848 - val_accuracy: 0.6158 - lr: 0.0010\n",
      "Epoch 8/30\n",
      "2330/2331 [============================>.] - ETA: 0s - loss: 0.7322 - accuracy: 0.7036\n",
      "Epoch 8: saving model to tmp/checkpoint\\model_rnn.hdf5\n",
      "\n",
      "Epoch 8: val_accuracy improved from 0.67746 to 0.68306, saving model to tmp/checkpoint\\model_rnnAcc.hdf5\n",
      "\n",
      "Epoch 8: val_loss improved from 0.80937 to 0.77417, saving model to tmp/checkpoint\\model_rnnLoss.hdf5\n",
      "2331/2331 [==============================] - 92s 40ms/step - loss: 0.7322 - accuracy: 0.7036 - val_loss: 0.7742 - val_accuracy: 0.6831 - lr: 0.0010\n",
      "Epoch 9/30\n",
      "2331/2331 [==============================] - ETA: 0s - loss: 0.7127 - accuracy: 0.7067\n",
      "Epoch 9: saving model to tmp/checkpoint\\model_rnn.hdf5\n",
      "\n",
      "Epoch 9: val_accuracy did not improve from 0.68306\n",
      "\n",
      "Epoch 9: val_loss did not improve from 0.77417\n",
      "2331/2331 [==============================] - 91s 39ms/step - loss: 0.7127 - accuracy: 0.7067 - val_loss: 0.8267 - val_accuracy: 0.6728 - lr: 0.0010\n",
      "Epoch 10/30\n",
      "2331/2331 [==============================] - ETA: 0s - loss: 0.7040 - accuracy: 0.7097\n",
      "Epoch 10: saving model to tmp/checkpoint\\model_rnn.hdf5\n",
      "\n",
      "Epoch 10: val_accuracy improved from 0.68306 to 0.68372, saving model to tmp/checkpoint\\model_rnnAcc.hdf5\n",
      "\n",
      "Epoch 10: val_loss did not improve from 0.77417\n",
      "2331/2331 [==============================] - 91s 39ms/step - loss: 0.7040 - accuracy: 0.7097 - val_loss: 0.8205 - val_accuracy: 0.6837 - lr: 0.0010\n",
      "Epoch 11/30\n",
      "2331/2331 [==============================] - ETA: 0s - loss: 0.7002 - accuracy: 0.7116\n",
      "Epoch 11: saving model to tmp/checkpoint\\model_rnn.hdf5\n",
      "\n",
      "Epoch 11: val_accuracy did not improve from 0.68372\n",
      "\n",
      "Epoch 11: val_loss did not improve from 0.77417\n",
      "2331/2331 [==============================] - 90s 38ms/step - loss: 0.7002 - accuracy: 0.7116 - val_loss: 0.8272 - val_accuracy: 0.6741 - lr: 0.0010\n",
      "Epoch 12/30\n",
      "2331/2331 [==============================] - ETA: 0s - loss: 0.7008 - accuracy: 0.7153\n",
      "Epoch 12: saving model to tmp/checkpoint\\model_rnn.hdf5\n",
      "\n",
      "Epoch 12: val_accuracy improved from 0.68372 to 0.71310, saving model to tmp/checkpoint\\model_rnnAcc.hdf5\n",
      "\n",
      "Epoch 12: val_loss did not improve from 0.77417\n",
      "2331/2331 [==============================] - 90s 39ms/step - loss: 0.7008 - accuracy: 0.7153 - val_loss: 0.8206 - val_accuracy: 0.7131 - lr: 0.0010\n",
      "Epoch 13/30\n",
      "2331/2331 [==============================] - ETA: 0s - loss: 0.6897 - accuracy: 0.7189\n",
      "Epoch 13: saving model to tmp/checkpoint\\model_rnn.hdf5\n",
      "\n",
      "Epoch 13: val_accuracy improved from 0.71310 to 0.71388, saving model to tmp/checkpoint\\model_rnnAcc.hdf5\n",
      "\n",
      "Epoch 13: val_loss improved from 0.77417 to 0.73344, saving model to tmp/checkpoint\\model_rnnLoss.hdf5\n",
      "2331/2331 [==============================] - 96s 41ms/step - loss: 0.6897 - accuracy: 0.7189 - val_loss: 0.7334 - val_accuracy: 0.7139 - lr: 0.0010\n",
      "Epoch 14/30\n",
      "2331/2331 [==============================] - ETA: 0s - loss: 0.6901 - accuracy: 0.7183\n",
      "Epoch 14: saving model to tmp/checkpoint\\model_rnn.hdf5\n",
      "\n",
      "Epoch 14: val_accuracy did not improve from 0.71388\n",
      "\n",
      "Epoch 14: val_loss did not improve from 0.73344\n",
      "2331/2331 [==============================] - 92s 40ms/step - loss: 0.6901 - accuracy: 0.7183 - val_loss: 1.0209 - val_accuracy: 0.6412 - lr: 0.0010\n",
      "Epoch 15/30\n",
      "2331/2331 [==============================] - ETA: 0s - loss: 0.6946 - accuracy: 0.7239\n",
      "Epoch 15: saving model to tmp/checkpoint\\model_rnn.hdf5\n",
      "\n",
      "Epoch 15: val_accuracy did not improve from 0.71388\n",
      "\n",
      "Epoch 15: val_loss did not improve from 0.73344\n",
      "2331/2331 [==============================] - 93s 40ms/step - loss: 0.6946 - accuracy: 0.7239 - val_loss: 0.7578 - val_accuracy: 0.7045 - lr: 0.0010\n",
      "Epoch 16/30\n",
      "2331/2331 [==============================] - ETA: 0s - loss: 0.6999 - accuracy: 0.7227\n",
      "Epoch 16: saving model to tmp/checkpoint\\model_rnn.hdf5\n",
      "\n",
      "Epoch 16: val_accuracy did not improve from 0.71388\n",
      "\n",
      "Epoch 16: val_loss did not improve from 0.73344\n",
      "2331/2331 [==============================] - 93s 40ms/step - loss: 0.6999 - accuracy: 0.7227 - val_loss: 0.9627 - val_accuracy: 0.7054 - lr: 0.0010\n",
      "Epoch 17/30\n",
      "2331/2331 [==============================] - ETA: 0s - loss: 0.6861 - accuracy: 0.7250\n",
      "Epoch 17: saving model to tmp/checkpoint\\model_rnn.hdf5\n",
      "\n",
      "Epoch 17: val_accuracy improved from 0.71388 to 0.72130, saving model to tmp/checkpoint\\model_rnnAcc.hdf5\n",
      "\n",
      "Epoch 17: val_loss did not improve from 0.73344\n",
      "2331/2331 [==============================] - 95s 41ms/step - loss: 0.6861 - accuracy: 0.7250 - val_loss: 0.7714 - val_accuracy: 0.7213 - lr: 0.0010\n",
      "Epoch 18/30\n",
      "2331/2331 [==============================] - ETA: 0s - loss: 0.6804 - accuracy: 0.7269\n",
      "Epoch 18: saving model to tmp/checkpoint\\model_rnn.hdf5\n",
      "\n",
      "Epoch 18: val_accuracy did not improve from 0.72130\n",
      "\n",
      "Epoch 18: val_loss did not improve from 0.73344\n",
      "\n",
      "Epoch 18: ReduceLROnPlateau reducing learning rate to 0.0005000000237487257.\n",
      "2331/2331 [==============================] - 94s 40ms/step - loss: 0.6804 - accuracy: 0.7269 - val_loss: 0.7623 - val_accuracy: 0.7123 - lr: 0.0010\n",
      "Epoch 19/30\n",
      "2330/2331 [============================>.] - ETA: 0s - loss: 0.6315 - accuracy: 0.7410\n",
      "Epoch 19: saving model to tmp/checkpoint\\model_rnn.hdf5\n",
      "\n",
      "Epoch 19: val_accuracy improved from 0.72130 to 0.73131, saving model to tmp/checkpoint\\model_rnnAcc.hdf5\n",
      "\n",
      "Epoch 19: val_loss improved from 0.73344 to 0.67550, saving model to tmp/checkpoint\\model_rnnLoss.hdf5\n",
      "2331/2331 [==============================] - 94s 40ms/step - loss: 0.6315 - accuracy: 0.7410 - val_loss: 0.6755 - val_accuracy: 0.7313 - lr: 5.0000e-04\n",
      "Epoch 20/30\n",
      "2331/2331 [==============================] - ETA: 0s - loss: 0.6200 - accuracy: 0.7474\n",
      "Epoch 20: saving model to tmp/checkpoint\\model_rnn.hdf5\n",
      "\n",
      "Epoch 20: val_accuracy did not improve from 0.73131\n",
      "\n",
      "Epoch 20: val_loss did not improve from 0.67550\n",
      "2331/2331 [==============================] - 89s 38ms/step - loss: 0.6200 - accuracy: 0.7474 - val_loss: 0.7300 - val_accuracy: 0.7230 - lr: 5.0000e-04\n",
      "Epoch 21/30\n",
      "2331/2331 [==============================] - ETA: 0s - loss: 0.6177 - accuracy: 0.7499\n",
      "Epoch 21: saving model to tmp/checkpoint\\model_rnn.hdf5\n",
      "\n",
      "Epoch 21: val_accuracy improved from 0.73131 to 0.73225, saving model to tmp/checkpoint\\model_rnnAcc.hdf5\n",
      "\n",
      "Epoch 21: val_loss improved from 0.67550 to 0.65892, saving model to tmp/checkpoint\\model_rnnLoss.hdf5\n",
      "2331/2331 [==============================] - 91s 39ms/step - loss: 0.6177 - accuracy: 0.7499 - val_loss: 0.6589 - val_accuracy: 0.7323 - lr: 5.0000e-04\n",
      "Epoch 22/30\n",
      "2331/2331 [==============================] - ETA: 0s - loss: 0.6175 - accuracy: 0.7521\n",
      "Epoch 22: saving model to tmp/checkpoint\\model_rnn.hdf5\n",
      "\n",
      "Epoch 22: val_accuracy improved from 0.73225 to 0.73638, saving model to tmp/checkpoint\\model_rnnAcc.hdf5\n",
      "\n",
      "Epoch 22: val_loss did not improve from 0.65892\n",
      "2331/2331 [==============================] - 90s 39ms/step - loss: 0.6175 - accuracy: 0.7521 - val_loss: 0.6595 - val_accuracy: 0.7364 - lr: 5.0000e-04\n",
      "Epoch 23/30\n",
      "2331/2331 [==============================] - ETA: 0s - loss: 0.6111 - accuracy: 0.7540\n",
      "Epoch 23: saving model to tmp/checkpoint\\model_rnn.hdf5\n",
      "\n",
      "Epoch 23: val_accuracy did not improve from 0.73638\n",
      "\n",
      "Epoch 23: val_loss did not improve from 0.65892\n",
      "2331/2331 [==============================] - 92s 40ms/step - loss: 0.6111 - accuracy: 0.7540 - val_loss: 0.6975 - val_accuracy: 0.7348 - lr: 5.0000e-04\n",
      "Epoch 24/30\n",
      "2331/2331 [==============================] - ETA: 0s - loss: 0.6018 - accuracy: 0.7578\n",
      "Epoch 24: saving model to tmp/checkpoint\\model_rnn.hdf5\n",
      "\n",
      "Epoch 24: val_accuracy improved from 0.73638 to 0.73779, saving model to tmp/checkpoint\\model_rnnAcc.hdf5\n",
      "\n",
      "Epoch 24: val_loss did not improve from 0.65892\n",
      "2331/2331 [==============================] - 93s 40ms/step - loss: 0.6018 - accuracy: 0.7578 - val_loss: 0.7572 - val_accuracy: 0.7378 - lr: 5.0000e-04\n",
      "Epoch 25/30\n",
      "2331/2331 [==============================] - ETA: 0s - loss: 0.6065 - accuracy: 0.7574\n",
      "Epoch 25: saving model to tmp/checkpoint\\model_rnn.hdf5\n",
      "\n",
      "Epoch 25: val_accuracy did not improve from 0.73779\n",
      "\n",
      "Epoch 25: val_loss did not improve from 0.65892\n",
      "2331/2331 [==============================] - 93s 40ms/step - loss: 0.6065 - accuracy: 0.7574 - val_loss: 0.7588 - val_accuracy: 0.7328 - lr: 5.0000e-04\n",
      "Epoch 26/30\n",
      "2331/2331 [==============================] - ETA: 0s - loss: 0.6015 - accuracy: 0.7590\n",
      "Epoch 26: saving model to tmp/checkpoint\\model_rnn.hdf5\n",
      "\n",
      "Epoch 26: val_accuracy did not improve from 0.73779\n",
      "\n",
      "Epoch 26: val_loss did not improve from 0.65892\n",
      "\n",
      "Epoch 26: ReduceLROnPlateau reducing learning rate to 0.0002500000118743628.\n",
      "2331/2331 [==============================] - 93s 40ms/step - loss: 0.6015 - accuracy: 0.7590 - val_loss: 0.7577 - val_accuracy: 0.7185 - lr: 5.0000e-04\n",
      "Epoch 27/30\n",
      "2331/2331 [==============================] - ETA: 0s - loss: 0.5752 - accuracy: 0.7697\n",
      "Epoch 27: saving model to tmp/checkpoint\\model_rnn.hdf5\n",
      "\n",
      "Epoch 27: val_accuracy improved from 0.73779 to 0.74076, saving model to tmp/checkpoint\\model_rnnAcc.hdf5\n",
      "\n",
      "Epoch 27: val_loss did not improve from 0.65892\n",
      "2331/2331 [==============================] - 95s 41ms/step - loss: 0.5752 - accuracy: 0.7697 - val_loss: 0.6757 - val_accuracy: 0.7408 - lr: 2.5000e-04\n",
      "Epoch 28/30\n",
      "2331/2331 [==============================] - ETA: 0s - loss: 0.5593 - accuracy: 0.7740\n",
      "Epoch 28: saving model to tmp/checkpoint\\model_rnn.hdf5\n",
      "\n",
      "Epoch 28: val_accuracy improved from 0.74076 to 0.74614, saving model to tmp/checkpoint\\model_rnnAcc.hdf5\n",
      "\n",
      "Epoch 28: val_loss did not improve from 0.65892\n",
      "2331/2331 [==============================] - 96s 41ms/step - loss: 0.5593 - accuracy: 0.7740 - val_loss: 0.8793 - val_accuracy: 0.7461 - lr: 2.5000e-04\n",
      "Epoch 29/30\n",
      "2331/2331 [==============================] - ETA: 0s - loss: 0.5500 - accuracy: 0.7783\n",
      "Epoch 29: saving model to tmp/checkpoint\\model_rnn.hdf5\n",
      "\n",
      "Epoch 29: val_accuracy did not improve from 0.74614\n",
      "\n",
      "Epoch 29: val_loss did not improve from 0.65892\n",
      "2331/2331 [==============================] - 91s 39ms/step - loss: 0.5500 - accuracy: 0.7783 - val_loss: 0.7515 - val_accuracy: 0.7414 - lr: 2.5000e-04\n",
      "Epoch 30/30\n",
      "2331/2331 [==============================] - ETA: 0s - loss: 0.5423 - accuracy: 0.7809\n",
      "Epoch 30: saving model to tmp/checkpoint\\model_rnn.hdf5\n",
      "\n",
      "Epoch 30: val_accuracy did not improve from 0.74614\n",
      "\n",
      "Epoch 30: val_loss did not improve from 0.65892\n",
      "2331/2331 [==============================] - 91s 39ms/step - loss: 0.5423 - accuracy: 0.7809 - val_loss: 0.7889 - val_accuracy: 0.7391 - lr: 2.5000e-04\n",
      "Model: \"sequential_2\"\n",
      "_________________________________________________________________\n",
      " Layer (type)                Output Shape              Param #   \n",
      "=================================================================\n",
      " embedding_2 (Embedding)     (None, 15, 200)           17515000  \n",
      "                                                                 \n",
      " simple_rnn_2 (SimpleRNN)    (None, 256)               116992    \n",
      "                                                                 \n",
      " dense_6 (Dense)             (None, 512)               131584    \n",
      "                                                                 \n",
      " dense_7 (Dense)             (None, 512)               262656    \n",
      "                                                                 \n",
      " dense_8 (Dense)             (None, 3)                 1539      \n",
      "                                                                 \n",
      "=================================================================\n",
      "Total params: 18,027,771\n",
      "Trainable params: 512,771\n",
      "Non-trainable params: 17,515,000\n",
      "_________________________________________________________________\n",
      "999/999 [==============================] - 7s 7ms/step\n",
      "              precision    recall  f1-score   support\n",
      "\n",
      "           0       0.71      0.72      0.71     10629\n",
      "           1       0.73      0.83      0.78     10618\n",
      "           2       0.78      0.67      0.72     10712\n",
      "\n",
      "    accuracy                           0.74     31959\n",
      "   macro avg       0.74      0.74      0.74     31959\n",
      "weighted avg       0.74      0.74      0.74     31959\n",
      "\n"
     ]
    }
   ],
   "source": [
    "model_rnn = build_model(nb_words, \"SimpleRNN\", embedding_matrix)\n",
    "model_rnn.summary()\n",
    "checkpoint = tf.keras.callbacks.ModelCheckpoint('tmp/checkpoint/model_rnn.hdf5',verbose=True)\n",
    "getAcc = tf.keras.callbacks.ModelCheckpoint('tmp/checkpoint/model_rnnAcc.hdf5',verbose=True,save_best_only=True,monitor='val_accuracy')\n",
    "getLoss = tf.keras.callbacks.ModelCheckpoint('tmp/checkpoint/model_rnnLoss.hdf5',verbose=True,save_best_only=True,monitor='val_loss')\n",
    "\n",
    "early_stop = EarlyStopping(monitor='val_loss', mode='min', verbose=1, patience=10, restore_best_weights=True)\n",
    "\n",
    "#reducing learning rate on plateau\n",
    "rlrop = ReduceLROnPlateau(monitor='val_loss', mode='min', patience= 5, factor= 0.5, min_lr= 1e-6, verbose=1)\n",
    "\n",
    "model_rnn_history = model_rnn.fit(x_train, y_train, \n",
    "                                                epochs=30, \n",
    "                                                validation_data=(x_test, y_test), \n",
    "                                                callbacks=[checkpoint,getAcc,getLoss, \n",
    "                                               early_stop, rlrop])\n",
    "model_rnn.summary()\n",
    "predictions = model_rnn.predict(x_test)\n",
    "predictions = predictions.argmax(axis=1)\n",
    "print(classification_report(y_test.argmax(axis=1), predictions))"
   ]
  },
  {
   "cell_type": "code",
   "execution_count": 18,
   "metadata": {},
   "outputs": [
    {
     "name": "stdout",
     "output_type": "stream",
     "text": [
      "999/999 [==============================] - 8s 8ms/step - loss: 0.7889 - accuracy: 0.7391\n",
      "[0.7889237999916077, 0.7391344904899597]\n",
      "999/999 [==============================] - 8s 8ms/step - loss: 0.8793 - accuracy: 0.7461\n",
      "999/999 [==============================] - 8s 8ms/step - loss: 0.6589 - accuracy: 0.7323\n",
      "Best Acc Test Loss: 0.8793469667434692\n",
      "Best Acc Test Accuracy: 74.61 %\n",
      "Best Loss Test Loss: 0.6589160561561584\n",
      "Best Loss Test Accuracy: 73.22999999999999 %\n"
     ]
    }
   ],
   "source": [
    "# evaluating baseline coarse model\n",
    "print(model_rnn.evaluate(x_test, y_test))\n",
    "model_rnn.load_weights('tmp/checkpoint/model_rnnAcc.hdf5')\n",
    "scoreAcc = model_rnn.evaluate(x_test, y_test)\n",
    "model_rnn.load_weights('tmp/checkpoint/model_rnnLoss.hdf5')\n",
    "scoreLoss = model_rnn.evaluate(x_test, y_test)\n",
    "print('Best Acc Test Loss:', scoreAcc[0])\n",
    "print('Best Acc Test Accuracy:', round(scoreAcc[1],4)*100,'%')\n",
    "print('Best Loss Test Loss:', scoreLoss[0])\n",
    "print('Best Loss Test Accuracy:', round(scoreLoss[1],4)*100,'%')"
   ]
  },
  {
   "cell_type": "code",
   "execution_count": 19,
   "metadata": {},
   "outputs": [
    {
     "data": {
      "image/png": "[encoded data removed]",
      "text/plain": [
       "<Figure size 1000x300 with 1 Axes>"
      ]
     },
     "metadata": {},
     "output_type": "display_data"
    },
    {
     "data": {
      "image/png": "[encoded data removed]",
      "text/plain": [
       "<Figure size 1000x300 with 1 Axes>"
      ]
     },
     "metadata": {},
     "output_type": "display_data"
    }
   ],
   "source": [
    "max_val_acc_epoch = np.argmax(list(model_rnn_history.history['val_accuracy']))+1\n",
    "max_val_loss_epoch = np.argmin(list(model_rnn_history.history['val_loss']))+1\n",
    "epochs = range(1, len(model_rnn_history.history['accuracy']) + 1)\n",
    "plt.figure(figsize=(10,3))\n",
    "plt.minorticks_on()\n",
    "plt.axvline(x=max_val_acc_epoch, color='0.5', linestyle='--')\n",
    "plt.axvline(x=max_val_loss_epoch, color='0.5', linestyle=':')\n",
    "plt.plot(epochs,model_rnn_history.history['accuracy'], label='Train')\n",
    "plt.plot(epochs,model_rnn_history.history['val_accuracy'], label='Validation')\n",
    "plt.xlabel('Epochs')\n",
    "plt.ylabel('Accuracy')\n",
    "plt.legend()\n",
    "plt.show()\n",
    "\n",
    "plt.figure(figsize=(10,3))\n",
    "plt.minorticks_on()\n",
    "plt.axvline(x=max_val_acc_epoch, color='0.5', linestyle='--')\n",
    "plt.axvline(x=max_val_loss_epoch, color='0.5', linestyle=':')\n",
    "plt.plot(epochs,model_rnn_history.history['loss'], label='Train')\n",
    "plt.plot(epochs,model_rnn_history.history['val_loss'], label='Validation')\n",
    "plt.xlabel('Epochs')\n",
    "plt.ylabel('Loss')\n",
    "plt.legend()\n",
    "plt.show()"
   ]
  },
  {
   "cell_type": "code",
   "execution_count": 20,
   "metadata": {},
   "outputs": [],
   "source": [
    "# import visualkeras\n",
    "# from PIL import ImageFont\n",
    "# visualkeras.layered_view(model_rnn, legend=True)"
   ]
  },
  {
   "cell_type": "code",
   "execution_count": 21,
   "metadata": {},
   "outputs": [],
   "source": [
    "# model_rnn.save_weights(\"./models/rnn-model.h5\")"
   ]
  },
  {
   "cell_type": "markdown",
   "metadata": {},
   "source": [
    "## LSTM Model"
   ]
  },
  {
   "cell_type": "code",
   "execution_count": 22,
   "metadata": {},
   "outputs": [
    {
     "name": "stdout",
     "output_type": "stream",
     "text": [
      "Model: \"sequential_3\"\n",
      "_________________________________________________________________\n",
      " Layer (type)                Output Shape              Param #   \n",
      "=================================================================\n",
      " embedding_3 (Embedding)     (None, 15, 200)           17515000  \n",
      "                                                                 \n",
      " lstm (LSTM)                 (None, 256)               467968    \n",
      "                                                                 \n",
      " dense_9 (Dense)             (None, 512)               131584    \n",
      "                                                                 \n",
      " dense_10 (Dense)            (None, 512)               262656    \n",
      "                                                                 \n",
      " dense_11 (Dense)            (None, 3)                 1539      \n",
      "                                                                 \n",
      "=================================================================\n",
      "Total params: 18,378,747\n",
      "Trainable params: 863,747\n",
      "Non-trainable params: 17,515,000\n",
      "_________________________________________________________________\n",
      "Epoch 1/30\n",
      "2326/2331 [============================>.] - ETA: 0s - loss: 0.7520 - accuracy: 0.6650\n",
      "Epoch 1: saving model to tmp/checkpoint\\model_lstm.hdf5\n",
      "\n",
      "Epoch 1: val_accuracy improved from -inf to 0.72922, saving model to tmp/checkpoint\\model_lstmAcc.hdf5\n",
      "\n",
      "Epoch 1: val_loss improved from inf to 0.64033, saving model to tmp/checkpoint\\model_lstmLoss.hdf5\n",
      "2331/2331 [==============================] - 31s 12ms/step - loss: 0.7516 - accuracy: 0.6653 - val_loss: 0.6403 - val_accuracy: 0.7292 - lr: 0.0010\n",
      "Epoch 2/30\n",
      "2329/2331 [============================>.] - ETA: 0s - loss: 0.5613 - accuracy: 0.7663\n",
      "Epoch 2: saving model to tmp/checkpoint\\model_lstm.hdf5\n",
      "\n",
      "Epoch 2: val_accuracy improved from 0.72922 to 0.78128, saving model to tmp/checkpoint\\model_lstmAcc.hdf5\n",
      "\n",
      "Epoch 2: val_loss improved from 0.64033 to 0.56393, saving model to tmp/checkpoint\\model_lstmLoss.hdf5\n",
      "2331/2331 [==============================] - 28s 12ms/step - loss: 0.5613 - accuracy: 0.7663 - val_loss: 0.5639 - val_accuracy: 0.7813 - lr: 0.0010\n",
      "Epoch 3/30\n",
      "2328/2331 [============================>.] - ETA: 0s - loss: 0.4814 - accuracy: 0.8054\n",
      "Epoch 3: saving model to tmp/checkpoint\\model_lstm.hdf5\n",
      "\n",
      "Epoch 3: val_accuracy improved from 0.78128 to 0.80240, saving model to tmp/checkpoint\\model_lstmAcc.hdf5\n",
      "\n",
      "Epoch 3: val_loss improved from 0.56393 to 0.51587, saving model to tmp/checkpoint\\model_lstmLoss.hdf5\n",
      "2331/2331 [==============================] - 27s 12ms/step - loss: 0.4814 - accuracy: 0.8055 - val_loss: 0.5159 - val_accuracy: 0.8024 - lr: 0.0010\n",
      "Epoch 4/30\n",
      "2327/2331 [============================>.] - ETA: 0s - loss: 0.4361 - accuracy: 0.8269\n",
      "Epoch 4: saving model to tmp/checkpoint\\model_lstm.hdf5\n",
      "\n",
      "Epoch 4: val_accuracy did not improve from 0.80240\n",
      "\n",
      "Epoch 4: val_loss did not improve from 0.51587\n",
      "2331/2331 [==============================] - 26s 11ms/step - loss: 0.4362 - accuracy: 0.8269 - val_loss: 0.5635 - val_accuracy: 0.7936 - lr: 0.0010\n",
      "Epoch 5/30\n",
      "2328/2331 [============================>.] - ETA: 0s - loss: 0.3998 - accuracy: 0.8447\n",
      "Epoch 5: saving model to tmp/checkpoint\\model_lstm.hdf5\n",
      "\n",
      "Epoch 5: val_accuracy did not improve from 0.80240\n",
      "\n",
      "Epoch 5: val_loss did not improve from 0.51587\n",
      "2331/2331 [==============================] - 26s 11ms/step - loss: 0.3997 - accuracy: 0.8447 - val_loss: 0.7491 - val_accuracy: 0.7871 - lr: 0.0010\n",
      "Epoch 6/30\n",
      "2328/2331 [============================>.] - ETA: 0s - loss: 0.3642 - accuracy: 0.8587\n",
      "Epoch 6: saving model to tmp/checkpoint\\model_lstm.hdf5\n",
      "\n",
      "Epoch 6: val_accuracy did not improve from 0.80240\n",
      "\n",
      "Epoch 6: val_loss did not improve from 0.51587\n",
      "2331/2331 [==============================] - 26s 11ms/step - loss: 0.3643 - accuracy: 0.8587 - val_loss: 0.6328 - val_accuracy: 0.7926 - lr: 0.0010\n",
      "Epoch 7/30\n",
      "2328/2331 [============================>.] - ETA: 0s - loss: 0.3275 - accuracy: 0.8749\n",
      "Epoch 7: saving model to tmp/checkpoint\\model_lstm.hdf5\n",
      "\n",
      "Epoch 7: val_accuracy did not improve from 0.80240\n",
      "\n",
      "Epoch 7: val_loss did not improve from 0.51587\n",
      "2331/2331 [==============================] - 26s 11ms/step - loss: 0.3274 - accuracy: 0.8749 - val_loss: 0.9362 - val_accuracy: 0.7840 - lr: 0.0010\n",
      "Epoch 8/30\n",
      "2328/2331 [============================>.] - ETA: 0s - loss: 0.2873 - accuracy: 0.8909\n",
      "Epoch 8: saving model to tmp/checkpoint\\model_lstm.hdf5\n",
      "\n",
      "Epoch 8: val_accuracy did not improve from 0.80240\n",
      "\n",
      "Epoch 8: val_loss did not improve from 0.51587\n",
      "\n",
      "Epoch 8: ReduceLROnPlateau reducing learning rate to 0.0005000000237487257.\n",
      "2331/2331 [==============================] - 26s 11ms/step - loss: 0.2873 - accuracy: 0.8908 - val_loss: 0.9714 - val_accuracy: 0.7917 - lr: 0.0010\n",
      "Epoch 9/30\n",
      "2331/2331 [==============================] - ETA: 0s - loss: 0.2070 - accuracy: 0.9212\n",
      "Epoch 9: saving model to tmp/checkpoint\\model_lstm.hdf5\n",
      "\n",
      "Epoch 9: val_accuracy did not improve from 0.80240\n",
      "\n",
      "Epoch 9: val_loss did not improve from 0.51587\n",
      "2331/2331 [==============================] - 26s 11ms/step - loss: 0.2070 - accuracy: 0.9212 - val_loss: 1.4323 - val_accuracy: 0.7924 - lr: 5.0000e-04\n",
      "Epoch 10/30\n",
      "2331/2331 [==============================] - ETA: 0s - loss: 0.1646 - accuracy: 0.9375\n",
      "Epoch 10: saving model to tmp/checkpoint\\model_lstm.hdf5\n",
      "\n",
      "Epoch 10: val_accuracy did not improve from 0.80240\n",
      "\n",
      "Epoch 10: val_loss did not improve from 0.51587\n",
      "2331/2331 [==============================] - 26s 11ms/step - loss: 0.1646 - accuracy: 0.9375 - val_loss: 2.3783 - val_accuracy: 0.7856 - lr: 5.0000e-04\n",
      "Epoch 11/30\n",
      "2327/2331 [============================>.] - ETA: 0s - loss: 0.1373 - accuracy: 0.9490\n",
      "Epoch 11: saving model to tmp/checkpoint\\model_lstm.hdf5\n",
      "\n",
      "Epoch 11: val_accuracy did not improve from 0.80240\n",
      "\n",
      "Epoch 11: val_loss did not improve from 0.51587\n",
      "2331/2331 [==============================] - 26s 11ms/step - loss: 0.1373 - accuracy: 0.9490 - val_loss: 2.6348 - val_accuracy: 0.7910 - lr: 5.0000e-04\n",
      "Epoch 12/30\n",
      "2326/2331 [============================>.] - ETA: 0s - loss: 0.1146 - accuracy: 0.9587\n",
      "Epoch 12: saving model to tmp/checkpoint\\model_lstm.hdf5\n",
      "\n",
      "Epoch 12: val_accuracy did not improve from 0.80240\n",
      "\n",
      "Epoch 12: val_loss did not improve from 0.51587\n",
      "2331/2331 [==============================] - 26s 11ms/step - loss: 0.1146 - accuracy: 0.9587 - val_loss: 2.8441 - val_accuracy: 0.7810 - lr: 5.0000e-04\n",
      "Epoch 13/30\n",
      "2330/2331 [============================>.] - ETA: 0s - loss: 0.0931 - accuracy: 0.9663\n",
      "Epoch 13: saving model to tmp/checkpoint\\model_lstm.hdf5\n",
      "\n",
      "Epoch 13: val_accuracy did not improve from 0.80240\n",
      "\n",
      "Epoch 13: val_loss did not improve from 0.51587\n",
      "Restoring model weights from the end of the best epoch: 3.\n",
      "\n",
      "Epoch 13: ReduceLROnPlateau reducing learning rate to 0.0002500000118743628.\n",
      "2331/2331 [==============================] - 26s 11ms/step - loss: 0.0931 - accuracy: 0.9663 - val_loss: 3.2143 - val_accuracy: 0.7855 - lr: 5.0000e-04\n",
      "Epoch 13: early stopping\n",
      "999/999 [==============================] - 3s 3ms/step\n",
      "              precision    recall  f1-score   support\n",
      "\n",
      "           0       0.81      0.76      0.78     10629\n",
      "           1       0.76      0.91      0.83     10618\n",
      "           2       0.85      0.74      0.79     10712\n",
      "\n",
      "    accuracy                           0.80     31959\n",
      "   macro avg       0.81      0.80      0.80     31959\n",
      "weighted avg       0.81      0.80      0.80     31959\n",
      "\n"
     ]
    }
   ],
   "source": [
    "model_lstm = build_model(nb_words, \"LSTM\", embedding_matrix)\n",
    "model_lstm.summary()\n",
    "checkpoint = tf.keras.callbacks.ModelCheckpoint('tmp/checkpoint/model_lstm.hdf5',verbose=True)\n",
    "getAcc = tf.keras.callbacks.ModelCheckpoint('tmp/checkpoint/model_lstmAcc.hdf5',verbose=True,save_best_only=True,monitor='val_accuracy')\n",
    "getLoss = tf.keras.callbacks.ModelCheckpoint('tmp/checkpoint/model_lstmLoss.hdf5',verbose=True,save_best_only=True,monitor='val_loss')\n",
    "\n",
    "early_stop = EarlyStopping(monitor='val_loss', mode='min', verbose=1, patience=10, restore_best_weights=True)\n",
    "\n",
    "#reducing learning rate on plateau\n",
    "rlrop = ReduceLROnPlateau(monitor='val_loss', mode='min', patience= 5, factor= 0.5, min_lr= 1e-6, verbose=1)\n",
    "\n",
    "model_lstm_history = model_lstm.fit(x_train, y_train, \n",
    "                                                epochs=30, \n",
    "                                                validation_data=(x_test, y_test), \n",
    "                                                callbacks=[checkpoint,getAcc,getLoss, \n",
    "                                                early_stop, rlrop])\n",
    "\n",
    "predictions = model_lstm.predict(x_test)\n",
    "predictions = predictions.argmax(axis=1)\n",
    "print(classification_report(y_test.argmax(axis=1), predictions))\n"
   ]
  },
  {
   "cell_type": "code",
   "execution_count": 23,
   "metadata": {},
   "outputs": [
    {
     "name": "stdout",
     "output_type": "stream",
     "text": [
      "999/999 [==============================] - 4s 4ms/step - loss: 0.5159 - accuracy: 0.8024\n",
      "[0.5158692598342896, 0.8024030923843384]\n",
      "999/999 [==============================] - 5s 5ms/step - loss: 0.5159 - accuracy: 0.8024\n",
      "999/999 [==============================] - 4s 4ms/step - loss: 0.5159 - accuracy: 0.8024\n",
      "Best Acc Test Loss: 0.5158692598342896\n",
      "Best Acc Test Accuracy: 80.24 %\n",
      "Best Loss Test Loss: 0.5158692598342896\n",
      "Best Loss Test Accuracy: 80.24 %\n"
     ]
    }
   ],
   "source": [
    "# evaluating baseline coarse model\n",
    "print(model_lstm.evaluate(x_test, y_test))\n",
    "model_lstm.load_weights('tmp/checkpoint/model_lstmAcc.hdf5')\n",
    "scoreAcc = model_lstm.evaluate(x_test, y_test)\n",
    "model_lstm.load_weights('tmp/checkpoint/model_lstmLoss.hdf5')\n",
    "scoreLoss = model_lstm.evaluate(x_test, y_test)\n",
    "print('Best Acc Test Loss:', scoreAcc[0])\n",
    "print('Best Acc Test Accuracy:', round(scoreAcc[1],4)*100,'%')\n",
    "print('Best Loss Test Loss:', scoreLoss[0])\n",
    "print('Best Loss Test Accuracy:', round(scoreLoss[1],4)*100,'%')"
   ]
  },
  {
   "cell_type": "code",
   "execution_count": 24,
   "metadata": {},
   "outputs": [
    {
     "data": {
      "image/png": "[encoded data removed]",
      "text/plain": [
       "<Figure size 1000x300 with 1 Axes>"
      ]
     },
     "metadata": {},
     "output_type": "display_data"
    },
    {
     "data": {
      "image/png": "[encoded data removed]",
      "text/plain": [
       "<Figure size 1000x300 with 1 Axes>"
      ]
     },
     "metadata": {},
     "output_type": "display_data"
    }
   ],
   "source": [
    "max_val_acc_epoch = np.argmax(list(model_lstm_history.history['val_accuracy']))+1\n",
    "max_val_loss_epoch = np.argmin(list(model_lstm_history.history['val_loss']))+1\n",
    "epochs = range(1, len(model_lstm_history.history['accuracy']) + 1)\n",
    "plt.figure(figsize=(10,3))\n",
    "plt.minorticks_on()\n",
    "plt.axvline(x=max_val_acc_epoch, color='0.5', linestyle='--')\n",
    "plt.axvline(x=max_val_loss_epoch, color='0.5', linestyle=':')\n",
    "plt.plot(epochs,model_lstm_history.history['accuracy'], label='Train')\n",
    "plt.plot(epochs,model_lstm_history.history['val_accuracy'], label='Validation')\n",
    "plt.xlabel('Epochs')\n",
    "plt.ylabel('Accuracy')\n",
    "plt.legend()\n",
    "plt.show()\n",
    "\n",
    "plt.figure(figsize=(10,3))\n",
    "plt.minorticks_on()\n",
    "plt.axvline(x=max_val_acc_epoch, color='0.5', linestyle='--')\n",
    "plt.axvline(x=max_val_loss_epoch, color='0.5', linestyle=':')\n",
    "plt.plot(epochs,model_lstm_history.history['loss'], label='Train')\n",
    "plt.plot(epochs,model_lstm_history.history['val_loss'], label='Validation')\n",
    "plt.xlabel('Epochs')\n",
    "plt.ylabel('Loss')\n",
    "plt.legend()\n",
    "plt.show()"
   ]
  },
  {
   "cell_type": "code",
   "execution_count": 25,
   "metadata": {},
   "outputs": [],
   "source": [
    "# import visualkeras\n",
    "# from PIL import ImageFont\n",
    "# visualkeras.layered_view(model_lstm, legend=True)"
   ]
  },
  {
   "cell_type": "code",
   "execution_count": 26,
   "metadata": {},
   "outputs": [],
   "source": [
    "# model_lstm.save_weights(\"models/model-lstm.h5\")"
   ]
  },
  {
   "cell_type": "markdown",
   "metadata": {},
   "source": [
    "## GRU Model "
   ]
  },
  {
   "cell_type": "code",
   "execution_count": 27,
   "metadata": {},
   "outputs": [
    {
     "name": "stdout",
     "output_type": "stream",
     "text": [
      "Model: \"sequential_4\"\n",
      "_________________________________________________________________\n",
      " Layer (type)                Output Shape              Param #   \n",
      "=================================================================\n",
      " embedding_4 (Embedding)     (None, 15, 200)           17515000  \n",
      "                                                                 \n",
      " gru (GRU)                   (None, 256)               351744    \n",
      "                                                                 \n",
      " dense_12 (Dense)            (None, 512)               131584    \n",
      "                                                                 \n",
      " dense_13 (Dense)            (None, 512)               262656    \n",
      "                                                                 \n",
      " dense_14 (Dense)            (None, 3)                 1539      \n",
      "                                                                 \n",
      "=================================================================\n",
      "Total params: 18,262,523\n",
      "Trainable params: 747,523\n",
      "Non-trainable params: 17,515,000\n",
      "_________________________________________________________________\n",
      "Epoch 1/30\n",
      "2331/2331 [==============================] - ETA: 0s - loss: 0.7306 - accuracy: 0.6776\n",
      "Epoch 1: saving model to tmp/checkpoint\\model_gru.hdf5\n",
      "\n",
      "Epoch 1: val_accuracy improved from -inf to 0.73638, saving model to tmp/checkpoint\\model_gruAcc.hdf5\n",
      "\n",
      "Epoch 1: val_loss improved from inf to 0.63102, saving model to tmp/checkpoint\\model_gruLoss.hdf5\n",
      "2331/2331 [==============================] - 28s 12ms/step - loss: 0.7306 - accuracy: 0.6776 - val_loss: 0.6310 - val_accuracy: 0.7364 - lr: 0.0010\n",
      "Epoch 2/30\n",
      "2331/2331 [==============================] - ETA: 0s - loss: 0.5549 - accuracy: 0.7710\n",
      "Epoch 2: saving model to tmp/checkpoint\\model_gru.hdf5\n",
      "\n",
      "Epoch 2: val_accuracy improved from 0.73638 to 0.78194, saving model to tmp/checkpoint\\model_gruAcc.hdf5\n",
      "\n",
      "Epoch 2: val_loss improved from 0.63102 to 0.53780, saving model to tmp/checkpoint\\model_gruLoss.hdf5\n",
      "2331/2331 [==============================] - 26s 11ms/step - loss: 0.5549 - accuracy: 0.7710 - val_loss: 0.5378 - val_accuracy: 0.7819 - lr: 0.0010\n",
      "Epoch 3/30\n",
      "2329/2331 [============================>.] - ETA: 0s - loss: 0.4843 - accuracy: 0.8044\n",
      "Epoch 3: saving model to tmp/checkpoint\\model_gru.hdf5\n",
      "\n",
      "Epoch 3: val_accuracy did not improve from 0.78194\n",
      "\n",
      "Epoch 3: val_loss did not improve from 0.53780\n",
      "2331/2331 [==============================] - 25s 11ms/step - loss: 0.4843 - accuracy: 0.8045 - val_loss: 0.5696 - val_accuracy: 0.7813 - lr: 0.0010\n",
      "Epoch 4/30\n",
      "2325/2331 [============================>.] - ETA: 0s - loss: 0.4389 - accuracy: 0.8249\n",
      "Epoch 4: saving model to tmp/checkpoint\\model_gru.hdf5\n",
      "\n",
      "Epoch 4: val_accuracy improved from 0.78194 to 0.79436, saving model to tmp/checkpoint\\model_gruAcc.hdf5\n",
      "\n",
      "Epoch 4: val_loss did not improve from 0.53780\n",
      "2331/2331 [==============================] - 25s 11ms/step - loss: 0.4387 - accuracy: 0.8250 - val_loss: 0.6332 - val_accuracy: 0.7944 - lr: 0.0010\n",
      "Epoch 5/30\n",
      "2331/2331 [==============================] - ETA: 0s - loss: 0.3981 - accuracy: 0.8418\n",
      "Epoch 5: saving model to tmp/checkpoint\\model_gru.hdf5\n",
      "\n",
      "Epoch 5: val_accuracy did not improve from 0.79436\n",
      "\n",
      "Epoch 5: val_loss did not improve from 0.53780\n",
      "2331/2331 [==============================] - 25s 11ms/step - loss: 0.3981 - accuracy: 0.8418 - val_loss: 0.5810 - val_accuracy: 0.7943 - lr: 0.0010\n",
      "Epoch 6/30\n",
      "2330/2331 [============================>.] - ETA: 0s - loss: 0.3581 - accuracy: 0.8565\n",
      "Epoch 6: saving model to tmp/checkpoint\\model_gru.hdf5\n",
      "\n",
      "Epoch 6: val_accuracy improved from 0.79436 to 0.80294, saving model to tmp/checkpoint\\model_gruAcc.hdf5\n",
      "\n",
      "Epoch 6: val_loss did not improve from 0.53780\n",
      "2331/2331 [==============================] - 26s 11ms/step - loss: 0.3581 - accuracy: 0.8565 - val_loss: 0.6783 - val_accuracy: 0.8029 - lr: 0.0010\n",
      "Epoch 7/30\n",
      "2326/2331 [============================>.] - ETA: 0s - loss: 0.3130 - accuracy: 0.8738\n",
      "Epoch 7: saving model to tmp/checkpoint\\model_gru.hdf5\n",
      "\n",
      "Epoch 7: val_accuracy did not improve from 0.80294\n",
      "\n",
      "Epoch 7: val_loss did not improve from 0.53780\n",
      "\n",
      "Epoch 7: ReduceLROnPlateau reducing learning rate to 0.0005000000237487257.\n",
      "2331/2331 [==============================] - 25s 11ms/step - loss: 0.3130 - accuracy: 0.8737 - val_loss: 0.9715 - val_accuracy: 0.7862 - lr: 0.0010\n",
      "Epoch 8/30\n",
      "2330/2331 [============================>.] - ETA: 0s - loss: 0.2202 - accuracy: 0.9085\n",
      "Epoch 8: saving model to tmp/checkpoint\\model_gru.hdf5\n",
      "\n",
      "Epoch 8: val_accuracy did not improve from 0.80294\n",
      "\n",
      "Epoch 8: val_loss did not improve from 0.53780\n",
      "2331/2331 [==============================] - 25s 11ms/step - loss: 0.2201 - accuracy: 0.9085 - val_loss: 1.2452 - val_accuracy: 0.7914 - lr: 5.0000e-04\n",
      "Epoch 9/30\n",
      "2329/2331 [============================>.] - ETA: 0s - loss: 0.1703 - accuracy: 0.9280\n",
      "Epoch 9: saving model to tmp/checkpoint\\model_gru.hdf5\n",
      "\n",
      "Epoch 9: val_accuracy did not improve from 0.80294\n",
      "\n",
      "Epoch 9: val_loss did not improve from 0.53780\n",
      "2331/2331 [==============================] - 25s 11ms/step - loss: 0.1702 - accuracy: 0.9281 - val_loss: 1.6844 - val_accuracy: 0.7894 - lr: 5.0000e-04\n",
      "Epoch 10/30\n",
      "2329/2331 [============================>.] - ETA: 0s - loss: 0.1366 - accuracy: 0.9444\n",
      "Epoch 10: saving model to tmp/checkpoint\\model_gru.hdf5\n",
      "\n",
      "Epoch 10: val_accuracy did not improve from 0.80294\n",
      "\n",
      "Epoch 10: val_loss did not improve from 0.53780\n",
      "2331/2331 [==============================] - 25s 11ms/step - loss: 0.1367 - accuracy: 0.9444 - val_loss: 1.8845 - val_accuracy: 0.7866 - lr: 5.0000e-04\n",
      "Epoch 11/30\n",
      "2329/2331 [============================>.] - ETA: 0s - loss: 0.1108 - accuracy: 0.9556\n",
      "Epoch 11: saving model to tmp/checkpoint\\model_gru.hdf5\n",
      "\n",
      "Epoch 11: val_accuracy did not improve from 0.80294\n",
      "\n",
      "Epoch 11: val_loss did not improve from 0.53780\n",
      "2331/2331 [==============================] - 25s 11ms/step - loss: 0.1108 - accuracy: 0.9556 - val_loss: 2.3557 - val_accuracy: 0.7706 - lr: 5.0000e-04\n",
      "Epoch 12/30\n",
      "2328/2331 [============================>.] - ETA: 0s - loss: 0.0934 - accuracy: 0.9655\n",
      "Epoch 12: saving model to tmp/checkpoint\\model_gru.hdf5\n",
      "\n",
      "Epoch 12: val_accuracy did not improve from 0.80294\n",
      "\n",
      "Epoch 12: val_loss did not improve from 0.53780\n",
      "Restoring model weights from the end of the best epoch: 2.\n",
      "\n",
      "Epoch 12: ReduceLROnPlateau reducing learning rate to 0.0002500000118743628.\n",
      "2331/2331 [==============================] - 25s 11ms/step - loss: 0.0934 - accuracy: 0.9655 - val_loss: 2.6727 - val_accuracy: 0.7889 - lr: 5.0000e-04\n",
      "Epoch 12: early stopping\n",
      "999/999 [==============================] - 3s 2ms/step\n",
      "              precision    recall  f1-score   support\n",
      "\n",
      "           0       0.82      0.70      0.76     10629\n",
      "           1       0.76      0.88      0.81     10618\n",
      "           2       0.78      0.76      0.77     10712\n",
      "\n",
      "    accuracy                           0.78     31959\n",
      "   macro avg       0.79      0.78      0.78     31959\n",
      "weighted avg       0.79      0.78      0.78     31959\n",
      "\n"
     ]
    }
   ],
   "source": [
    "model_gru = build_model(nb_words, \"GRU\", embedding_matrix)\n",
    "model_gru.summary()\n",
    "checkpoint = tf.keras.callbacks.ModelCheckpoint('tmp/checkpoint/model_gru.hdf5',verbose=True)\n",
    "getAcc = tf.keras.callbacks.ModelCheckpoint('tmp/checkpoint/model_gruAcc.hdf5',verbose=True,save_best_only=True,monitor='val_accuracy')\n",
    "getLoss = tf.keras.callbacks.ModelCheckpoint('tmp/checkpoint/model_gruLoss.hdf5',verbose=True,save_best_only=True,monitor='val_loss')\n",
    "\n",
    "early_stop = EarlyStopping(monitor='val_loss', mode='min', verbose=1, patience=10, restore_best_weights=True)\n",
    "\n",
    "#reducing learning rate on plateau\n",
    "rlrop = ReduceLROnPlateau(monitor='val_loss', mode='min', patience= 5, factor= 0.5, min_lr= 1e-6, verbose=1)\n",
    "\n",
    "model_gru_history = model_gru.fit(x_train, y_train, \n",
    "                                                epochs=30, \n",
    "                                                validation_data=(x_test, y_test), \n",
    "                                                callbacks=[checkpoint,getAcc,getLoss, \n",
    "                                                early_stop, rlrop])\n",
    "\n",
    "predictions = model_gru.predict(x_test)\n",
    "predictions = predictions.argmax(axis=1)\n",
    "print(classification_report(y_test.argmax(axis=1), predictions))\n"
   ]
  },
  {
   "cell_type": "code",
   "execution_count": 28,
   "metadata": {},
   "outputs": [
    {
     "name": "stdout",
     "output_type": "stream",
     "text": [
      "999/999 [==============================] - 4s 4ms/step - loss: 0.5378 - accuracy: 0.7819\n",
      "[0.5378003716468811, 0.7819393873214722]\n",
      "999/999 [==============================] - 4s 4ms/step - loss: 0.6783 - accuracy: 0.8029\n",
      "999/999 [==============================] - 4s 4ms/step - loss: 0.5378 - accuracy: 0.7819\n",
      "Best Acc Test Loss: 0.6783221364021301\n",
      "Best Acc Test Accuracy: 80.28999999999999 %\n",
      "Best Loss Test Loss: 0.5378003716468811\n",
      "Best Loss Test Accuracy: 78.19 %\n"
     ]
    }
   ],
   "source": [
    "# evaluating baseline coarse model\n",
    "print(model_gru.evaluate(x_test, y_test))\n",
    "model_gru.load_weights('tmp/checkpoint/model_gruAcc.hdf5')\n",
    "scoreAcc = model_gru.evaluate(x_test, y_test)\n",
    "model_gru.load_weights('tmp/checkpoint/model_gruLoss.hdf5')\n",
    "scoreLoss = model_gru.evaluate(x_test, y_test)\n",
    "print('Best Acc Test Loss:', scoreAcc[0])\n",
    "print('Best Acc Test Accuracy:', round(scoreAcc[1],4)*100,'%')\n",
    "print('Best Loss Test Loss:', scoreLoss[0])\n",
    "print('Best Loss Test Accuracy:', round(scoreLoss[1],4)*100,'%')"
   ]
  },
  {
   "cell_type": "code",
   "execution_count": 29,
   "metadata": {},
   "outputs": [
    {
     "data": {
      "image/png": "[encoded data removed]",
      "text/plain": [
       "<Figure size 1000x300 with 1 Axes>"
      ]
     },
     "metadata": {},
     "output_type": "display_data"
    },
    {
     "data": {
      "image/png": "[encoded data removed]",
      "text/plain": [
       "<Figure size 1000x300 with 1 Axes>"
      ]
     },
     "metadata": {},
     "output_type": "display_data"
    }
   ],
   "source": [
    "max_val_acc_epoch = np.argmax(list(model_gru_history.history['val_accuracy']))+1\n",
    "max_val_loss_epoch = np.argmin(list(model_gru_history.history['val_loss']))+1\n",
    "epochs = range(1, len(model_gru_history.history['accuracy']) + 1)\n",
    "plt.figure(figsize=(10,3))\n",
    "plt.minorticks_on()\n",
    "plt.axvline(x=max_val_acc_epoch, color='0.5', linestyle='--')\n",
    "plt.axvline(x=max_val_loss_epoch, color='0.5', linestyle=':')\n",
    "plt.plot(epochs,model_gru_history.history['accuracy'], label='Train')\n",
    "plt.plot(epochs,model_gru_history.history['val_accuracy'], label='Validation')\n",
    "plt.xlabel('Epochs')\n",
    "plt.ylabel('Accuracy')\n",
    "plt.legend()\n",
    "plt.show()\n",
    "\n",
    "plt.figure(figsize=(10,3))\n",
    "plt.minorticks_on()\n",
    "plt.axvline(x=max_val_acc_epoch, color='0.5', linestyle='--')\n",
    "plt.axvline(x=max_val_loss_epoch, color='0.5', linestyle=':')\n",
    "plt.plot(epochs,model_gru_history.history['loss'], label='Train')\n",
    "plt.plot(epochs,model_gru_history.history['val_loss'], label='Validation')\n",
    "plt.xlabel('Epochs')\n",
    "plt.ylabel('Loss')\n",
    "plt.legend()\n",
    "plt.show()"
   ]
  },
  {
   "cell_type": "code",
   "execution_count": 30,
   "metadata": {},
   "outputs": [],
   "source": [
    "# import visualkeras\n",
    "# from PIL import ImageFont\n",
    "# visualkeras.layered_view(model_gru, legend=True)"
   ]
  },
  {
   "cell_type": "code",
   "execution_count": 31,
   "metadata": {},
   "outputs": [],
   "source": [
    "# model_gru.save_weights(\"models/model-gru.h5\")"
   ]
  },
  {
   "cell_type": "markdown",
   "metadata": {},
   "source": [
    "### Using a non-deep learning model (TFIDF vectorization) and other effective, traditional machine learning models"
   ]
  },
  {
   "cell_type": "code",
   "execution_count": 32,
   "metadata": {},
   "outputs": [
    {
     "data": {
      "text/html": [
       "<div>\n",
       "<style scoped>\n",
       "    .dataframe tbody tr th:only-of-type {\n",
       "        vertical-align: middle;\n",
       "    }\n",
       "\n",
       "    .dataframe tbody tr th {\n",
       "        vertical-align: top;\n",
       "    }\n",
       "\n",
       "    .dataframe thead th {\n",
       "        text-align: right;\n",
       "    }\n",
       "</style>\n",
       "<table border=\"1\" class=\"dataframe\">\n",
       "  <thead>\n",
       "    <tr style=\"text-align: right;\">\n",
       "      <th></th>\n",
       "      <th>clean_comment</th>\n",
       "      <th>category</th>\n",
       "    </tr>\n",
       "  </thead>\n",
       "  <tbody>\n",
       "    <tr>\n",
       "      <th>19308</th>\n",
       "      <td>abe chomu you dont know anything then you are ...</td>\n",
       "      <td>0.0</td>\n",
       "    </tr>\n",
       "    <tr>\n",
       "      <th>9029</th>\n",
       "      <td>72k 15l ाुि ो ुि े rahul congress upa what str...</td>\n",
       "      <td>1.0</td>\n",
       "    </tr>\n",
       "    <tr>\n",
       "      <th>136505</th>\n",
       "      <td>asked simple question have seen rss cadets wit...</td>\n",
       "      <td>1.0</td>\n",
       "    </tr>\n",
       "    <tr>\n",
       "      <th>57752</th>\n",
       "      <td>this very true vajpayee and modi are putting f...</td>\n",
       "      <td>1.0</td>\n",
       "    </tr>\n",
       "    <tr>\n",
       "      <th>44145</th>\n",
       "      <td>the only way this makes sense modi builds temp...</td>\n",
       "      <td>0.0</td>\n",
       "    </tr>\n",
       "    <tr>\n",
       "      <th>...</th>\n",
       "      <td>...</td>\n",
       "      <td>...</td>\n",
       "    </tr>\n",
       "    <tr>\n",
       "      <th>26329</th>\n",
       "      <td>madam mera vote uss local representative who w...</td>\n",
       "      <td>1.0</td>\n",
       "    </tr>\n",
       "    <tr>\n",
       "      <th>102334</th>\n",
       "      <td>tufail bjp loses every state ’ good for you bu...</td>\n",
       "      <td>1.0</td>\n",
       "    </tr>\n",
       "    <tr>\n",
       "      <th>74659</th>\n",
       "      <td>because modi didn’ want the scientists call up...</td>\n",
       "      <td>0.0</td>\n",
       "    </tr>\n",
       "    <tr>\n",
       "      <th>161759</th>\n",
       "      <td>seems only modi relaxed during this election c...</td>\n",
       "      <td>-1.0</td>\n",
       "    </tr>\n",
       "    <tr>\n",
       "      <th>66552</th>\n",
       "      <td>sanjay hegde known modi hater nalini singh sis...</td>\n",
       "      <td>0.0</td>\n",
       "    </tr>\n",
       "  </tbody>\n",
       "</table>\n",
       "<p>106530 rows × 2 columns</p>\n",
       "</div>"
      ],
      "text/plain": [
       "                                            clean_comment  category\n",
       "19308   abe chomu you dont know anything then you are ...       0.0\n",
       "9029    72k 15l ाुि ो ुि े rahul congress upa what str...       1.0\n",
       "136505  asked simple question have seen rss cadets wit...       1.0\n",
       "57752   this very true vajpayee and modi are putting f...       1.0\n",
       "44145   the only way this makes sense modi builds temp...       0.0\n",
       "...                                                   ...       ...\n",
       "26329   madam mera vote uss local representative who w...       1.0\n",
       "102334  tufail bjp loses every state ’ good for you bu...       1.0\n",
       "74659   because modi didn’ want the scientists call up...       0.0\n",
       "161759  seems only modi relaxed during this election c...      -1.0\n",
       "66552   sanjay hegde known modi hater nalini singh sis...       0.0\n",
       "\n",
       "[106530 rows x 2 columns]"
      ]
     },
     "execution_count": 32,
     "metadata": {},
     "output_type": "execute_result"
    }
   ],
   "source": [
    "data"
   ]
  },
  {
   "cell_type": "code",
   "execution_count": 33,
   "metadata": {},
   "outputs": [],
   "source": [
    "from sklearn.model_selection import train_test_split\n",
    "\n",
    "x = data['clean_comment'].astype('str')\n",
    "y = data['category']\n",
    "\n",
    "x_train, x_test, y_train, y_test = train_test_split(x, y, test_size=0.2, random_state=42)"
   ]
  },
  {
   "cell_type": "code",
   "execution_count": 34,
   "metadata": {},
   "outputs": [
    {
     "data": {
      "text/plain": [
       "((85224, 10000), (21306, 10000))"
      ]
     },
     "execution_count": 34,
     "metadata": {},
     "output_type": "execute_result"
    }
   ],
   "source": [
    "from sklearn.feature_extraction.text import TfidfVectorizer\n",
    "\n",
    "vectorizer = TfidfVectorizer(max_features=10000, ngram_range=(1,2))\n",
    "x_train_vec = vectorizer.fit_transform(x_train)\n",
    "x_test_vec = vectorizer.transform(x_test)\n",
    "\n",
    "x_train_vec.shape, x_test_vec.shape "
   ]
  },
  {
   "cell_type": "markdown",
   "metadata": {},
   "source": [
    "## RandomForestClassifier"
   ]
  },
  {
   "cell_type": "code",
   "execution_count": 35,
   "metadata": {},
   "outputs": [
    {
     "name": "stdout",
     "output_type": "stream",
     "text": [
      "              precision    recall  f1-score   support\n",
      "\n",
      "        -1.0       0.79      0.78      0.79      7052\n",
      "         0.0       0.81      0.90      0.85      7121\n",
      "         1.0       0.87      0.78      0.82      7133\n",
      "\n",
      "    accuracy                           0.82     21306\n",
      "   macro avg       0.82      0.82      0.82     21306\n",
      "weighted avg       0.82      0.82      0.82     21306\n",
      "\n"
     ]
    }
   ],
   "source": [
    "from sklearn.ensemble import RandomForestClassifier\n",
    "\n",
    "model_rf = RandomForestClassifier()\n",
    "model_rf.fit(x_train_vec, y_train)\n",
    "model_rf.score(x_test_vec, y_test)\n",
    "\n",
    "predictions = model_rf.predict(x_test_vec)\n",
    "print(classification_report(y_test, predictions))"
   ]
  },
  {
   "cell_type": "code",
   "execution_count": 36,
   "metadata": {},
   "outputs": [
    {
     "data": {
      "text/plain": [
       "<sklearn.metrics._plot.confusion_matrix.ConfusionMatrixDisplay at 0x1c57319ecd0>"
      ]
     },
     "execution_count": 36,
     "metadata": {},
     "output_type": "execute_result"
    },
    {
     "data": {
      "image/png": "[encoded data removed]",
      "text/plain": [
       "<Figure size 640x480 with 2 Axes>"
      ]
     },
     "metadata": {},
     "output_type": "display_data"
    }
   ],
   "source": [
    "cm = confusion_matrix(y_test, predictions, labels=model_rf.classes_)\n",
    "disp = ConfusionMatrixDisplay(confusion_matrix=cm, display_labels=model_rf.classes_)\n",
    "disp.plot()\n"
   ]
  },
  {
   "cell_type": "markdown",
   "metadata": {},
   "source": [
    "## Logistic Regression"
   ]
  },
  {
   "cell_type": "code",
   "execution_count": 37,
   "metadata": {},
   "outputs": [
    {
     "name": "stdout",
     "output_type": "stream",
     "text": [
      "              precision    recall  f1-score   support\n",
      "\n",
      "        -1.0       0.90      0.88      0.89      7052\n",
      "         0.0       0.89      0.97      0.93      7121\n",
      "         1.0       0.92      0.87      0.90      7133\n",
      "\n",
      "    accuracy                           0.90     21306\n",
      "   macro avg       0.91      0.90      0.90     21306\n",
      "weighted avg       0.91      0.90      0.90     21306\n",
      "\n"
     ]
    },
    {
     "name": "stderr",
     "output_type": "stream",
     "text": [
      "c:\\Users\\P2100803\\.conda\\envs\\gpu-env\\lib\\site-packages\\sklearn\\linear_model\\_logistic.py:444: ConvergenceWarning: lbfgs failed to converge (status=1):\n",
      "STOP: TOTAL NO. of ITERATIONS REACHED LIMIT.\n",
      "\n",
      "Increase the number of iterations (max_iter) or scale the data as shown in:\n",
      "    https://scikit-learn.org/stable/modules/preprocessing.html\n",
      "Please also refer to the documentation for alternative solver options:\n",
      "    https://scikit-learn.org/stable/modules/linear_model.html#logistic-regression\n",
      "  n_iter_i = _check_optimize_result(\n"
     ]
    }
   ],
   "source": [
    "from sklearn.linear_model import LogisticRegression\n",
    "\n",
    "model_lr = LogisticRegression()\n",
    "model_lr.fit(x_train_vec, y_train)\n",
    "model_lr.score(x_test_vec, y_test)\n",
    "\n",
    "predictions = model_lr.predict(x_test_vec)\n",
    "print(classification_report(y_test, predictions))"
   ]
  },
  {
   "cell_type": "code",
   "execution_count": 38,
   "metadata": {},
   "outputs": [
    {
     "data": {
      "text/plain": [
       "<sklearn.metrics._plot.confusion_matrix.ConfusionMatrixDisplay at 0x1cad17f5700>"
      ]
     },
     "execution_count": 38,
     "metadata": {},
     "output_type": "execute_result"
    },
    {
     "data": {
      "image/png": "[encoded data removed]",
      "text/plain": [
       "<Figure size 640x480 with 2 Axes>"
      ]
     },
     "metadata": {},
     "output_type": "display_data"
    }
   ],
   "source": [
    "cm = confusion_matrix(y_test, predictions, labels=model_lr.classes_)\n",
    "disp = ConfusionMatrixDisplay(confusion_matrix=cm, display_labels=model_lr.classes_)\n",
    "disp.plot()\n"
   ]
  }
 ],
 "metadata": {
  "kernelspec": {
   "display_name": "Python 3 (ipykernel)",
   "language": "python",
   "name": "python3"
  },
  "language_info": {
   "codemirror_mode": {
    "name": "ipython",
    "version": 3
   },
   "file_extension": ".py",
   "mimetype": "text/x-python",
   "name": "python",
   "nbconvert_exporter": "python",
   "pygments_lexer": "ipython3",
   "version": "3.8.15"
  },
  "vscode": {
   "interpreter": {
    "hash": "3fa8ed0ec8714c09cd91893ccb0a16ce555f8377d2d150fb2d8f0fcf554de2cd"
   }
  }
 },
 "nbformat": 4,
 "nbformat_minor": 4
}
